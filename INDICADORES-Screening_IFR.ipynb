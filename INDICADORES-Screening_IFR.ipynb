{
 "cells": [
  {
   "cell_type": "markdown",
   "metadata": {
    "colab_type": "text",
    "id": "view-in-github"
   },
   "source": [
    "<a href=\"https://colab.research.google.com/github/joaogabrielanuto/Laboratorio-de-Codigos/blob/main/Screening_IFR.ipynb\" target=\"_parent\"><img src=\"https://colab.research.google.com/assets/colab-badge.svg\" alt=\"Open In Colab\"/></a>"
   ]
  },
  {
   "cell_type": "code",
   "execution_count": 3,
   "metadata": {
    "id": "1c3EiWI2A_Yx"
   },
   "outputs": [
    {
     "name": "stderr",
     "output_type": "stream",
     "text": [
      "ERROR: Could not find a version that satisfies the requirement talib-binary (from versions: none)\n",
      "ERROR: No matching distribution found for talib-binary\n"
     ]
    }
   ],
   "source": [
    "#!pip install yfinance\n",
    "!pip install talib-binary"
   ]
  },
  {
   "cell_type": "code",
   "execution_count": 2,
   "metadata": {
    "id": "OVxhwNwSBDoY"
   },
   "outputs": [
    {
     "ename": "ModuleNotFoundError",
     "evalue": "No module named 'talib'",
     "output_type": "error",
     "traceback": [
      "\u001b[1;31m---------------------------------------------------------------------------\u001b[0m",
      "\u001b[1;31mModuleNotFoundError\u001b[0m                       Traceback (most recent call last)",
      "Input \u001b[1;32mIn [2]\u001b[0m, in \u001b[0;36m<cell line: 5>\u001b[1;34m()\u001b[0m\n\u001b[0;32m      2\u001b[0m \u001b[38;5;28;01mimport\u001b[39;00m \u001b[38;5;21;01mnumpy\u001b[39;00m \u001b[38;5;28;01mas\u001b[39;00m \u001b[38;5;21;01mnp\u001b[39;00m\n\u001b[0;32m      4\u001b[0m \u001b[38;5;28;01mimport\u001b[39;00m \u001b[38;5;21;01myfinance\u001b[39;00m \u001b[38;5;28;01mas\u001b[39;00m \u001b[38;5;21;01myf\u001b[39;00m\n\u001b[1;32m----> 5\u001b[0m \u001b[38;5;28;01mimport\u001b[39;00m \u001b[38;5;21;01mtalib\u001b[39;00m\n\u001b[0;32m      7\u001b[0m \u001b[38;5;28;01mimport\u001b[39;00m \u001b[38;5;21;01mplotly\u001b[39;00m\u001b[38;5;21;01m.\u001b[39;00m\u001b[38;5;21;01mgraph_objects\u001b[39;00m \u001b[38;5;28;01mas\u001b[39;00m \u001b[38;5;21;01mgo\u001b[39;00m\n\u001b[0;32m      8\u001b[0m \u001b[38;5;28;01mfrom\u001b[39;00m \u001b[38;5;21;01mplotly\u001b[39;00m\u001b[38;5;21;01m.\u001b[39;00m\u001b[38;5;21;01msubplots\u001b[39;00m \u001b[38;5;28;01mimport\u001b[39;00m make_subplots\n",
      "\u001b[1;31mModuleNotFoundError\u001b[0m: No module named 'talib'"
     ]
    }
   ],
   "source": [
    "import pandas as pd\n",
    "import numpy as np\n",
    "\n",
    "import yfinance as yf\n",
    "import talib\n",
    "\n",
    "import plotly.graph_objects as go\n",
    "from plotly.subplots import make_subplots"
   ]
  },
  {
   "cell_type": "code",
   "execution_count": null,
   "metadata": {
    "id": "umM71S60BMQo"
   },
   "outputs": [],
   "source": [
    "ativos_IBRA = [\"AALR3\", \"ABCB4\", \"ABEV3\", \"AERI3\", \"AESB3\", \"AGRO3\", \"ALPA4\", \"ALSO3\", \"ALUP11\", \"AMAR3\", \"AMBP3\", \"AMER3\", \"ANIM3\", \"ARML3\", \"ARZZ3\", \"ASAI3\", \n",
    "               \"AURE3\", \"AZUL4\", \"B3SA3\", \"BBAS3\", \"BBDC3\", \"BBDC4\", \"BBSE3\", \"BEEF3\", \"BLAU3\", \"BMOB3\", \"BOAS3\", \"BPAC11\", \"BPAN4\", \"BRAP3\", \"BRAP4\", \"BRFS3\", \n",
    "               \"BRKM5\", \"BRML3\", \"BRPR3\", \"BRSR6\", \"CAML3\", \"CASH3\", \"CBAV3\", \"CCRO3\", \"CEAB3\", \"CIEL3\", \"CLSA3\", \"CMIG3\", \"CMIG4\", \"CMIN3\", \"COGN3\", \"CPFE3\", \n",
    "               \"CPLE3\", \"CPLE6\", \"CRFB3\", \"CSAN3\", \"CSMG3\", \"CSNA3\", \"CURY3\", \"CVCB3\", \"CXSE3\", \"CYRE3\", \"DASA3\", \"DESK3\", \"DIRR3\", \"DMMO3\", \"DXCO3\", \"ECOR3\", \n",
    "               \"EGIE3\", \"ELET3\", \"ELET6\", \"EMBR3\", \"ENAT3\", \"ENBR3\", \"ENEV3\", \"ENGI11\", \"ENJU3\", \"EQTL3\", \"ESPA3\", \"EVEN3\", \"EZTC3\", \"FESA4\", \"FHER3\", \"FLRY3\", \n",
    "               \"GETT11\", \"GFSA3\", \"GGBR4\", \"GGPS3\", \"GMAT3\", \"GOAU4\", \"GOLL4\", \"GRND3\", \"GUAR3\", \"HAPV3\", \"HBOR3\", \"HBSA3\", \"HYPE3\", \"IFCM3\", \"IGTI11\", \"INTB3\", \n",
    "               \"IRBR3\", \"ITSA4\", \"ITUB3\", \"ITUB4\", \"JALL3\", \"JBSS3\", \"JHSF3\", \"KEPL3\", \"KLBN11\", \"LAVV3\", \"LEVE3\", \"LIGT3\", \"LJQQ3\", \"LOGG3\", \"LOGN3\", \"LREN3\", \n",
    "               \"LWSA3\", \"MATD3\", \"MDIA3\", \"MEAL3\", \"MEGA3\", \"MGLU3\", \"MILS3\", \"MLAS3\", \"MODL3\", \"MOVI3\", \"MRFG3\", \"MRVE3\", \"MULT3\", \"MYPK3\", \"NEOE3\", \"NGRD3\", \n",
    "               \"NTCO3\", \"ODPV3\", \"ONCO3\", \"OPCT3\", \"ORVR3\", \"PARD3\", \"PCAR3\", \"PETR3\", \"PETR4\", \"PETZ3\", \"PGMN3\", \"PNVL3\", \"POMO4\", \"POSI3\", \"PRIO3\", \"PSSA3\", \n",
    "               \"PTBL3\", \"QUAL3\", \"RADL3\", \"RAIL3\", \"RAIZ4\", \"RANI3\", \"RAPT4\", \"RCSL3\", \"RDOR3\", \"RECV3\", \"RENT3\", \"ROMI3\", \"RRRP3\", \"SANB11\", \"SAPR11\", \"SBFG3\", \n",
    "               \"SBSP3\", \"SEER3\", \"SEQL3\", \"SIMH3\", \"SLCE3\", \"SMFT3\", \"SMTO3\", \"SOMA3\", \"SQIA3\", \"STBP3\", \"SULA11\", \"SUZB3\", \"SYNE3\", \"TAEE11\", \"TASA4\", \"TECN3\", \n",
    "               \"TEND3\", \"TGMA3\", \"TIMS3\", \"TOTS3\", \"TRAD3\", \"TRIS3\", \"TRPL4\", \"TTEN3\", \"TUPY3\", \"UGPA3\", \"UNIP6\", \"USIM3\", \"USIM5\", \"VALE3\", \"VAMO3\", \"VBBR3\", \n",
    "               \"VIIA3\", \"VIVA3\", \"VIVT3\", \"VLID3\", \"VULC3\", \"WEGE3\", \"WIZS3\", \"YDUQ3\", \"ZAMP3\"]\n",
    "\n",
    "ativos_IBRA_yf = [ativos_IBRA + '.SA' for ativos_IBRA in ativos_IBRA]"
   ]
  },
  {
   "cell_type": "code",
   "execution_count": null,
   "metadata": {
    "colab": {
     "base_uri": "https://localhost:8080/"
    },
    "id": "igetIrU6IM7C",
    "outputId": "d1856a26-07eb-488c-a6c1-9ae15f0baf19"
   },
   "outputs": [],
   "source": [
    "lista_OHLC = []\n",
    "\n",
    "for i in ativos_IBRA_yf:\n",
    "  cotacoes_IBRA = yf.download([i], start='2022-06-01', period = \"1d\")\n",
    "  cotacoes_IBRA['Ativo'] = i\n",
    "  cotacoes_IBRA['IFR'] = talib.RSI(cotacoes_IBRA.Close, timeperiod=14)\n",
    "  lista_OHLC.append(cotacoes_IBRA)"
   ]
  },
  {
   "cell_type": "code",
   "execution_count": null,
   "metadata": {
    "colab": {
     "base_uri": "https://localhost:8080/",
     "height": 237
    },
    "id": "YXXEHYz-NniU",
    "outputId": "7a0dc535-9f10-4ce9-8172-2c97377cd019"
   },
   "outputs": [],
   "source": [
    "lista_OHLC[0].tail()"
   ]
  },
  {
   "cell_type": "code",
   "execution_count": null,
   "metadata": {
    "id": "lX3vrbTCCIQg"
   },
   "outputs": [],
   "source": [
    "ls_screening_IFR_abaixo_30 = []\n",
    "\n",
    "for i in range(0,len(lista_OHLC)):\n",
    "  if (lista_OHLC[i].iloc[-1].IFR < 30):\n",
    "    ls_screening_IFR_abaixo_30.append((ativos_IBRA_yf[i],i))"
   ]
  },
  {
   "cell_type": "code",
   "execution_count": null,
   "metadata": {
    "colab": {
     "base_uri": "https://localhost:8080/"
    },
    "id": "rUFaIMK6KUU6",
    "outputId": "7298d908-6c7e-4362-f3e4-3d7d7c9ce9d5"
   },
   "outputs": [],
   "source": [
    "print(len(ls_screening_IFR_abaixo_30),\"ativos atenderam à regra\")\n",
    "ls_screening_IFR_abaixo_30"
   ]
  },
  {
   "cell_type": "code",
   "execution_count": null,
   "metadata": {
    "id": "6vtfQXbUJwJS"
   },
   "outputs": [],
   "source": [
    "ls_screening_IFR_abaixo_20 = []\n",
    "\n",
    "for i in range(0,len(lista_OHLC)):\n",
    "  if (lista_OHLC[i].iloc[-1].IFR < 20):\n",
    "    ls_screening_IFR_abaixo_20.append((ativos_IBRA_yf[i],i))"
   ]
  },
  {
   "cell_type": "code",
   "execution_count": null,
   "metadata": {
    "colab": {
     "base_uri": "https://localhost:8080/"
    },
    "id": "tLiyQBiPKIGT",
    "outputId": "35f543a4-c5ab-4fc7-c204-7d8f7869650b"
   },
   "outputs": [],
   "source": [
    "print(len(ls_screening_IFR_abaixo_20),\"ativos atenderam à regra\")\n",
    "ls_screening_IFR_abaixo_20"
   ]
  },
  {
   "cell_type": "code",
   "execution_count": null,
   "metadata": {
    "id": "rGXbr2bHJrWD"
   },
   "outputs": [],
   "source": [
    "ls_screening_IFR_recuperacao = []\n",
    "\n",
    "for i in range(0,len(lista_OHLC)):\n",
    "  if (lista_OHLC[i].iloc[-2].IFR < 30) and (lista_OHLC[i].iloc[-1].IFR > 30):\n",
    "    ls_screening_IFR_recuperacao.append((ativos_IBRA_yf[i],i))"
   ]
  },
  {
   "cell_type": "code",
   "execution_count": null,
   "metadata": {
    "colab": {
     "base_uri": "https://localhost:8080/"
    },
    "id": "CJlZgA4GKm3s",
    "outputId": "5e4eee89-105c-4b1f-b9ab-80de9a633e23"
   },
   "outputs": [],
   "source": [
    "ls_screening_IFR_recuperacao"
   ]
  },
  {
   "cell_type": "code",
   "execution_count": null,
   "metadata": {
    "colab": {
     "base_uri": "https://localhost:8080/",
     "height": 517
    },
    "id": "GqLtzw90C4WI",
    "outputId": "f0f73ff8-c54f-4736-f038-a9cc632e003a"
   },
   "outputs": [],
   "source": [
    "df_figure = lista_OHLC[151][-30:]\n",
    "\n",
    "fig = make_subplots(rows=2, cols=1)\n",
    "\n",
    "fig.add_trace(go.Candlestick(name=df_figure.Ativo[-1], x=df_figure.index, open=df_figure['Open'], high = df_figure['High'], \n",
    "                             low=df_figure['Low'], close=df_figure['Close']), row=1,col=1)\n",
    "\n",
    "fig.add_trace(go.Scatter(name='IFR', x=df_figure.index, y=df_figure['IFR'], marker_color='brown'), row=2, col=1)\n",
    "fig.add_hline(y=30, line_width=2, line_dash=\"dash\", line_color=\"black\", row=2, col=1)\n",
    "\n",
    "fig.update_xaxes(title_text=\"<b> Data\",rangebreaks=[dict(bounds=[\"sat\", \"mon\"])])\n",
    "fig.update_layout(xaxis_rangeslider_visible=False, title_text='Screening ativos baseado IFR',width=500,height=500)\n",
    "fig.show()"
   ]
  },
  {
   "cell_type": "code",
   "execution_count": null,
   "metadata": {
    "id": "x43xkYWVNAPX"
   },
   "outputs": [],
   "source": []
  }
 ],
 "metadata": {
  "colab": {
   "authorship_tag": "ABX9TyP1fBvRICVQmaNDbPfLW2mU",
   "include_colab_link": true,
   "provenance": []
  },
  "kernelspec": {
   "display_name": "Python 3 (ipykernel)",
   "language": "python",
   "name": "python3"
  },
  "language_info": {
   "codemirror_mode": {
    "name": "ipython",
    "version": 3
   },
   "file_extension": ".py",
   "mimetype": "text/x-python",
   "name": "python",
   "nbconvert_exporter": "python",
   "pygments_lexer": "ipython3",
   "version": "3.9.12"
  }
 },
 "nbformat": 4,
 "nbformat_minor": 4
}
