{
  "cells": [
    {
      "cell_type": "markdown",
      "metadata": {},
      "source": [
        "<img src=\"https://tradingcomdados.com/images/logotipo/logotipo-trading-com-dados.svg\" width=\"300\" align=\"left\"/>"
      ]
    },
    {
      "attachments": {},
      "cell_type": "markdown",
      "metadata": {},
      "source": [
        "------\n",
        "# **Backtesting definitivo RSI**\n",
        "------"
      ]
    },
    {
      "cell_type": "markdown",
      "metadata": {},
      "source": [
        "# 1. Bibliotecas"
      ]
    },
    {
      "cell_type": "code",
      "execution_count": null,
      "metadata": {},
      "outputs": [],
      "source": [
        "%pip install --upgrade --no-cache-dir git+https://github.com/StreamAlpha/tvdatafeed.git"
      ]
    },
    {
      "cell_type": "code",
      "execution_count": 5,
      "metadata": {
        "id": "P-luo4I9Qurx"
      },
      "outputs": [],
      "source": [
        "# Análise e manipulação de dados\n",
        "import numpy as np\n",
        "import pandas as pd\n",
        "\n",
        "# Dados séries temporais\n",
        "from datetime import datetime, timedelta\n",
        "import pytz\n",
        "\n",
        "# Fonte de dados\n",
        "from tvDatafeed import TvDatafeed, Interval\n",
        "import MetaTrader5 as mt5\n",
        "\n",
        "# Indicadores e backtesting\n",
        "import ta\n",
        "import vectorbt as vbt\n",
        "\n",
        "# Bibliotecas gráficas\n",
        "import plotly.graph_objects as go\n",
        "from plotly.subplots import make_subplots"
      ]
    },
    {
      "cell_type": "markdown",
      "metadata": {},
      "source": [
        "# 2.Obtenção de dados"
      ]
    },
    {
      "attachments": {},
      "cell_type": "markdown",
      "metadata": {},
      "source": [
        "## 2.1. Cotações OHLC - TradingView - Week a 5min"
      ]
    },
    {
      "cell_type": "code",
      "execution_count": 3,
      "metadata": {},
      "outputs": [],
      "source": [
        "lista_tickers = ['WDO1!', 'WIN1!', 'ABEV3', 'ALPA4', 'ALSO3', 'ARZZ3', 'ASAI3', 'AZUL4', 'B3SA3', 'BBAS3', 'BBDC3', 'BBDC4',\n",
        "                'BBSE3', 'BEEF3', 'BPAC11', 'BPAN4', 'BRAP4', 'BRFS3', 'BRKM5', 'CASH3', 'CCRO3', 'CIEL3', 'CMIG4', 'CMIN3',\n",
        "                'COGN3', 'CPFE3', 'CPLE6', 'CRFB3', 'CSAN3', 'CSNA3', 'CVCB3', 'CYRE3', 'DXCO3', 'ECOR3', 'EGIE3', 'ELET3',\n",
        "                'ELET6', 'EMBR3', 'ENBR3', 'ENEV3', 'ENGI11', 'EQTL3', 'EZTC3', 'FLRY3', 'GGBR4', 'GOAU4', 'GOLL4', 'HAPV3',\n",
        "                'HYPE3', 'IGTI11', 'ITSA4', 'ITUB4', 'JBSS3', 'KLBN11', 'LREN3', 'LWSA3', 'MGLU3', 'MRFG3', 'MRVE3', 'MULT3',\n",
        "                'NTCO3', 'PCAR3', 'PETR3', 'PETR4', 'PETZ3', 'PRIO3', 'QUAL3', 'RADL3', 'RAIL3', 'RAIZ4', 'RDOR3', 'RENT3',\n",
        "                'RRRP3', 'SANB11', 'SBSP3', 'SLCE3', 'SMTO3', 'SOMA3', 'SUZB3', 'TAEE11', 'TIMS3', 'TOTS3', 'UGPA3', 'USIM5',\n",
        "                'VALE3', 'VBBR3', 'VIIA3', 'VIVT3', 'WEGE3', 'YDUQ3']"
      ]
    },
    {
      "cell_type": "code",
      "execution_count": 4,
      "metadata": {},
      "outputs": [],
      "source": [
        "timeframes = [Interval.in_weekly, Interval.in_daily, Interval.in_1_hour,\n",
        "                Interval.in_15_minute, Interval.in_5_minute]"
      ]
    },
    {
      "cell_type": "code",
      "execution_count": 4,
      "metadata": {},
      "outputs": [
        {
          "name": "stderr",
          "output_type": "stream",
          "text": [
            "you are using nologin method, data you access may be limited\n",
            "WARNING:tvDatafeed.main:you are using nologin method, data you access may be limited\n",
            "WARNING:tvDatafeed.main:you are using nologin method, data you access may be limited\n",
            "WARNING:tvDatafeed.main:you are using nologin method, data you access may be limited\n",
            "WARNING:tvDatafeed.main:you are using nologin method, data you access may be limited\n",
            "WARNING:tvDatafeed.main:you are using nologin method, data you access may be limited\n",
            "WARNING:tvDatafeed.main:you are using nologin method, data you access may be limited\n",
            "WARNING:tvDatafeed.main:you are using nologin method, data you access may be limited\n",
            "WARNING:tvDatafeed.main:you are using nologin method, data you access may be limited\n",
            "WARNING:tvDatafeed.main:you are using nologin method, data you access may be limited\n",
            "WARNING:tvDatafeed.main:you are using nologin method, data you access may be limited\n",
            "WARNING:tvDatafeed.main:you are using nologin method, data you access may be limited\n",
            "WARNING:tvDatafeed.main:you are using nologin method, data you access may be limited\n",
            "WARNING:tvDatafeed.main:you are using nologin method, data you access may be limited\n",
            "WARNING:tvDatafeed.main:you are using nologin method, data you access may be limited\n",
            "WARNING:tvDatafeed.main:you are using nologin method, data you access may be limited\n",
            "WARNING:tvDatafeed.main:you are using nologin method, data you access may be limited\n",
            "WARNING:tvDatafeed.main:you are using nologin method, data you access may be limited\n",
            "WARNING:tvDatafeed.main:you are using nologin method, data you access may be limited\n",
            "WARNING:tvDatafeed.main:you are using nologin method, data you access may be limited\n",
            "WARNING:tvDatafeed.main:you are using nologin method, data you access may be limited\n",
            "WARNING:tvDatafeed.main:you are using nologin method, data you access may be limited\n",
            "WARNING:tvDatafeed.main:you are using nologin method, data you access may be limited\n",
            "WARNING:tvDatafeed.main:you are using nologin method, data you access may be limited\n",
            "WARNING:tvDatafeed.main:you are using nologin method, data you access may be limited\n",
            "WARNING:tvDatafeed.main:you are using nologin method, data you access may be limited\n",
            "WARNING:tvDatafeed.main:you are using nologin method, data you access may be limited\n",
            "WARNING:tvDatafeed.main:you are using nologin method, data you access may be limited\n",
            "WARNING:tvDatafeed.main:you are using nologin method, data you access may be limited\n",
            "WARNING:tvDatafeed.main:you are using nologin method, data you access may be limited\n",
            "WARNING:tvDatafeed.main:you are using nologin method, data you access may be limited\n",
            "WARNING:tvDatafeed.main:you are using nologin method, data you access may be limited\n",
            "WARNING:tvDatafeed.main:you are using nologin method, data you access may be limited\n",
            "WARNING:tvDatafeed.main:you are using nologin method, data you access may be limited\n",
            "WARNING:tvDatafeed.main:you are using nologin method, data you access may be limited\n",
            "WARNING:tvDatafeed.main:you are using nologin method, data you access may be limited\n",
            "WARNING:tvDatafeed.main:you are using nologin method, data you access may be limited\n",
            "WARNING:tvDatafeed.main:you are using nologin method, data you access may be limited\n",
            "WARNING:tvDatafeed.main:you are using nologin method, data you access may be limited\n",
            "WARNING:tvDatafeed.main:you are using nologin method, data you access may be limited\n",
            "WARNING:tvDatafeed.main:you are using nologin method, data you access may be limited\n",
            "WARNING:tvDatafeed.main:you are using nologin method, data you access may be limited\n",
            "WARNING:tvDatafeed.main:you are using nologin method, data you access may be limited\n",
            "WARNING:tvDatafeed.main:you are using nologin method, data you access may be limited\n",
            "WARNING:tvDatafeed.main:you are using nologin method, data you access may be limited\n",
            "WARNING:tvDatafeed.main:you are using nologin method, data you access may be limited\n",
            "WARNING:tvDatafeed.main:you are using nologin method, data you access may be limited\n",
            "WARNING:tvDatafeed.main:you are using nologin method, data you access may be limited\n",
            "WARNING:tvDatafeed.main:you are using nologin method, data you access may be limited\n",
            "WARNING:tvDatafeed.main:you are using nologin method, data you access may be limited\n",
            "WARNING:tvDatafeed.main:you are using nologin method, data you access may be limited\n",
            "WARNING:tvDatafeed.main:you are using nologin method, data you access may be limited\n",
            "WARNING:tvDatafeed.main:you are using nologin method, data you access may be limited\n",
            "WARNING:tvDatafeed.main:you are using nologin method, data you access may be limited\n",
            "WARNING:tvDatafeed.main:you are using nologin method, data you access may be limited\n",
            "WARNING:tvDatafeed.main:you are using nologin method, data you access may be limited\n",
            "WARNING:tvDatafeed.main:you are using nologin method, data you access may be limited\n",
            "WARNING:tvDatafeed.main:you are using nologin method, data you access may be limited\n",
            "WARNING:tvDatafeed.main:you are using nologin method, data you access may be limited\n",
            "WARNING:tvDatafeed.main:you are using nologin method, data you access may be limited\n",
            "WARNING:tvDatafeed.main:you are using nologin method, data you access may be limited\n",
            "WARNING:tvDatafeed.main:you are using nologin method, data you access may be limited\n",
            "WARNING:tvDatafeed.main:you are using nologin method, data you access may be limited\n",
            "WARNING:tvDatafeed.main:you are using nologin method, data you access may be limited\n",
            "WARNING:tvDatafeed.main:you are using nologin method, data you access may be limited\n",
            "WARNING:tvDatafeed.main:you are using nologin method, data you access may be limited\n",
            "WARNING:tvDatafeed.main:you are using nologin method, data you access may be limited\n",
            "WARNING:tvDatafeed.main:you are using nologin method, data you access may be limited\n",
            "WARNING:tvDatafeed.main:you are using nologin method, data you access may be limited\n",
            "WARNING:tvDatafeed.main:you are using nologin method, data you access may be limited\n",
            "WARNING:tvDatafeed.main:you are using nologin method, data you access may be limited\n",
            "WARNING:tvDatafeed.main:you are using nologin method, data you access may be limited\n",
            "WARNING:tvDatafeed.main:you are using nologin method, data you access may be limited\n",
            "WARNING:tvDatafeed.main:you are using nologin method, data you access may be limited\n",
            "WARNING:tvDatafeed.main:you are using nologin method, data you access may be limited\n",
            "WARNING:tvDatafeed.main:you are using nologin method, data you access may be limited\n",
            "WARNING:tvDatafeed.main:you are using nologin method, data you access may be limited\n",
            "WARNING:tvDatafeed.main:you are using nologin method, data you access may be limited\n",
            "WARNING:tvDatafeed.main:you are using nologin method, data you access may be limited\n",
            "WARNING:tvDatafeed.main:you are using nologin method, data you access may be limited\n",
            "WARNING:tvDatafeed.main:you are using nologin method, data you access may be limited\n",
            "WARNING:tvDatafeed.main:you are using nologin method, data you access may be limited\n",
            "WARNING:tvDatafeed.main:you are using nologin method, data you access may be limited\n",
            "WARNING:tvDatafeed.main:you are using nologin method, data you access may be limited\n",
            "WARNING:tvDatafeed.main:you are using nologin method, data you access may be limited\n",
            "WARNING:tvDatafeed.main:you are using nologin method, data you access may be limited\n",
            "WARNING:tvDatafeed.main:you are using nologin method, data you access may be limited\n",
            "WARNING:tvDatafeed.main:you are using nologin method, data you access may be limited\n",
            "WARNING:tvDatafeed.main:you are using nologin method, data you access may be limited\n",
            "WARNING:tvDatafeed.main:you are using nologin method, data you access may be limited\n",
            "WARNING:tvDatafeed.main:you are using nologin method, data you access may be limited\n",
            "WARNING:tvDatafeed.main:you are using nologin method, data you access may be limited\n",
            "WARNING:tvDatafeed.main:you are using nologin method, data you access may be limited\n",
            "WARNING:tvDatafeed.main:you are using nologin method, data you access may be limited\n",
            "WARNING:tvDatafeed.main:you are using nologin method, data you access may be limited\n",
            "WARNING:tvDatafeed.main:you are using nologin method, data you access may be limited\n",
            "WARNING:tvDatafeed.main:you are using nologin method, data you access may be limited\n",
            "WARNING:tvDatafeed.main:you are using nologin method, data you access may be limited\n",
            "WARNING:tvDatafeed.main:you are using nologin method, data you access may be limited\n",
            "WARNING:tvDatafeed.main:you are using nologin method, data you access may be limited\n",
            "WARNING:tvDatafeed.main:you are using nologin method, data you access may be limited\n",
            "WARNING:tvDatafeed.main:you are using nologin method, data you access may be limited\n",
            "WARNING:tvDatafeed.main:you are using nologin method, data you access may be limited\n",
            "WARNING:tvDatafeed.main:you are using nologin method, data you access may be limited\n",
            "WARNING:tvDatafeed.main:you are using nologin method, data you access may be limited\n",
            "WARNING:tvDatafeed.main:you are using nologin method, data you access may be limited\n",
            "WARNING:tvDatafeed.main:you are using nologin method, data you access may be limited\n",
            "WARNING:tvDatafeed.main:you are using nologin method, data you access may be limited\n",
            "WARNING:tvDatafeed.main:you are using nologin method, data you access may be limited\n",
            "WARNING:tvDatafeed.main:you are using nologin method, data you access may be limited\n",
            "WARNING:tvDatafeed.main:you are using nologin method, data you access may be limited\n",
            "WARNING:tvDatafeed.main:you are using nologin method, data you access may be limited\n",
            "WARNING:tvDatafeed.main:you are using nologin method, data you access may be limited\n",
            "WARNING:tvDatafeed.main:you are using nologin method, data you access may be limited\n",
            "WARNING:tvDatafeed.main:you are using nologin method, data you access may be limited\n",
            "WARNING:tvDatafeed.main:you are using nologin method, data you access may be limited\n",
            "WARNING:tvDatafeed.main:you are using nologin method, data you access may be limited\n",
            "WARNING:tvDatafeed.main:you are using nologin method, data you access may be limited\n",
            "WARNING:tvDatafeed.main:you are using nologin method, data you access may be limited\n",
            "WARNING:tvDatafeed.main:you are using nologin method, data you access may be limited\n",
            "WARNING:tvDatafeed.main:you are using nologin method, data you access may be limited\n",
            "WARNING:tvDatafeed.main:you are using nologin method, data you access may be limited\n",
            "WARNING:tvDatafeed.main:you are using nologin method, data you access may be limited\n",
            "WARNING:tvDatafeed.main:you are using nologin method, data you access may be limited\n",
            "WARNING:tvDatafeed.main:you are using nologin method, data you access may be limited\n",
            "WARNING:tvDatafeed.main:you are using nologin method, data you access may be limited\n",
            "WARNING:tvDatafeed.main:you are using nologin method, data you access may be limited\n",
            "WARNING:tvDatafeed.main:you are using nologin method, data you access may be limited\n",
            "WARNING:tvDatafeed.main:you are using nologin method, data you access may be limited\n",
            "WARNING:tvDatafeed.main:you are using nologin method, data you access may be limited\n",
            "WARNING:tvDatafeed.main:you are using nologin method, data you access may be limited\n",
            "WARNING:tvDatafeed.main:you are using nologin method, data you access may be limited\n",
            "WARNING:tvDatafeed.main:you are using nologin method, data you access may be limited\n",
            "WARNING:tvDatafeed.main:you are using nologin method, data you access may be limited\n",
            "WARNING:tvDatafeed.main:you are using nologin method, data you access may be limited\n",
            "WARNING:tvDatafeed.main:you are using nologin method, data you access may be limited\n",
            "WARNING:tvDatafeed.main:you are using nologin method, data you access may be limited\n",
            "WARNING:tvDatafeed.main:you are using nologin method, data you access may be limited\n",
            "WARNING:tvDatafeed.main:you are using nologin method, data you access may be limited\n",
            "WARNING:tvDatafeed.main:you are using nologin method, data you access may be limited\n",
            "WARNING:tvDatafeed.main:you are using nologin method, data you access may be limited\n",
            "WARNING:tvDatafeed.main:you are using nologin method, data you access may be limited\n",
            "WARNING:tvDatafeed.main:you are using nologin method, data you access may be limited\n",
            "WARNING:tvDatafeed.main:you are using nologin method, data you access may be limited\n",
            "WARNING:tvDatafeed.main:you are using nologin method, data you access may be limited\n",
            "WARNING:tvDatafeed.main:you are using nologin method, data you access may be limited\n",
            "WARNING:tvDatafeed.main:you are using nologin method, data you access may be limited\n",
            "WARNING:tvDatafeed.main:you are using nologin method, data you access may be limited\n",
            "WARNING:tvDatafeed.main:you are using nologin method, data you access may be limited\n",
            "WARNING:tvDatafeed.main:you are using nologin method, data you access may be limited\n",
            "WARNING:tvDatafeed.main:you are using nologin method, data you access may be limited\n",
            "WARNING:tvDatafeed.main:you are using nologin method, data you access may be limited\n",
            "WARNING:tvDatafeed.main:you are using nologin method, data you access may be limited\n",
            "WARNING:tvDatafeed.main:you are using nologin method, data you access may be limited\n",
            "WARNING:tvDatafeed.main:you are using nologin method, data you access may be limited\n",
            "WARNING:tvDatafeed.main:you are using nologin method, data you access may be limited\n",
            "WARNING:tvDatafeed.main:you are using nologin method, data you access may be limited\n",
            "WARNING:tvDatafeed.main:you are using nologin method, data you access may be limited\n",
            "WARNING:tvDatafeed.main:you are using nologin method, data you access may be limited\n",
            "WARNING:tvDatafeed.main:you are using nologin method, data you access may be limited\n",
            "WARNING:tvDatafeed.main:you are using nologin method, data you access may be limited\n",
            "WARNING:tvDatafeed.main:you are using nologin method, data you access may be limited\n",
            "WARNING:tvDatafeed.main:you are using nologin method, data you access may be limited\n",
            "WARNING:tvDatafeed.main:you are using nologin method, data you access may be limited\n",
            "WARNING:tvDatafeed.main:you are using nologin method, data you access may be limited\n",
            "WARNING:tvDatafeed.main:you are using nologin method, data you access may be limited\n",
            "WARNING:tvDatafeed.main:you are using nologin method, data you access may be limited\n",
            "WARNING:tvDatafeed.main:you are using nologin method, data you access may be limited\n",
            "WARNING:tvDatafeed.main:you are using nologin method, data you access may be limited\n",
            "WARNING:tvDatafeed.main:you are using nologin method, data you access may be limited\n",
            "WARNING:tvDatafeed.main:you are using nologin method, data you access may be limited\n",
            "WARNING:tvDatafeed.main:you are using nologin method, data you access may be limited\n",
            "WARNING:tvDatafeed.main:you are using nologin method, data you access may be limited\n",
            "WARNING:tvDatafeed.main:you are using nologin method, data you access may be limited\n",
            "WARNING:tvDatafeed.main:you are using nologin method, data you access may be limited\n",
            "WARNING:tvDatafeed.main:you are using nologin method, data you access may be limited\n",
            "WARNING:tvDatafeed.main:you are using nologin method, data you access may be limited\n",
            "WARNING:tvDatafeed.main:you are using nologin method, data you access may be limited\n",
            "WARNING:tvDatafeed.main:you are using nologin method, data you access may be limited\n",
            "WARNING:tvDatafeed.main:you are using nologin method, data you access may be limited\n",
            "WARNING:tvDatafeed.main:you are using nologin method, data you access may be limited\n",
            "WARNING:tvDatafeed.main:you are using nologin method, data you access may be limited\n",
            "WARNING:tvDatafeed.main:you are using nologin method, data you access may be limited\n",
            "WARNING:tvDatafeed.main:you are using nologin method, data you access may be limited\n",
            "WARNING:tvDatafeed.main:you are using nologin method, data you access may be limited\n",
            "WARNING:tvDatafeed.main:you are using nologin method, data you access may be limited\n",
            "WARNING:tvDatafeed.main:you are using nologin method, data you access may be limited\n",
            "WARNING:tvDatafeed.main:you are using nologin method, data you access may be limited\n",
            "WARNING:tvDatafeed.main:you are using nologin method, data you access may be limited\n",
            "WARNING:tvDatafeed.main:you are using nologin method, data you access may be limited\n",
            "WARNING:tvDatafeed.main:you are using nologin method, data you access may be limited\n",
            "WARNING:tvDatafeed.main:you are using nologin method, data you access may be limited\n",
            "WARNING:tvDatafeed.main:you are using nologin method, data you access may be limited\n",
            "WARNING:tvDatafeed.main:you are using nologin method, data you access may be limited\n",
            "WARNING:tvDatafeed.main:you are using nologin method, data you access may be limited\n",
            "WARNING:tvDatafeed.main:you are using nologin method, data you access may be limited\n",
            "WARNING:tvDatafeed.main:you are using nologin method, data you access may be limited\n",
            "WARNING:tvDatafeed.main:you are using nologin method, data you access may be limited\n",
            "WARNING:tvDatafeed.main:you are using nologin method, data you access may be limited\n",
            "WARNING:tvDatafeed.main:you are using nologin method, data you access may be limited\n",
            "WARNING:tvDatafeed.main:you are using nologin method, data you access may be limited\n",
            "WARNING:tvDatafeed.main:you are using nologin method, data you access may be limited\n",
            "WARNING:tvDatafeed.main:you are using nologin method, data you access may be limited\n",
            "WARNING:tvDatafeed.main:you are using nologin method, data you access may be limited\n",
            "WARNING:tvDatafeed.main:you are using nologin method, data you access may be limited\n",
            "WARNING:tvDatafeed.main:you are using nologin method, data you access may be limited\n",
            "WARNING:tvDatafeed.main:you are using nologin method, data you access may be limited\n",
            "WARNING:tvDatafeed.main:you are using nologin method, data you access may be limited\n",
            "WARNING:tvDatafeed.main:you are using nologin method, data you access may be limited\n",
            "WARNING:tvDatafeed.main:you are using nologin method, data you access may be limited\n",
            "WARNING:tvDatafeed.main:you are using nologin method, data you access may be limited\n",
            "WARNING:tvDatafeed.main:you are using nologin method, data you access may be limited\n",
            "WARNING:tvDatafeed.main:you are using nologin method, data you access may be limited\n",
            "WARNING:tvDatafeed.main:you are using nologin method, data you access may be limited\n",
            "WARNING:tvDatafeed.main:you are using nologin method, data you access may be limited\n",
            "WARNING:tvDatafeed.main:you are using nologin method, data you access may be limited\n",
            "WARNING:tvDatafeed.main:you are using nologin method, data you access may be limited\n",
            "WARNING:tvDatafeed.main:you are using nologin method, data you access may be limited\n",
            "WARNING:tvDatafeed.main:you are using nologin method, data you access may be limited\n",
            "WARNING:tvDatafeed.main:you are using nologin method, data you access may be limited\n",
            "WARNING:tvDatafeed.main:you are using nologin method, data you access may be limited\n",
            "WARNING:tvDatafeed.main:you are using nologin method, data you access may be limited\n",
            "WARNING:tvDatafeed.main:you are using nologin method, data you access may be limited\n",
            "WARNING:tvDatafeed.main:you are using nologin method, data you access may be limited\n",
            "WARNING:tvDatafeed.main:you are using nologin method, data you access may be limited\n",
            "WARNING:tvDatafeed.main:you are using nologin method, data you access may be limited\n",
            "WARNING:tvDatafeed.main:you are using nologin method, data you access may be limited\n",
            "WARNING:tvDatafeed.main:you are using nologin method, data you access may be limited\n",
            "WARNING:tvDatafeed.main:you are using nologin method, data you access may be limited\n",
            "WARNING:tvDatafeed.main:you are using nologin method, data you access may be limited\n",
            "WARNING:tvDatafeed.main:you are using nologin method, data you access may be limited\n",
            "WARNING:tvDatafeed.main:you are using nologin method, data you access may be limited\n",
            "WARNING:tvDatafeed.main:you are using nologin method, data you access may be limited\n",
            "WARNING:tvDatafeed.main:you are using nologin method, data you access may be limited\n",
            "WARNING:tvDatafeed.main:you are using nologin method, data you access may be limited\n",
            "WARNING:tvDatafeed.main:you are using nologin method, data you access may be limited\n",
            "WARNING:tvDatafeed.main:you are using nologin method, data you access may be limited\n",
            "WARNING:tvDatafeed.main:you are using nologin method, data you access may be limited\n",
            "WARNING:tvDatafeed.main:you are using nologin method, data you access may be limited\n",
            "WARNING:tvDatafeed.main:you are using nologin method, data you access may be limited\n",
            "WARNING:tvDatafeed.main:you are using nologin method, data you access may be limited\n",
            "WARNING:tvDatafeed.main:you are using nologin method, data you access may be limited\n",
            "WARNING:tvDatafeed.main:you are using nologin method, data you access may be limited\n",
            "WARNING:tvDatafeed.main:you are using nologin method, data you access may be limited\n",
            "WARNING:tvDatafeed.main:you are using nologin method, data you access may be limited\n",
            "WARNING:tvDatafeed.main:you are using nologin method, data you access may be limited\n",
            "WARNING:tvDatafeed.main:you are using nologin method, data you access may be limited\n",
            "WARNING:tvDatafeed.main:you are using nologin method, data you access may be limited\n",
            "WARNING:tvDatafeed.main:you are using nologin method, data you access may be limited\n",
            "WARNING:tvDatafeed.main:you are using nologin method, data you access may be limited\n",
            "WARNING:tvDatafeed.main:you are using nologin method, data you access may be limited\n",
            "WARNING:tvDatafeed.main:you are using nologin method, data you access may be limited\n",
            "WARNING:tvDatafeed.main:you are using nologin method, data you access may be limited\n",
            "WARNING:tvDatafeed.main:you are using nologin method, data you access may be limited\n",
            "WARNING:tvDatafeed.main:you are using nologin method, data you access may be limited\n",
            "WARNING:tvDatafeed.main:you are using nologin method, data you access may be limited\n",
            "WARNING:tvDatafeed.main:you are using nologin method, data you access may be limited\n",
            "WARNING:tvDatafeed.main:you are using nologin method, data you access may be limited\n",
            "WARNING:tvDatafeed.main:you are using nologin method, data you access may be limited\n",
            "WARNING:tvDatafeed.main:you are using nologin method, data you access may be limited\n",
            "WARNING:tvDatafeed.main:you are using nologin method, data you access may be limited\n",
            "WARNING:tvDatafeed.main:you are using nologin method, data you access may be limited\n",
            "WARNING:tvDatafeed.main:you are using nologin method, data you access may be limited\n",
            "WARNING:tvDatafeed.main:you are using nologin method, data you access may be limited\n",
            "WARNING:tvDatafeed.main:you are using nologin method, data you access may be limited\n",
            "WARNING:tvDatafeed.main:you are using nologin method, data you access may be limited\n",
            "WARNING:tvDatafeed.main:you are using nologin method, data you access may be limited\n",
            "WARNING:tvDatafeed.main:you are using nologin method, data you access may be limited\n",
            "WARNING:tvDatafeed.main:you are using nologin method, data you access may be limited\n",
            "WARNING:tvDatafeed.main:you are using nologin method, data you access may be limited\n",
            "WARNING:tvDatafeed.main:you are using nologin method, data you access may be limited\n",
            "WARNING:tvDatafeed.main:you are using nologin method, data you access may be limited\n",
            "WARNING:tvDatafeed.main:you are using nologin method, data you access may be limited\n",
            "WARNING:tvDatafeed.main:you are using nologin method, data you access may be limited\n",
            "WARNING:tvDatafeed.main:you are using nologin method, data you access may be limited\n",
            "WARNING:tvDatafeed.main:you are using nologin method, data you access may be limited\n",
            "WARNING:tvDatafeed.main:you are using nologin method, data you access may be limited\n",
            "WARNING:tvDatafeed.main:you are using nologin method, data you access may be limited\n",
            "WARNING:tvDatafeed.main:you are using nologin method, data you access may be limited\n",
            "WARNING:tvDatafeed.main:you are using nologin method, data you access may be limited\n",
            "WARNING:tvDatafeed.main:you are using nologin method, data you access may be limited\n",
            "WARNING:tvDatafeed.main:you are using nologin method, data you access may be limited\n",
            "WARNING:tvDatafeed.main:you are using nologin method, data you access may be limited\n",
            "WARNING:tvDatafeed.main:you are using nologin method, data you access may be limited\n",
            "WARNING:tvDatafeed.main:you are using nologin method, data you access may be limited\n",
            "WARNING:tvDatafeed.main:you are using nologin method, data you access may be limited\n",
            "WARNING:tvDatafeed.main:you are using nologin method, data you access may be limited\n",
            "WARNING:tvDatafeed.main:you are using nologin method, data you access may be limited\n",
            "WARNING:tvDatafeed.main:you are using nologin method, data you access may be limited\n",
            "WARNING:tvDatafeed.main:you are using nologin method, data you access may be limited\n",
            "WARNING:tvDatafeed.main:you are using nologin method, data you access may be limited\n",
            "WARNING:tvDatafeed.main:you are using nologin method, data you access may be limited\n",
            "WARNING:tvDatafeed.main:you are using nologin method, data you access may be limited\n",
            "WARNING:tvDatafeed.main:you are using nologin method, data you access may be limited\n",
            "WARNING:tvDatafeed.main:you are using nologin method, data you access may be limited\n",
            "WARNING:tvDatafeed.main:you are using nologin method, data you access may be limited\n",
            "WARNING:tvDatafeed.main:you are using nologin method, data you access may be limited\n",
            "WARNING:tvDatafeed.main:you are using nologin method, data you access may be limited\n",
            "WARNING:tvDatafeed.main:you are using nologin method, data you access may be limited\n",
            "WARNING:tvDatafeed.main:you are using nologin method, data you access may be limited\n",
            "WARNING:tvDatafeed.main:you are using nologin method, data you access may be limited\n",
            "WARNING:tvDatafeed.main:you are using nologin method, data you access may be limited\n",
            "WARNING:tvDatafeed.main:you are using nologin method, data you access may be limited\n",
            "WARNING:tvDatafeed.main:you are using nologin method, data you access may be limited\n",
            "WARNING:tvDatafeed.main:you are using nologin method, data you access may be limited\n",
            "WARNING:tvDatafeed.main:you are using nologin method, data you access may be limited\n",
            "WARNING:tvDatafeed.main:you are using nologin method, data you access may be limited\n",
            "WARNING:tvDatafeed.main:you are using nologin method, data you access may be limited\n",
            "WARNING:tvDatafeed.main:you are using nologin method, data you access may be limited\n",
            "WARNING:tvDatafeed.main:you are using nologin method, data you access may be limited\n",
            "WARNING:tvDatafeed.main:you are using nologin method, data you access may be limited\n",
            "WARNING:tvDatafeed.main:you are using nologin method, data you access may be limited\n",
            "WARNING:tvDatafeed.main:you are using nologin method, data you access may be limited\n",
            "WARNING:tvDatafeed.main:you are using nologin method, data you access may be limited\n",
            "WARNING:tvDatafeed.main:you are using nologin method, data you access may be limited\n",
            "WARNING:tvDatafeed.main:you are using nologin method, data you access may be limited\n",
            "WARNING:tvDatafeed.main:you are using nologin method, data you access may be limited\n",
            "WARNING:tvDatafeed.main:you are using nologin method, data you access may be limited\n",
            "WARNING:tvDatafeed.main:you are using nologin method, data you access may be limited\n",
            "WARNING:tvDatafeed.main:you are using nologin method, data you access may be limited\n",
            "WARNING:tvDatafeed.main:you are using nologin method, data you access may be limited\n",
            "WARNING:tvDatafeed.main:you are using nologin method, data you access may be limited\n",
            "WARNING:tvDatafeed.main:you are using nologin method, data you access may be limited\n",
            "WARNING:tvDatafeed.main:you are using nologin method, data you access may be limited\n",
            "WARNING:tvDatafeed.main:you are using nologin method, data you access may be limited\n",
            "WARNING:tvDatafeed.main:you are using nologin method, data you access may be limited\n",
            "WARNING:tvDatafeed.main:you are using nologin method, data you access may be limited\n",
            "WARNING:tvDatafeed.main:you are using nologin method, data you access may be limited\n",
            "WARNING:tvDatafeed.main:you are using nologin method, data you access may be limited\n",
            "WARNING:tvDatafeed.main:you are using nologin method, data you access may be limited\n",
            "WARNING:tvDatafeed.main:you are using nologin method, data you access may be limited\n",
            "WARNING:tvDatafeed.main:you are using nologin method, data you access may be limited\n",
            "WARNING:tvDatafeed.main:you are using nologin method, data you access may be limited\n",
            "WARNING:tvDatafeed.main:you are using nologin method, data you access may be limited\n",
            "WARNING:tvDatafeed.main:you are using nologin method, data you access may be limited\n",
            "WARNING:tvDatafeed.main:you are using nologin method, data you access may be limited\n",
            "WARNING:tvDatafeed.main:you are using nologin method, data you access may be limited\n",
            "WARNING:tvDatafeed.main:you are using nologin method, data you access may be limited\n",
            "WARNING:tvDatafeed.main:you are using nologin method, data you access may be limited\n",
            "WARNING:tvDatafeed.main:you are using nologin method, data you access may be limited\n",
            "WARNING:tvDatafeed.main:you are using nologin method, data you access may be limited\n",
            "WARNING:tvDatafeed.main:you are using nologin method, data you access may be limited\n",
            "WARNING:tvDatafeed.main:you are using nologin method, data you access may be limited\n",
            "WARNING:tvDatafeed.main:you are using nologin method, data you access may be limited\n",
            "WARNING:tvDatafeed.main:you are using nologin method, data you access may be limited\n",
            "WARNING:tvDatafeed.main:you are using nologin method, data you access may be limited\n",
            "WARNING:tvDatafeed.main:you are using nologin method, data you access may be limited\n",
            "WARNING:tvDatafeed.main:you are using nologin method, data you access may be limited\n",
            "WARNING:tvDatafeed.main:you are using nologin method, data you access may be limited\n",
            "WARNING:tvDatafeed.main:you are using nologin method, data you access may be limited\n",
            "WARNING:tvDatafeed.main:you are using nologin method, data you access may be limited\n",
            "WARNING:tvDatafeed.main:you are using nologin method, data you access may be limited\n",
            "WARNING:tvDatafeed.main:you are using nologin method, data you access may be limited\n",
            "WARNING:tvDatafeed.main:you are using nologin method, data you access may be limited\n",
            "WARNING:tvDatafeed.main:you are using nologin method, data you access may be limited\n",
            "WARNING:tvDatafeed.main:you are using nologin method, data you access may be limited\n",
            "WARNING:tvDatafeed.main:you are using nologin method, data you access may be limited\n",
            "WARNING:tvDatafeed.main:you are using nologin method, data you access may be limited\n",
            "WARNING:tvDatafeed.main:you are using nologin method, data you access may be limited\n",
            "WARNING:tvDatafeed.main:you are using nologin method, data you access may be limited\n",
            "WARNING:tvDatafeed.main:you are using nologin method, data you access may be limited\n",
            "WARNING:tvDatafeed.main:you are using nologin method, data you access may be limited\n",
            "WARNING:tvDatafeed.main:you are using nologin method, data you access may be limited\n",
            "WARNING:tvDatafeed.main:you are using nologin method, data you access may be limited\n",
            "WARNING:tvDatafeed.main:you are using nologin method, data you access may be limited\n",
            "WARNING:tvDatafeed.main:you are using nologin method, data you access may be limited\n",
            "WARNING:tvDatafeed.main:you are using nologin method, data you access may be limited\n",
            "WARNING:tvDatafeed.main:you are using nologin method, data you access may be limited\n",
            "WARNING:tvDatafeed.main:you are using nologin method, data you access may be limited\n",
            "WARNING:tvDatafeed.main:you are using nologin method, data you access may be limited\n",
            "WARNING:tvDatafeed.main:you are using nologin method, data you access may be limited\n",
            "WARNING:tvDatafeed.main:you are using nologin method, data you access may be limited\n",
            "WARNING:tvDatafeed.main:you are using nologin method, data you access may be limited\n",
            "WARNING:tvDatafeed.main:you are using nologin method, data you access may be limited\n",
            "WARNING:tvDatafeed.main:you are using nologin method, data you access may be limited\n",
            "WARNING:tvDatafeed.main:you are using nologin method, data you access may be limited\n",
            "WARNING:tvDatafeed.main:you are using nologin method, data you access may be limited\n",
            "WARNING:tvDatafeed.main:you are using nologin method, data you access may be limited\n",
            "WARNING:tvDatafeed.main:you are using nologin method, data you access may be limited\n",
            "WARNING:tvDatafeed.main:you are using nologin method, data you access may be limited\n",
            "WARNING:tvDatafeed.main:you are using nologin method, data you access may be limited\n",
            "WARNING:tvDatafeed.main:you are using nologin method, data you access may be limited\n",
            "WARNING:tvDatafeed.main:you are using nologin method, data you access may be limited\n",
            "WARNING:tvDatafeed.main:you are using nologin method, data you access may be limited\n",
            "WARNING:tvDatafeed.main:you are using nologin method, data you access may be limited\n",
            "WARNING:tvDatafeed.main:you are using nologin method, data you access may be limited\n",
            "WARNING:tvDatafeed.main:you are using nologin method, data you access may be limited\n",
            "WARNING:tvDatafeed.main:you are using nologin method, data you access may be limited\n",
            "WARNING:tvDatafeed.main:you are using nologin method, data you access may be limited\n",
            "WARNING:tvDatafeed.main:you are using nologin method, data you access may be limited\n",
            "WARNING:tvDatafeed.main:you are using nologin method, data you access may be limited\n",
            "WARNING:tvDatafeed.main:you are using nologin method, data you access may be limited\n",
            "WARNING:tvDatafeed.main:you are using nologin method, data you access may be limited\n",
            "WARNING:tvDatafeed.main:you are using nologin method, data you access may be limited\n",
            "WARNING:tvDatafeed.main:you are using nologin method, data you access may be limited\n",
            "WARNING:tvDatafeed.main:you are using nologin method, data you access may be limited\n",
            "WARNING:tvDatafeed.main:you are using nologin method, data you access may be limited\n",
            "WARNING:tvDatafeed.main:you are using nologin method, data you access may be limited\n",
            "WARNING:tvDatafeed.main:you are using nologin method, data you access may be limited\n",
            "WARNING:tvDatafeed.main:you are using nologin method, data you access may be limited\n",
            "WARNING:tvDatafeed.main:you are using nologin method, data you access may be limited\n",
            "WARNING:tvDatafeed.main:you are using nologin method, data you access may be limited\n",
            "WARNING:tvDatafeed.main:you are using nologin method, data you access may be limited\n",
            "WARNING:tvDatafeed.main:you are using nologin method, data you access may be limited\n",
            "WARNING:tvDatafeed.main:you are using nologin method, data you access may be limited\n",
            "WARNING:tvDatafeed.main:you are using nologin method, data you access may be limited\n",
            "WARNING:tvDatafeed.main:you are using nologin method, data you access may be limited\n",
            "WARNING:tvDatafeed.main:you are using nologin method, data you access may be limited\n",
            "WARNING:tvDatafeed.main:you are using nologin method, data you access may be limited\n",
            "WARNING:tvDatafeed.main:you are using nologin method, data you access may be limited\n",
            "WARNING:tvDatafeed.main:you are using nologin method, data you access may be limited\n",
            "WARNING:tvDatafeed.main:you are using nologin method, data you access may be limited\n",
            "WARNING:tvDatafeed.main:you are using nologin method, data you access may be limited\n",
            "WARNING:tvDatafeed.main:you are using nologin method, data you access may be limited\n",
            "WARNING:tvDatafeed.main:you are using nologin method, data you access may be limited\n",
            "WARNING:tvDatafeed.main:you are using nologin method, data you access may be limited\n",
            "WARNING:tvDatafeed.main:you are using nologin method, data you access may be limited\n",
            "WARNING:tvDatafeed.main:you are using nologin method, data you access may be limited\n",
            "WARNING:tvDatafeed.main:you are using nologin method, data you access may be limited\n",
            "WARNING:tvDatafeed.main:you are using nologin method, data you access may be limited\n",
            "WARNING:tvDatafeed.main:you are using nologin method, data you access may be limited\n",
            "WARNING:tvDatafeed.main:you are using nologin method, data you access may be limited\n",
            "WARNING:tvDatafeed.main:you are using nologin method, data you access may be limited\n",
            "WARNING:tvDatafeed.main:you are using nologin method, data you access may be limited\n",
            "WARNING:tvDatafeed.main:you are using nologin method, data you access may be limited\n",
            "WARNING:tvDatafeed.main:you are using nologin method, data you access may be limited\n",
            "WARNING:tvDatafeed.main:you are using nologin method, data you access may be limited\n",
            "WARNING:tvDatafeed.main:you are using nologin method, data you access may be limited\n",
            "WARNING:tvDatafeed.main:you are using nologin method, data you access may be limited\n",
            "WARNING:tvDatafeed.main:you are using nologin method, data you access may be limited\n",
            "WARNING:tvDatafeed.main:you are using nologin method, data you access may be limited\n",
            "WARNING:tvDatafeed.main:you are using nologin method, data you access may be limited\n",
            "WARNING:tvDatafeed.main:you are using nologin method, data you access may be limited\n",
            "WARNING:tvDatafeed.main:you are using nologin method, data you access may be limited\n",
            "WARNING:tvDatafeed.main:you are using nologin method, data you access may be limited\n",
            "WARNING:tvDatafeed.main:you are using nologin method, data you access may be limited\n",
            "WARNING:tvDatafeed.main:you are using nologin method, data you access may be limited\n",
            "WARNING:tvDatafeed.main:you are using nologin method, data you access may be limited\n",
            "WARNING:tvDatafeed.main:you are using nologin method, data you access may be limited\n",
            "WARNING:tvDatafeed.main:you are using nologin method, data you access may be limited\n",
            "WARNING:tvDatafeed.main:you are using nologin method, data you access may be limited\n",
            "WARNING:tvDatafeed.main:you are using nologin method, data you access may be limited\n",
            "WARNING:tvDatafeed.main:you are using nologin method, data you access may be limited\n",
            "WARNING:tvDatafeed.main:you are using nologin method, data you access may be limited\n",
            "WARNING:tvDatafeed.main:you are using nologin method, data you access may be limited\n",
            "WARNING:tvDatafeed.main:you are using nologin method, data you access may be limited\n",
            "WARNING:tvDatafeed.main:you are using nologin method, data you access may be limited\n",
            "WARNING:tvDatafeed.main:you are using nologin method, data you access may be limited\n",
            "WARNING:tvDatafeed.main:you are using nologin method, data you access may be limited\n",
            "WARNING:tvDatafeed.main:you are using nologin method, data you access may be limited\n"
          ]
        }
      ],
      "source": [
        "cotacoes_tv_all = []\n",
        "\n",
        "for ticker in lista_tickers:\n",
        "\n",
        "    cotacoes_tv_ativo = []\n",
        "\n",
        "    for timeframe in timeframes:\n",
        "\n",
        "        cotacoes_tv_ativo_timef = TvDatafeed().get_hist(symbol=ticker, exchange='BMFBOVESPA', interval=timeframe, n_bars=10000)\n",
        "        cotacoes_tv_ativo_timef['symbol'] = cotacoes_tv_ativo_timef['symbol'].str.replace('BMFBOVESPA:', '')\n",
        "        cotacoes_tv_ativo_timef['timeframe'] = str(timeframe)[12:]\n",
        "\n",
        "        cotacoes_tv_ativo.append(cotacoes_tv_ativo_timef)\n",
        "    \n",
        "    cotacoes_tv_all.append(cotacoes_tv_ativo)"
      ]
    },
    {
      "cell_type": "code",
      "execution_count": 5,
      "metadata": {},
      "outputs": [
        {
          "data": {
            "text/plain": [
              "[(0, 'WDO1!'), (1, 'WIN1!'), (2, 'ABEV3'), (3, 'ALPA4'), (4, 'ALSO3')]"
            ]
          },
          "execution_count": 5,
          "metadata": {},
          "output_type": "execute_result"
        }
      ],
      "source": [
        "list(enumerate(lista_tickers))[0:5]"
      ]
    },
    {
      "cell_type": "code",
      "execution_count": 6,
      "metadata": {},
      "outputs": [
        {
          "data": {
            "text/plain": [
              "[(0, 'weekly'), (1, 'daily'), (2, '1_hour'), (3, '15_minute'), (4, '5_minute')]"
            ]
          },
          "execution_count": 6,
          "metadata": {},
          "output_type": "execute_result"
        }
      ],
      "source": [
        "timeframes_str = []\n",
        "for i in timeframes:\n",
        "    timeframes_str.append(str(i)[12:])\n",
        "    \n",
        "list(enumerate(timeframes_str))"
      ]
    },
    {
      "cell_type": "code",
      "execution_count": 7,
      "metadata": {},
      "outputs": [
        {
          "data": {
            "text/html": [
              "<div>\n",
              "<style scoped>\n",
              "    .dataframe tbody tr th:only-of-type {\n",
              "        vertical-align: middle;\n",
              "    }\n",
              "\n",
              "    .dataframe tbody tr th {\n",
              "        vertical-align: top;\n",
              "    }\n",
              "\n",
              "    .dataframe thead th {\n",
              "        text-align: right;\n",
              "    }\n",
              "</style>\n",
              "<table border=\"1\" class=\"dataframe\">\n",
              "  <thead>\n",
              "    <tr style=\"text-align: right;\">\n",
              "      <th></th>\n",
              "      <th>symbol</th>\n",
              "      <th>open</th>\n",
              "      <th>high</th>\n",
              "      <th>low</th>\n",
              "      <th>close</th>\n",
              "      <th>volume</th>\n",
              "      <th>timeframe</th>\n",
              "    </tr>\n",
              "    <tr>\n",
              "      <th>datetime</th>\n",
              "      <th></th>\n",
              "      <th></th>\n",
              "      <th></th>\n",
              "      <th></th>\n",
              "      <th></th>\n",
              "      <th></th>\n",
              "      <th></th>\n",
              "    </tr>\n",
              "  </thead>\n",
              "  <tbody>\n",
              "    <tr>\n",
              "      <th>2022-09-01 09:00:00</th>\n",
              "      <td>WIN1!</td>\n",
              "      <td>111250.0</td>\n",
              "      <td>111415.0</td>\n",
              "      <td>110825.0</td>\n",
              "      <td>111185.0</td>\n",
              "      <td>618107.0</td>\n",
              "      <td>15_minute</td>\n",
              "    </tr>\n",
              "    <tr>\n",
              "      <th>2022-09-01 09:15:00</th>\n",
              "      <td>WIN1!</td>\n",
              "      <td>111185.0</td>\n",
              "      <td>111505.0</td>\n",
              "      <td>111150.0</td>\n",
              "      <td>111350.0</td>\n",
              "      <td>359003.0</td>\n",
              "      <td>15_minute</td>\n",
              "    </tr>\n",
              "    <tr>\n",
              "      <th>2022-09-01 09:30:00</th>\n",
              "      <td>WIN1!</td>\n",
              "      <td>111350.0</td>\n",
              "      <td>111495.0</td>\n",
              "      <td>111210.0</td>\n",
              "      <td>111245.0</td>\n",
              "      <td>485551.0</td>\n",
              "      <td>15_minute</td>\n",
              "    </tr>\n",
              "    <tr>\n",
              "      <th>2022-09-01 09:45:00</th>\n",
              "      <td>WIN1!</td>\n",
              "      <td>111245.0</td>\n",
              "      <td>111390.0</td>\n",
              "      <td>111020.0</td>\n",
              "      <td>111270.0</td>\n",
              "      <td>523212.0</td>\n",
              "      <td>15_minute</td>\n",
              "    </tr>\n",
              "    <tr>\n",
              "      <th>2022-09-01 10:00:00</th>\n",
              "      <td>WIN1!</td>\n",
              "      <td>111270.0</td>\n",
              "      <td>111485.0</td>\n",
              "      <td>110935.0</td>\n",
              "      <td>111175.0</td>\n",
              "      <td>971894.0</td>\n",
              "      <td>15_minute</td>\n",
              "    </tr>\n",
              "    <tr>\n",
              "      <th>...</th>\n",
              "      <td>...</td>\n",
              "      <td>...</td>\n",
              "      <td>...</td>\n",
              "      <td>...</td>\n",
              "      <td>...</td>\n",
              "      <td>...</td>\n",
              "      <td>...</td>\n",
              "    </tr>\n",
              "    <tr>\n",
              "      <th>2023-03-30 09:00:00</th>\n",
              "      <td>WIN1!</td>\n",
              "      <td>103680.0</td>\n",
              "      <td>104030.0</td>\n",
              "      <td>103570.0</td>\n",
              "      <td>103730.0</td>\n",
              "      <td>476896.0</td>\n",
              "      <td>15_minute</td>\n",
              "    </tr>\n",
              "    <tr>\n",
              "      <th>2023-03-30 09:15:00</th>\n",
              "      <td>WIN1!</td>\n",
              "      <td>103735.0</td>\n",
              "      <td>103950.0</td>\n",
              "      <td>103560.0</td>\n",
              "      <td>103790.0</td>\n",
              "      <td>404150.0</td>\n",
              "      <td>15_minute</td>\n",
              "    </tr>\n",
              "    <tr>\n",
              "      <th>2023-03-30 09:30:00</th>\n",
              "      <td>WIN1!</td>\n",
              "      <td>103795.0</td>\n",
              "      <td>104200.0</td>\n",
              "      <td>103745.0</td>\n",
              "      <td>103985.0</td>\n",
              "      <td>616797.0</td>\n",
              "      <td>15_minute</td>\n",
              "    </tr>\n",
              "    <tr>\n",
              "      <th>2023-03-30 09:45:00</th>\n",
              "      <td>WIN1!</td>\n",
              "      <td>103980.0</td>\n",
              "      <td>104035.0</td>\n",
              "      <td>103665.0</td>\n",
              "      <td>103700.0</td>\n",
              "      <td>339850.0</td>\n",
              "      <td>15_minute</td>\n",
              "    </tr>\n",
              "    <tr>\n",
              "      <th>2023-03-30 10:00:00</th>\n",
              "      <td>WIN1!</td>\n",
              "      <td>103705.0</td>\n",
              "      <td>103710.0</td>\n",
              "      <td>103670.0</td>\n",
              "      <td>103670.0</td>\n",
              "      <td>5416.0</td>\n",
              "      <td>15_minute</td>\n",
              "    </tr>\n",
              "  </tbody>\n",
              "</table>\n",
              "<p>5366 rows × 7 columns</p>\n",
              "</div>"
            ],
            "text/plain": [
              "                    symbol      open      high       low     close    volume  \\\n",
              "datetime                                                                       \n",
              "2022-09-01 09:00:00  WIN1!  111250.0  111415.0  110825.0  111185.0  618107.0   \n",
              "2022-09-01 09:15:00  WIN1!  111185.0  111505.0  111150.0  111350.0  359003.0   \n",
              "2022-09-01 09:30:00  WIN1!  111350.0  111495.0  111210.0  111245.0  485551.0   \n",
              "2022-09-01 09:45:00  WIN1!  111245.0  111390.0  111020.0  111270.0  523212.0   \n",
              "2022-09-01 10:00:00  WIN1!  111270.0  111485.0  110935.0  111175.0  971894.0   \n",
              "...                    ...       ...       ...       ...       ...       ...   \n",
              "2023-03-30 09:00:00  WIN1!  103680.0  104030.0  103570.0  103730.0  476896.0   \n",
              "2023-03-30 09:15:00  WIN1!  103735.0  103950.0  103560.0  103790.0  404150.0   \n",
              "2023-03-30 09:30:00  WIN1!  103795.0  104200.0  103745.0  103985.0  616797.0   \n",
              "2023-03-30 09:45:00  WIN1!  103980.0  104035.0  103665.0  103700.0  339850.0   \n",
              "2023-03-30 10:00:00  WIN1!  103705.0  103710.0  103670.0  103670.0    5416.0   \n",
              "\n",
              "                     timeframe  \n",
              "datetime                        \n",
              "2022-09-01 09:00:00  15_minute  \n",
              "2022-09-01 09:15:00  15_minute  \n",
              "2022-09-01 09:30:00  15_minute  \n",
              "2022-09-01 09:45:00  15_minute  \n",
              "2022-09-01 10:00:00  15_minute  \n",
              "...                        ...  \n",
              "2023-03-30 09:00:00  15_minute  \n",
              "2023-03-30 09:15:00  15_minute  \n",
              "2023-03-30 09:30:00  15_minute  \n",
              "2023-03-30 09:45:00  15_minute  \n",
              "2023-03-30 10:00:00  15_minute  \n",
              "\n",
              "[5366 rows x 7 columns]"
            ]
          },
          "execution_count": 7,
          "metadata": {},
          "output_type": "execute_result"
        }
      ],
      "source": [
        "cotacoes_tv_all[1][3]"
      ]
    },
    {
      "cell_type": "markdown",
      "metadata": {},
      "source": [
        "## 2.2. Cotações OHLC - TradingView - Monthly a Diario"
      ]
    },
    {
      "cell_type": "code",
      "execution_count": 6,
      "metadata": {},
      "outputs": [],
      "source": [
        "lista_tickers = ['WDO1!', 'WIN1!', 'ABEV3', 'ALPA4', 'ALSO3', 'ARZZ3', 'ASAI3', 'AZUL4', 'B3SA3', 'BBAS3', 'BBDC3', 'BBDC4',\n",
        "                'BBSE3', 'BEEF3', 'BPAC11', 'BPAN4', 'BRAP4', 'BRFS3', 'BRKM5', 'CASH3', 'CCRO3', 'CIEL3', 'CMIG4', 'CMIN3',\n",
        "                'COGN3', 'CPFE3', 'CPLE6', 'CRFB3', 'CSAN3', 'CSNA3', 'CVCB3', 'CYRE3', 'DXCO3', 'ECOR3', 'EGIE3', 'ELET3',\n",
        "                'ELET6', 'EMBR3', 'ENBR3', 'ENEV3', 'ENGI11', 'EQTL3', 'EZTC3', 'FLRY3', 'GGBR4', 'GOAU4', 'GOLL4', 'HAPV3',\n",
        "                'HYPE3', 'IGTI11', 'ITSA4', 'ITUB4', 'JBSS3', 'KLBN11', 'LREN3', 'LWSA3', 'MGLU3', 'MRFG3', 'MRVE3', 'MULT3',\n",
        "                'NTCO3', 'PCAR3', 'PETR3', 'PETR4', 'PETZ3', 'PRIO3', 'QUAL3', 'RADL3', 'RAIL3', 'RAIZ4', 'RDOR3', 'RENT3',\n",
        "                'RRRP3', 'SANB11', 'SBSP3', 'SLCE3', 'SMTO3', 'SOMA3', 'SUZB3', 'TAEE11', 'TIMS3', 'TOTS3', 'UGPA3', 'USIM5',\n",
        "                'VALE3', 'VBBR3', 'VIIA3', 'VIVT3', 'WEGE3', 'YDUQ3']"
      ]
    },
    {
      "cell_type": "code",
      "execution_count": 7,
      "metadata": {},
      "outputs": [],
      "source": [
        "timeframes = [Interval.in_monthly, Interval.in_weekly, Interval.in_daily]"
      ]
    },
    {
      "cell_type": "code",
      "execution_count": 8,
      "metadata": {},
      "outputs": [
        {
          "name": "stderr",
          "output_type": "stream",
          "text": [
            "you are using nologin method, data you access may be limited\n",
            "WARNING:tvDatafeed.main:you are using nologin method, data you access may be limited\n",
            "WARNING:tvDatafeed.main:you are using nologin method, data you access may be limited\n",
            "WARNING:tvDatafeed.main:you are using nologin method, data you access may be limited\n",
            "WARNING:tvDatafeed.main:you are using nologin method, data you access may be limited\n",
            "WARNING:tvDatafeed.main:you are using nologin method, data you access may be limited\n",
            "WARNING:tvDatafeed.main:you are using nologin method, data you access may be limited\n",
            "WARNING:tvDatafeed.main:you are using nologin method, data you access may be limited\n",
            "WARNING:tvDatafeed.main:you are using nologin method, data you access may be limited\n",
            "WARNING:tvDatafeed.main:you are using nologin method, data you access may be limited\n",
            "WARNING:tvDatafeed.main:you are using nologin method, data you access may be limited\n",
            "WARNING:tvDatafeed.main:you are using nologin method, data you access may be limited\n",
            "WARNING:tvDatafeed.main:you are using nologin method, data you access may be limited\n",
            "WARNING:tvDatafeed.main:you are using nologin method, data you access may be limited\n",
            "WARNING:tvDatafeed.main:you are using nologin method, data you access may be limited\n",
            "WARNING:tvDatafeed.main:you are using nologin method, data you access may be limited\n",
            "WARNING:tvDatafeed.main:you are using nologin method, data you access may be limited\n",
            "WARNING:tvDatafeed.main:you are using nologin method, data you access may be limited\n",
            "WARNING:tvDatafeed.main:you are using nologin method, data you access may be limited\n",
            "WARNING:tvDatafeed.main:you are using nologin method, data you access may be limited\n",
            "WARNING:tvDatafeed.main:you are using nologin method, data you access may be limited\n",
            "WARNING:tvDatafeed.main:you are using nologin method, data you access may be limited\n",
            "WARNING:tvDatafeed.main:you are using nologin method, data you access may be limited\n",
            "WARNING:tvDatafeed.main:you are using nologin method, data you access may be limited\n",
            "WARNING:tvDatafeed.main:you are using nologin method, data you access may be limited\n",
            "WARNING:tvDatafeed.main:you are using nologin method, data you access may be limited\n",
            "WARNING:tvDatafeed.main:you are using nologin method, data you access may be limited\n",
            "WARNING:tvDatafeed.main:you are using nologin method, data you access may be limited\n",
            "WARNING:tvDatafeed.main:you are using nologin method, data you access may be limited\n",
            "WARNING:tvDatafeed.main:you are using nologin method, data you access may be limited\n",
            "WARNING:tvDatafeed.main:you are using nologin method, data you access may be limited\n",
            "WARNING:tvDatafeed.main:you are using nologin method, data you access may be limited\n",
            "WARNING:tvDatafeed.main:you are using nologin method, data you access may be limited\n",
            "WARNING:tvDatafeed.main:you are using nologin method, data you access may be limited\n",
            "WARNING:tvDatafeed.main:you are using nologin method, data you access may be limited\n",
            "WARNING:tvDatafeed.main:you are using nologin method, data you access may be limited\n",
            "WARNING:tvDatafeed.main:you are using nologin method, data you access may be limited\n",
            "WARNING:tvDatafeed.main:you are using nologin method, data you access may be limited\n",
            "WARNING:tvDatafeed.main:you are using nologin method, data you access may be limited\n",
            "WARNING:tvDatafeed.main:you are using nologin method, data you access may be limited\n",
            "WARNING:tvDatafeed.main:you are using nologin method, data you access may be limited\n",
            "WARNING:tvDatafeed.main:you are using nologin method, data you access may be limited\n",
            "WARNING:tvDatafeed.main:you are using nologin method, data you access may be limited\n",
            "WARNING:tvDatafeed.main:you are using nologin method, data you access may be limited\n",
            "WARNING:tvDatafeed.main:you are using nologin method, data you access may be limited\n",
            "WARNING:tvDatafeed.main:you are using nologin method, data you access may be limited\n",
            "WARNING:tvDatafeed.main:you are using nologin method, data you access may be limited\n",
            "WARNING:tvDatafeed.main:you are using nologin method, data you access may be limited\n",
            "WARNING:tvDatafeed.main:you are using nologin method, data you access may be limited\n",
            "WARNING:tvDatafeed.main:you are using nologin method, data you access may be limited\n",
            "WARNING:tvDatafeed.main:you are using nologin method, data you access may be limited\n",
            "WARNING:tvDatafeed.main:you are using nologin method, data you access may be limited\n",
            "WARNING:tvDatafeed.main:you are using nologin method, data you access may be limited\n",
            "WARNING:tvDatafeed.main:you are using nologin method, data you access may be limited\n",
            "WARNING:tvDatafeed.main:you are using nologin method, data you access may be limited\n",
            "WARNING:tvDatafeed.main:you are using nologin method, data you access may be limited\n",
            "WARNING:tvDatafeed.main:you are using nologin method, data you access may be limited\n",
            "WARNING:tvDatafeed.main:you are using nologin method, data you access may be limited\n",
            "WARNING:tvDatafeed.main:you are using nologin method, data you access may be limited\n",
            "WARNING:tvDatafeed.main:you are using nologin method, data you access may be limited\n",
            "WARNING:tvDatafeed.main:you are using nologin method, data you access may be limited\n",
            "WARNING:tvDatafeed.main:you are using nologin method, data you access may be limited\n",
            "WARNING:tvDatafeed.main:you are using nologin method, data you access may be limited\n",
            "WARNING:tvDatafeed.main:you are using nologin method, data you access may be limited\n",
            "WARNING:tvDatafeed.main:you are using nologin method, data you access may be limited\n",
            "WARNING:tvDatafeed.main:you are using nologin method, data you access may be limited\n",
            "WARNING:tvDatafeed.main:you are using nologin method, data you access may be limited\n",
            "WARNING:tvDatafeed.main:you are using nologin method, data you access may be limited\n",
            "WARNING:tvDatafeed.main:you are using nologin method, data you access may be limited\n",
            "WARNING:tvDatafeed.main:you are using nologin method, data you access may be limited\n",
            "WARNING:tvDatafeed.main:you are using nologin method, data you access may be limited\n",
            "WARNING:tvDatafeed.main:you are using nologin method, data you access may be limited\n",
            "WARNING:tvDatafeed.main:you are using nologin method, data you access may be limited\n",
            "WARNING:tvDatafeed.main:you are using nologin method, data you access may be limited\n",
            "WARNING:tvDatafeed.main:you are using nologin method, data you access may be limited\n",
            "WARNING:tvDatafeed.main:you are using nologin method, data you access may be limited\n",
            "WARNING:tvDatafeed.main:you are using nologin method, data you access may be limited\n",
            "WARNING:tvDatafeed.main:you are using nologin method, data you access may be limited\n",
            "WARNING:tvDatafeed.main:you are using nologin method, data you access may be limited\n",
            "WARNING:tvDatafeed.main:you are using nologin method, data you access may be limited\n",
            "WARNING:tvDatafeed.main:you are using nologin method, data you access may be limited\n",
            "WARNING:tvDatafeed.main:you are using nologin method, data you access may be limited\n",
            "WARNING:tvDatafeed.main:you are using nologin method, data you access may be limited\n",
            "WARNING:tvDatafeed.main:you are using nologin method, data you access may be limited\n",
            "WARNING:tvDatafeed.main:you are using nologin method, data you access may be limited\n",
            "WARNING:tvDatafeed.main:you are using nologin method, data you access may be limited\n",
            "WARNING:tvDatafeed.main:you are using nologin method, data you access may be limited\n",
            "WARNING:tvDatafeed.main:you are using nologin method, data you access may be limited\n",
            "WARNING:tvDatafeed.main:you are using nologin method, data you access may be limited\n",
            "WARNING:tvDatafeed.main:you are using nologin method, data you access may be limited\n",
            "WARNING:tvDatafeed.main:you are using nologin method, data you access may be limited\n",
            "WARNING:tvDatafeed.main:you are using nologin method, data you access may be limited\n",
            "WARNING:tvDatafeed.main:you are using nologin method, data you access may be limited\n",
            "WARNING:tvDatafeed.main:you are using nologin method, data you access may be limited\n",
            "WARNING:tvDatafeed.main:you are using nologin method, data you access may be limited\n",
            "WARNING:tvDatafeed.main:you are using nologin method, data you access may be limited\n",
            "WARNING:tvDatafeed.main:you are using nologin method, data you access may be limited\n",
            "WARNING:tvDatafeed.main:you are using nologin method, data you access may be limited\n",
            "WARNING:tvDatafeed.main:you are using nologin method, data you access may be limited\n",
            "WARNING:tvDatafeed.main:you are using nologin method, data you access may be limited\n",
            "WARNING:tvDatafeed.main:you are using nologin method, data you access may be limited\n",
            "WARNING:tvDatafeed.main:you are using nologin method, data you access may be limited\n",
            "WARNING:tvDatafeed.main:you are using nologin method, data you access may be limited\n",
            "WARNING:tvDatafeed.main:you are using nologin method, data you access may be limited\n",
            "WARNING:tvDatafeed.main:you are using nologin method, data you access may be limited\n",
            "WARNING:tvDatafeed.main:you are using nologin method, data you access may be limited\n",
            "WARNING:tvDatafeed.main:you are using nologin method, data you access may be limited\n",
            "WARNING:tvDatafeed.main:you are using nologin method, data you access may be limited\n",
            "WARNING:tvDatafeed.main:you are using nologin method, data you access may be limited\n",
            "WARNING:tvDatafeed.main:you are using nologin method, data you access may be limited\n",
            "WARNING:tvDatafeed.main:you are using nologin method, data you access may be limited\n",
            "WARNING:tvDatafeed.main:you are using nologin method, data you access may be limited\n",
            "WARNING:tvDatafeed.main:you are using nologin method, data you access may be limited\n",
            "WARNING:tvDatafeed.main:you are using nologin method, data you access may be limited\n",
            "WARNING:tvDatafeed.main:you are using nologin method, data you access may be limited\n",
            "WARNING:tvDatafeed.main:you are using nologin method, data you access may be limited\n",
            "WARNING:tvDatafeed.main:you are using nologin method, data you access may be limited\n",
            "WARNING:tvDatafeed.main:you are using nologin method, data you access may be limited\n",
            "WARNING:tvDatafeed.main:you are using nologin method, data you access may be limited\n",
            "WARNING:tvDatafeed.main:you are using nologin method, data you access may be limited\n",
            "WARNING:tvDatafeed.main:you are using nologin method, data you access may be limited\n",
            "WARNING:tvDatafeed.main:you are using nologin method, data you access may be limited\n",
            "WARNING:tvDatafeed.main:you are using nologin method, data you access may be limited\n",
            "WARNING:tvDatafeed.main:you are using nologin method, data you access may be limited\n",
            "WARNING:tvDatafeed.main:you are using nologin method, data you access may be limited\n",
            "WARNING:tvDatafeed.main:you are using nologin method, data you access may be limited\n",
            "WARNING:tvDatafeed.main:you are using nologin method, data you access may be limited\n",
            "WARNING:tvDatafeed.main:you are using nologin method, data you access may be limited\n",
            "WARNING:tvDatafeed.main:you are using nologin method, data you access may be limited\n",
            "WARNING:tvDatafeed.main:you are using nologin method, data you access may be limited\n",
            "WARNING:tvDatafeed.main:you are using nologin method, data you access may be limited\n",
            "WARNING:tvDatafeed.main:you are using nologin method, data you access may be limited\n",
            "WARNING:tvDatafeed.main:you are using nologin method, data you access may be limited\n",
            "WARNING:tvDatafeed.main:you are using nologin method, data you access may be limited\n",
            "WARNING:tvDatafeed.main:you are using nologin method, data you access may be limited\n",
            "WARNING:tvDatafeed.main:you are using nologin method, data you access may be limited\n",
            "WARNING:tvDatafeed.main:you are using nologin method, data you access may be limited\n",
            "WARNING:tvDatafeed.main:you are using nologin method, data you access may be limited\n",
            "WARNING:tvDatafeed.main:you are using nologin method, data you access may be limited\n",
            "WARNING:tvDatafeed.main:you are using nologin method, data you access may be limited\n",
            "WARNING:tvDatafeed.main:you are using nologin method, data you access may be limited\n",
            "WARNING:tvDatafeed.main:you are using nologin method, data you access may be limited\n",
            "WARNING:tvDatafeed.main:you are using nologin method, data you access may be limited\n",
            "WARNING:tvDatafeed.main:you are using nologin method, data you access may be limited\n",
            "WARNING:tvDatafeed.main:you are using nologin method, data you access may be limited\n",
            "WARNING:tvDatafeed.main:you are using nologin method, data you access may be limited\n",
            "WARNING:tvDatafeed.main:you are using nologin method, data you access may be limited\n",
            "WARNING:tvDatafeed.main:you are using nologin method, data you access may be limited\n",
            "WARNING:tvDatafeed.main:you are using nologin method, data you access may be limited\n",
            "WARNING:tvDatafeed.main:you are using nologin method, data you access may be limited\n",
            "WARNING:tvDatafeed.main:you are using nologin method, data you access may be limited\n",
            "WARNING:tvDatafeed.main:you are using nologin method, data you access may be limited\n",
            "WARNING:tvDatafeed.main:you are using nologin method, data you access may be limited\n",
            "WARNING:tvDatafeed.main:you are using nologin method, data you access may be limited\n",
            "WARNING:tvDatafeed.main:you are using nologin method, data you access may be limited\n",
            "WARNING:tvDatafeed.main:you are using nologin method, data you access may be limited\n",
            "WARNING:tvDatafeed.main:you are using nologin method, data you access may be limited\n",
            "WARNING:tvDatafeed.main:you are using nologin method, data you access may be limited\n",
            "WARNING:tvDatafeed.main:you are using nologin method, data you access may be limited\n",
            "WARNING:tvDatafeed.main:you are using nologin method, data you access may be limited\n",
            "WARNING:tvDatafeed.main:you are using nologin method, data you access may be limited\n",
            "WARNING:tvDatafeed.main:you are using nologin method, data you access may be limited\n",
            "WARNING:tvDatafeed.main:you are using nologin method, data you access may be limited\n",
            "WARNING:tvDatafeed.main:you are using nologin method, data you access may be limited\n",
            "WARNING:tvDatafeed.main:you are using nologin method, data you access may be limited\n",
            "WARNING:tvDatafeed.main:you are using nologin method, data you access may be limited\n",
            "WARNING:tvDatafeed.main:you are using nologin method, data you access may be limited\n",
            "WARNING:tvDatafeed.main:you are using nologin method, data you access may be limited\n",
            "WARNING:tvDatafeed.main:you are using nologin method, data you access may be limited\n",
            "WARNING:tvDatafeed.main:you are using nologin method, data you access may be limited\n",
            "WARNING:tvDatafeed.main:you are using nologin method, data you access may be limited\n",
            "WARNING:tvDatafeed.main:you are using nologin method, data you access may be limited\n",
            "WARNING:tvDatafeed.main:you are using nologin method, data you access may be limited\n",
            "WARNING:tvDatafeed.main:you are using nologin method, data you access may be limited\n",
            "WARNING:tvDatafeed.main:you are using nologin method, data you access may be limited\n",
            "WARNING:tvDatafeed.main:you are using nologin method, data you access may be limited\n",
            "WARNING:tvDatafeed.main:you are using nologin method, data you access may be limited\n",
            "WARNING:tvDatafeed.main:you are using nologin method, data you access may be limited\n",
            "WARNING:tvDatafeed.main:you are using nologin method, data you access may be limited\n",
            "WARNING:tvDatafeed.main:you are using nologin method, data you access may be limited\n",
            "WARNING:tvDatafeed.main:you are using nologin method, data you access may be limited\n",
            "WARNING:tvDatafeed.main:you are using nologin method, data you access may be limited\n",
            "WARNING:tvDatafeed.main:you are using nologin method, data you access may be limited\n",
            "WARNING:tvDatafeed.main:you are using nologin method, data you access may be limited\n",
            "WARNING:tvDatafeed.main:you are using nologin method, data you access may be limited\n",
            "WARNING:tvDatafeed.main:you are using nologin method, data you access may be limited\n",
            "WARNING:tvDatafeed.main:you are using nologin method, data you access may be limited\n",
            "WARNING:tvDatafeed.main:you are using nologin method, data you access may be limited\n",
            "WARNING:tvDatafeed.main:you are using nologin method, data you access may be limited\n",
            "WARNING:tvDatafeed.main:you are using nologin method, data you access may be limited\n",
            "WARNING:tvDatafeed.main:you are using nologin method, data you access may be limited\n",
            "WARNING:tvDatafeed.main:you are using nologin method, data you access may be limited\n",
            "WARNING:tvDatafeed.main:you are using nologin method, data you access may be limited\n",
            "WARNING:tvDatafeed.main:you are using nologin method, data you access may be limited\n",
            "WARNING:tvDatafeed.main:you are using nologin method, data you access may be limited\n",
            "WARNING:tvDatafeed.main:you are using nologin method, data you access may be limited\n",
            "WARNING:tvDatafeed.main:you are using nologin method, data you access may be limited\n",
            "WARNING:tvDatafeed.main:you are using nologin method, data you access may be limited\n",
            "WARNING:tvDatafeed.main:you are using nologin method, data you access may be limited\n",
            "WARNING:tvDatafeed.main:you are using nologin method, data you access may be limited\n",
            "WARNING:tvDatafeed.main:you are using nologin method, data you access may be limited\n",
            "WARNING:tvDatafeed.main:you are using nologin method, data you access may be limited\n",
            "WARNING:tvDatafeed.main:you are using nologin method, data you access may be limited\n",
            "WARNING:tvDatafeed.main:you are using nologin method, data you access may be limited\n",
            "WARNING:tvDatafeed.main:you are using nologin method, data you access may be limited\n",
            "WARNING:tvDatafeed.main:you are using nologin method, data you access may be limited\n",
            "WARNING:tvDatafeed.main:you are using nologin method, data you access may be limited\n",
            "WARNING:tvDatafeed.main:you are using nologin method, data you access may be limited\n",
            "WARNING:tvDatafeed.main:you are using nologin method, data you access may be limited\n",
            "WARNING:tvDatafeed.main:you are using nologin method, data you access may be limited\n",
            "WARNING:tvDatafeed.main:you are using nologin method, data you access may be limited\n",
            "WARNING:tvDatafeed.main:you are using nologin method, data you access may be limited\n",
            "WARNING:tvDatafeed.main:you are using nologin method, data you access may be limited\n",
            "WARNING:tvDatafeed.main:you are using nologin method, data you access may be limited\n",
            "WARNING:tvDatafeed.main:you are using nologin method, data you access may be limited\n",
            "WARNING:tvDatafeed.main:you are using nologin method, data you access may be limited\n",
            "WARNING:tvDatafeed.main:you are using nologin method, data you access may be limited\n",
            "WARNING:tvDatafeed.main:you are using nologin method, data you access may be limited\n",
            "WARNING:tvDatafeed.main:you are using nologin method, data you access may be limited\n",
            "WARNING:tvDatafeed.main:you are using nologin method, data you access may be limited\n",
            "WARNING:tvDatafeed.main:you are using nologin method, data you access may be limited\n",
            "WARNING:tvDatafeed.main:you are using nologin method, data you access may be limited\n",
            "WARNING:tvDatafeed.main:you are using nologin method, data you access may be limited\n",
            "WARNING:tvDatafeed.main:you are using nologin method, data you access may be limited\n",
            "WARNING:tvDatafeed.main:you are using nologin method, data you access may be limited\n",
            "WARNING:tvDatafeed.main:you are using nologin method, data you access may be limited\n",
            "WARNING:tvDatafeed.main:you are using nologin method, data you access may be limited\n",
            "WARNING:tvDatafeed.main:you are using nologin method, data you access may be limited\n",
            "WARNING:tvDatafeed.main:you are using nologin method, data you access may be limited\n",
            "WARNING:tvDatafeed.main:you are using nologin method, data you access may be limited\n",
            "WARNING:tvDatafeed.main:you are using nologin method, data you access may be limited\n",
            "WARNING:tvDatafeed.main:you are using nologin method, data you access may be limited\n",
            "WARNING:tvDatafeed.main:you are using nologin method, data you access may be limited\n",
            "WARNING:tvDatafeed.main:you are using nologin method, data you access may be limited\n",
            "WARNING:tvDatafeed.main:you are using nologin method, data you access may be limited\n",
            "WARNING:tvDatafeed.main:you are using nologin method, data you access may be limited\n",
            "WARNING:tvDatafeed.main:you are using nologin method, data you access may be limited\n",
            "WARNING:tvDatafeed.main:you are using nologin method, data you access may be limited\n",
            "WARNING:tvDatafeed.main:you are using nologin method, data you access may be limited\n",
            "WARNING:tvDatafeed.main:you are using nologin method, data you access may be limited\n",
            "WARNING:tvDatafeed.main:you are using nologin method, data you access may be limited\n",
            "WARNING:tvDatafeed.main:you are using nologin method, data you access may be limited\n",
            "WARNING:tvDatafeed.main:you are using nologin method, data you access may be limited\n",
            "WARNING:tvDatafeed.main:you are using nologin method, data you access may be limited\n",
            "WARNING:tvDatafeed.main:you are using nologin method, data you access may be limited\n",
            "WARNING:tvDatafeed.main:you are using nologin method, data you access may be limited\n",
            "WARNING:tvDatafeed.main:you are using nologin method, data you access may be limited\n",
            "WARNING:tvDatafeed.main:you are using nologin method, data you access may be limited\n",
            "WARNING:tvDatafeed.main:you are using nologin method, data you access may be limited\n",
            "WARNING:tvDatafeed.main:you are using nologin method, data you access may be limited\n",
            "WARNING:tvDatafeed.main:you are using nologin method, data you access may be limited\n",
            "WARNING:tvDatafeed.main:you are using nologin method, data you access may be limited\n",
            "WARNING:tvDatafeed.main:you are using nologin method, data you access may be limited\n",
            "WARNING:tvDatafeed.main:you are using nologin method, data you access may be limited\n",
            "WARNING:tvDatafeed.main:you are using nologin method, data you access may be limited\n",
            "WARNING:tvDatafeed.main:you are using nologin method, data you access may be limited\n",
            "WARNING:tvDatafeed.main:you are using nologin method, data you access may be limited\n",
            "WARNING:tvDatafeed.main:you are using nologin method, data you access may be limited\n",
            "WARNING:tvDatafeed.main:you are using nologin method, data you access may be limited\n",
            "WARNING:tvDatafeed.main:you are using nologin method, data you access may be limited\n",
            "WARNING:tvDatafeed.main:you are using nologin method, data you access may be limited\n",
            "WARNING:tvDatafeed.main:you are using nologin method, data you access may be limited\n",
            "WARNING:tvDatafeed.main:you are using nologin method, data you access may be limited\n",
            "WARNING:tvDatafeed.main:you are using nologin method, data you access may be limited\n",
            "WARNING:tvDatafeed.main:you are using nologin method, data you access may be limited\n",
            "WARNING:tvDatafeed.main:you are using nologin method, data you access may be limited\n",
            "WARNING:tvDatafeed.main:you are using nologin method, data you access may be limited\n",
            "WARNING:tvDatafeed.main:you are using nologin method, data you access may be limited\n",
            "WARNING:tvDatafeed.main:you are using nologin method, data you access may be limited\n",
            "WARNING:tvDatafeed.main:you are using nologin method, data you access may be limited\n"
          ]
        }
      ],
      "source": [
        "cotacoes_tv_all = []\n",
        "\n",
        "for ticker in lista_tickers:\n",
        "\n",
        "    cotacoes_tv_ativo = []\n",
        "\n",
        "    for timeframe in timeframes:\n",
        "\n",
        "        cotacoes_tv_ativo_timef = TvDatafeed().get_hist(symbol=ticker, exchange='BMFBOVESPA', interval=timeframe, n_bars=10000)\n",
        "        cotacoes_tv_ativo_timef['symbol'] = cotacoes_tv_ativo_timef['symbol'].str.replace('BMFBOVESPA:', '')\n",
        "        cotacoes_tv_ativo_timef['timeframe'] = str(timeframe)[12:]\n",
        "\n",
        "        cotacoes_tv_ativo.append(cotacoes_tv_ativo_timef)\n",
        "    \n",
        "    cotacoes_tv_all.append(cotacoes_tv_ativo)"
      ]
    },
    {
      "cell_type": "code",
      "execution_count": null,
      "metadata": {},
      "outputs": [],
      "source": [
        "list(enumerate(lista_tickers))"
      ]
    },
    {
      "attachments": {},
      "cell_type": "markdown",
      "metadata": {},
      "source": [
        "## 2.3. Cotações OHLC - MetaTrader"
      ]
    },
    {
      "cell_type": "code",
      "execution_count": null,
      "metadata": {},
      "outputs": [],
      "source": [
        "mt5.initialize()"
      ]
    },
    {
      "cell_type": "code",
      "execution_count": null,
      "metadata": {},
      "outputs": [],
      "source": [
        "lista_tickers = ['WDO$', 'WIN$', 'ABEV3', 'ALPA4', 'ALSO3', 'ARZZ3', 'ASAI3', 'AZUL4', 'B3SA3', 'BBAS3', 'BBDC3', 'BBDC4',\n",
        "                'BBSE3', 'BEEF3', 'BPAC11', 'BPAN4', 'BRAP4', 'BRFS3', 'BRKM5', 'CASH3', 'CCRO3', 'CIEL3', 'CMIG4', 'CMIN3',\n",
        "                'COGN3', 'CPFE3', 'CPLE6', 'CRFB3', 'CSAN3', 'CSNA3', 'CVCB3', 'CYRE3', 'DXCO3', 'ECOR3', 'EGIE3', 'ELET3',\n",
        "                'ELET6', 'EMBR3', 'ENBR3', 'ENEV3', 'ENGI11', 'EQTL3', 'EZTC3', 'FLRY3', 'GGBR4', 'GOAU4', 'GOLL4', 'HAPV3',\n",
        "                'HYPE3', 'IGTI11', 'ITSA4', 'ITUB4', 'JBSS3', 'KLBN11', 'LREN3', 'LWSA3', 'MGLU3', 'MRFG3', 'MRVE3', 'MULT3',\n",
        "                'NTCO3', 'PCAR3', 'PETR3', 'PETR4', 'PETZ3', 'PRIO3', 'QUAL3', 'RADL3', 'RAIL3', 'RAIZ4', 'RDOR3', 'RENT3',\n",
        "                'RRRP3', 'SANB11', 'SBSP3', 'SLCE3', 'SMTO3', 'SOMA3', 'SUZB3', 'TAEE11', 'TIMS3', 'TOTS3', 'UGPA3', 'USIM5',\n",
        "                'VALE3', 'VBBR3', 'VIIA3', 'VIVT3', 'WEGE3', 'YDUQ3']"
      ]
    },
    {
      "cell_type": "code",
      "execution_count": null,
      "metadata": {},
      "outputs": [],
      "source": [
        "for i in lista_tickers:\n",
        "    selected=mt5.symbol_select(i, True)\n",
        "    if not selected:\n",
        "        print(i,\"não localizado\")\n",
        "timeframes = [32769, 16408, 16385, 15, 5]\n",
        "timezone = pytz.timezone(\"America/Sao_Paulo\")\n",
        "data_inicio = datetime(2013, 1, 1)\n",
        "data_fim = datetime(2022, 12, 31)\n",
        "data_inicio\n",
        "timezone = pytz.timezone(\"America/Sao_Paulo\")\n",
        "data_inicio = datetime.now() - timedelta(days=10000)\n",
        "data_fim = datetime.now()\n",
        "\n",
        "cotacoes_mt5_all = []\n",
        "\n",
        "for ticker in lista_tickers:\n",
        "\n",
        "    cotacoes_mt5_ativo = []\n",
        "\n",
        "    for timeframe in timeframes:\n",
        "\n",
        "        cotacoes_mt5_ticker = mt5.copy_rates_range(ticker, timeframe, data_inicio, data_fim)\n",
        "        cotacoes_mt5_ticker = pd.DataFrame(cotacoes_mt5_ticker)\n",
        "        cotacoes_mt5_ticker['ticker'] = str(ticker)\n",
        "\n",
        "        if timeframe==32769:\n",
        "            cotacoes_mt5_ticker['timeframe'] = '1W'\n",
        "        elif timeframe==16408:\n",
        "            cotacoes_mt5_ticker['timeframe'] = '1D'\n",
        "        elif timeframe==16385:\n",
        "            cotacoes_mt5_ticker['timeframe'] = '1H'\n",
        "        else:\n",
        "            cotacoes_mt5_ticker['timeframe'] = str(timeframe)+'M'\n",
        "        \n",
        "        cotacoes_mt5_ticker.index = pd.to_datetime(cotacoes_mt5_ticker['time'], unit='s')\n",
        "        cotacoes_mt5_ticker = cotacoes_mt5_ticker.drop('time', axis=1)\n",
        "        cotacoes_mt5_ativo.append(cotacoes_mt5_ticker)\n",
        "    \n",
        "    cotacoes_mt5_all.append(cotacoes_mt5_ativo)\n",
        "list(enumerate(lista_tickers))[0:5]\n",
        "timeframes_str = ['1W', '1D', '1H', '15M', '5M']\n",
        "list(enumerate(timeframes_str))\n",
        "cotacoes_mt5_all[2][0]"
      ]
    },
    {
      "cell_type": "code",
      "execution_count": null,
      "metadata": {},
      "outputs": [],
      "source": []
    },
    {
      "attachments": {},
      "cell_type": "markdown",
      "metadata": {},
      "source": [
        "## 2.4. Cálculo indicadores"
      ]
    },
    {
      "cell_type": "code",
      "execution_count": 76,
      "metadata": {},
      "outputs": [],
      "source": [
        "periodo_indicadores = 20\n",
        "#desv_pad = 2"
      ]
    },
    {
      "cell_type": "code",
      "execution_count": 77,
      "metadata": {},
      "outputs": [],
      "source": [
        "for i in range(len(cotacoes_tv_all)):\n",
        "    for j in range(len(cotacoes_tv_ativo)):\n",
        "        cotacoes_tv_all[i][j]['MM'] = ta.trend.SMAIndicator(cotacoes_tv_all[i][j].close, window=periodo_indicadores).sma_indicator()"
      ]
    },
    {
      "cell_type": "markdown",
      "metadata": {},
      "source": [
        "# 3. Backtesting"
      ]
    },
    {
      "cell_type": "code",
      "execution_count": 78,
      "metadata": {},
      "outputs": [],
      "source": [
        "for i in range(len(cotacoes_tv_all)):\n",
        "\n",
        "    for j in range(len(cotacoes_tv_ativo)):\n",
        "\n",
        "        cotacoes_tv_all[i][j]['entrada'] = cotacoes_tv_all[i][j]['close'].vbt.crossed_above(cotacoes_tv_all[i][j]['MM'])\n",
        "        cotacoes_tv_all[i][j]['saida'] = cotacoes_tv_all[i][j]['close'].vbt.crossed_below(cotacoes_tv_all[i][j]['MM'])\n",
        "        #cotacoes_tv_all[i][j]['short_entrada'] = cotacoes_tv_all[i][j]['RSI'].vbt.crossed_below(70)\n",
        "        #cotacoes_tv_all[i][j]['short_saida'] = cotacoes_tv_all[i][j]['RSI'].vbt.crossed_below(30)"
      ]
    },
    {
      "cell_type": "code",
      "execution_count": 79,
      "metadata": {},
      "outputs": [],
      "source": [
        "ls_backtests_all = []\n",
        "\n",
        "for i in range(len(cotacoes_tv_all)):\n",
        "\n",
        "    ls_backtests_ativo = []\n",
        "\n",
        "    for j in range(len(cotacoes_tv_ativo)):\n",
        "\n",
        "        backtest_ativo = vbt.Portfolio.from_signals(cotacoes_tv_all[i][j].close, entries=cotacoes_tv_all[i][j].entrada, exits=cotacoes_tv_all[i][j].saida,\n",
        "                                                    #short_entries=cotacoes_tv_all[i][j].short_entrada, short_exits=cotacoes_tv_all[i][j].short_saida,\n",
        "                                                    direction='both',\n",
        "                                                    fees=0.00005,\n",
        "                                                    size_type='Value', size=1,\n",
        "                                                    )\n",
        "        ls_backtests_ativo.append(backtest_ativo)\n",
        "\n",
        "    ls_backtests_all.append(ls_backtests_ativo)"
      ]
    },
    {
      "cell_type": "code",
      "execution_count": 80,
      "metadata": {},
      "outputs": [],
      "source": [
        "ls_ativos = []\n",
        "ls_timeframes = []\n",
        "ls_retorno = []\n",
        "ls_n_trades = []\n",
        "ls_annualized_return = []\n",
        "ls_min_pnl = []\n",
        "\n",
        "\n",
        "for i in range(len(ls_backtests_all)):\n",
        "\n",
        "    for j in range(len(ls_backtests_ativo)):\n",
        "\n",
        "        ls_ativos.append(i)\n",
        "        ls_timeframes.append(j)\n",
        "        \n",
        "        ls_n_trades.append(ls_backtests_all[i][j].trades.count())\n",
        "\n",
        "        ls_annualized_return = []\n",
        "\n",
        "        lista_pnl = list(ls_backtests_all[i][j].trades.pnl.values)\n",
        "        cash_init = [100]\n",
        "        if lista_pnl == []:\n",
        "            ls_min_pnl.append(1)\n",
        "        else:\n",
        "            ls_min_pnl.append(min(lista_pnl))\n",
        "        for index,pnl in enumerate(lista_pnl):\n",
        "            if pnl<=-1:\n",
        "                pnl=0\n",
        "                cash_init.append(cash_init[index]*pnl)\n",
        "            else:\n",
        "                cash_init.append(cash_init[index]*(1+pnl))\n",
        "        if min(cash_init)==0:\n",
        "            ls_retorno.append(0)\n",
        "        else:\n",
        "            ls_retorno.append(cash_init[-1])"
      ]
    },
    {
      "cell_type": "code",
      "execution_count": 81,
      "metadata": {},
      "outputs": [],
      "source": [
        "from datetime import datetime as dt\n",
        "import time\n",
        "\n",
        "def toYearFraction(date):\n",
        "    def sinceEpoch(date): # returns seconds since epoch\n",
        "        return time.mktime(date.timetuple())\n",
        "    s = sinceEpoch\n",
        "\n",
        "    year = date.year\n",
        "    startOfThisYear = dt(year=year, month=1, day=1)\n",
        "    startOfNextYear = dt(year=year+1, month=1, day=1)\n",
        "\n",
        "    yearElapsed = s(date) - s(startOfThisYear)\n",
        "    yearDuration = s(startOfNextYear) - s(startOfThisYear)\n",
        "    fraction = yearElapsed/yearDuration\n",
        "\n",
        "    return date.year + fraction"
      ]
    },
    {
      "cell_type": "code",
      "execution_count": 82,
      "metadata": {},
      "outputs": [],
      "source": [
        "ls_ativos = []\n",
        "ls_timeframes = []\n",
        "ls_data_init = []\n",
        "ls_year_init = []\n",
        "ls_n_candles = []\n",
        "\n",
        "for i in range(len(cotacoes_tv_all)):\n",
        "\n",
        "    for j in range(len(cotacoes_tv_ativo)):\n",
        "\n",
        "        ls_ativos.append(i)\n",
        "        ls_timeframes.append(j)\n",
        "        ls_data_init.append(cotacoes_tv_all[i][j].index[0])\n",
        "        ls_year_init.append(toYearFraction(cotacoes_tv_all[i][j].index[0]))\n",
        "        ls_n_candles.append(len(cotacoes_tv_all[i][j]))"
      ]
    },
    {
      "cell_type": "code",
      "execution_count": 83,
      "metadata": {},
      "outputs": [
        {
          "data": {
            "text/html": [
              "<div>\n",
              "<style scoped>\n",
              "    .dataframe tbody tr th:only-of-type {\n",
              "        vertical-align: middle;\n",
              "    }\n",
              "\n",
              "    .dataframe tbody tr th {\n",
              "        vertical-align: top;\n",
              "    }\n",
              "\n",
              "    .dataframe thead th {\n",
              "        text-align: right;\n",
              "    }\n",
              "</style>\n",
              "<table border=\"1\" class=\"dataframe\">\n",
              "  <thead>\n",
              "    <tr style=\"text-align: right;\">\n",
              "      <th></th>\n",
              "      <th>Ativo</th>\n",
              "      <th>Timeframe</th>\n",
              "      <th>Cash_final</th>\n",
              "      <th>N_trades</th>\n",
              "      <th>Min_PnL</th>\n",
              "      <th>Data_init</th>\n",
              "      <th>Ano_init</th>\n",
              "      <th>N_candles</th>\n",
              "    </tr>\n",
              "  </thead>\n",
              "  <tbody>\n",
              "    <tr>\n",
              "      <th>0</th>\n",
              "      <td>0</td>\n",
              "      <td>0</td>\n",
              "      <td>113.903603</td>\n",
              "      <td>11</td>\n",
              "      <td>-0.093623</td>\n",
              "      <td>2011-10-03 09:00:00</td>\n",
              "      <td>2011.754452</td>\n",
              "      <td>139</td>\n",
              "    </tr>\n",
              "    <tr>\n",
              "      <th>1</th>\n",
              "      <td>0</td>\n",
              "      <td>1</td>\n",
              "      <td>151.593489</td>\n",
              "      <td>68</td>\n",
              "      <td>-0.060293</td>\n",
              "      <td>2011-10-03 09:00:00</td>\n",
              "      <td>2011.754452</td>\n",
              "      <td>601</td>\n",
              "    </tr>\n",
              "    <tr>\n",
              "      <th>2</th>\n",
              "      <td>0</td>\n",
              "      <td>2</td>\n",
              "      <td>165.124616</td>\n",
              "      <td>346</td>\n",
              "      <td>-0.056566</td>\n",
              "      <td>2011-10-07 09:00:00</td>\n",
              "      <td>2011.765411</td>\n",
              "      <td>2843</td>\n",
              "    </tr>\n",
              "    <tr>\n",
              "      <th>3</th>\n",
              "      <td>1</td>\n",
              "      <td>0</td>\n",
              "      <td>27.875679</td>\n",
              "      <td>27</td>\n",
              "      <td>-0.417401</td>\n",
              "      <td>2005-03-01 09:00:00</td>\n",
              "      <td>2005.162671</td>\n",
              "      <td>218</td>\n",
              "    </tr>\n",
              "    <tr>\n",
              "      <th>4</th>\n",
              "      <td>1</td>\n",
              "      <td>1</td>\n",
              "      <td>129.614623</td>\n",
              "      <td>104</td>\n",
              "      <td>-0.134701</td>\n",
              "      <td>2005-02-28 09:00:00</td>\n",
              "      <td>2005.159932</td>\n",
              "      <td>941</td>\n",
              "    </tr>\n",
              "    <tr>\n",
              "      <th>...</th>\n",
              "      <td>...</td>\n",
              "      <td>...</td>\n",
              "      <td>...</td>\n",
              "      <td>...</td>\n",
              "      <td>...</td>\n",
              "      <td>...</td>\n",
              "      <td>...</td>\n",
              "      <td>...</td>\n",
              "    </tr>\n",
              "    <tr>\n",
              "      <th>265</th>\n",
              "      <td>88</td>\n",
              "      <td>1</td>\n",
              "      <td>1890.574508</td>\n",
              "      <td>123</td>\n",
              "      <td>-0.117223</td>\n",
              "      <td>2000-01-03 09:00:00</td>\n",
              "      <td>2000.006489</td>\n",
              "      <td>1214</td>\n",
              "    </tr>\n",
              "    <tr>\n",
              "      <th>266</th>\n",
              "      <td>88</td>\n",
              "      <td>2</td>\n",
              "      <td>114.380199</td>\n",
              "      <td>675</td>\n",
              "      <td>-0.156358</td>\n",
              "      <td>2000-01-03 09:00:00</td>\n",
              "      <td>2000.006489</td>\n",
              "      <td>5546</td>\n",
              "    </tr>\n",
              "    <tr>\n",
              "      <th>267</th>\n",
              "      <td>89</td>\n",
              "      <td>0</td>\n",
              "      <td>56.022084</td>\n",
              "      <td>14</td>\n",
              "      <td>-0.546556</td>\n",
              "      <td>2007-07-02 10:00:00</td>\n",
              "      <td>2007.499772</td>\n",
              "      <td>190</td>\n",
              "    </tr>\n",
              "    <tr>\n",
              "      <th>268</th>\n",
              "      <td>89</td>\n",
              "      <td>1</td>\n",
              "      <td>42.55243</td>\n",
              "      <td>104</td>\n",
              "      <td>-0.257766</td>\n",
              "      <td>2007-07-30 10:00:00</td>\n",
              "      <td>2007.576484</td>\n",
              "      <td>819</td>\n",
              "    </tr>\n",
              "    <tr>\n",
              "      <th>269</th>\n",
              "      <td>89</td>\n",
              "      <td>2</td>\n",
              "      <td>371.08219</td>\n",
              "      <td>431</td>\n",
              "      <td>-0.213385</td>\n",
              "      <td>2007-07-30 10:00:00</td>\n",
              "      <td>2007.576484</td>\n",
              "      <td>3873</td>\n",
              "    </tr>\n",
              "  </tbody>\n",
              "</table>\n",
              "<p>270 rows × 8 columns</p>\n",
              "</div>"
            ],
            "text/plain": [
              "    Ativo Timeframe   Cash_final N_trades   Min_PnL           Data_init  \\\n",
              "0       0         0   113.903603       11 -0.093623 2011-10-03 09:00:00   \n",
              "1       0         1   151.593489       68 -0.060293 2011-10-03 09:00:00   \n",
              "2       0         2   165.124616      346 -0.056566 2011-10-07 09:00:00   \n",
              "3       1         0    27.875679       27 -0.417401 2005-03-01 09:00:00   \n",
              "4       1         1   129.614623      104 -0.134701 2005-02-28 09:00:00   \n",
              "..    ...       ...          ...      ...       ...                 ...   \n",
              "265    88         1  1890.574508      123 -0.117223 2000-01-03 09:00:00   \n",
              "266    88         2   114.380199      675 -0.156358 2000-01-03 09:00:00   \n",
              "267    89         0    56.022084       14 -0.546556 2007-07-02 10:00:00   \n",
              "268    89         1     42.55243      104 -0.257766 2007-07-30 10:00:00   \n",
              "269    89         2    371.08219      431 -0.213385 2007-07-30 10:00:00   \n",
              "\n",
              "        Ano_init N_candles  \n",
              "0    2011.754452       139  \n",
              "1    2011.754452       601  \n",
              "2    2011.765411      2843  \n",
              "3    2005.162671       218  \n",
              "4    2005.159932       941  \n",
              "..           ...       ...  \n",
              "265  2000.006489      1214  \n",
              "266  2000.006489      5546  \n",
              "267  2007.499772       190  \n",
              "268  2007.576484       819  \n",
              "269  2007.576484      3873  \n",
              "\n",
              "[270 rows x 8 columns]"
            ]
          },
          "execution_count": 83,
          "metadata": {},
          "output_type": "execute_result"
        }
      ],
      "source": [
        "df_result_01 = pd.DataFrame([ls_ativos, ls_timeframes, ls_retorno, ls_n_trades, ls_min_pnl, ls_data_init, ls_year_init, ls_n_candles], \\\n",
        "                            index=['Ativo', 'Timeframe', 'Cash_final', 'N_trades', 'Min_PnL', 'Data_init', 'Ano_init','N_candles']).transpose()\n",
        "df_result_01"
      ]
    },
    {
      "cell_type": "code",
      "execution_count": 84,
      "metadata": {},
      "outputs": [],
      "source": [
        "#result_final = pd.pivot_table(df_result_01, values=\"Cash_final\", index=[\"Ativo\"], columns=[\"Timeframe\"], aggfunc='mean')\n",
        "#result_final.style.format('{:.2f}', na_rep=\"\").applymap(lambda x: 'background-color : #d40202' if x>100 else 'background-color : #ffe6e6')"
      ]
    },
    {
      "cell_type": "code",
      "execution_count": 85,
      "metadata": {},
      "outputs": [
        {
          "data": {
            "text/html": [
              "<div>\n",
              "<style scoped>\n",
              "    .dataframe tbody tr th:only-of-type {\n",
              "        vertical-align: middle;\n",
              "    }\n",
              "\n",
              "    .dataframe tbody tr th {\n",
              "        vertical-align: top;\n",
              "    }\n",
              "\n",
              "    .dataframe thead th {\n",
              "        text-align: right;\n",
              "    }\n",
              "</style>\n",
              "<table border=\"1\" class=\"dataframe\">\n",
              "  <thead>\n",
              "    <tr style=\"text-align: right;\">\n",
              "      <th></th>\n",
              "      <th>Ativo</th>\n",
              "      <th>Timeframe</th>\n",
              "      <th>Cash_final</th>\n",
              "      <th>N_trades</th>\n",
              "      <th>Min_PnL</th>\n",
              "      <th>Data_init</th>\n",
              "      <th>Ano_init</th>\n",
              "      <th>N_candles</th>\n",
              "      <th>Tempo_em_anos</th>\n",
              "      <th>Retorno_annualizado</th>\n",
              "    </tr>\n",
              "  </thead>\n",
              "  <tbody>\n",
              "    <tr>\n",
              "      <th>0</th>\n",
              "      <td>0</td>\n",
              "      <td>0</td>\n",
              "      <td>113.903603</td>\n",
              "      <td>11</td>\n",
              "      <td>-0.093623</td>\n",
              "      <td>2011-10-03 09:00:00</td>\n",
              "      <td>2011.754452</td>\n",
              "      <td>139</td>\n",
              "      <td>11.501745</td>\n",
              "      <td>0.011383</td>\n",
              "    </tr>\n",
              "    <tr>\n",
              "      <th>1</th>\n",
              "      <td>0</td>\n",
              "      <td>1</td>\n",
              "      <td>151.593489</td>\n",
              "      <td>68</td>\n",
              "      <td>-0.060293</td>\n",
              "      <td>2011-10-03 09:00:00</td>\n",
              "      <td>2011.754452</td>\n",
              "      <td>601</td>\n",
              "      <td>11.501745</td>\n",
              "      <td>0.036833</td>\n",
              "    </tr>\n",
              "    <tr>\n",
              "      <th>2</th>\n",
              "      <td>0</td>\n",
              "      <td>2</td>\n",
              "      <td>165.124616</td>\n",
              "      <td>346</td>\n",
              "      <td>-0.056566</td>\n",
              "      <td>2011-10-07 09:00:00</td>\n",
              "      <td>2011.765411</td>\n",
              "      <td>2843</td>\n",
              "      <td>11.490787</td>\n",
              "      <td>0.044613</td>\n",
              "    </tr>\n",
              "    <tr>\n",
              "      <th>3</th>\n",
              "      <td>1</td>\n",
              "      <td>0</td>\n",
              "      <td>27.875679</td>\n",
              "      <td>27</td>\n",
              "      <td>-0.417401</td>\n",
              "      <td>2005-03-01 09:00:00</td>\n",
              "      <td>2005.162671</td>\n",
              "      <td>218</td>\n",
              "      <td>18.093526</td>\n",
              "      <td>-0.068166</td>\n",
              "    </tr>\n",
              "    <tr>\n",
              "      <th>4</th>\n",
              "      <td>1</td>\n",
              "      <td>1</td>\n",
              "      <td>129.614623</td>\n",
              "      <td>104</td>\n",
              "      <td>-0.134701</td>\n",
              "      <td>2005-02-28 09:00:00</td>\n",
              "      <td>2005.159932</td>\n",
              "      <td>941</td>\n",
              "      <td>18.096266</td>\n",
              "      <td>0.014437</td>\n",
              "    </tr>\n",
              "    <tr>\n",
              "      <th>...</th>\n",
              "      <td>...</td>\n",
              "      <td>...</td>\n",
              "      <td>...</td>\n",
              "      <td>...</td>\n",
              "      <td>...</td>\n",
              "      <td>...</td>\n",
              "      <td>...</td>\n",
              "      <td>...</td>\n",
              "      <td>...</td>\n",
              "      <td>...</td>\n",
              "    </tr>\n",
              "    <tr>\n",
              "      <th>265</th>\n",
              "      <td>88</td>\n",
              "      <td>1</td>\n",
              "      <td>1890.574508</td>\n",
              "      <td>123</td>\n",
              "      <td>-0.117223</td>\n",
              "      <td>2000-01-03 09:00:00</td>\n",
              "      <td>2000.006489</td>\n",
              "      <td>1214</td>\n",
              "      <td>23.249708</td>\n",
              "      <td>0.13477</td>\n",
              "    </tr>\n",
              "    <tr>\n",
              "      <th>266</th>\n",
              "      <td>88</td>\n",
              "      <td>2</td>\n",
              "      <td>114.380199</td>\n",
              "      <td>675</td>\n",
              "      <td>-0.156358</td>\n",
              "      <td>2000-01-03 09:00:00</td>\n",
              "      <td>2000.006489</td>\n",
              "      <td>5546</td>\n",
              "      <td>23.249708</td>\n",
              "      <td>0.005796</td>\n",
              "    </tr>\n",
              "    <tr>\n",
              "      <th>267</th>\n",
              "      <td>89</td>\n",
              "      <td>0</td>\n",
              "      <td>56.022084</td>\n",
              "      <td>14</td>\n",
              "      <td>-0.546556</td>\n",
              "      <td>2007-07-02 10:00:00</td>\n",
              "      <td>2007.499772</td>\n",
              "      <td>190</td>\n",
              "      <td>15.756426</td>\n",
              "      <td>-0.036106</td>\n",
              "    </tr>\n",
              "    <tr>\n",
              "      <th>268</th>\n",
              "      <td>89</td>\n",
              "      <td>1</td>\n",
              "      <td>42.55243</td>\n",
              "      <td>104</td>\n",
              "      <td>-0.257766</td>\n",
              "      <td>2007-07-30 10:00:00</td>\n",
              "      <td>2007.576484</td>\n",
              "      <td>819</td>\n",
              "      <td>15.679714</td>\n",
              "      <td>-0.053035</td>\n",
              "    </tr>\n",
              "    <tr>\n",
              "      <th>269</th>\n",
              "      <td>89</td>\n",
              "      <td>2</td>\n",
              "      <td>371.08219</td>\n",
              "      <td>431</td>\n",
              "      <td>-0.213385</td>\n",
              "      <td>2007-07-30 10:00:00</td>\n",
              "      <td>2007.576484</td>\n",
              "      <td>3873</td>\n",
              "      <td>15.679714</td>\n",
              "      <td>0.087224</td>\n",
              "    </tr>\n",
              "  </tbody>\n",
              "</table>\n",
              "<p>270 rows × 10 columns</p>\n",
              "</div>"
            ],
            "text/plain": [
              "    Ativo Timeframe   Cash_final N_trades   Min_PnL           Data_init  \\\n",
              "0       0         0   113.903603       11 -0.093623 2011-10-03 09:00:00   \n",
              "1       0         1   151.593489       68 -0.060293 2011-10-03 09:00:00   \n",
              "2       0         2   165.124616      346 -0.056566 2011-10-07 09:00:00   \n",
              "3       1         0    27.875679       27 -0.417401 2005-03-01 09:00:00   \n",
              "4       1         1   129.614623      104 -0.134701 2005-02-28 09:00:00   \n",
              "..    ...       ...          ...      ...       ...                 ...   \n",
              "265    88         1  1890.574508      123 -0.117223 2000-01-03 09:00:00   \n",
              "266    88         2   114.380199      675 -0.156358 2000-01-03 09:00:00   \n",
              "267    89         0    56.022084       14 -0.546556 2007-07-02 10:00:00   \n",
              "268    89         1     42.55243      104 -0.257766 2007-07-30 10:00:00   \n",
              "269    89         2    371.08219      431 -0.213385 2007-07-30 10:00:00   \n",
              "\n",
              "        Ano_init N_candles Tempo_em_anos Retorno_annualizado  \n",
              "0    2011.754452       139     11.501745            0.011383  \n",
              "1    2011.754452       601     11.501745            0.036833  \n",
              "2    2011.765411      2843     11.490787            0.044613  \n",
              "3    2005.162671       218     18.093526           -0.068166  \n",
              "4    2005.159932       941     18.096266            0.014437  \n",
              "..           ...       ...           ...                 ...  \n",
              "265  2000.006489      1214     23.249708             0.13477  \n",
              "266  2000.006489      5546     23.249708            0.005796  \n",
              "267  2007.499772       190     15.756426           -0.036106  \n",
              "268  2007.576484       819     15.679714           -0.053035  \n",
              "269  2007.576484      3873     15.679714            0.087224  \n",
              "\n",
              "[270 rows x 10 columns]"
            ]
          },
          "execution_count": 85,
          "metadata": {},
          "output_type": "execute_result"
        }
      ],
      "source": [
        "df_result_01['Tempo_em_anos'] = toYearFraction(dt.now()) - df_result_01.Ano_init\n",
        "df_result_01['Retorno_annualizado']  = (df_result_01.Cash_final/100)**(1/df_result_01.Tempo_em_anos) - 1\n",
        "df_result_01"
      ]
    },
    {
      "cell_type": "code",
      "execution_count": 86,
      "metadata": {},
      "outputs": [
        {
          "data": {
            "text/html": [
              "<div>\n",
              "<style scoped>\n",
              "    .dataframe tbody tr th:only-of-type {\n",
              "        vertical-align: middle;\n",
              "    }\n",
              "\n",
              "    .dataframe tbody tr th {\n",
              "        vertical-align: top;\n",
              "    }\n",
              "\n",
              "    .dataframe thead th {\n",
              "        text-align: right;\n",
              "    }\n",
              "</style>\n",
              "<table border=\"1\" class=\"dataframe\">\n",
              "  <thead>\n",
              "    <tr style=\"text-align: right;\">\n",
              "      <th></th>\n",
              "      <th>Ativo</th>\n",
              "      <th>Timeframe</th>\n",
              "      <th>Cash_final</th>\n",
              "      <th>N_trades</th>\n",
              "      <th>Min_PnL</th>\n",
              "      <th>Data_init</th>\n",
              "      <th>Ano_init</th>\n",
              "      <th>N_candles</th>\n",
              "      <th>Tempo_em_anos</th>\n",
              "      <th>Retorno_annualizado</th>\n",
              "    </tr>\n",
              "  </thead>\n",
              "  <tbody>\n",
              "    <tr>\n",
              "      <th>0</th>\n",
              "      <td>0</td>\n",
              "      <td>0</td>\n",
              "      <td>113.903603</td>\n",
              "      <td>11</td>\n",
              "      <td>-0.093623</td>\n",
              "      <td>2011-10-03 09:00:00</td>\n",
              "      <td>2011.754452</td>\n",
              "      <td>139</td>\n",
              "      <td>11.501745</td>\n",
              "      <td>0.011383</td>\n",
              "    </tr>\n",
              "    <tr>\n",
              "      <th>1</th>\n",
              "      <td>0</td>\n",
              "      <td>1</td>\n",
              "      <td>151.593489</td>\n",
              "      <td>68</td>\n",
              "      <td>-0.060293</td>\n",
              "      <td>2011-10-03 09:00:00</td>\n",
              "      <td>2011.754452</td>\n",
              "      <td>601</td>\n",
              "      <td>11.501745</td>\n",
              "      <td>0.036833</td>\n",
              "    </tr>\n",
              "    <tr>\n",
              "      <th>2</th>\n",
              "      <td>0</td>\n",
              "      <td>2</td>\n",
              "      <td>165.124616</td>\n",
              "      <td>346</td>\n",
              "      <td>-0.056566</td>\n",
              "      <td>2011-10-07 09:00:00</td>\n",
              "      <td>2011.765411</td>\n",
              "      <td>2843</td>\n",
              "      <td>11.490787</td>\n",
              "      <td>0.044613</td>\n",
              "    </tr>\n",
              "    <tr>\n",
              "      <th>3</th>\n",
              "      <td>1</td>\n",
              "      <td>0</td>\n",
              "      <td>27.875679</td>\n",
              "      <td>27</td>\n",
              "      <td>-0.417401</td>\n",
              "      <td>2005-03-01 09:00:00</td>\n",
              "      <td>2005.162671</td>\n",
              "      <td>218</td>\n",
              "      <td>18.093526</td>\n",
              "      <td>-0.068166</td>\n",
              "    </tr>\n",
              "    <tr>\n",
              "      <th>4</th>\n",
              "      <td>1</td>\n",
              "      <td>1</td>\n",
              "      <td>129.614623</td>\n",
              "      <td>104</td>\n",
              "      <td>-0.134701</td>\n",
              "      <td>2005-02-28 09:00:00</td>\n",
              "      <td>2005.159932</td>\n",
              "      <td>941</td>\n",
              "      <td>18.096266</td>\n",
              "      <td>0.014437</td>\n",
              "    </tr>\n",
              "    <tr>\n",
              "      <th>...</th>\n",
              "      <td>...</td>\n",
              "      <td>...</td>\n",
              "      <td>...</td>\n",
              "      <td>...</td>\n",
              "      <td>...</td>\n",
              "      <td>...</td>\n",
              "      <td>...</td>\n",
              "      <td>...</td>\n",
              "      <td>...</td>\n",
              "      <td>...</td>\n",
              "    </tr>\n",
              "    <tr>\n",
              "      <th>265</th>\n",
              "      <td>88</td>\n",
              "      <td>1</td>\n",
              "      <td>1890.574508</td>\n",
              "      <td>123</td>\n",
              "      <td>-0.117223</td>\n",
              "      <td>2000-01-03 09:00:00</td>\n",
              "      <td>2000.006489</td>\n",
              "      <td>1214</td>\n",
              "      <td>23.249708</td>\n",
              "      <td>0.13477</td>\n",
              "    </tr>\n",
              "    <tr>\n",
              "      <th>266</th>\n",
              "      <td>88</td>\n",
              "      <td>2</td>\n",
              "      <td>114.380199</td>\n",
              "      <td>675</td>\n",
              "      <td>-0.156358</td>\n",
              "      <td>2000-01-03 09:00:00</td>\n",
              "      <td>2000.006489</td>\n",
              "      <td>5546</td>\n",
              "      <td>23.249708</td>\n",
              "      <td>0.005796</td>\n",
              "    </tr>\n",
              "    <tr>\n",
              "      <th>267</th>\n",
              "      <td>89</td>\n",
              "      <td>0</td>\n",
              "      <td>56.022084</td>\n",
              "      <td>14</td>\n",
              "      <td>-0.546556</td>\n",
              "      <td>2007-07-02 10:00:00</td>\n",
              "      <td>2007.499772</td>\n",
              "      <td>190</td>\n",
              "      <td>15.756426</td>\n",
              "      <td>-0.036106</td>\n",
              "    </tr>\n",
              "    <tr>\n",
              "      <th>268</th>\n",
              "      <td>89</td>\n",
              "      <td>1</td>\n",
              "      <td>42.55243</td>\n",
              "      <td>104</td>\n",
              "      <td>-0.257766</td>\n",
              "      <td>2007-07-30 10:00:00</td>\n",
              "      <td>2007.576484</td>\n",
              "      <td>819</td>\n",
              "      <td>15.679714</td>\n",
              "      <td>-0.053035</td>\n",
              "    </tr>\n",
              "    <tr>\n",
              "      <th>269</th>\n",
              "      <td>89</td>\n",
              "      <td>2</td>\n",
              "      <td>371.08219</td>\n",
              "      <td>431</td>\n",
              "      <td>-0.213385</td>\n",
              "      <td>2007-07-30 10:00:00</td>\n",
              "      <td>2007.576484</td>\n",
              "      <td>3873</td>\n",
              "      <td>15.679714</td>\n",
              "      <td>0.087224</td>\n",
              "    </tr>\n",
              "  </tbody>\n",
              "</table>\n",
              "<p>265 rows × 10 columns</p>\n",
              "</div>"
            ],
            "text/plain": [
              "    Ativo Timeframe   Cash_final N_trades   Min_PnL           Data_init  \\\n",
              "0       0         0   113.903603       11 -0.093623 2011-10-03 09:00:00   \n",
              "1       0         1   151.593489       68 -0.060293 2011-10-03 09:00:00   \n",
              "2       0         2   165.124616      346 -0.056566 2011-10-07 09:00:00   \n",
              "3       1         0    27.875679       27 -0.417401 2005-03-01 09:00:00   \n",
              "4       1         1   129.614623      104 -0.134701 2005-02-28 09:00:00   \n",
              "..    ...       ...          ...      ...       ...                 ...   \n",
              "265    88         1  1890.574508      123 -0.117223 2000-01-03 09:00:00   \n",
              "266    88         2   114.380199      675 -0.156358 2000-01-03 09:00:00   \n",
              "267    89         0    56.022084       14 -0.546556 2007-07-02 10:00:00   \n",
              "268    89         1     42.55243      104 -0.257766 2007-07-30 10:00:00   \n",
              "269    89         2    371.08219      431 -0.213385 2007-07-30 10:00:00   \n",
              "\n",
              "        Ano_init N_candles Tempo_em_anos Retorno_annualizado  \n",
              "0    2011.754452       139     11.501745            0.011383  \n",
              "1    2011.754452       601     11.501745            0.036833  \n",
              "2    2011.765411      2843     11.490787            0.044613  \n",
              "3    2005.162671       218     18.093526           -0.068166  \n",
              "4    2005.159932       941     18.096266            0.014437  \n",
              "..           ...       ...           ...                 ...  \n",
              "265  2000.006489      1214     23.249708             0.13477  \n",
              "266  2000.006489      5546     23.249708            0.005796  \n",
              "267  2007.499772       190     15.756426           -0.036106  \n",
              "268  2007.576484       819     15.679714           -0.053035  \n",
              "269  2007.576484      3873     15.679714            0.087224  \n",
              "\n",
              "[265 rows x 10 columns]"
            ]
          },
          "execution_count": 86,
          "metadata": {},
          "output_type": "execute_result"
        }
      ],
      "source": [
        "df_result_01 = df_result_01[df_result_01.N_trades>0]\n",
        "df_result_01"
      ]
    },
    {
      "cell_type": "code",
      "execution_count": 87,
      "metadata": {},
      "outputs": [],
      "source": [
        "result_final = pd.pivot_table(df_result_01, values=\"Retorno_annualizado\", index=[\"Ativo\"], columns=[\"Timeframe\"], aggfunc='mean')\n",
        "result_final = round(result_final*100,1)\n",
        "result_final.index = lista_tickers\n",
        "\n",
        "timeframes_reduzido = [str(i)[12:] for i in timeframes]\n",
        "result_final.columns = timeframes_reduzido"
      ]
    },
    {
      "cell_type": "code",
      "execution_count": 88,
      "metadata": {},
      "outputs": [
        {
          "data": {
            "text/plain": [
              "count    39.000000\n",
              "mean     12.366667\n",
              "std      12.509351\n",
              "min       0.600000\n",
              "25%       3.550000\n",
              "50%       9.300000\n",
              "75%      15.900000\n",
              "max      57.500000\n",
              "Name: monthly, dtype: float64"
            ]
          },
          "execution_count": 88,
          "metadata": {},
          "output_type": "execute_result"
        }
      ],
      "source": [
        "result_final[result_final.monthly>0]['monthly'].describe()"
      ]
    },
    {
      "cell_type": "code",
      "execution_count": 89,
      "metadata": {},
      "outputs": [
        {
          "data": {
            "text/plain": [
              "count    51.000000\n",
              "mean     12.817647\n",
              "std      11.257792\n",
              "min       0.400000\n",
              "25%       4.150000\n",
              "50%       8.700000\n",
              "75%      20.700000\n",
              "max      46.300000\n",
              "Name: weekly, dtype: float64"
            ]
          },
          "execution_count": 89,
          "metadata": {},
          "output_type": "execute_result"
        }
      ],
      "source": [
        "result_final[result_final.weekly>0]['weekly'].describe()"
      ]
    },
    {
      "cell_type": "code",
      "execution_count": 90,
      "metadata": {},
      "outputs": [
        {
          "data": {
            "text/plain": [
              "count    38.000000\n",
              "mean     14.181579\n",
              "std      17.431284\n",
              "min       0.300000\n",
              "25%       4.350000\n",
              "50%       9.900000\n",
              "75%      17.500000\n",
              "max      99.600000\n",
              "Name: daily, dtype: float64"
            ]
          },
          "execution_count": 90,
          "metadata": {},
          "output_type": "execute_result"
        }
      ],
      "source": [
        "result_final[result_final.daily>0]['daily'].describe()"
      ]
    },
    {
      "cell_type": "code",
      "execution_count": 91,
      "metadata": {},
      "outputs": [
        {
          "data": {
            "text/html": [
              "<style type=\"text/css\">\n",
              "#T_f0387_row0_col0, #T_f0387_row0_col1, #T_f0387_row0_col2, #T_f0387_row1_col1, #T_f0387_row4_col0, #T_f0387_row4_col1, #T_f0387_row4_col2, #T_f0387_row5_col1, #T_f0387_row6_col0, #T_f0387_row7_col2, #T_f0387_row8_col1, #T_f0387_row9_col2, #T_f0387_row10_col0, #T_f0387_row10_col2, #T_f0387_row11_col0, #T_f0387_row11_col1, #T_f0387_row11_col2, #T_f0387_row12_col2, #T_f0387_row16_col2, #T_f0387_row17_col1, #T_f0387_row17_col2, #T_f0387_row19_col1, #T_f0387_row21_col1, #T_f0387_row22_col1, #T_f0387_row26_col0, #T_f0387_row28_col0, #T_f0387_row30_col2, #T_f0387_row32_col0, #T_f0387_row32_col2, #T_f0387_row34_col0, #T_f0387_row37_col1, #T_f0387_row38_col0, #T_f0387_row43_col0, #T_f0387_row46_col1, #T_f0387_row47_col2, #T_f0387_row48_col1, #T_f0387_row50_col0, #T_f0387_row51_col0, #T_f0387_row52_col0, #T_f0387_row52_col1, #T_f0387_row54_col0, #T_f0387_row54_col2, #T_f0387_row57_col1, #T_f0387_row57_col2, #T_f0387_row59_col1, #T_f0387_row60_col0, #T_f0387_row60_col1, #T_f0387_row61_col1, #T_f0387_row61_col2, #T_f0387_row63_col1, #T_f0387_row66_col0, #T_f0387_row67_col0, #T_f0387_row67_col1, #T_f0387_row68_col0, #T_f0387_row68_col1, #T_f0387_row69_col1, #T_f0387_row71_col1, #T_f0387_row74_col0, #T_f0387_row74_col1, #T_f0387_row75_col1, #T_f0387_row78_col2, #T_f0387_row81_col1, #T_f0387_row82_col2, #T_f0387_row84_col1, #T_f0387_row87_col0, #T_f0387_row88_col0, #T_f0387_row88_col2, #T_f0387_row89_col2 {\n",
              "  font-weight: ;\n",
              "  color: black;\n",
              "  background-color: #C1FFC1;\n",
              "}\n",
              "#T_f0387_row1_col0, #T_f0387_row1_col2, #T_f0387_row2_col0, #T_f0387_row2_col1, #T_f0387_row2_col2, #T_f0387_row5_col0, #T_f0387_row5_col2, #T_f0387_row6_col2, #T_f0387_row7_col1, #T_f0387_row8_col0, #T_f0387_row8_col2, #T_f0387_row9_col0, #T_f0387_row9_col1, #T_f0387_row10_col1, #T_f0387_row12_col0, #T_f0387_row12_col1, #T_f0387_row13_col0, #T_f0387_row14_col0, #T_f0387_row15_col0, #T_f0387_row20_col0, #T_f0387_row20_col2, #T_f0387_row21_col2, #T_f0387_row22_col0, #T_f0387_row22_col2, #T_f0387_row23_col0, #T_f0387_row23_col2, #T_f0387_row25_col0, #T_f0387_row25_col1, #T_f0387_row25_col2, #T_f0387_row26_col1, #T_f0387_row26_col2, #T_f0387_row27_col0, #T_f0387_row27_col1, #T_f0387_row27_col2, #T_f0387_row31_col0, #T_f0387_row31_col1, #T_f0387_row31_col2, #T_f0387_row33_col0, #T_f0387_row33_col2, #T_f0387_row34_col1, #T_f0387_row34_col2, #T_f0387_row35_col0, #T_f0387_row35_col1, #T_f0387_row35_col2, #T_f0387_row36_col0, #T_f0387_row36_col1, #T_f0387_row36_col2, #T_f0387_row37_col0, #T_f0387_row37_col2, #T_f0387_row38_col1, #T_f0387_row38_col2, #T_f0387_row39_col2, #T_f0387_row40_col0, #T_f0387_row40_col1, #T_f0387_row40_col2, #T_f0387_row41_col1, #T_f0387_row41_col2, #T_f0387_row43_col1, #T_f0387_row43_col2, #T_f0387_row46_col0, #T_f0387_row48_col0, #T_f0387_row49_col1, #T_f0387_row50_col1, #T_f0387_row50_col2, #T_f0387_row51_col1, #T_f0387_row51_col2, #T_f0387_row52_col2, #T_f0387_row53_col0, #T_f0387_row53_col1, #T_f0387_row53_col2, #T_f0387_row57_col0, #T_f0387_row58_col0, #T_f0387_row58_col1, #T_f0387_row58_col2, #T_f0387_row59_col0, #T_f0387_row59_col2, #T_f0387_row60_col2, #T_f0387_row61_col0, #T_f0387_row62_col0, #T_f0387_row63_col0, #T_f0387_row64_col1, #T_f0387_row65_col1, #T_f0387_row66_col2, #T_f0387_row67_col2, #T_f0387_row68_col2, #T_f0387_row69_col2, #T_f0387_row70_col1, #T_f0387_row71_col0, #T_f0387_row71_col2, #T_f0387_row72_col0, #T_f0387_row73_col0, #T_f0387_row73_col1, #T_f0387_row73_col2, #T_f0387_row74_col2, #T_f0387_row75_col0, #T_f0387_row75_col2, #T_f0387_row76_col0, #T_f0387_row76_col1, #T_f0387_row76_col2, #T_f0387_row77_col0, #T_f0387_row77_col1, #T_f0387_row77_col2, #T_f0387_row78_col0, #T_f0387_row78_col1, #T_f0387_row79_col0, #T_f0387_row79_col1, #T_f0387_row79_col2, #T_f0387_row80_col0, #T_f0387_row80_col1, #T_f0387_row80_col2, #T_f0387_row81_col0, #T_f0387_row81_col2, #T_f0387_row82_col1, #T_f0387_row84_col0, #T_f0387_row84_col2, #T_f0387_row85_col0, #T_f0387_row85_col1, #T_f0387_row85_col2, #T_f0387_row86_col1, #T_f0387_row86_col2, #T_f0387_row87_col1, #T_f0387_row89_col0, #T_f0387_row89_col1 {\n",
              "  font-weight: ;\n",
              "  color: black;\n",
              "  background-color: #FF6666;\n",
              "}\n",
              "#T_f0387_row3_col0, #T_f0387_row3_col1, #T_f0387_row3_col2, #T_f0387_row7_col0, #T_f0387_row19_col2, #T_f0387_row24_col0, #T_f0387_row28_col1, #T_f0387_row28_col2, #T_f0387_row49_col2, #T_f0387_row62_col1, #T_f0387_row64_col2, #T_f0387_row72_col1, #T_f0387_row86_col0, #T_f0387_row87_col2 {\n",
              "  font-weight: ;\n",
              "  color: white;\n",
              "  background-color: #CD0000;\n",
              "}\n",
              "#T_f0387_row6_col1, #T_f0387_row14_col1, #T_f0387_row15_col1, #T_f0387_row16_col0, #T_f0387_row16_col1, #T_f0387_row18_col1, #T_f0387_row23_col1, #T_f0387_row29_col1, #T_f0387_row29_col2, #T_f0387_row30_col1, #T_f0387_row44_col0, #T_f0387_row45_col0, #T_f0387_row45_col1, #T_f0387_row46_col2, #T_f0387_row47_col1, #T_f0387_row54_col1, #T_f0387_row55_col2, #T_f0387_row56_col0, #T_f0387_row56_col1, #T_f0387_row56_col2, #T_f0387_row65_col0, #T_f0387_row65_col2, #T_f0387_row66_col1, #T_f0387_row70_col2, #T_f0387_row72_col2, #T_f0387_row83_col0, #T_f0387_row83_col1 {\n",
              "  font-weight: ;\n",
              "  color: white;\n",
              "  background-color: forestgreen;\n",
              "}\n",
              "#T_f0387_row13_col1, #T_f0387_row13_col2, #T_f0387_row14_col2, #T_f0387_row15_col2, #T_f0387_row17_col0, #T_f0387_row18_col0, #T_f0387_row18_col2, #T_f0387_row20_col1, #T_f0387_row21_col0, #T_f0387_row24_col1, #T_f0387_row24_col2, #T_f0387_row29_col0, #T_f0387_row30_col0, #T_f0387_row32_col1, #T_f0387_row33_col1, #T_f0387_row39_col0, #T_f0387_row39_col1, #T_f0387_row41_col0, #T_f0387_row42_col0, #T_f0387_row42_col1, #T_f0387_row42_col2, #T_f0387_row44_col1, #T_f0387_row44_col2, #T_f0387_row45_col2, #T_f0387_row47_col0, #T_f0387_row48_col2, #T_f0387_row55_col0, #T_f0387_row55_col1, #T_f0387_row62_col2, #T_f0387_row63_col2, #T_f0387_row82_col0, #T_f0387_row83_col2, #T_f0387_row88_col1 {\n",
              "  font-weight: ;\n",
              "  color: black;\n",
              "  background-color: #43CD80;\n",
              "}\n",
              "#T_f0387_row19_col0, #T_f0387_row49_col0, #T_f0387_row64_col0, #T_f0387_row69_col0, #T_f0387_row70_col0 {\n",
              "  font-weight: ;\n",
              "  color: black;\n",
              "  background-color: lightgray;\n",
              "}\n",
              "</style>\n",
              "<table id=\"T_f0387\">\n",
              "  <thead>\n",
              "    <tr>\n",
              "      <th class=\"blank level0\" >&nbsp;</th>\n",
              "      <th id=\"T_f0387_level0_col0\" class=\"col_heading level0 col0\" >monthly</th>\n",
              "      <th id=\"T_f0387_level0_col1\" class=\"col_heading level0 col1\" >weekly</th>\n",
              "      <th id=\"T_f0387_level0_col2\" class=\"col_heading level0 col2\" >daily</th>\n",
              "    </tr>\n",
              "  </thead>\n",
              "  <tbody>\n",
              "    <tr>\n",
              "      <th id=\"T_f0387_level0_row0\" class=\"row_heading level0 row0\" >WDO1!</th>\n",
              "      <td id=\"T_f0387_row0_col0\" class=\"data row0 col0\" >1.10</td>\n",
              "      <td id=\"T_f0387_row0_col1\" class=\"data row0 col1\" >3.70</td>\n",
              "      <td id=\"T_f0387_row0_col2\" class=\"data row0 col2\" >4.50</td>\n",
              "    </tr>\n",
              "    <tr>\n",
              "      <th id=\"T_f0387_level0_row1\" class=\"row_heading level0 row1\" >WIN1!</th>\n",
              "      <td id=\"T_f0387_row1_col0\" class=\"data row1 col0\" >-6.80</td>\n",
              "      <td id=\"T_f0387_row1_col1\" class=\"data row1 col1\" >1.40</td>\n",
              "      <td id=\"T_f0387_row1_col2\" class=\"data row1 col2\" >-1.50</td>\n",
              "    </tr>\n",
              "    <tr>\n",
              "      <th id=\"T_f0387_level0_row2\" class=\"row_heading level0 row2\" >ABEV3</th>\n",
              "      <td id=\"T_f0387_row2_col0\" class=\"data row2 col0\" >-0.80</td>\n",
              "      <td id=\"T_f0387_row2_col1\" class=\"data row2 col1\" >-0.80</td>\n",
              "      <td id=\"T_f0387_row2_col2\" class=\"data row2 col2\" >-9.50</td>\n",
              "    </tr>\n",
              "    <tr>\n",
              "      <th id=\"T_f0387_level0_row3\" class=\"row_heading level0 row3\" >ALPA4</th>\n",
              "      <td id=\"T_f0387_row3_col0\" class=\"data row3 col0\" >-100.00</td>\n",
              "      <td id=\"T_f0387_row3_col1\" class=\"data row3 col1\" >-100.00</td>\n",
              "      <td id=\"T_f0387_row3_col2\" class=\"data row3 col2\" >-100.00</td>\n",
              "    </tr>\n",
              "    <tr>\n",
              "      <th id=\"T_f0387_level0_row4\" class=\"row_heading level0 row4\" >ALSO3</th>\n",
              "      <td id=\"T_f0387_row4_col0\" class=\"data row4 col0\" >3.00</td>\n",
              "      <td id=\"T_f0387_row4_col1\" class=\"data row4 col1\" >2.30</td>\n",
              "      <td id=\"T_f0387_row4_col2\" class=\"data row4 col2\" >2.50</td>\n",
              "    </tr>\n",
              "    <tr>\n",
              "      <th id=\"T_f0387_level0_row5\" class=\"row_heading level0 row5\" >ARZZ3</th>\n",
              "      <td id=\"T_f0387_row5_col0\" class=\"data row5 col0\" >-5.10</td>\n",
              "      <td id=\"T_f0387_row5_col1\" class=\"data row5 col1\" >6.10</td>\n",
              "      <td id=\"T_f0387_row5_col2\" class=\"data row5 col2\" >-12.20</td>\n",
              "    </tr>\n",
              "    <tr>\n",
              "      <th id=\"T_f0387_level0_row6\" class=\"row_heading level0 row6\" >ASAI3</th>\n",
              "      <td id=\"T_f0387_row6_col0\" class=\"data row6 col0\" >2.00</td>\n",
              "      <td id=\"T_f0387_row6_col1\" class=\"data row6 col1\" >32.30</td>\n",
              "      <td id=\"T_f0387_row6_col2\" class=\"data row6 col2\" >-6.60</td>\n",
              "    </tr>\n",
              "    <tr>\n",
              "      <th id=\"T_f0387_level0_row7\" class=\"row_heading level0 row7\" >AZUL4</th>\n",
              "      <td id=\"T_f0387_row7_col0\" class=\"data row7 col0\" >-100.00</td>\n",
              "      <td id=\"T_f0387_row7_col1\" class=\"data row7 col1\" >-4.30</td>\n",
              "      <td id=\"T_f0387_row7_col2\" class=\"data row7 col2\" >9.80</td>\n",
              "    </tr>\n",
              "    <tr>\n",
              "      <th id=\"T_f0387_level0_row8\" class=\"row_heading level0 row8\" >B3SA3</th>\n",
              "      <td id=\"T_f0387_row8_col0\" class=\"data row8 col0\" >-1.60</td>\n",
              "      <td id=\"T_f0387_row8_col1\" class=\"data row8 col1\" >2.00</td>\n",
              "      <td id=\"T_f0387_row8_col2\" class=\"data row8 col2\" >-23.90</td>\n",
              "    </tr>\n",
              "    <tr>\n",
              "      <th id=\"T_f0387_level0_row9\" class=\"row_heading level0 row9\" >BBAS3</th>\n",
              "      <td id=\"T_f0387_row9_col0\" class=\"data row9 col0\" >-2.80</td>\n",
              "      <td id=\"T_f0387_row9_col1\" class=\"data row9 col1\" >-7.60</td>\n",
              "      <td id=\"T_f0387_row9_col2\" class=\"data row9 col2\" >8.10</td>\n",
              "    </tr>\n",
              "    <tr>\n",
              "      <th id=\"T_f0387_level0_row10\" class=\"row_heading level0 row10\" >BBDC3</th>\n",
              "      <td id=\"T_f0387_row10_col0\" class=\"data row10 col0\" >8.40</td>\n",
              "      <td id=\"T_f0387_row10_col1\" class=\"data row10 col1\" >-0.30</td>\n",
              "      <td id=\"T_f0387_row10_col2\" class=\"data row10 col2\" >4.30</td>\n",
              "    </tr>\n",
              "    <tr>\n",
              "      <th id=\"T_f0387_level0_row11\" class=\"row_heading level0 row11\" >BBDC4</th>\n",
              "      <td id=\"T_f0387_row11_col0\" class=\"data row11 col0\" >9.60</td>\n",
              "      <td id=\"T_f0387_row11_col1\" class=\"data row11 col1\" >4.70</td>\n",
              "      <td id=\"T_f0387_row11_col2\" class=\"data row11 col2\" >3.50</td>\n",
              "    </tr>\n",
              "    <tr>\n",
              "      <th id=\"T_f0387_level0_row12\" class=\"row_heading level0 row12\" >BBSE3</th>\n",
              "      <td id=\"T_f0387_row12_col0\" class=\"data row12 col0\" >-0.50</td>\n",
              "      <td id=\"T_f0387_row12_col1\" class=\"data row12 col1\" >-10.10</td>\n",
              "      <td id=\"T_f0387_row12_col2\" class=\"data row12 col2\" >2.80</td>\n",
              "    </tr>\n",
              "    <tr>\n",
              "      <th id=\"T_f0387_level0_row13\" class=\"row_heading level0 row13\" >BEEF3</th>\n",
              "      <td id=\"T_f0387_row13_col0\" class=\"data row13 col0\" >-11.00</td>\n",
              "      <td id=\"T_f0387_row13_col1\" class=\"data row13 col1\" >18.20</td>\n",
              "      <td id=\"T_f0387_row13_col2\" class=\"data row13 col2\" >19.90</td>\n",
              "    </tr>\n",
              "    <tr>\n",
              "      <th id=\"T_f0387_level0_row14\" class=\"row_heading level0 row14\" >BPAC11</th>\n",
              "      <td id=\"T_f0387_row14_col0\" class=\"data row14 col0\" >-12.90</td>\n",
              "      <td id=\"T_f0387_row14_col1\" class=\"data row14 col1\" >27.70</td>\n",
              "      <td id=\"T_f0387_row14_col2\" class=\"data row14 col2\" >18.20</td>\n",
              "    </tr>\n",
              "    <tr>\n",
              "      <th id=\"T_f0387_level0_row15\" class=\"row_heading level0 row15\" >BPAN4</th>\n",
              "      <td id=\"T_f0387_row15_col0\" class=\"data row15 col0\" >-22.80</td>\n",
              "      <td id=\"T_f0387_row15_col1\" class=\"data row15 col1\" >29.10</td>\n",
              "      <td id=\"T_f0387_row15_col2\" class=\"data row15 col2\" >10.40</td>\n",
              "    </tr>\n",
              "    <tr>\n",
              "      <th id=\"T_f0387_level0_row16\" class=\"row_heading level0 row16\" >BRAP4</th>\n",
              "      <td id=\"T_f0387_row16_col0\" class=\"data row16 col0\" >23.50</td>\n",
              "      <td id=\"T_f0387_row16_col1\" class=\"data row16 col1\" >27.00</td>\n",
              "      <td id=\"T_f0387_row16_col2\" class=\"data row16 col2\" >4.00</td>\n",
              "    </tr>\n",
              "    <tr>\n",
              "      <th id=\"T_f0387_level0_row17\" class=\"row_heading level0 row17\" >BRFS3</th>\n",
              "      <td id=\"T_f0387_row17_col0\" class=\"data row17 col0\" >17.50</td>\n",
              "      <td id=\"T_f0387_row17_col1\" class=\"data row17 col1\" >8.10</td>\n",
              "      <td id=\"T_f0387_row17_col2\" class=\"data row17 col2\" >6.70</td>\n",
              "    </tr>\n",
              "    <tr>\n",
              "      <th id=\"T_f0387_level0_row18\" class=\"row_heading level0 row18\" >BRKM5</th>\n",
              "      <td id=\"T_f0387_row18_col0\" class=\"data row18 col0\" >13.20</td>\n",
              "      <td id=\"T_f0387_row18_col1\" class=\"data row18 col1\" >21.30</td>\n",
              "      <td id=\"T_f0387_row18_col2\" class=\"data row18 col2\" >15.40</td>\n",
              "    </tr>\n",
              "    <tr>\n",
              "      <th id=\"T_f0387_level0_row19\" class=\"row_heading level0 row19\" >CASH3</th>\n",
              "      <td id=\"T_f0387_row19_col0\" class=\"data row19 col0\" ></td>\n",
              "      <td id=\"T_f0387_row19_col1\" class=\"data row19 col1\" >1.50</td>\n",
              "      <td id=\"T_f0387_row19_col2\" class=\"data row19 col2\" >-26.10</td>\n",
              "    </tr>\n",
              "    <tr>\n",
              "      <th id=\"T_f0387_level0_row20\" class=\"row_heading level0 row20\" >CCRO3</th>\n",
              "      <td id=\"T_f0387_row20_col0\" class=\"data row20 col0\" >-7.90</td>\n",
              "      <td id=\"T_f0387_row20_col1\" class=\"data row20 col1\" >17.80</td>\n",
              "      <td id=\"T_f0387_row20_col2\" class=\"data row20 col2\" >-6.40</td>\n",
              "    </tr>\n",
              "    <tr>\n",
              "      <th id=\"T_f0387_level0_row21\" class=\"row_heading level0 row21\" >CIEL3</th>\n",
              "      <td id=\"T_f0387_row21_col0\" class=\"data row21 col0\" >12.20</td>\n",
              "      <td id=\"T_f0387_row21_col1\" class=\"data row21 col1\" >4.70</td>\n",
              "      <td id=\"T_f0387_row21_col2\" class=\"data row21 col2\" >-15.60</td>\n",
              "    </tr>\n",
              "    <tr>\n",
              "      <th id=\"T_f0387_level0_row22\" class=\"row_heading level0 row22\" >CMIG4</th>\n",
              "      <td id=\"T_f0387_row22_col0\" class=\"data row22 col0\" >-3.40</td>\n",
              "      <td id=\"T_f0387_row22_col1\" class=\"data row22 col1\" >0.50</td>\n",
              "      <td id=\"T_f0387_row22_col2\" class=\"data row22 col2\" >-3.10</td>\n",
              "    </tr>\n",
              "    <tr>\n",
              "      <th id=\"T_f0387_level0_row23\" class=\"row_heading level0 row23\" >CMIN3</th>\n",
              "      <td id=\"T_f0387_row23_col0\" class=\"data row23 col0\" >-6.70</td>\n",
              "      <td id=\"T_f0387_row23_col1\" class=\"data row23 col1\" >25.20</td>\n",
              "      <td id=\"T_f0387_row23_col2\" class=\"data row23 col2\" >-5.60</td>\n",
              "    </tr>\n",
              "    <tr>\n",
              "      <th id=\"T_f0387_level0_row24\" class=\"row_heading level0 row24\" >COGN3</th>\n",
              "      <td id=\"T_f0387_row24_col0\" class=\"data row24 col0\" >-100.00</td>\n",
              "      <td id=\"T_f0387_row24_col1\" class=\"data row24 col1\" >15.80</td>\n",
              "      <td id=\"T_f0387_row24_col2\" class=\"data row24 col2\" >18.50</td>\n",
              "    </tr>\n",
              "    <tr>\n",
              "      <th id=\"T_f0387_level0_row25\" class=\"row_heading level0 row25\" >CPFE3</th>\n",
              "      <td id=\"T_f0387_row25_col0\" class=\"data row25 col0\" >-6.20</td>\n",
              "      <td id=\"T_f0387_row25_col1\" class=\"data row25 col1\" >-7.40</td>\n",
              "      <td id=\"T_f0387_row25_col2\" class=\"data row25 col2\" >-5.80</td>\n",
              "    </tr>\n",
              "    <tr>\n",
              "      <th id=\"T_f0387_level0_row26\" class=\"row_heading level0 row26\" >CPLE6</th>\n",
              "      <td id=\"T_f0387_row26_col0\" class=\"data row26 col0\" >3.80</td>\n",
              "      <td id=\"T_f0387_row26_col1\" class=\"data row26 col1\" >-12.30</td>\n",
              "      <td id=\"T_f0387_row26_col2\" class=\"data row26 col2\" >-22.90</td>\n",
              "    </tr>\n",
              "    <tr>\n",
              "      <th id=\"T_f0387_level0_row27\" class=\"row_heading level0 row27\" >CRFB3</th>\n",
              "      <td id=\"T_f0387_row27_col0\" class=\"data row27 col0\" >-13.90</td>\n",
              "      <td id=\"T_f0387_row27_col1\" class=\"data row27 col1\" >-19.50</td>\n",
              "      <td id=\"T_f0387_row27_col2\" class=\"data row27 col2\" >-13.10</td>\n",
              "    </tr>\n",
              "    <tr>\n",
              "      <th id=\"T_f0387_level0_row28\" class=\"row_heading level0 row28\" >CSAN3</th>\n",
              "      <td id=\"T_f0387_row28_col0\" class=\"data row28 col0\" >0.60</td>\n",
              "      <td id=\"T_f0387_row28_col1\" class=\"data row28 col1\" >-100.00</td>\n",
              "      <td id=\"T_f0387_row28_col2\" class=\"data row28 col2\" >-100.00</td>\n",
              "    </tr>\n",
              "    <tr>\n",
              "      <th id=\"T_f0387_level0_row29\" class=\"row_heading level0 row29\" >CSNA3</th>\n",
              "      <td id=\"T_f0387_row29_col0\" class=\"data row29 col0\" >17.50</td>\n",
              "      <td id=\"T_f0387_row29_col1\" class=\"data row29 col1\" >26.80</td>\n",
              "      <td id=\"T_f0387_row29_col2\" class=\"data row29 col2\" >42.00</td>\n",
              "    </tr>\n",
              "    <tr>\n",
              "      <th id=\"T_f0387_level0_row30\" class=\"row_heading level0 row30\" >CVCB3</th>\n",
              "      <td id=\"T_f0387_row30_col0\" class=\"data row30 col0\" >16.20</td>\n",
              "      <td id=\"T_f0387_row30_col1\" class=\"data row30 col1\" >20.50</td>\n",
              "      <td id=\"T_f0387_row30_col2\" class=\"data row30 col2\" >8.50</td>\n",
              "    </tr>\n",
              "    <tr>\n",
              "      <th id=\"T_f0387_level0_row31\" class=\"row_heading level0 row31\" >CYRE3</th>\n",
              "      <td id=\"T_f0387_row31_col0\" class=\"data row31 col0\" >-7.40</td>\n",
              "      <td id=\"T_f0387_row31_col1\" class=\"data row31 col1\" >-7.60</td>\n",
              "      <td id=\"T_f0387_row31_col2\" class=\"data row31 col2\" >-10.80</td>\n",
              "    </tr>\n",
              "    <tr>\n",
              "      <th id=\"T_f0387_level0_row32\" class=\"row_heading level0 row32\" >DXCO3</th>\n",
              "      <td id=\"T_f0387_row32_col0\" class=\"data row32 col0\" >8.00</td>\n",
              "      <td id=\"T_f0387_row32_col1\" class=\"data row32 col1\" >14.00</td>\n",
              "      <td id=\"T_f0387_row32_col2\" class=\"data row32 col2\" >1.20</td>\n",
              "    </tr>\n",
              "    <tr>\n",
              "      <th id=\"T_f0387_level0_row33\" class=\"row_heading level0 row33\" >ECOR3</th>\n",
              "      <td id=\"T_f0387_row33_col0\" class=\"data row33 col0\" >-8.20</td>\n",
              "      <td id=\"T_f0387_row33_col1\" class=\"data row33 col1\" >11.60</td>\n",
              "      <td id=\"T_f0387_row33_col2\" class=\"data row33 col2\" >-1.30</td>\n",
              "    </tr>\n",
              "    <tr>\n",
              "      <th id=\"T_f0387_level0_row34\" class=\"row_heading level0 row34\" >EGIE3</th>\n",
              "      <td id=\"T_f0387_row34_col0\" class=\"data row34 col0\" >9.60</td>\n",
              "      <td id=\"T_f0387_row34_col1\" class=\"data row34 col1\" >-3.50</td>\n",
              "      <td id=\"T_f0387_row34_col2\" class=\"data row34 col2\" >-24.60</td>\n",
              "    </tr>\n",
              "    <tr>\n",
              "      <th id=\"T_f0387_level0_row35\" class=\"row_heading level0 row35\" >ELET3</th>\n",
              "      <td id=\"T_f0387_row35_col0\" class=\"data row35 col0\" >-12.30</td>\n",
              "      <td id=\"T_f0387_row35_col1\" class=\"data row35 col1\" >-9.40</td>\n",
              "      <td id=\"T_f0387_row35_col2\" class=\"data row35 col2\" >-3.80</td>\n",
              "    </tr>\n",
              "    <tr>\n",
              "      <th id=\"T_f0387_level0_row36\" class=\"row_heading level0 row36\" >ELET6</th>\n",
              "      <td id=\"T_f0387_row36_col0\" class=\"data row36 col0\" >-11.50</td>\n",
              "      <td id=\"T_f0387_row36_col1\" class=\"data row36 col1\" >-1.20</td>\n",
              "      <td id=\"T_f0387_row36_col2\" class=\"data row36 col2\" >-5.50</td>\n",
              "    </tr>\n",
              "    <tr>\n",
              "      <th id=\"T_f0387_level0_row37\" class=\"row_heading level0 row37\" >EMBR3</th>\n",
              "      <td id=\"T_f0387_row37_col0\" class=\"data row37 col0\" >-4.10</td>\n",
              "      <td id=\"T_f0387_row37_col1\" class=\"data row37 col1\" >4.80</td>\n",
              "      <td id=\"T_f0387_row37_col2\" class=\"data row37 col2\" >-8.70</td>\n",
              "    </tr>\n",
              "    <tr>\n",
              "      <th id=\"T_f0387_level0_row38\" class=\"row_heading level0 row38\" >ENBR3</th>\n",
              "      <td id=\"T_f0387_row38_col0\" class=\"data row38 col0\" >0.70</td>\n",
              "      <td id=\"T_f0387_row38_col1\" class=\"data row38 col1\" >-4.40</td>\n",
              "      <td id=\"T_f0387_row38_col2\" class=\"data row38 col2\" >-21.70</td>\n",
              "    </tr>\n",
              "    <tr>\n",
              "      <th id=\"T_f0387_level0_row39\" class=\"row_heading level0 row39\" >ENEV3</th>\n",
              "      <td id=\"T_f0387_row39_col0\" class=\"data row39 col0\" >13.10</td>\n",
              "      <td id=\"T_f0387_row39_col1\" class=\"data row39 col1\" >13.00</td>\n",
              "      <td id=\"T_f0387_row39_col2\" class=\"data row39 col2\" >-11.60</td>\n",
              "    </tr>\n",
              "    <tr>\n",
              "      <th id=\"T_f0387_level0_row40\" class=\"row_heading level0 row40\" >ENGI11</th>\n",
              "      <td id=\"T_f0387_row40_col0\" class=\"data row40 col0\" >-8.60</td>\n",
              "      <td id=\"T_f0387_row40_col1\" class=\"data row40 col1\" >-17.30</td>\n",
              "      <td id=\"T_f0387_row40_col2\" class=\"data row40 col2\" >-24.50</td>\n",
              "    </tr>\n",
              "    <tr>\n",
              "      <th id=\"T_f0387_level0_row41\" class=\"row_heading level0 row41\" >EQTL3</th>\n",
              "      <td id=\"T_f0387_row41_col0\" class=\"data row41 col0\" >11.60</td>\n",
              "      <td id=\"T_f0387_row41_col1\" class=\"data row41 col1\" >-0.60</td>\n",
              "      <td id=\"T_f0387_row41_col2\" class=\"data row41 col2\" >-14.30</td>\n",
              "    </tr>\n",
              "    <tr>\n",
              "      <th id=\"T_f0387_level0_row42\" class=\"row_heading level0 row42\" >EZTC3</th>\n",
              "      <td id=\"T_f0387_row42_col0\" class=\"data row42 col0\" >15.60</td>\n",
              "      <td id=\"T_f0387_row42_col1\" class=\"data row42 col1\" >12.30</td>\n",
              "      <td id=\"T_f0387_row42_col2\" class=\"data row42 col2\" >10.00</td>\n",
              "    </tr>\n",
              "    <tr>\n",
              "      <th id=\"T_f0387_level0_row43\" class=\"row_heading level0 row43\" >FLRY3</th>\n",
              "      <td id=\"T_f0387_row43_col0\" class=\"data row43 col0\" >5.80</td>\n",
              "      <td id=\"T_f0387_row43_col1\" class=\"data row43 col1\" >-2.20</td>\n",
              "      <td id=\"T_f0387_row43_col2\" class=\"data row43 col2\" >-15.50</td>\n",
              "    </tr>\n",
              "    <tr>\n",
              "      <th id=\"T_f0387_level0_row44\" class=\"row_heading level0 row44\" >GGBR4</th>\n",
              "      <td id=\"T_f0387_row44_col0\" class=\"data row44 col0\" >26.30</td>\n",
              "      <td id=\"T_f0387_row44_col1\" class=\"data row44 col1\" >12.90</td>\n",
              "      <td id=\"T_f0387_row44_col2\" class=\"data row44 col2\" >10.40</td>\n",
              "    </tr>\n",
              "    <tr>\n",
              "      <th id=\"T_f0387_level0_row45\" class=\"row_heading level0 row45\" >GOAU4</th>\n",
              "      <td id=\"T_f0387_row45_col0\" class=\"data row45 col0\" >43.90</td>\n",
              "      <td id=\"T_f0387_row45_col1\" class=\"data row45 col1\" >46.30</td>\n",
              "      <td id=\"T_f0387_row45_col2\" class=\"data row45 col2\" >13.90</td>\n",
              "    </tr>\n",
              "    <tr>\n",
              "      <th id=\"T_f0387_level0_row46\" class=\"row_heading level0 row46\" >GOLL4</th>\n",
              "      <td id=\"T_f0387_row46_col0\" class=\"data row46 col0\" >-4.10</td>\n",
              "      <td id=\"T_f0387_row46_col1\" class=\"data row46 col1\" >1.60</td>\n",
              "      <td id=\"T_f0387_row46_col2\" class=\"data row46 col2\" >25.80</td>\n",
              "    </tr>\n",
              "    <tr>\n",
              "      <th id=\"T_f0387_level0_row47\" class=\"row_heading level0 row47\" >HAPV3</th>\n",
              "      <td id=\"T_f0387_row47_col0\" class=\"data row47 col0\" >12.20</td>\n",
              "      <td id=\"T_f0387_row47_col1\" class=\"data row47 col1\" >21.30</td>\n",
              "      <td id=\"T_f0387_row47_col2\" class=\"data row47 col2\" >7.90</td>\n",
              "    </tr>\n",
              "    <tr>\n",
              "      <th id=\"T_f0387_level0_row48\" class=\"row_heading level0 row48\" >HYPE3</th>\n",
              "      <td id=\"T_f0387_row48_col0\" class=\"data row48 col0\" >-7.30</td>\n",
              "      <td id=\"T_f0387_row48_col1\" class=\"data row48 col1\" >8.50</td>\n",
              "      <td id=\"T_f0387_row48_col2\" class=\"data row48 col2\" >11.30</td>\n",
              "    </tr>\n",
              "    <tr>\n",
              "      <th id=\"T_f0387_level0_row49\" class=\"row_heading level0 row49\" >IGTI11</th>\n",
              "      <td id=\"T_f0387_row49_col0\" class=\"data row49 col0\" ></td>\n",
              "      <td id=\"T_f0387_row49_col1\" class=\"data row49 col1\" >-23.00</td>\n",
              "      <td id=\"T_f0387_row49_col2\" class=\"data row49 col2\" >-50.90</td>\n",
              "    </tr>\n",
              "    <tr>\n",
              "      <th id=\"T_f0387_level0_row50\" class=\"row_heading level0 row50\" >ITSA4</th>\n",
              "      <td id=\"T_f0387_row50_col0\" class=\"data row50 col0\" >3.30</td>\n",
              "      <td id=\"T_f0387_row50_col1\" class=\"data row50 col1\" >-0.10</td>\n",
              "      <td id=\"T_f0387_row50_col2\" class=\"data row50 col2\" >-3.20</td>\n",
              "    </tr>\n",
              "    <tr>\n",
              "      <th id=\"T_f0387_level0_row51\" class=\"row_heading level0 row51\" >ITUB4</th>\n",
              "      <td id=\"T_f0387_row51_col0\" class=\"data row51 col0\" >1.60</td>\n",
              "      <td id=\"T_f0387_row51_col1\" class=\"data row51 col1\" >-11.70</td>\n",
              "      <td id=\"T_f0387_row51_col2\" class=\"data row51 col2\" >-9.40</td>\n",
              "    </tr>\n",
              "    <tr>\n",
              "      <th id=\"T_f0387_level0_row52\" class=\"row_heading level0 row52\" >JBSS3</th>\n",
              "      <td id=\"T_f0387_row52_col0\" class=\"data row52 col0\" >2.00</td>\n",
              "      <td id=\"T_f0387_row52_col1\" class=\"data row52 col1\" >4.80</td>\n",
              "      <td id=\"T_f0387_row52_col2\" class=\"data row52 col2\" >-20.90</td>\n",
              "    </tr>\n",
              "    <tr>\n",
              "      <th id=\"T_f0387_level0_row53\" class=\"row_heading level0 row53\" >KLBN11</th>\n",
              "      <td id=\"T_f0387_row53_col0\" class=\"data row53 col0\" >-2.60</td>\n",
              "      <td id=\"T_f0387_row53_col1\" class=\"data row53 col1\" >-4.70</td>\n",
              "      <td id=\"T_f0387_row53_col2\" class=\"data row53 col2\" >-0.90</td>\n",
              "    </tr>\n",
              "    <tr>\n",
              "      <th id=\"T_f0387_level0_row54\" class=\"row_heading level0 row54\" >LREN3</th>\n",
              "      <td id=\"T_f0387_row54_col0\" class=\"data row54 col0\" >4.20</td>\n",
              "      <td id=\"T_f0387_row54_col1\" class=\"data row54 col1\" >21.00</td>\n",
              "      <td id=\"T_f0387_row54_col2\" class=\"data row54 col2\" >1.00</td>\n",
              "    </tr>\n",
              "    <tr>\n",
              "      <th id=\"T_f0387_level0_row55\" class=\"row_heading level0 row55\" >LWSA3</th>\n",
              "      <td id=\"T_f0387_row55_col0\" class=\"data row55 col0\" >19.10</td>\n",
              "      <td id=\"T_f0387_row55_col1\" class=\"data row55 col1\" >17.10</td>\n",
              "      <td id=\"T_f0387_row55_col2\" class=\"data row55 col2\" >33.60</td>\n",
              "    </tr>\n",
              "    <tr>\n",
              "      <th id=\"T_f0387_level0_row56\" class=\"row_heading level0 row56\" >MGLU3</th>\n",
              "      <td id=\"T_f0387_row56_col0\" class=\"data row56 col0\" >57.50</td>\n",
              "      <td id=\"T_f0387_row56_col1\" class=\"data row56 col1\" >33.70</td>\n",
              "      <td id=\"T_f0387_row56_col2\" class=\"data row56 col2\" >30.70</td>\n",
              "    </tr>\n",
              "    <tr>\n",
              "      <th id=\"T_f0387_level0_row57\" class=\"row_heading level0 row57\" >MRFG3</th>\n",
              "      <td id=\"T_f0387_row57_col0\" class=\"data row57 col0\" >-8.90</td>\n",
              "      <td id=\"T_f0387_row57_col1\" class=\"data row57 col1\" >5.20</td>\n",
              "      <td id=\"T_f0387_row57_col2\" class=\"data row57 col2\" >0.70</td>\n",
              "    </tr>\n",
              "    <tr>\n",
              "      <th id=\"T_f0387_level0_row58\" class=\"row_heading level0 row58\" >MRVE3</th>\n",
              "      <td id=\"T_f0387_row58_col0\" class=\"data row58 col0\" >-10.90</td>\n",
              "      <td id=\"T_f0387_row58_col1\" class=\"data row58 col1\" >-3.40</td>\n",
              "      <td id=\"T_f0387_row58_col2\" class=\"data row58 col2\" >-8.00</td>\n",
              "    </tr>\n",
              "    <tr>\n",
              "      <th id=\"T_f0387_level0_row59\" class=\"row_heading level0 row59\" >MULT3</th>\n",
              "      <td id=\"T_f0387_row59_col0\" class=\"data row59 col0\" >-1.60</td>\n",
              "      <td id=\"T_f0387_row59_col1\" class=\"data row59 col1\" >0.70</td>\n",
              "      <td id=\"T_f0387_row59_col2\" class=\"data row59 col2\" >-13.00</td>\n",
              "    </tr>\n",
              "    <tr>\n",
              "      <th id=\"T_f0387_level0_row60\" class=\"row_heading level0 row60\" >NTCO3</th>\n",
              "      <td id=\"T_f0387_row60_col0\" class=\"data row60 col0\" >5.50</td>\n",
              "      <td id=\"T_f0387_row60_col1\" class=\"data row60 col1\" >2.20</td>\n",
              "      <td id=\"T_f0387_row60_col2\" class=\"data row60 col2\" >-8.90</td>\n",
              "    </tr>\n",
              "    <tr>\n",
              "      <th id=\"T_f0387_level0_row61\" class=\"row_heading level0 row61\" >PCAR3</th>\n",
              "      <td id=\"T_f0387_row61_col0\" class=\"data row61 col0\" >-0.70</td>\n",
              "      <td id=\"T_f0387_row61_col1\" class=\"data row61 col1\" >0.40</td>\n",
              "      <td id=\"T_f0387_row61_col2\" class=\"data row61 col2\" >0.30</td>\n",
              "    </tr>\n",
              "    <tr>\n",
              "      <th id=\"T_f0387_level0_row62\" class=\"row_heading level0 row62\" >PETR3</th>\n",
              "      <td id=\"T_f0387_row62_col0\" class=\"data row62 col0\" >-1.70</td>\n",
              "      <td id=\"T_f0387_row62_col1\" class=\"data row62 col1\" >-100.00</td>\n",
              "      <td id=\"T_f0387_row62_col2\" class=\"data row62 col2\" >10.70</td>\n",
              "    </tr>\n",
              "    <tr>\n",
              "      <th id=\"T_f0387_level0_row63\" class=\"row_heading level0 row63\" >PETR4</th>\n",
              "      <td id=\"T_f0387_row63_col0\" class=\"data row63 col0\" >-5.80</td>\n",
              "      <td id=\"T_f0387_row63_col1\" class=\"data row63 col1\" >8.00</td>\n",
              "      <td id=\"T_f0387_row63_col2\" class=\"data row63 col2\" >11.60</td>\n",
              "    </tr>\n",
              "    <tr>\n",
              "      <th id=\"T_f0387_level0_row64\" class=\"row_heading level0 row64\" >PETZ3</th>\n",
              "      <td id=\"T_f0387_row64_col0\" class=\"data row64 col0\" ></td>\n",
              "      <td id=\"T_f0387_row64_col1\" class=\"data row64 col1\" >-0.80</td>\n",
              "      <td id=\"T_f0387_row64_col2\" class=\"data row64 col2\" >-25.10</td>\n",
              "    </tr>\n",
              "    <tr>\n",
              "      <th id=\"T_f0387_level0_row65\" class=\"row_heading level0 row65\" >PRIO3</th>\n",
              "      <td id=\"T_f0387_row65_col0\" class=\"data row65 col0\" >39.80</td>\n",
              "      <td id=\"T_f0387_row65_col1\" class=\"data row65 col1\" >-12.60</td>\n",
              "      <td id=\"T_f0387_row65_col2\" class=\"data row65 col2\" >31.40</td>\n",
              "    </tr>\n",
              "    <tr>\n",
              "      <th id=\"T_f0387_level0_row66\" class=\"row_heading level0 row66\" >QUAL3</th>\n",
              "      <td id=\"T_f0387_row66_col0\" class=\"data row66 col0\" >7.50</td>\n",
              "      <td id=\"T_f0387_row66_col1\" class=\"data row66 col1\" >20.90</td>\n",
              "      <td id=\"T_f0387_row66_col2\" class=\"data row66 col2\" >-3.40</td>\n",
              "    </tr>\n",
              "    <tr>\n",
              "      <th id=\"T_f0387_level0_row67\" class=\"row_heading level0 row67\" >RADL3</th>\n",
              "      <td id=\"T_f0387_row67_col0\" class=\"data row67 col0\" >5.20</td>\n",
              "      <td id=\"T_f0387_row67_col1\" class=\"data row67 col1\" >4.20</td>\n",
              "      <td id=\"T_f0387_row67_col2\" class=\"data row67 col2\" >-6.70</td>\n",
              "    </tr>\n",
              "    <tr>\n",
              "      <th id=\"T_f0387_level0_row68\" class=\"row_heading level0 row68\" >RAIL3</th>\n",
              "      <td id=\"T_f0387_row68_col0\" class=\"data row68 col0\" >2.40</td>\n",
              "      <td id=\"T_f0387_row68_col1\" class=\"data row68 col1\" >8.70</td>\n",
              "      <td id=\"T_f0387_row68_col2\" class=\"data row68 col2\" >-6.50</td>\n",
              "    </tr>\n",
              "    <tr>\n",
              "      <th id=\"T_f0387_level0_row69\" class=\"row_heading level0 row69\" >RAIZ4</th>\n",
              "      <td id=\"T_f0387_row69_col0\" class=\"data row69 col0\" ></td>\n",
              "      <td id=\"T_f0387_row69_col1\" class=\"data row69 col1\" >8.90</td>\n",
              "      <td id=\"T_f0387_row69_col2\" class=\"data row69 col2\" >-15.00</td>\n",
              "    </tr>\n",
              "    <tr>\n",
              "      <th id=\"T_f0387_level0_row70\" class=\"row_heading level0 row70\" >RDOR3</th>\n",
              "      <td id=\"T_f0387_row70_col0\" class=\"data row70 col0\" ></td>\n",
              "      <td id=\"T_f0387_row70_col1\" class=\"data row70 col1\" >-7.00</td>\n",
              "      <td id=\"T_f0387_row70_col2\" class=\"data row70 col2\" >21.10</td>\n",
              "    </tr>\n",
              "    <tr>\n",
              "      <th id=\"T_f0387_level0_row71\" class=\"row_heading level0 row71\" >RENT3</th>\n",
              "      <td id=\"T_f0387_row71_col0\" class=\"data row71 col0\" >-5.30</td>\n",
              "      <td id=\"T_f0387_row71_col1\" class=\"data row71 col1\" >2.00</td>\n",
              "      <td id=\"T_f0387_row71_col2\" class=\"data row71 col2\" >-8.50</td>\n",
              "    </tr>\n",
              "    <tr>\n",
              "      <th id=\"T_f0387_level0_row72\" class=\"row_heading level0 row72\" >RRRP3</th>\n",
              "      <td id=\"T_f0387_row72_col0\" class=\"data row72 col0\" >-18.90</td>\n",
              "      <td id=\"T_f0387_row72_col1\" class=\"data row72 col1\" >-46.60</td>\n",
              "      <td id=\"T_f0387_row72_col2\" class=\"data row72 col2\" >99.60</td>\n",
              "    </tr>\n",
              "    <tr>\n",
              "      <th id=\"T_f0387_level0_row73\" class=\"row_heading level0 row73\" >SANB11</th>\n",
              "      <td id=\"T_f0387_row73_col0\" class=\"data row73 col0\" >-5.30</td>\n",
              "      <td id=\"T_f0387_row73_col1\" class=\"data row73 col1\" >-9.50</td>\n",
              "      <td id=\"T_f0387_row73_col2\" class=\"data row73 col2\" >-8.20</td>\n",
              "    </tr>\n",
              "    <tr>\n",
              "      <th id=\"T_f0387_level0_row74\" class=\"row_heading level0 row74\" >SBSP3</th>\n",
              "      <td id=\"T_f0387_row74_col0\" class=\"data row74 col0\" >9.30</td>\n",
              "      <td id=\"T_f0387_row74_col1\" class=\"data row74 col1\" >4.10</td>\n",
              "      <td id=\"T_f0387_row74_col2\" class=\"data row74 col2\" >-10.30</td>\n",
              "    </tr>\n",
              "    <tr>\n",
              "      <th id=\"T_f0387_level0_row75\" class=\"row_heading level0 row75\" >SLCE3</th>\n",
              "      <td id=\"T_f0387_row75_col0\" class=\"data row75 col0\" >-4.40</td>\n",
              "      <td id=\"T_f0387_row75_col1\" class=\"data row75 col1\" >5.80</td>\n",
              "      <td id=\"T_f0387_row75_col2\" class=\"data row75 col2\" >-11.10</td>\n",
              "    </tr>\n",
              "    <tr>\n",
              "      <th id=\"T_f0387_level0_row76\" class=\"row_heading level0 row76\" >SMTO3</th>\n",
              "      <td id=\"T_f0387_row76_col0\" class=\"data row76 col0\" >-9.10</td>\n",
              "      <td id=\"T_f0387_row76_col1\" class=\"data row76 col1\" >-17.40</td>\n",
              "      <td id=\"T_f0387_row76_col2\" class=\"data row76 col2\" >-7.20</td>\n",
              "    </tr>\n",
              "    <tr>\n",
              "      <th id=\"T_f0387_level0_row77\" class=\"row_heading level0 row77\" >SOMA3</th>\n",
              "      <td id=\"T_f0387_row77_col0\" class=\"data row77 col0\" >-14.10</td>\n",
              "      <td id=\"T_f0387_row77_col1\" class=\"data row77 col1\" >-10.20</td>\n",
              "      <td id=\"T_f0387_row77_col2\" class=\"data row77 col2\" >-0.80</td>\n",
              "    </tr>\n",
              "    <tr>\n",
              "      <th id=\"T_f0387_level0_row78\" class=\"row_heading level0 row78\" >SUZB3</th>\n",
              "      <td id=\"T_f0387_row78_col0\" class=\"data row78 col0\" >-2.40</td>\n",
              "      <td id=\"T_f0387_row78_col1\" class=\"data row78 col1\" >-9.70</td>\n",
              "      <td id=\"T_f0387_row78_col2\" class=\"data row78 col2\" >9.70</td>\n",
              "    </tr>\n",
              "    <tr>\n",
              "      <th id=\"T_f0387_level0_row79\" class=\"row_heading level0 row79\" >TAEE11</th>\n",
              "      <td id=\"T_f0387_row79_col0\" class=\"data row79 col0\" >-11.60</td>\n",
              "      <td id=\"T_f0387_row79_col1\" class=\"data row79 col1\" >-4.60</td>\n",
              "      <td id=\"T_f0387_row79_col2\" class=\"data row79 col2\" >-15.90</td>\n",
              "    </tr>\n",
              "    <tr>\n",
              "      <th id=\"T_f0387_level0_row80\" class=\"row_heading level0 row80\" >TIMS3</th>\n",
              "      <td id=\"T_f0387_row80_col0\" class=\"data row80 col0\" >-4.60</td>\n",
              "      <td id=\"T_f0387_row80_col1\" class=\"data row80 col1\" >-15.90</td>\n",
              "      <td id=\"T_f0387_row80_col2\" class=\"data row80 col2\" >-16.50</td>\n",
              "    </tr>\n",
              "    <tr>\n",
              "      <th id=\"T_f0387_level0_row81\" class=\"row_heading level0 row81\" >TOTS3</th>\n",
              "      <td id=\"T_f0387_row81_col0\" class=\"data row81 col0\" >-3.50</td>\n",
              "      <td id=\"T_f0387_row81_col1\" class=\"data row81 col1\" >2.40</td>\n",
              "      <td id=\"T_f0387_row81_col2\" class=\"data row81 col2\" >-8.80</td>\n",
              "    </tr>\n",
              "    <tr>\n",
              "      <th id=\"T_f0387_level0_row82\" class=\"row_heading level0 row82\" >UGPA3</th>\n",
              "      <td id=\"T_f0387_row82_col0\" class=\"data row82 col0\" >13.10</td>\n",
              "      <td id=\"T_f0387_row82_col1\" class=\"data row82 col1\" >-4.50</td>\n",
              "      <td id=\"T_f0387_row82_col2\" class=\"data row82 col2\" >4.70</td>\n",
              "    </tr>\n",
              "    <tr>\n",
              "      <th id=\"T_f0387_level0_row83\" class=\"row_heading level0 row83\" >USIM5</th>\n",
              "      <td id=\"T_f0387_row83_col0\" class=\"data row83 col0\" >27.20</td>\n",
              "      <td id=\"T_f0387_row83_col1\" class=\"data row83 col1\" >40.40</td>\n",
              "      <td id=\"T_f0387_row83_col2\" class=\"data row83 col2\" >14.90</td>\n",
              "    </tr>\n",
              "    <tr>\n",
              "      <th id=\"T_f0387_level0_row84\" class=\"row_heading level0 row84\" >VALE3</th>\n",
              "      <td id=\"T_f0387_row84_col0\" class=\"data row84 col0\" >-1.80</td>\n",
              "      <td id=\"T_f0387_row84_col1\" class=\"data row84 col1\" >6.70</td>\n",
              "      <td id=\"T_f0387_row84_col2\" class=\"data row84 col2\" >-8.10</td>\n",
              "    </tr>\n",
              "    <tr>\n",
              "      <th id=\"T_f0387_level0_row85\" class=\"row_heading level0 row85\" >VBBR3</th>\n",
              "      <td id=\"T_f0387_row85_col0\" class=\"data row85 col0\" >-17.00</td>\n",
              "      <td id=\"T_f0387_row85_col1\" class=\"data row85 col1\" >-14.10</td>\n",
              "      <td id=\"T_f0387_row85_col2\" class=\"data row85 col2\" >-21.70</td>\n",
              "    </tr>\n",
              "    <tr>\n",
              "      <th id=\"T_f0387_level0_row86\" class=\"row_heading level0 row86\" >VIIA3</th>\n",
              "      <td id=\"T_f0387_row86_col0\" class=\"data row86 col0\" >-34.90</td>\n",
              "      <td id=\"T_f0387_row86_col1\" class=\"data row86 col1\" >-13.30</td>\n",
              "      <td id=\"T_f0387_row86_col2\" class=\"data row86 col2\" >-0.10</td>\n",
              "    </tr>\n",
              "    <tr>\n",
              "      <th id=\"T_f0387_level0_row87\" class=\"row_heading level0 row87\" >VIVT3</th>\n",
              "      <td id=\"T_f0387_row87_col0\" class=\"data row87 col0\" >2.20</td>\n",
              "      <td id=\"T_f0387_row87_col1\" class=\"data row87 col1\" >-4.20</td>\n",
              "      <td id=\"T_f0387_row87_col2\" class=\"data row87 col2\" >-25.40</td>\n",
              "    </tr>\n",
              "    <tr>\n",
              "      <th id=\"T_f0387_level0_row88\" class=\"row_heading level0 row88\" >WEGE3</th>\n",
              "      <td id=\"T_f0387_row88_col0\" class=\"data row88 col0\" >7.00</td>\n",
              "      <td id=\"T_f0387_row88_col1\" class=\"data row88 col1\" >13.50</td>\n",
              "      <td id=\"T_f0387_row88_col2\" class=\"data row88 col2\" >0.60</td>\n",
              "    </tr>\n",
              "    <tr>\n",
              "      <th id=\"T_f0387_level0_row89\" class=\"row_heading level0 row89\" >YDUQ3</th>\n",
              "      <td id=\"T_f0387_row89_col0\" class=\"data row89 col0\" >-3.60</td>\n",
              "      <td id=\"T_f0387_row89_col1\" class=\"data row89 col1\" >-5.30</td>\n",
              "      <td id=\"T_f0387_row89_col2\" class=\"data row89 col2\" >8.70</td>\n",
              "    </tr>\n",
              "  </tbody>\n",
              "</table>\n"
            ],
            "text/plain": [
              "<pandas.io.formats.style.Styler at 0x194162d3b20>"
            ]
          },
          "execution_count": 91,
          "metadata": {},
          "output_type": "execute_result"
        }
      ],
      "source": [
        "result_final.style.format('{:.2f}', na_rep=\"\").applymap(lambda x: \"font-weight: ; color: white; background-color : #CD0000\" if x < -25 \\\n",
        "                                                        else ( \"font-weight: ; color: black; background-color : #FF6666\" if x <0 \\\n",
        "                                                              else (\"font-weight: ; color: black; background-color : #C1FFC1\" if x <10 \\\n",
        "                                                                  else (\"font-weight: ; color: black; background-color : #43CD80\" if x <20 \\\n",
        "                                                                        else (\"font-weight: ; color: white; background-color : forestgreen\" if x <100 \\\n",
        "                                                                              else (\"font-weight: ; color: black; background-color : lightgray\"))))))"
      ]
    },
    {
      "cell_type": "code",
      "execution_count": 92,
      "metadata": {},
      "outputs": [
        {
          "data": {
            "text/html": [
              "<style type=\"text/css\">\n",
              "#T_08a2f_row0_col0, #T_08a2f_row0_col1, #T_08a2f_row0_col2, #T_08a2f_row1_col1, #T_08a2f_row4_col0, #T_08a2f_row4_col1, #T_08a2f_row4_col2, #T_08a2f_row5_col1, #T_08a2f_row6_col0, #T_08a2f_row7_col2, #T_08a2f_row8_col1, #T_08a2f_row9_col2, #T_08a2f_row10_col0, #T_08a2f_row10_col2, #T_08a2f_row11_col0, #T_08a2f_row11_col1, #T_08a2f_row11_col2, #T_08a2f_row12_col2 {\n",
              "  font-weight: ;\n",
              "  color: black;\n",
              "  background-color: #C1FFC1;\n",
              "}\n",
              "#T_08a2f_row1_col0, #T_08a2f_row1_col2, #T_08a2f_row2_col0, #T_08a2f_row2_col1, #T_08a2f_row2_col2, #T_08a2f_row5_col0, #T_08a2f_row5_col2, #T_08a2f_row6_col2, #T_08a2f_row7_col1, #T_08a2f_row8_col0, #T_08a2f_row8_col2, #T_08a2f_row9_col0, #T_08a2f_row9_col1, #T_08a2f_row10_col1, #T_08a2f_row12_col0, #T_08a2f_row12_col1, #T_08a2f_row13_col0, #T_08a2f_row14_col0 {\n",
              "  font-weight: ;\n",
              "  color: black;\n",
              "  background-color: #FF6666;\n",
              "}\n",
              "#T_08a2f_row3_col0, #T_08a2f_row3_col1, #T_08a2f_row3_col2, #T_08a2f_row7_col0 {\n",
              "  font-weight: ;\n",
              "  color: white;\n",
              "  background-color: #CD0000;\n",
              "}\n",
              "#T_08a2f_row6_col1, #T_08a2f_row14_col1 {\n",
              "  font-weight: ;\n",
              "  color: white;\n",
              "  background-color: forestgreen;\n",
              "}\n",
              "#T_08a2f_row13_col1, #T_08a2f_row13_col2, #T_08a2f_row14_col2 {\n",
              "  font-weight: ;\n",
              "  color: black;\n",
              "  background-color: #43CD80;\n",
              "}\n",
              "</style>\n",
              "<table id=\"T_08a2f\">\n",
              "  <thead>\n",
              "    <tr>\n",
              "      <th class=\"blank level0\" >&nbsp;</th>\n",
              "      <th id=\"T_08a2f_level0_col0\" class=\"col_heading level0 col0\" >monthly</th>\n",
              "      <th id=\"T_08a2f_level0_col1\" class=\"col_heading level0 col1\" >weekly</th>\n",
              "      <th id=\"T_08a2f_level0_col2\" class=\"col_heading level0 col2\" >daily</th>\n",
              "    </tr>\n",
              "  </thead>\n",
              "  <tbody>\n",
              "    <tr>\n",
              "      <th id=\"T_08a2f_level0_row0\" class=\"row_heading level0 row0\" >WDO1!</th>\n",
              "      <td id=\"T_08a2f_row0_col0\" class=\"data row0 col0\" >1.10</td>\n",
              "      <td id=\"T_08a2f_row0_col1\" class=\"data row0 col1\" >3.70</td>\n",
              "      <td id=\"T_08a2f_row0_col2\" class=\"data row0 col2\" >4.50</td>\n",
              "    </tr>\n",
              "    <tr>\n",
              "      <th id=\"T_08a2f_level0_row1\" class=\"row_heading level0 row1\" >WIN1!</th>\n",
              "      <td id=\"T_08a2f_row1_col0\" class=\"data row1 col0\" >-6.80</td>\n",
              "      <td id=\"T_08a2f_row1_col1\" class=\"data row1 col1\" >1.40</td>\n",
              "      <td id=\"T_08a2f_row1_col2\" class=\"data row1 col2\" >-1.50</td>\n",
              "    </tr>\n",
              "    <tr>\n",
              "      <th id=\"T_08a2f_level0_row2\" class=\"row_heading level0 row2\" >ABEV3</th>\n",
              "      <td id=\"T_08a2f_row2_col0\" class=\"data row2 col0\" >-0.80</td>\n",
              "      <td id=\"T_08a2f_row2_col1\" class=\"data row2 col1\" >-0.80</td>\n",
              "      <td id=\"T_08a2f_row2_col2\" class=\"data row2 col2\" >-9.50</td>\n",
              "    </tr>\n",
              "    <tr>\n",
              "      <th id=\"T_08a2f_level0_row3\" class=\"row_heading level0 row3\" >ALPA4</th>\n",
              "      <td id=\"T_08a2f_row3_col0\" class=\"data row3 col0\" >-100.00</td>\n",
              "      <td id=\"T_08a2f_row3_col1\" class=\"data row3 col1\" >-100.00</td>\n",
              "      <td id=\"T_08a2f_row3_col2\" class=\"data row3 col2\" >-100.00</td>\n",
              "    </tr>\n",
              "    <tr>\n",
              "      <th id=\"T_08a2f_level0_row4\" class=\"row_heading level0 row4\" >ALSO3</th>\n",
              "      <td id=\"T_08a2f_row4_col0\" class=\"data row4 col0\" >3.00</td>\n",
              "      <td id=\"T_08a2f_row4_col1\" class=\"data row4 col1\" >2.30</td>\n",
              "      <td id=\"T_08a2f_row4_col2\" class=\"data row4 col2\" >2.50</td>\n",
              "    </tr>\n",
              "    <tr>\n",
              "      <th id=\"T_08a2f_level0_row5\" class=\"row_heading level0 row5\" >ARZZ3</th>\n",
              "      <td id=\"T_08a2f_row5_col0\" class=\"data row5 col0\" >-5.10</td>\n",
              "      <td id=\"T_08a2f_row5_col1\" class=\"data row5 col1\" >6.10</td>\n",
              "      <td id=\"T_08a2f_row5_col2\" class=\"data row5 col2\" >-12.20</td>\n",
              "    </tr>\n",
              "    <tr>\n",
              "      <th id=\"T_08a2f_level0_row6\" class=\"row_heading level0 row6\" >ASAI3</th>\n",
              "      <td id=\"T_08a2f_row6_col0\" class=\"data row6 col0\" >2.00</td>\n",
              "      <td id=\"T_08a2f_row6_col1\" class=\"data row6 col1\" >32.30</td>\n",
              "      <td id=\"T_08a2f_row6_col2\" class=\"data row6 col2\" >-6.60</td>\n",
              "    </tr>\n",
              "    <tr>\n",
              "      <th id=\"T_08a2f_level0_row7\" class=\"row_heading level0 row7\" >AZUL4</th>\n",
              "      <td id=\"T_08a2f_row7_col0\" class=\"data row7 col0\" >-100.00</td>\n",
              "      <td id=\"T_08a2f_row7_col1\" class=\"data row7 col1\" >-4.30</td>\n",
              "      <td id=\"T_08a2f_row7_col2\" class=\"data row7 col2\" >9.80</td>\n",
              "    </tr>\n",
              "    <tr>\n",
              "      <th id=\"T_08a2f_level0_row8\" class=\"row_heading level0 row8\" >B3SA3</th>\n",
              "      <td id=\"T_08a2f_row8_col0\" class=\"data row8 col0\" >-1.60</td>\n",
              "      <td id=\"T_08a2f_row8_col1\" class=\"data row8 col1\" >2.00</td>\n",
              "      <td id=\"T_08a2f_row8_col2\" class=\"data row8 col2\" >-23.90</td>\n",
              "    </tr>\n",
              "    <tr>\n",
              "      <th id=\"T_08a2f_level0_row9\" class=\"row_heading level0 row9\" >BBAS3</th>\n",
              "      <td id=\"T_08a2f_row9_col0\" class=\"data row9 col0\" >-2.80</td>\n",
              "      <td id=\"T_08a2f_row9_col1\" class=\"data row9 col1\" >-7.60</td>\n",
              "      <td id=\"T_08a2f_row9_col2\" class=\"data row9 col2\" >8.10</td>\n",
              "    </tr>\n",
              "    <tr>\n",
              "      <th id=\"T_08a2f_level0_row10\" class=\"row_heading level0 row10\" >BBDC3</th>\n",
              "      <td id=\"T_08a2f_row10_col0\" class=\"data row10 col0\" >8.40</td>\n",
              "      <td id=\"T_08a2f_row10_col1\" class=\"data row10 col1\" >-0.30</td>\n",
              "      <td id=\"T_08a2f_row10_col2\" class=\"data row10 col2\" >4.30</td>\n",
              "    </tr>\n",
              "    <tr>\n",
              "      <th id=\"T_08a2f_level0_row11\" class=\"row_heading level0 row11\" >BBDC4</th>\n",
              "      <td id=\"T_08a2f_row11_col0\" class=\"data row11 col0\" >9.60</td>\n",
              "      <td id=\"T_08a2f_row11_col1\" class=\"data row11 col1\" >4.70</td>\n",
              "      <td id=\"T_08a2f_row11_col2\" class=\"data row11 col2\" >3.50</td>\n",
              "    </tr>\n",
              "    <tr>\n",
              "      <th id=\"T_08a2f_level0_row12\" class=\"row_heading level0 row12\" >BBSE3</th>\n",
              "      <td id=\"T_08a2f_row12_col0\" class=\"data row12 col0\" >-0.50</td>\n",
              "      <td id=\"T_08a2f_row12_col1\" class=\"data row12 col1\" >-10.10</td>\n",
              "      <td id=\"T_08a2f_row12_col2\" class=\"data row12 col2\" >2.80</td>\n",
              "    </tr>\n",
              "    <tr>\n",
              "      <th id=\"T_08a2f_level0_row13\" class=\"row_heading level0 row13\" >BEEF3</th>\n",
              "      <td id=\"T_08a2f_row13_col0\" class=\"data row13 col0\" >-11.00</td>\n",
              "      <td id=\"T_08a2f_row13_col1\" class=\"data row13 col1\" >18.20</td>\n",
              "      <td id=\"T_08a2f_row13_col2\" class=\"data row13 col2\" >19.90</td>\n",
              "    </tr>\n",
              "    <tr>\n",
              "      <th id=\"T_08a2f_level0_row14\" class=\"row_heading level0 row14\" >BPAC11</th>\n",
              "      <td id=\"T_08a2f_row14_col0\" class=\"data row14 col0\" >-12.90</td>\n",
              "      <td id=\"T_08a2f_row14_col1\" class=\"data row14 col1\" >27.70</td>\n",
              "      <td id=\"T_08a2f_row14_col2\" class=\"data row14 col2\" >18.20</td>\n",
              "    </tr>\n",
              "  </tbody>\n",
              "</table>\n"
            ],
            "text/plain": [
              "<pandas.io.formats.style.Styler at 0x1940e792320>"
            ]
          },
          "execution_count": 92,
          "metadata": {},
          "output_type": "execute_result"
        }
      ],
      "source": [
        "result_final[:15].style.format('{:.2f}', na_rep=\"\").applymap(lambda x: \"font-weight: ; color: white; background-color : #CD0000\" if x < -25 \\\n",
        "                                                        else ( \"font-weight: ; color: black; background-color : #FF6666\" if x <0 \\\n",
        "                                                              else (\"font-weight: ; color: black; background-color : #C1FFC1\" if x <10 \\\n",
        "                                                                  else (\"font-weight: ; color: black; background-color : #43CD80\" if x <20 \\\n",
        "                                                                        else (\"font-weight: ; color: white; background-color : forestgreen\" if x <100 \\\n",
        "                                                                              else (\"font-weight: ; color: black; background-color : lightgray\"))))))"
      ]
    },
    {
      "cell_type": "code",
      "execution_count": 93,
      "metadata": {},
      "outputs": [
        {
          "data": {
            "text/html": [
              "<style type=\"text/css\">\n",
              "#T_049f1_row0_col0, #T_049f1_row5_col0, #T_049f1_row5_col2, #T_049f1_row6_col2, #T_049f1_row7_col0, #T_049f1_row7_col2, #T_049f1_row8_col0, #T_049f1_row8_col2, #T_049f1_row10_col0, #T_049f1_row10_col1, #T_049f1_row10_col2, #T_049f1_row11_col1, #T_049f1_row11_col2, #T_049f1_row12_col0, #T_049f1_row12_col1, #T_049f1_row12_col2 {\n",
              "  font-weight: ;\n",
              "  color: black;\n",
              "  background-color: #FF6666;\n",
              "}\n",
              "#T_049f1_row0_col1, #T_049f1_row1_col0, #T_049f1_row1_col1, #T_049f1_row3_col1, #T_049f1_row8_col1, #T_049f1_row14_col1, #T_049f1_row14_col2 {\n",
              "  font-weight: ;\n",
              "  color: white;\n",
              "  background-color: forestgreen;\n",
              "}\n",
              "#T_049f1_row0_col2, #T_049f1_row2_col0, #T_049f1_row3_col0, #T_049f1_row3_col2, #T_049f1_row5_col1, #T_049f1_row6_col0, #T_049f1_row9_col1, #T_049f1_row9_col2, #T_049f1_row14_col0 {\n",
              "  font-weight: ;\n",
              "  color: black;\n",
              "  background-color: #43CD80;\n",
              "}\n",
              "#T_049f1_row1_col2, #T_049f1_row2_col1, #T_049f1_row2_col2, #T_049f1_row4_col1, #T_049f1_row6_col1, #T_049f1_row7_col1, #T_049f1_row11_col0, #T_049f1_row13_col0 {\n",
              "  font-weight: ;\n",
              "  color: black;\n",
              "  background-color: #C1FFC1;\n",
              "}\n",
              "#T_049f1_row4_col0 {\n",
              "  font-weight: ;\n",
              "  color: black;\n",
              "  background-color: lightgray;\n",
              "}\n",
              "#T_049f1_row4_col2, #T_049f1_row9_col0, #T_049f1_row13_col1, #T_049f1_row13_col2 {\n",
              "  font-weight: ;\n",
              "  color: white;\n",
              "  background-color: #CD0000;\n",
              "}\n",
              "</style>\n",
              "<table id=\"T_049f1\">\n",
              "  <thead>\n",
              "    <tr>\n",
              "      <th class=\"blank level0\" >&nbsp;</th>\n",
              "      <th id=\"T_049f1_level0_col0\" class=\"col_heading level0 col0\" >monthly</th>\n",
              "      <th id=\"T_049f1_level0_col1\" class=\"col_heading level0 col1\" >weekly</th>\n",
              "      <th id=\"T_049f1_level0_col2\" class=\"col_heading level0 col2\" >daily</th>\n",
              "    </tr>\n",
              "  </thead>\n",
              "  <tbody>\n",
              "    <tr>\n",
              "      <th id=\"T_049f1_level0_row0\" class=\"row_heading level0 row0\" >BPAN4</th>\n",
              "      <td id=\"T_049f1_row0_col0\" class=\"data row0 col0\" >-22.80</td>\n",
              "      <td id=\"T_049f1_row0_col1\" class=\"data row0 col1\" >29.10</td>\n",
              "      <td id=\"T_049f1_row0_col2\" class=\"data row0 col2\" >10.40</td>\n",
              "    </tr>\n",
              "    <tr>\n",
              "      <th id=\"T_049f1_level0_row1\" class=\"row_heading level0 row1\" >BRAP4</th>\n",
              "      <td id=\"T_049f1_row1_col0\" class=\"data row1 col0\" >23.50</td>\n",
              "      <td id=\"T_049f1_row1_col1\" class=\"data row1 col1\" >27.00</td>\n",
              "      <td id=\"T_049f1_row1_col2\" class=\"data row1 col2\" >4.00</td>\n",
              "    </tr>\n",
              "    <tr>\n",
              "      <th id=\"T_049f1_level0_row2\" class=\"row_heading level0 row2\" >BRFS3</th>\n",
              "      <td id=\"T_049f1_row2_col0\" class=\"data row2 col0\" >17.50</td>\n",
              "      <td id=\"T_049f1_row2_col1\" class=\"data row2 col1\" >8.10</td>\n",
              "      <td id=\"T_049f1_row2_col2\" class=\"data row2 col2\" >6.70</td>\n",
              "    </tr>\n",
              "    <tr>\n",
              "      <th id=\"T_049f1_level0_row3\" class=\"row_heading level0 row3\" >BRKM5</th>\n",
              "      <td id=\"T_049f1_row3_col0\" class=\"data row3 col0\" >13.20</td>\n",
              "      <td id=\"T_049f1_row3_col1\" class=\"data row3 col1\" >21.30</td>\n",
              "      <td id=\"T_049f1_row3_col2\" class=\"data row3 col2\" >15.40</td>\n",
              "    </tr>\n",
              "    <tr>\n",
              "      <th id=\"T_049f1_level0_row4\" class=\"row_heading level0 row4\" >CASH3</th>\n",
              "      <td id=\"T_049f1_row4_col0\" class=\"data row4 col0\" ></td>\n",
              "      <td id=\"T_049f1_row4_col1\" class=\"data row4 col1\" >1.50</td>\n",
              "      <td id=\"T_049f1_row4_col2\" class=\"data row4 col2\" >-26.10</td>\n",
              "    </tr>\n",
              "    <tr>\n",
              "      <th id=\"T_049f1_level0_row5\" class=\"row_heading level0 row5\" >CCRO3</th>\n",
              "      <td id=\"T_049f1_row5_col0\" class=\"data row5 col0\" >-7.90</td>\n",
              "      <td id=\"T_049f1_row5_col1\" class=\"data row5 col1\" >17.80</td>\n",
              "      <td id=\"T_049f1_row5_col2\" class=\"data row5 col2\" >-6.40</td>\n",
              "    </tr>\n",
              "    <tr>\n",
              "      <th id=\"T_049f1_level0_row6\" class=\"row_heading level0 row6\" >CIEL3</th>\n",
              "      <td id=\"T_049f1_row6_col0\" class=\"data row6 col0\" >12.20</td>\n",
              "      <td id=\"T_049f1_row6_col1\" class=\"data row6 col1\" >4.70</td>\n",
              "      <td id=\"T_049f1_row6_col2\" class=\"data row6 col2\" >-15.60</td>\n",
              "    </tr>\n",
              "    <tr>\n",
              "      <th id=\"T_049f1_level0_row7\" class=\"row_heading level0 row7\" >CMIG4</th>\n",
              "      <td id=\"T_049f1_row7_col0\" class=\"data row7 col0\" >-3.40</td>\n",
              "      <td id=\"T_049f1_row7_col1\" class=\"data row7 col1\" >0.50</td>\n",
              "      <td id=\"T_049f1_row7_col2\" class=\"data row7 col2\" >-3.10</td>\n",
              "    </tr>\n",
              "    <tr>\n",
              "      <th id=\"T_049f1_level0_row8\" class=\"row_heading level0 row8\" >CMIN3</th>\n",
              "      <td id=\"T_049f1_row8_col0\" class=\"data row8 col0\" >-6.70</td>\n",
              "      <td id=\"T_049f1_row8_col1\" class=\"data row8 col1\" >25.20</td>\n",
              "      <td id=\"T_049f1_row8_col2\" class=\"data row8 col2\" >-5.60</td>\n",
              "    </tr>\n",
              "    <tr>\n",
              "      <th id=\"T_049f1_level0_row9\" class=\"row_heading level0 row9\" >COGN3</th>\n",
              "      <td id=\"T_049f1_row9_col0\" class=\"data row9 col0\" >-100.00</td>\n",
              "      <td id=\"T_049f1_row9_col1\" class=\"data row9 col1\" >15.80</td>\n",
              "      <td id=\"T_049f1_row9_col2\" class=\"data row9 col2\" >18.50</td>\n",
              "    </tr>\n",
              "    <tr>\n",
              "      <th id=\"T_049f1_level0_row10\" class=\"row_heading level0 row10\" >CPFE3</th>\n",
              "      <td id=\"T_049f1_row10_col0\" class=\"data row10 col0\" >-6.20</td>\n",
              "      <td id=\"T_049f1_row10_col1\" class=\"data row10 col1\" >-7.40</td>\n",
              "      <td id=\"T_049f1_row10_col2\" class=\"data row10 col2\" >-5.80</td>\n",
              "    </tr>\n",
              "    <tr>\n",
              "      <th id=\"T_049f1_level0_row11\" class=\"row_heading level0 row11\" >CPLE6</th>\n",
              "      <td id=\"T_049f1_row11_col0\" class=\"data row11 col0\" >3.80</td>\n",
              "      <td id=\"T_049f1_row11_col1\" class=\"data row11 col1\" >-12.30</td>\n",
              "      <td id=\"T_049f1_row11_col2\" class=\"data row11 col2\" >-22.90</td>\n",
              "    </tr>\n",
              "    <tr>\n",
              "      <th id=\"T_049f1_level0_row12\" class=\"row_heading level0 row12\" >CRFB3</th>\n",
              "      <td id=\"T_049f1_row12_col0\" class=\"data row12 col0\" >-13.90</td>\n",
              "      <td id=\"T_049f1_row12_col1\" class=\"data row12 col1\" >-19.50</td>\n",
              "      <td id=\"T_049f1_row12_col2\" class=\"data row12 col2\" >-13.10</td>\n",
              "    </tr>\n",
              "    <tr>\n",
              "      <th id=\"T_049f1_level0_row13\" class=\"row_heading level0 row13\" >CSAN3</th>\n",
              "      <td id=\"T_049f1_row13_col0\" class=\"data row13 col0\" >0.60</td>\n",
              "      <td id=\"T_049f1_row13_col1\" class=\"data row13 col1\" >-100.00</td>\n",
              "      <td id=\"T_049f1_row13_col2\" class=\"data row13 col2\" >-100.00</td>\n",
              "    </tr>\n",
              "    <tr>\n",
              "      <th id=\"T_049f1_level0_row14\" class=\"row_heading level0 row14\" >CSNA3</th>\n",
              "      <td id=\"T_049f1_row14_col0\" class=\"data row14 col0\" >17.50</td>\n",
              "      <td id=\"T_049f1_row14_col1\" class=\"data row14 col1\" >26.80</td>\n",
              "      <td id=\"T_049f1_row14_col2\" class=\"data row14 col2\" >42.00</td>\n",
              "    </tr>\n",
              "  </tbody>\n",
              "</table>\n"
            ],
            "text/plain": [
              "<pandas.io.formats.style.Styler at 0x1940e790d30>"
            ]
          },
          "execution_count": 93,
          "metadata": {},
          "output_type": "execute_result"
        }
      ],
      "source": [
        "result_final[15:30].style.format('{:.2f}', na_rep=\"\").applymap(lambda x: \"font-weight: ; color: white; background-color : #CD0000\" if x < -25 \\\n",
        "                                                        else ( \"font-weight: ; color: black; background-color : #FF6666\" if x <0 \\\n",
        "                                                              else (\"font-weight: ; color: black; background-color : #C1FFC1\" if x <10 \\\n",
        "                                                                  else (\"font-weight: ; color: black; background-color : #43CD80\" if x <20 \\\n",
        "                                                                        else (\"font-weight: ; color: white; background-color : forestgreen\" if x <100 \\\n",
        "                                                                              else (\"font-weight: ; color: black; background-color : lightgray\"))))))"
      ]
    },
    {
      "cell_type": "code",
      "execution_count": 94,
      "metadata": {},
      "outputs": [
        {
          "data": {
            "text/html": [
              "<style type=\"text/css\">\n",
              "#T_9e3ba_row0_col0, #T_9e3ba_row2_col1, #T_9e3ba_row3_col1, #T_9e3ba_row9_col0, #T_9e3ba_row9_col1, #T_9e3ba_row11_col0, #T_9e3ba_row12_col0, #T_9e3ba_row12_col1, #T_9e3ba_row12_col2, #T_9e3ba_row14_col1, #T_9e3ba_row14_col2 {\n",
              "  font-weight: ;\n",
              "  color: black;\n",
              "  background-color: #43CD80;\n",
              "}\n",
              "#T_9e3ba_row0_col1, #T_9e3ba_row14_col0 {\n",
              "  font-weight: ;\n",
              "  color: white;\n",
              "  background-color: forestgreen;\n",
              "}\n",
              "#T_9e3ba_row0_col2, #T_9e3ba_row2_col0, #T_9e3ba_row2_col2, #T_9e3ba_row4_col0, #T_9e3ba_row7_col1, #T_9e3ba_row8_col0, #T_9e3ba_row13_col0 {\n",
              "  font-weight: ;\n",
              "  color: black;\n",
              "  background-color: #C1FFC1;\n",
              "}\n",
              "#T_9e3ba_row1_col0, #T_9e3ba_row1_col1, #T_9e3ba_row1_col2, #T_9e3ba_row3_col0, #T_9e3ba_row3_col2, #T_9e3ba_row4_col1, #T_9e3ba_row4_col2, #T_9e3ba_row5_col0, #T_9e3ba_row5_col1, #T_9e3ba_row5_col2, #T_9e3ba_row6_col0, #T_9e3ba_row6_col1, #T_9e3ba_row6_col2, #T_9e3ba_row7_col0, #T_9e3ba_row7_col2, #T_9e3ba_row8_col1, #T_9e3ba_row8_col2, #T_9e3ba_row9_col2, #T_9e3ba_row10_col0, #T_9e3ba_row10_col1, #T_9e3ba_row10_col2, #T_9e3ba_row11_col1, #T_9e3ba_row11_col2, #T_9e3ba_row13_col1, #T_9e3ba_row13_col2 {\n",
              "  font-weight: ;\n",
              "  color: black;\n",
              "  background-color: #FF6666;\n",
              "}\n",
              "</style>\n",
              "<table id=\"T_9e3ba\">\n",
              "  <thead>\n",
              "    <tr>\n",
              "      <th class=\"blank level0\" >&nbsp;</th>\n",
              "      <th id=\"T_9e3ba_level0_col0\" class=\"col_heading level0 col0\" >monthly</th>\n",
              "      <th id=\"T_9e3ba_level0_col1\" class=\"col_heading level0 col1\" >weekly</th>\n",
              "      <th id=\"T_9e3ba_level0_col2\" class=\"col_heading level0 col2\" >daily</th>\n",
              "    </tr>\n",
              "  </thead>\n",
              "  <tbody>\n",
              "    <tr>\n",
              "      <th id=\"T_9e3ba_level0_row0\" class=\"row_heading level0 row0\" >CVCB3</th>\n",
              "      <td id=\"T_9e3ba_row0_col0\" class=\"data row0 col0\" >16.20</td>\n",
              "      <td id=\"T_9e3ba_row0_col1\" class=\"data row0 col1\" >20.50</td>\n",
              "      <td id=\"T_9e3ba_row0_col2\" class=\"data row0 col2\" >8.50</td>\n",
              "    </tr>\n",
              "    <tr>\n",
              "      <th id=\"T_9e3ba_level0_row1\" class=\"row_heading level0 row1\" >CYRE3</th>\n",
              "      <td id=\"T_9e3ba_row1_col0\" class=\"data row1 col0\" >-7.40</td>\n",
              "      <td id=\"T_9e3ba_row1_col1\" class=\"data row1 col1\" >-7.60</td>\n",
              "      <td id=\"T_9e3ba_row1_col2\" class=\"data row1 col2\" >-10.80</td>\n",
              "    </tr>\n",
              "    <tr>\n",
              "      <th id=\"T_9e3ba_level0_row2\" class=\"row_heading level0 row2\" >DXCO3</th>\n",
              "      <td id=\"T_9e3ba_row2_col0\" class=\"data row2 col0\" >8.00</td>\n",
              "      <td id=\"T_9e3ba_row2_col1\" class=\"data row2 col1\" >14.00</td>\n",
              "      <td id=\"T_9e3ba_row2_col2\" class=\"data row2 col2\" >1.20</td>\n",
              "    </tr>\n",
              "    <tr>\n",
              "      <th id=\"T_9e3ba_level0_row3\" class=\"row_heading level0 row3\" >ECOR3</th>\n",
              "      <td id=\"T_9e3ba_row3_col0\" class=\"data row3 col0\" >-8.20</td>\n",
              "      <td id=\"T_9e3ba_row3_col1\" class=\"data row3 col1\" >11.60</td>\n",
              "      <td id=\"T_9e3ba_row3_col2\" class=\"data row3 col2\" >-1.30</td>\n",
              "    </tr>\n",
              "    <tr>\n",
              "      <th id=\"T_9e3ba_level0_row4\" class=\"row_heading level0 row4\" >EGIE3</th>\n",
              "      <td id=\"T_9e3ba_row4_col0\" class=\"data row4 col0\" >9.60</td>\n",
              "      <td id=\"T_9e3ba_row4_col1\" class=\"data row4 col1\" >-3.50</td>\n",
              "      <td id=\"T_9e3ba_row4_col2\" class=\"data row4 col2\" >-24.60</td>\n",
              "    </tr>\n",
              "    <tr>\n",
              "      <th id=\"T_9e3ba_level0_row5\" class=\"row_heading level0 row5\" >ELET3</th>\n",
              "      <td id=\"T_9e3ba_row5_col0\" class=\"data row5 col0\" >-12.30</td>\n",
              "      <td id=\"T_9e3ba_row5_col1\" class=\"data row5 col1\" >-9.40</td>\n",
              "      <td id=\"T_9e3ba_row5_col2\" class=\"data row5 col2\" >-3.80</td>\n",
              "    </tr>\n",
              "    <tr>\n",
              "      <th id=\"T_9e3ba_level0_row6\" class=\"row_heading level0 row6\" >ELET6</th>\n",
              "      <td id=\"T_9e3ba_row6_col0\" class=\"data row6 col0\" >-11.50</td>\n",
              "      <td id=\"T_9e3ba_row6_col1\" class=\"data row6 col1\" >-1.20</td>\n",
              "      <td id=\"T_9e3ba_row6_col2\" class=\"data row6 col2\" >-5.50</td>\n",
              "    </tr>\n",
              "    <tr>\n",
              "      <th id=\"T_9e3ba_level0_row7\" class=\"row_heading level0 row7\" >EMBR3</th>\n",
              "      <td id=\"T_9e3ba_row7_col0\" class=\"data row7 col0\" >-4.10</td>\n",
              "      <td id=\"T_9e3ba_row7_col1\" class=\"data row7 col1\" >4.80</td>\n",
              "      <td id=\"T_9e3ba_row7_col2\" class=\"data row7 col2\" >-8.70</td>\n",
              "    </tr>\n",
              "    <tr>\n",
              "      <th id=\"T_9e3ba_level0_row8\" class=\"row_heading level0 row8\" >ENBR3</th>\n",
              "      <td id=\"T_9e3ba_row8_col0\" class=\"data row8 col0\" >0.70</td>\n",
              "      <td id=\"T_9e3ba_row8_col1\" class=\"data row8 col1\" >-4.40</td>\n",
              "      <td id=\"T_9e3ba_row8_col2\" class=\"data row8 col2\" >-21.70</td>\n",
              "    </tr>\n",
              "    <tr>\n",
              "      <th id=\"T_9e3ba_level0_row9\" class=\"row_heading level0 row9\" >ENEV3</th>\n",
              "      <td id=\"T_9e3ba_row9_col0\" class=\"data row9 col0\" >13.10</td>\n",
              "      <td id=\"T_9e3ba_row9_col1\" class=\"data row9 col1\" >13.00</td>\n",
              "      <td id=\"T_9e3ba_row9_col2\" class=\"data row9 col2\" >-11.60</td>\n",
              "    </tr>\n",
              "    <tr>\n",
              "      <th id=\"T_9e3ba_level0_row10\" class=\"row_heading level0 row10\" >ENGI11</th>\n",
              "      <td id=\"T_9e3ba_row10_col0\" class=\"data row10 col0\" >-8.60</td>\n",
              "      <td id=\"T_9e3ba_row10_col1\" class=\"data row10 col1\" >-17.30</td>\n",
              "      <td id=\"T_9e3ba_row10_col2\" class=\"data row10 col2\" >-24.50</td>\n",
              "    </tr>\n",
              "    <tr>\n",
              "      <th id=\"T_9e3ba_level0_row11\" class=\"row_heading level0 row11\" >EQTL3</th>\n",
              "      <td id=\"T_9e3ba_row11_col0\" class=\"data row11 col0\" >11.60</td>\n",
              "      <td id=\"T_9e3ba_row11_col1\" class=\"data row11 col1\" >-0.60</td>\n",
              "      <td id=\"T_9e3ba_row11_col2\" class=\"data row11 col2\" >-14.30</td>\n",
              "    </tr>\n",
              "    <tr>\n",
              "      <th id=\"T_9e3ba_level0_row12\" class=\"row_heading level0 row12\" >EZTC3</th>\n",
              "      <td id=\"T_9e3ba_row12_col0\" class=\"data row12 col0\" >15.60</td>\n",
              "      <td id=\"T_9e3ba_row12_col1\" class=\"data row12 col1\" >12.30</td>\n",
              "      <td id=\"T_9e3ba_row12_col2\" class=\"data row12 col2\" >10.00</td>\n",
              "    </tr>\n",
              "    <tr>\n",
              "      <th id=\"T_9e3ba_level0_row13\" class=\"row_heading level0 row13\" >FLRY3</th>\n",
              "      <td id=\"T_9e3ba_row13_col0\" class=\"data row13 col0\" >5.80</td>\n",
              "      <td id=\"T_9e3ba_row13_col1\" class=\"data row13 col1\" >-2.20</td>\n",
              "      <td id=\"T_9e3ba_row13_col2\" class=\"data row13 col2\" >-15.50</td>\n",
              "    </tr>\n",
              "    <tr>\n",
              "      <th id=\"T_9e3ba_level0_row14\" class=\"row_heading level0 row14\" >GGBR4</th>\n",
              "      <td id=\"T_9e3ba_row14_col0\" class=\"data row14 col0\" >26.30</td>\n",
              "      <td id=\"T_9e3ba_row14_col1\" class=\"data row14 col1\" >12.90</td>\n",
              "      <td id=\"T_9e3ba_row14_col2\" class=\"data row14 col2\" >10.40</td>\n",
              "    </tr>\n",
              "  </tbody>\n",
              "</table>\n"
            ],
            "text/plain": [
              "<pandas.io.formats.style.Styler at 0x1940e790130>"
            ]
          },
          "execution_count": 94,
          "metadata": {},
          "output_type": "execute_result"
        }
      ],
      "source": [
        "result_final[30:45].style.format('{:.2f}', na_rep=\"\").applymap(lambda x: \"font-weight: ; color: white; background-color : #CD0000\" if x < -25 \\\n",
        "                                                        else ( \"font-weight: ; color: black; background-color : #FF6666\" if x <0 \\\n",
        "                                                              else (\"font-weight: ; color: black; background-color : #C1FFC1\" if x <10 \\\n",
        "                                                                  else (\"font-weight: ; color: black; background-color : #43CD80\" if x <20 \\\n",
        "                                                                        else (\"font-weight: ; color: white; background-color : forestgreen\" if x <100 \\\n",
        "                                                                              else (\"font-weight: ; color: black; background-color : lightgray\"))))))"
      ]
    },
    {
      "cell_type": "code",
      "execution_count": 95,
      "metadata": {},
      "outputs": [
        {
          "data": {
            "text/html": [
              "<style type=\"text/css\">\n",
              "#T_6252a_row0_col0, #T_6252a_row0_col1, #T_6252a_row1_col2, #T_6252a_row2_col1, #T_6252a_row9_col1, #T_6252a_row10_col2, #T_6252a_row11_col0, #T_6252a_row11_col1, #T_6252a_row11_col2 {\n",
              "  font-weight: ;\n",
              "  color: white;\n",
              "  background-color: forestgreen;\n",
              "}\n",
              "#T_6252a_row0_col2, #T_6252a_row2_col0, #T_6252a_row3_col2, #T_6252a_row10_col0, #T_6252a_row10_col1 {\n",
              "  font-weight: ;\n",
              "  color: black;\n",
              "  background-color: #43CD80;\n",
              "}\n",
              "#T_6252a_row1_col0, #T_6252a_row3_col0, #T_6252a_row4_col1, #T_6252a_row5_col1, #T_6252a_row5_col2, #T_6252a_row6_col1, #T_6252a_row6_col2, #T_6252a_row7_col2, #T_6252a_row8_col0, #T_6252a_row8_col1, #T_6252a_row8_col2, #T_6252a_row12_col0, #T_6252a_row13_col0, #T_6252a_row13_col1, #T_6252a_row13_col2, #T_6252a_row14_col0, #T_6252a_row14_col2 {\n",
              "  font-weight: ;\n",
              "  color: black;\n",
              "  background-color: #FF6666;\n",
              "}\n",
              "#T_6252a_row1_col1, #T_6252a_row2_col2, #T_6252a_row3_col1, #T_6252a_row5_col0, #T_6252a_row6_col0, #T_6252a_row7_col0, #T_6252a_row7_col1, #T_6252a_row9_col0, #T_6252a_row9_col2, #T_6252a_row12_col1, #T_6252a_row12_col2, #T_6252a_row14_col1 {\n",
              "  font-weight: ;\n",
              "  color: black;\n",
              "  background-color: #C1FFC1;\n",
              "}\n",
              "#T_6252a_row4_col0 {\n",
              "  font-weight: ;\n",
              "  color: black;\n",
              "  background-color: lightgray;\n",
              "}\n",
              "#T_6252a_row4_col2 {\n",
              "  font-weight: ;\n",
              "  color: white;\n",
              "  background-color: #CD0000;\n",
              "}\n",
              "</style>\n",
              "<table id=\"T_6252a\">\n",
              "  <thead>\n",
              "    <tr>\n",
              "      <th class=\"blank level0\" >&nbsp;</th>\n",
              "      <th id=\"T_6252a_level0_col0\" class=\"col_heading level0 col0\" >monthly</th>\n",
              "      <th id=\"T_6252a_level0_col1\" class=\"col_heading level0 col1\" >weekly</th>\n",
              "      <th id=\"T_6252a_level0_col2\" class=\"col_heading level0 col2\" >daily</th>\n",
              "    </tr>\n",
              "  </thead>\n",
              "  <tbody>\n",
              "    <tr>\n",
              "      <th id=\"T_6252a_level0_row0\" class=\"row_heading level0 row0\" >GOAU4</th>\n",
              "      <td id=\"T_6252a_row0_col0\" class=\"data row0 col0\" >43.90</td>\n",
              "      <td id=\"T_6252a_row0_col1\" class=\"data row0 col1\" >46.30</td>\n",
              "      <td id=\"T_6252a_row0_col2\" class=\"data row0 col2\" >13.90</td>\n",
              "    </tr>\n",
              "    <tr>\n",
              "      <th id=\"T_6252a_level0_row1\" class=\"row_heading level0 row1\" >GOLL4</th>\n",
              "      <td id=\"T_6252a_row1_col0\" class=\"data row1 col0\" >-4.10</td>\n",
              "      <td id=\"T_6252a_row1_col1\" class=\"data row1 col1\" >1.60</td>\n",
              "      <td id=\"T_6252a_row1_col2\" class=\"data row1 col2\" >25.80</td>\n",
              "    </tr>\n",
              "    <tr>\n",
              "      <th id=\"T_6252a_level0_row2\" class=\"row_heading level0 row2\" >HAPV3</th>\n",
              "      <td id=\"T_6252a_row2_col0\" class=\"data row2 col0\" >12.20</td>\n",
              "      <td id=\"T_6252a_row2_col1\" class=\"data row2 col1\" >21.30</td>\n",
              "      <td id=\"T_6252a_row2_col2\" class=\"data row2 col2\" >7.90</td>\n",
              "    </tr>\n",
              "    <tr>\n",
              "      <th id=\"T_6252a_level0_row3\" class=\"row_heading level0 row3\" >HYPE3</th>\n",
              "      <td id=\"T_6252a_row3_col0\" class=\"data row3 col0\" >-7.30</td>\n",
              "      <td id=\"T_6252a_row3_col1\" class=\"data row3 col1\" >8.50</td>\n",
              "      <td id=\"T_6252a_row3_col2\" class=\"data row3 col2\" >11.30</td>\n",
              "    </tr>\n",
              "    <tr>\n",
              "      <th id=\"T_6252a_level0_row4\" class=\"row_heading level0 row4\" >IGTI11</th>\n",
              "      <td id=\"T_6252a_row4_col0\" class=\"data row4 col0\" ></td>\n",
              "      <td id=\"T_6252a_row4_col1\" class=\"data row4 col1\" >-23.00</td>\n",
              "      <td id=\"T_6252a_row4_col2\" class=\"data row4 col2\" >-50.90</td>\n",
              "    </tr>\n",
              "    <tr>\n",
              "      <th id=\"T_6252a_level0_row5\" class=\"row_heading level0 row5\" >ITSA4</th>\n",
              "      <td id=\"T_6252a_row5_col0\" class=\"data row5 col0\" >3.30</td>\n",
              "      <td id=\"T_6252a_row5_col1\" class=\"data row5 col1\" >-0.10</td>\n",
              "      <td id=\"T_6252a_row5_col2\" class=\"data row5 col2\" >-3.20</td>\n",
              "    </tr>\n",
              "    <tr>\n",
              "      <th id=\"T_6252a_level0_row6\" class=\"row_heading level0 row6\" >ITUB4</th>\n",
              "      <td id=\"T_6252a_row6_col0\" class=\"data row6 col0\" >1.60</td>\n",
              "      <td id=\"T_6252a_row6_col1\" class=\"data row6 col1\" >-11.70</td>\n",
              "      <td id=\"T_6252a_row6_col2\" class=\"data row6 col2\" >-9.40</td>\n",
              "    </tr>\n",
              "    <tr>\n",
              "      <th id=\"T_6252a_level0_row7\" class=\"row_heading level0 row7\" >JBSS3</th>\n",
              "      <td id=\"T_6252a_row7_col0\" class=\"data row7 col0\" >2.00</td>\n",
              "      <td id=\"T_6252a_row7_col1\" class=\"data row7 col1\" >4.80</td>\n",
              "      <td id=\"T_6252a_row7_col2\" class=\"data row7 col2\" >-20.90</td>\n",
              "    </tr>\n",
              "    <tr>\n",
              "      <th id=\"T_6252a_level0_row8\" class=\"row_heading level0 row8\" >KLBN11</th>\n",
              "      <td id=\"T_6252a_row8_col0\" class=\"data row8 col0\" >-2.60</td>\n",
              "      <td id=\"T_6252a_row8_col1\" class=\"data row8 col1\" >-4.70</td>\n",
              "      <td id=\"T_6252a_row8_col2\" class=\"data row8 col2\" >-0.90</td>\n",
              "    </tr>\n",
              "    <tr>\n",
              "      <th id=\"T_6252a_level0_row9\" class=\"row_heading level0 row9\" >LREN3</th>\n",
              "      <td id=\"T_6252a_row9_col0\" class=\"data row9 col0\" >4.20</td>\n",
              "      <td id=\"T_6252a_row9_col1\" class=\"data row9 col1\" >21.00</td>\n",
              "      <td id=\"T_6252a_row9_col2\" class=\"data row9 col2\" >1.00</td>\n",
              "    </tr>\n",
              "    <tr>\n",
              "      <th id=\"T_6252a_level0_row10\" class=\"row_heading level0 row10\" >LWSA3</th>\n",
              "      <td id=\"T_6252a_row10_col0\" class=\"data row10 col0\" >19.10</td>\n",
              "      <td id=\"T_6252a_row10_col1\" class=\"data row10 col1\" >17.10</td>\n",
              "      <td id=\"T_6252a_row10_col2\" class=\"data row10 col2\" >33.60</td>\n",
              "    </tr>\n",
              "    <tr>\n",
              "      <th id=\"T_6252a_level0_row11\" class=\"row_heading level0 row11\" >MGLU3</th>\n",
              "      <td id=\"T_6252a_row11_col0\" class=\"data row11 col0\" >57.50</td>\n",
              "      <td id=\"T_6252a_row11_col1\" class=\"data row11 col1\" >33.70</td>\n",
              "      <td id=\"T_6252a_row11_col2\" class=\"data row11 col2\" >30.70</td>\n",
              "    </tr>\n",
              "    <tr>\n",
              "      <th id=\"T_6252a_level0_row12\" class=\"row_heading level0 row12\" >MRFG3</th>\n",
              "      <td id=\"T_6252a_row12_col0\" class=\"data row12 col0\" >-8.90</td>\n",
              "      <td id=\"T_6252a_row12_col1\" class=\"data row12 col1\" >5.20</td>\n",
              "      <td id=\"T_6252a_row12_col2\" class=\"data row12 col2\" >0.70</td>\n",
              "    </tr>\n",
              "    <tr>\n",
              "      <th id=\"T_6252a_level0_row13\" class=\"row_heading level0 row13\" >MRVE3</th>\n",
              "      <td id=\"T_6252a_row13_col0\" class=\"data row13 col0\" >-10.90</td>\n",
              "      <td id=\"T_6252a_row13_col1\" class=\"data row13 col1\" >-3.40</td>\n",
              "      <td id=\"T_6252a_row13_col2\" class=\"data row13 col2\" >-8.00</td>\n",
              "    </tr>\n",
              "    <tr>\n",
              "      <th id=\"T_6252a_level0_row14\" class=\"row_heading level0 row14\" >MULT3</th>\n",
              "      <td id=\"T_6252a_row14_col0\" class=\"data row14 col0\" >-1.60</td>\n",
              "      <td id=\"T_6252a_row14_col1\" class=\"data row14 col1\" >0.70</td>\n",
              "      <td id=\"T_6252a_row14_col2\" class=\"data row14 col2\" >-13.00</td>\n",
              "    </tr>\n",
              "  </tbody>\n",
              "</table>\n"
            ],
            "text/plain": [
              "<pandas.io.formats.style.Styler at 0x1940efb4160>"
            ]
          },
          "execution_count": 95,
          "metadata": {},
          "output_type": "execute_result"
        }
      ],
      "source": [
        "result_final[45:60].style.format('{:.2f}', na_rep=\"\").applymap(lambda x: \"font-weight: ; color: white; background-color : #CD0000\" if x < -25 \\\n",
        "                                                        else ( \"font-weight: ; color: black; background-color : #FF6666\" if x <0 \\\n",
        "                                                              else (\"font-weight: ; color: black; background-color : #C1FFC1\" if x <10 \\\n",
        "                                                                  else (\"font-weight: ; color: black; background-color : #43CD80\" if x <20 \\\n",
        "                                                                        else (\"font-weight: ; color: white; background-color : forestgreen\" if x <100 \\\n",
        "                                                                              else (\"font-weight: ; color: black; background-color : lightgray\"))))))"
      ]
    },
    {
      "cell_type": "code",
      "execution_count": 96,
      "metadata": {},
      "outputs": [
        {
          "data": {
            "text/html": [
              "<style type=\"text/css\">\n",
              "#T_58feb_row0_col0, #T_58feb_row0_col1, #T_58feb_row1_col1, #T_58feb_row1_col2, #T_58feb_row3_col1, #T_58feb_row6_col0, #T_58feb_row7_col0, #T_58feb_row7_col1, #T_58feb_row8_col0, #T_58feb_row8_col1, #T_58feb_row9_col1, #T_58feb_row11_col1, #T_58feb_row14_col0, #T_58feb_row14_col1 {\n",
              "  font-weight: ;\n",
              "  color: black;\n",
              "  background-color: #C1FFC1;\n",
              "}\n",
              "#T_58feb_row0_col2, #T_58feb_row1_col0, #T_58feb_row2_col0, #T_58feb_row3_col0, #T_58feb_row4_col1, #T_58feb_row5_col1, #T_58feb_row6_col2, #T_58feb_row7_col2, #T_58feb_row8_col2, #T_58feb_row9_col2, #T_58feb_row10_col1, #T_58feb_row11_col0, #T_58feb_row11_col2, #T_58feb_row12_col0, #T_58feb_row13_col0, #T_58feb_row13_col1, #T_58feb_row13_col2, #T_58feb_row14_col2 {\n",
              "  font-weight: ;\n",
              "  color: black;\n",
              "  background-color: #FF6666;\n",
              "}\n",
              "#T_58feb_row2_col1, #T_58feb_row4_col2, #T_58feb_row12_col1 {\n",
              "  font-weight: ;\n",
              "  color: white;\n",
              "  background-color: #CD0000;\n",
              "}\n",
              "#T_58feb_row2_col2, #T_58feb_row3_col2 {\n",
              "  font-weight: ;\n",
              "  color: black;\n",
              "  background-color: #43CD80;\n",
              "}\n",
              "#T_58feb_row4_col0, #T_58feb_row9_col0, #T_58feb_row10_col0 {\n",
              "  font-weight: ;\n",
              "  color: black;\n",
              "  background-color: lightgray;\n",
              "}\n",
              "#T_58feb_row5_col0, #T_58feb_row5_col2, #T_58feb_row6_col1, #T_58feb_row10_col2, #T_58feb_row12_col2 {\n",
              "  font-weight: ;\n",
              "  color: white;\n",
              "  background-color: forestgreen;\n",
              "}\n",
              "</style>\n",
              "<table id=\"T_58feb\">\n",
              "  <thead>\n",
              "    <tr>\n",
              "      <th class=\"blank level0\" >&nbsp;</th>\n",
              "      <th id=\"T_58feb_level0_col0\" class=\"col_heading level0 col0\" >monthly</th>\n",
              "      <th id=\"T_58feb_level0_col1\" class=\"col_heading level0 col1\" >weekly</th>\n",
              "      <th id=\"T_58feb_level0_col2\" class=\"col_heading level0 col2\" >daily</th>\n",
              "    </tr>\n",
              "  </thead>\n",
              "  <tbody>\n",
              "    <tr>\n",
              "      <th id=\"T_58feb_level0_row0\" class=\"row_heading level0 row0\" >NTCO3</th>\n",
              "      <td id=\"T_58feb_row0_col0\" class=\"data row0 col0\" >5.50</td>\n",
              "      <td id=\"T_58feb_row0_col1\" class=\"data row0 col1\" >2.20</td>\n",
              "      <td id=\"T_58feb_row0_col2\" class=\"data row0 col2\" >-8.90</td>\n",
              "    </tr>\n",
              "    <tr>\n",
              "      <th id=\"T_58feb_level0_row1\" class=\"row_heading level0 row1\" >PCAR3</th>\n",
              "      <td id=\"T_58feb_row1_col0\" class=\"data row1 col0\" >-0.70</td>\n",
              "      <td id=\"T_58feb_row1_col1\" class=\"data row1 col1\" >0.40</td>\n",
              "      <td id=\"T_58feb_row1_col2\" class=\"data row1 col2\" >0.30</td>\n",
              "    </tr>\n",
              "    <tr>\n",
              "      <th id=\"T_58feb_level0_row2\" class=\"row_heading level0 row2\" >PETR3</th>\n",
              "      <td id=\"T_58feb_row2_col0\" class=\"data row2 col0\" >-1.70</td>\n",
              "      <td id=\"T_58feb_row2_col1\" class=\"data row2 col1\" >-100.00</td>\n",
              "      <td id=\"T_58feb_row2_col2\" class=\"data row2 col2\" >10.70</td>\n",
              "    </tr>\n",
              "    <tr>\n",
              "      <th id=\"T_58feb_level0_row3\" class=\"row_heading level0 row3\" >PETR4</th>\n",
              "      <td id=\"T_58feb_row3_col0\" class=\"data row3 col0\" >-5.80</td>\n",
              "      <td id=\"T_58feb_row3_col1\" class=\"data row3 col1\" >8.00</td>\n",
              "      <td id=\"T_58feb_row3_col2\" class=\"data row3 col2\" >11.60</td>\n",
              "    </tr>\n",
              "    <tr>\n",
              "      <th id=\"T_58feb_level0_row4\" class=\"row_heading level0 row4\" >PETZ3</th>\n",
              "      <td id=\"T_58feb_row4_col0\" class=\"data row4 col0\" ></td>\n",
              "      <td id=\"T_58feb_row4_col1\" class=\"data row4 col1\" >-0.80</td>\n",
              "      <td id=\"T_58feb_row4_col2\" class=\"data row4 col2\" >-25.10</td>\n",
              "    </tr>\n",
              "    <tr>\n",
              "      <th id=\"T_58feb_level0_row5\" class=\"row_heading level0 row5\" >PRIO3</th>\n",
              "      <td id=\"T_58feb_row5_col0\" class=\"data row5 col0\" >39.80</td>\n",
              "      <td id=\"T_58feb_row5_col1\" class=\"data row5 col1\" >-12.60</td>\n",
              "      <td id=\"T_58feb_row5_col2\" class=\"data row5 col2\" >31.40</td>\n",
              "    </tr>\n",
              "    <tr>\n",
              "      <th id=\"T_58feb_level0_row6\" class=\"row_heading level0 row6\" >QUAL3</th>\n",
              "      <td id=\"T_58feb_row6_col0\" class=\"data row6 col0\" >7.50</td>\n",
              "      <td id=\"T_58feb_row6_col1\" class=\"data row6 col1\" >20.90</td>\n",
              "      <td id=\"T_58feb_row6_col2\" class=\"data row6 col2\" >-3.40</td>\n",
              "    </tr>\n",
              "    <tr>\n",
              "      <th id=\"T_58feb_level0_row7\" class=\"row_heading level0 row7\" >RADL3</th>\n",
              "      <td id=\"T_58feb_row7_col0\" class=\"data row7 col0\" >5.20</td>\n",
              "      <td id=\"T_58feb_row7_col1\" class=\"data row7 col1\" >4.20</td>\n",
              "      <td id=\"T_58feb_row7_col2\" class=\"data row7 col2\" >-6.70</td>\n",
              "    </tr>\n",
              "    <tr>\n",
              "      <th id=\"T_58feb_level0_row8\" class=\"row_heading level0 row8\" >RAIL3</th>\n",
              "      <td id=\"T_58feb_row8_col0\" class=\"data row8 col0\" >2.40</td>\n",
              "      <td id=\"T_58feb_row8_col1\" class=\"data row8 col1\" >8.70</td>\n",
              "      <td id=\"T_58feb_row8_col2\" class=\"data row8 col2\" >-6.50</td>\n",
              "    </tr>\n",
              "    <tr>\n",
              "      <th id=\"T_58feb_level0_row9\" class=\"row_heading level0 row9\" >RAIZ4</th>\n",
              "      <td id=\"T_58feb_row9_col0\" class=\"data row9 col0\" ></td>\n",
              "      <td id=\"T_58feb_row9_col1\" class=\"data row9 col1\" >8.90</td>\n",
              "      <td id=\"T_58feb_row9_col2\" class=\"data row9 col2\" >-15.00</td>\n",
              "    </tr>\n",
              "    <tr>\n",
              "      <th id=\"T_58feb_level0_row10\" class=\"row_heading level0 row10\" >RDOR3</th>\n",
              "      <td id=\"T_58feb_row10_col0\" class=\"data row10 col0\" ></td>\n",
              "      <td id=\"T_58feb_row10_col1\" class=\"data row10 col1\" >-7.00</td>\n",
              "      <td id=\"T_58feb_row10_col2\" class=\"data row10 col2\" >21.10</td>\n",
              "    </tr>\n",
              "    <tr>\n",
              "      <th id=\"T_58feb_level0_row11\" class=\"row_heading level0 row11\" >RENT3</th>\n",
              "      <td id=\"T_58feb_row11_col0\" class=\"data row11 col0\" >-5.30</td>\n",
              "      <td id=\"T_58feb_row11_col1\" class=\"data row11 col1\" >2.00</td>\n",
              "      <td id=\"T_58feb_row11_col2\" class=\"data row11 col2\" >-8.50</td>\n",
              "    </tr>\n",
              "    <tr>\n",
              "      <th id=\"T_58feb_level0_row12\" class=\"row_heading level0 row12\" >RRRP3</th>\n",
              "      <td id=\"T_58feb_row12_col0\" class=\"data row12 col0\" >-18.90</td>\n",
              "      <td id=\"T_58feb_row12_col1\" class=\"data row12 col1\" >-46.60</td>\n",
              "      <td id=\"T_58feb_row12_col2\" class=\"data row12 col2\" >99.60</td>\n",
              "    </tr>\n",
              "    <tr>\n",
              "      <th id=\"T_58feb_level0_row13\" class=\"row_heading level0 row13\" >SANB11</th>\n",
              "      <td id=\"T_58feb_row13_col0\" class=\"data row13 col0\" >-5.30</td>\n",
              "      <td id=\"T_58feb_row13_col1\" class=\"data row13 col1\" >-9.50</td>\n",
              "      <td id=\"T_58feb_row13_col2\" class=\"data row13 col2\" >-8.20</td>\n",
              "    </tr>\n",
              "    <tr>\n",
              "      <th id=\"T_58feb_level0_row14\" class=\"row_heading level0 row14\" >SBSP3</th>\n",
              "      <td id=\"T_58feb_row14_col0\" class=\"data row14 col0\" >9.30</td>\n",
              "      <td id=\"T_58feb_row14_col1\" class=\"data row14 col1\" >4.10</td>\n",
              "      <td id=\"T_58feb_row14_col2\" class=\"data row14 col2\" >-10.30</td>\n",
              "    </tr>\n",
              "  </tbody>\n",
              "</table>\n"
            ],
            "text/plain": [
              "<pandas.io.formats.style.Styler at 0x1940e791db0>"
            ]
          },
          "execution_count": 96,
          "metadata": {},
          "output_type": "execute_result"
        }
      ],
      "source": [
        "result_final[60:75].style.format('{:.2f}', na_rep=\"\").applymap(lambda x: \"font-weight: ; color: white; background-color : #CD0000\" if x < -25 \\\n",
        "                                                        else ( \"font-weight: ; color: black; background-color : #FF6666\" if x <0 \\\n",
        "                                                              else (\"font-weight: ; color: black; background-color : #C1FFC1\" if x <10 \\\n",
        "                                                                  else (\"font-weight: ; color: black; background-color : #43CD80\" if x <20 \\\n",
        "                                                                        else (\"font-weight: ; color: white; background-color : forestgreen\" if x <100 \\\n",
        "                                                                              else (\"font-weight: ; color: black; background-color : lightgray\"))))))"
      ]
    },
    {
      "cell_type": "code",
      "execution_count": 97,
      "metadata": {},
      "outputs": [
        {
          "data": {
            "text/html": [
              "<style type=\"text/css\">\n",
              "#T_e2b4a_row0_col0, #T_e2b4a_row0_col2, #T_e2b4a_row1_col0, #T_e2b4a_row1_col1, #T_e2b4a_row1_col2, #T_e2b4a_row2_col0, #T_e2b4a_row2_col1, #T_e2b4a_row2_col2, #T_e2b4a_row3_col0, #T_e2b4a_row3_col1, #T_e2b4a_row4_col0, #T_e2b4a_row4_col1, #T_e2b4a_row4_col2, #T_e2b4a_row5_col0, #T_e2b4a_row5_col1, #T_e2b4a_row5_col2, #T_e2b4a_row6_col0, #T_e2b4a_row6_col2, #T_e2b4a_row7_col1, #T_e2b4a_row9_col0, #T_e2b4a_row9_col2, #T_e2b4a_row10_col0, #T_e2b4a_row10_col1, #T_e2b4a_row10_col2, #T_e2b4a_row11_col1, #T_e2b4a_row11_col2, #T_e2b4a_row12_col1, #T_e2b4a_row14_col0, #T_e2b4a_row14_col1 {\n",
              "  font-weight: ;\n",
              "  color: black;\n",
              "  background-color: #FF6666;\n",
              "}\n",
              "#T_e2b4a_row0_col1, #T_e2b4a_row3_col2, #T_e2b4a_row6_col1, #T_e2b4a_row7_col2, #T_e2b4a_row9_col1, #T_e2b4a_row12_col0, #T_e2b4a_row13_col0, #T_e2b4a_row13_col2, #T_e2b4a_row14_col2 {\n",
              "  font-weight: ;\n",
              "  color: black;\n",
              "  background-color: #C1FFC1;\n",
              "}\n",
              "#T_e2b4a_row7_col0, #T_e2b4a_row8_col2, #T_e2b4a_row13_col1 {\n",
              "  font-weight: ;\n",
              "  color: black;\n",
              "  background-color: #43CD80;\n",
              "}\n",
              "#T_e2b4a_row8_col0, #T_e2b4a_row8_col1 {\n",
              "  font-weight: ;\n",
              "  color: white;\n",
              "  background-color: forestgreen;\n",
              "}\n",
              "#T_e2b4a_row11_col0, #T_e2b4a_row12_col2 {\n",
              "  font-weight: ;\n",
              "  color: white;\n",
              "  background-color: #CD0000;\n",
              "}\n",
              "</style>\n",
              "<table id=\"T_e2b4a\">\n",
              "  <thead>\n",
              "    <tr>\n",
              "      <th class=\"blank level0\" >&nbsp;</th>\n",
              "      <th id=\"T_e2b4a_level0_col0\" class=\"col_heading level0 col0\" >monthly</th>\n",
              "      <th id=\"T_e2b4a_level0_col1\" class=\"col_heading level0 col1\" >weekly</th>\n",
              "      <th id=\"T_e2b4a_level0_col2\" class=\"col_heading level0 col2\" >daily</th>\n",
              "    </tr>\n",
              "  </thead>\n",
              "  <tbody>\n",
              "    <tr>\n",
              "      <th id=\"T_e2b4a_level0_row0\" class=\"row_heading level0 row0\" >SLCE3</th>\n",
              "      <td id=\"T_e2b4a_row0_col0\" class=\"data row0 col0\" >-4.40</td>\n",
              "      <td id=\"T_e2b4a_row0_col1\" class=\"data row0 col1\" >5.80</td>\n",
              "      <td id=\"T_e2b4a_row0_col2\" class=\"data row0 col2\" >-11.10</td>\n",
              "    </tr>\n",
              "    <tr>\n",
              "      <th id=\"T_e2b4a_level0_row1\" class=\"row_heading level0 row1\" >SMTO3</th>\n",
              "      <td id=\"T_e2b4a_row1_col0\" class=\"data row1 col0\" >-9.10</td>\n",
              "      <td id=\"T_e2b4a_row1_col1\" class=\"data row1 col1\" >-17.40</td>\n",
              "      <td id=\"T_e2b4a_row1_col2\" class=\"data row1 col2\" >-7.20</td>\n",
              "    </tr>\n",
              "    <tr>\n",
              "      <th id=\"T_e2b4a_level0_row2\" class=\"row_heading level0 row2\" >SOMA3</th>\n",
              "      <td id=\"T_e2b4a_row2_col0\" class=\"data row2 col0\" >-14.10</td>\n",
              "      <td id=\"T_e2b4a_row2_col1\" class=\"data row2 col1\" >-10.20</td>\n",
              "      <td id=\"T_e2b4a_row2_col2\" class=\"data row2 col2\" >-0.80</td>\n",
              "    </tr>\n",
              "    <tr>\n",
              "      <th id=\"T_e2b4a_level0_row3\" class=\"row_heading level0 row3\" >SUZB3</th>\n",
              "      <td id=\"T_e2b4a_row3_col0\" class=\"data row3 col0\" >-2.40</td>\n",
              "      <td id=\"T_e2b4a_row3_col1\" class=\"data row3 col1\" >-9.70</td>\n",
              "      <td id=\"T_e2b4a_row3_col2\" class=\"data row3 col2\" >9.70</td>\n",
              "    </tr>\n",
              "    <tr>\n",
              "      <th id=\"T_e2b4a_level0_row4\" class=\"row_heading level0 row4\" >TAEE11</th>\n",
              "      <td id=\"T_e2b4a_row4_col0\" class=\"data row4 col0\" >-11.60</td>\n",
              "      <td id=\"T_e2b4a_row4_col1\" class=\"data row4 col1\" >-4.60</td>\n",
              "      <td id=\"T_e2b4a_row4_col2\" class=\"data row4 col2\" >-15.90</td>\n",
              "    </tr>\n",
              "    <tr>\n",
              "      <th id=\"T_e2b4a_level0_row5\" class=\"row_heading level0 row5\" >TIMS3</th>\n",
              "      <td id=\"T_e2b4a_row5_col0\" class=\"data row5 col0\" >-4.60</td>\n",
              "      <td id=\"T_e2b4a_row5_col1\" class=\"data row5 col1\" >-15.90</td>\n",
              "      <td id=\"T_e2b4a_row5_col2\" class=\"data row5 col2\" >-16.50</td>\n",
              "    </tr>\n",
              "    <tr>\n",
              "      <th id=\"T_e2b4a_level0_row6\" class=\"row_heading level0 row6\" >TOTS3</th>\n",
              "      <td id=\"T_e2b4a_row6_col0\" class=\"data row6 col0\" >-3.50</td>\n",
              "      <td id=\"T_e2b4a_row6_col1\" class=\"data row6 col1\" >2.40</td>\n",
              "      <td id=\"T_e2b4a_row6_col2\" class=\"data row6 col2\" >-8.80</td>\n",
              "    </tr>\n",
              "    <tr>\n",
              "      <th id=\"T_e2b4a_level0_row7\" class=\"row_heading level0 row7\" >UGPA3</th>\n",
              "      <td id=\"T_e2b4a_row7_col0\" class=\"data row7 col0\" >13.10</td>\n",
              "      <td id=\"T_e2b4a_row7_col1\" class=\"data row7 col1\" >-4.50</td>\n",
              "      <td id=\"T_e2b4a_row7_col2\" class=\"data row7 col2\" >4.70</td>\n",
              "    </tr>\n",
              "    <tr>\n",
              "      <th id=\"T_e2b4a_level0_row8\" class=\"row_heading level0 row8\" >USIM5</th>\n",
              "      <td id=\"T_e2b4a_row8_col0\" class=\"data row8 col0\" >27.20</td>\n",
              "      <td id=\"T_e2b4a_row8_col1\" class=\"data row8 col1\" >40.40</td>\n",
              "      <td id=\"T_e2b4a_row8_col2\" class=\"data row8 col2\" >14.90</td>\n",
              "    </tr>\n",
              "    <tr>\n",
              "      <th id=\"T_e2b4a_level0_row9\" class=\"row_heading level0 row9\" >VALE3</th>\n",
              "      <td id=\"T_e2b4a_row9_col0\" class=\"data row9 col0\" >-1.80</td>\n",
              "      <td id=\"T_e2b4a_row9_col1\" class=\"data row9 col1\" >6.70</td>\n",
              "      <td id=\"T_e2b4a_row9_col2\" class=\"data row9 col2\" >-8.10</td>\n",
              "    </tr>\n",
              "    <tr>\n",
              "      <th id=\"T_e2b4a_level0_row10\" class=\"row_heading level0 row10\" >VBBR3</th>\n",
              "      <td id=\"T_e2b4a_row10_col0\" class=\"data row10 col0\" >-17.00</td>\n",
              "      <td id=\"T_e2b4a_row10_col1\" class=\"data row10 col1\" >-14.10</td>\n",
              "      <td id=\"T_e2b4a_row10_col2\" class=\"data row10 col2\" >-21.70</td>\n",
              "    </tr>\n",
              "    <tr>\n",
              "      <th id=\"T_e2b4a_level0_row11\" class=\"row_heading level0 row11\" >VIIA3</th>\n",
              "      <td id=\"T_e2b4a_row11_col0\" class=\"data row11 col0\" >-34.90</td>\n",
              "      <td id=\"T_e2b4a_row11_col1\" class=\"data row11 col1\" >-13.30</td>\n",
              "      <td id=\"T_e2b4a_row11_col2\" class=\"data row11 col2\" >-0.10</td>\n",
              "    </tr>\n",
              "    <tr>\n",
              "      <th id=\"T_e2b4a_level0_row12\" class=\"row_heading level0 row12\" >VIVT3</th>\n",
              "      <td id=\"T_e2b4a_row12_col0\" class=\"data row12 col0\" >2.20</td>\n",
              "      <td id=\"T_e2b4a_row12_col1\" class=\"data row12 col1\" >-4.20</td>\n",
              "      <td id=\"T_e2b4a_row12_col2\" class=\"data row12 col2\" >-25.40</td>\n",
              "    </tr>\n",
              "    <tr>\n",
              "      <th id=\"T_e2b4a_level0_row13\" class=\"row_heading level0 row13\" >WEGE3</th>\n",
              "      <td id=\"T_e2b4a_row13_col0\" class=\"data row13 col0\" >7.00</td>\n",
              "      <td id=\"T_e2b4a_row13_col1\" class=\"data row13 col1\" >13.50</td>\n",
              "      <td id=\"T_e2b4a_row13_col2\" class=\"data row13 col2\" >0.60</td>\n",
              "    </tr>\n",
              "    <tr>\n",
              "      <th id=\"T_e2b4a_level0_row14\" class=\"row_heading level0 row14\" >YDUQ3</th>\n",
              "      <td id=\"T_e2b4a_row14_col0\" class=\"data row14 col0\" >-3.60</td>\n",
              "      <td id=\"T_e2b4a_row14_col1\" class=\"data row14 col1\" >-5.30</td>\n",
              "      <td id=\"T_e2b4a_row14_col2\" class=\"data row14 col2\" >8.70</td>\n",
              "    </tr>\n",
              "  </tbody>\n",
              "</table>\n"
            ],
            "text/plain": [
              "<pandas.io.formats.style.Styler at 0x1940e74e110>"
            ]
          },
          "execution_count": 97,
          "metadata": {},
          "output_type": "execute_result"
        }
      ],
      "source": [
        "result_final[75:].style.format('{:.2f}', na_rep=\"\").applymap(lambda x: \"font-weight: ; color: white; background-color : #CD0000\" if x < -25 \\\n",
        "                                                        else ( \"font-weight: ; color: black; background-color : #FF6666\" if x <0 \\\n",
        "                                                              else (\"font-weight: ; color: black; background-color : #C1FFC1\" if x <10 \\\n",
        "                                                                  else (\"font-weight: ; color: black; background-color : #43CD80\" if x <20 \\\n",
        "                                                                        else (\"font-weight: ; color: white; background-color : forestgreen\" if x <100 \\\n",
        "                                                                              else (\"font-weight: ; color: black; background-color : lightgray\"))))))"
      ]
    },
    {
      "cell_type": "code",
      "execution_count": 98,
      "metadata": {},
      "outputs": [
        {
          "data": {
            "text/html": [
              "<div>\n",
              "<style scoped>\n",
              "    .dataframe tbody tr th:only-of-type {\n",
              "        vertical-align: middle;\n",
              "    }\n",
              "\n",
              "    .dataframe tbody tr th {\n",
              "        vertical-align: top;\n",
              "    }\n",
              "\n",
              "    .dataframe thead th {\n",
              "        text-align: right;\n",
              "    }\n",
              "</style>\n",
              "<table border=\"1\" class=\"dataframe\">\n",
              "  <thead>\n",
              "    <tr style=\"text-align: right;\">\n",
              "      <th></th>\n",
              "      <th>monthly</th>\n",
              "      <th>weekly</th>\n",
              "      <th>daily</th>\n",
              "    </tr>\n",
              "  </thead>\n",
              "  <tbody>\n",
              "    <tr>\n",
              "      <th>count</th>\n",
              "      <td>85.00</td>\n",
              "      <td>90.00</td>\n",
              "      <td>90.00</td>\n",
              "    </tr>\n",
              "    <tr>\n",
              "      <th>mean</th>\n",
              "      <td>-1.79</td>\n",
              "      <td>0.30</td>\n",
              "      <td>-3.00</td>\n",
              "    </tr>\n",
              "    <tr>\n",
              "      <th>std</th>\n",
              "      <td>23.43</td>\n",
              "      <td>23.78</td>\n",
              "      <td>23.65</td>\n",
              "    </tr>\n",
              "    <tr>\n",
              "      <th>min</th>\n",
              "      <td>-100.00</td>\n",
              "      <td>-100.00</td>\n",
              "      <td>-100.00</td>\n",
              "    </tr>\n",
              "    <tr>\n",
              "      <th>25%</th>\n",
              "      <td>-7.30</td>\n",
              "      <td>-6.58</td>\n",
              "      <td>-11.48</td>\n",
              "    </tr>\n",
              "    <tr>\n",
              "      <th>50%</th>\n",
              "      <td>-1.60</td>\n",
              "      <td>1.80</td>\n",
              "      <td>-3.30</td>\n",
              "    </tr>\n",
              "    <tr>\n",
              "      <th>75%</th>\n",
              "      <td>8.00</td>\n",
              "      <td>12.12</td>\n",
              "      <td>8.40</td>\n",
              "    </tr>\n",
              "    <tr>\n",
              "      <th>max</th>\n",
              "      <td>57.50</td>\n",
              "      <td>46.30</td>\n",
              "      <td>99.60</td>\n",
              "    </tr>\n",
              "  </tbody>\n",
              "</table>\n",
              "</div>"
            ],
            "text/plain": [
              "       monthly  weekly   daily\n",
              "count    85.00   90.00   90.00\n",
              "mean     -1.79    0.30   -3.00\n",
              "std      23.43   23.78   23.65\n",
              "min    -100.00 -100.00 -100.00\n",
              "25%      -7.30   -6.58  -11.48\n",
              "50%      -1.60    1.80   -3.30\n",
              "75%       8.00   12.12    8.40\n",
              "max      57.50   46.30   99.60"
            ]
          },
          "execution_count": 98,
          "metadata": {},
          "output_type": "execute_result"
        }
      ],
      "source": [
        "round(result_final.describe(),2)"
      ]
    },
    {
      "cell_type": "code",
      "execution_count": 99,
      "metadata": {},
      "outputs": [
        {
          "data": {
            "application/vnd.plotly.v1+json": {
              "config": {
                "plotlyServerURL": "https://plot.ly"
              },
              "data": [
                {
                  "boxmean": true,
                  "boxpoints": "all",
                  "marker": {
                    "color": "red"
                  },
                  "name": "Monthly",
                  "type": "box",
                  "y": [
                    1.1,
                    -6.8,
                    -0.8,
                    -100,
                    3,
                    -5.1,
                    2,
                    -100,
                    -1.6,
                    -2.8,
                    8.4,
                    9.6,
                    -0.5,
                    -11,
                    -12.9,
                    -22.8,
                    23.5,
                    17.5,
                    13.2,
                    -7.9,
                    12.2,
                    -3.4,
                    -6.7,
                    -100,
                    -6.2,
                    3.8,
                    -13.9,
                    0.6,
                    17.5,
                    16.2,
                    -7.4,
                    8,
                    -8.2,
                    9.6,
                    -12.3,
                    -11.5,
                    -4.1,
                    0.7,
                    13.1,
                    -8.6,
                    11.6,
                    15.6,
                    5.8,
                    26.3,
                    43.9,
                    -4.1,
                    12.2,
                    -7.3,
                    3.3,
                    1.6,
                    2,
                    -2.6,
                    4.2,
                    19.1,
                    57.5,
                    -8.9,
                    -10.9,
                    -1.6,
                    5.5,
                    -0.7,
                    -1.7,
                    -5.8,
                    39.8,
                    7.5,
                    5.2,
                    2.4,
                    -5.3,
                    -18.9,
                    -5.3,
                    9.3,
                    -4.4,
                    -9.1,
                    -14.1,
                    -2.4,
                    -11.6,
                    -4.6,
                    -3.5,
                    13.1,
                    27.2,
                    -1.8,
                    -17,
                    -34.9,
                    2.2,
                    7,
                    -3.6
                  ]
                },
                {
                  "boxmean": true,
                  "boxpoints": "all",
                  "marker": {
                    "color": "blue"
                  },
                  "name": "Weekly",
                  "type": "box",
                  "y": [
                    1.1,
                    -6.8,
                    -0.8,
                    -100,
                    3,
                    -5.1,
                    2,
                    -100,
                    -1.6,
                    -2.8,
                    8.4,
                    9.6,
                    -0.5,
                    -11,
                    -12.9,
                    -22.8,
                    23.5,
                    17.5,
                    13.2,
                    null,
                    -7.9,
                    12.2,
                    -3.4,
                    -6.7,
                    -100,
                    -6.2,
                    3.8,
                    -13.9,
                    0.6,
                    17.5,
                    16.2,
                    -7.4,
                    8,
                    -8.2,
                    9.6,
                    -12.3,
                    -11.5,
                    -4.1,
                    0.7,
                    13.1,
                    -8.6,
                    11.6,
                    15.6,
                    5.8,
                    26.3,
                    43.9,
                    -4.1,
                    12.2,
                    -7.3,
                    null,
                    3.3,
                    1.6,
                    2,
                    -2.6,
                    4.2,
                    19.1,
                    57.5,
                    -8.9,
                    -10.9,
                    -1.6,
                    5.5,
                    -0.7,
                    -1.7,
                    -5.8,
                    null,
                    39.8,
                    7.5,
                    5.2,
                    2.4,
                    null,
                    null,
                    -5.3,
                    -18.9,
                    -5.3,
                    9.3,
                    -4.4,
                    -9.1,
                    -14.1,
                    -2.4,
                    -11.6,
                    -4.6,
                    -3.5,
                    13.1,
                    27.2,
                    -1.8,
                    -17,
                    -34.9,
                    2.2,
                    7,
                    -3.6
                  ]
                },
                {
                  "boxmean": true,
                  "boxpoints": "all",
                  "marker": {
                    "color": "green"
                  },
                  "name": "Daily",
                  "type": "box",
                  "y": [
                    4.5,
                    -1.5,
                    -9.5,
                    -100,
                    2.5,
                    -12.2,
                    -6.6,
                    9.8,
                    -23.9,
                    8.1,
                    4.3,
                    3.5,
                    2.8,
                    19.9,
                    18.2,
                    10.4,
                    4,
                    6.7,
                    15.4,
                    -26.1,
                    -6.4,
                    -15.6,
                    -3.1,
                    -5.6,
                    18.5,
                    -5.8,
                    -22.9,
                    -13.1,
                    -100,
                    42,
                    8.5,
                    -10.8,
                    1.2,
                    -1.3,
                    -24.6,
                    -3.8,
                    -5.5,
                    -8.7,
                    -21.7,
                    -11.6,
                    -24.5,
                    -14.3,
                    10,
                    -15.5,
                    10.4,
                    13.9,
                    25.8,
                    7.9,
                    11.3,
                    -50.9,
                    -3.2,
                    -9.4,
                    -20.9,
                    -0.9,
                    1,
                    33.6,
                    30.7,
                    0.7,
                    -8,
                    -13,
                    -8.9,
                    0.3,
                    10.7,
                    11.6,
                    -25.1,
                    31.4,
                    -3.4,
                    -6.7,
                    -6.5,
                    -15,
                    21.1,
                    -8.5,
                    99.6,
                    -8.2,
                    -10.3,
                    -11.1,
                    -7.2,
                    -0.8,
                    9.7,
                    -15.9,
                    -16.5,
                    -8.8,
                    4.7,
                    14.9,
                    -8.1,
                    -21.7,
                    -0.1,
                    -25.4,
                    0.6,
                    8.7
                  ]
                }
              ],
              "layout": {
                "font": {
                  "color": "black",
                  "family": "Arial, Arial, Arial",
                  "size": 22
                },
                "height": 1000,
                "legend": {
                  "orientation": "v",
                  "title": {
                    "text": ""
                  },
                  "x": 0.2,
                  "xanchor": "right",
                  "y": 0.83,
                  "yanchor": "bottom"
                },
                "margin": {
                  "b": 20,
                  "l": 50,
                  "r": 20,
                  "t": 20
                },
                "paper_bgcolor": "#f7f8fa",
                "template": {
                  "data": {
                    "bar": [
                      {
                        "error_x": {
                          "color": "rgb(51,51,51)"
                        },
                        "error_y": {
                          "color": "rgb(51,51,51)"
                        },
                        "marker": {
                          "line": {
                            "color": "rgb(237,237,237)",
                            "width": 0.5
                          },
                          "pattern": {
                            "fillmode": "overlay",
                            "size": 10,
                            "solidity": 0.2
                          }
                        },
                        "type": "bar"
                      }
                    ],
                    "barpolar": [
                      {
                        "marker": {
                          "line": {
                            "color": "rgb(237,237,237)",
                            "width": 0.5
                          },
                          "pattern": {
                            "fillmode": "overlay",
                            "size": 10,
                            "solidity": 0.2
                          }
                        },
                        "type": "barpolar"
                      }
                    ],
                    "carpet": [
                      {
                        "aaxis": {
                          "endlinecolor": "rgb(51,51,51)",
                          "gridcolor": "white",
                          "linecolor": "white",
                          "minorgridcolor": "white",
                          "startlinecolor": "rgb(51,51,51)"
                        },
                        "baxis": {
                          "endlinecolor": "rgb(51,51,51)",
                          "gridcolor": "white",
                          "linecolor": "white",
                          "minorgridcolor": "white",
                          "startlinecolor": "rgb(51,51,51)"
                        },
                        "type": "carpet"
                      }
                    ],
                    "choropleth": [
                      {
                        "colorbar": {
                          "outlinewidth": 0,
                          "tickcolor": "rgb(237,237,237)",
                          "ticklen": 6,
                          "ticks": "inside"
                        },
                        "type": "choropleth"
                      }
                    ],
                    "contour": [
                      {
                        "colorbar": {
                          "outlinewidth": 0,
                          "tickcolor": "rgb(237,237,237)",
                          "ticklen": 6,
                          "ticks": "inside"
                        },
                        "colorscale": [
                          [
                            0,
                            "rgb(20,44,66)"
                          ],
                          [
                            1,
                            "rgb(90,179,244)"
                          ]
                        ],
                        "type": "contour"
                      }
                    ],
                    "contourcarpet": [
                      {
                        "colorbar": {
                          "outlinewidth": 0,
                          "tickcolor": "rgb(237,237,237)",
                          "ticklen": 6,
                          "ticks": "inside"
                        },
                        "type": "contourcarpet"
                      }
                    ],
                    "heatmap": [
                      {
                        "colorbar": {
                          "outlinewidth": 0,
                          "tickcolor": "rgb(237,237,237)",
                          "ticklen": 6,
                          "ticks": "inside"
                        },
                        "colorscale": [
                          [
                            0,
                            "rgb(20,44,66)"
                          ],
                          [
                            1,
                            "rgb(90,179,244)"
                          ]
                        ],
                        "type": "heatmap"
                      }
                    ],
                    "heatmapgl": [
                      {
                        "colorbar": {
                          "outlinewidth": 0,
                          "tickcolor": "rgb(237,237,237)",
                          "ticklen": 6,
                          "ticks": "inside"
                        },
                        "colorscale": [
                          [
                            0,
                            "rgb(20,44,66)"
                          ],
                          [
                            1,
                            "rgb(90,179,244)"
                          ]
                        ],
                        "type": "heatmapgl"
                      }
                    ],
                    "histogram": [
                      {
                        "marker": {
                          "pattern": {
                            "fillmode": "overlay",
                            "size": 10,
                            "solidity": 0.2
                          }
                        },
                        "type": "histogram"
                      }
                    ],
                    "histogram2d": [
                      {
                        "colorbar": {
                          "outlinewidth": 0,
                          "tickcolor": "rgb(237,237,237)",
                          "ticklen": 6,
                          "ticks": "inside"
                        },
                        "colorscale": [
                          [
                            0,
                            "rgb(20,44,66)"
                          ],
                          [
                            1,
                            "rgb(90,179,244)"
                          ]
                        ],
                        "type": "histogram2d"
                      }
                    ],
                    "histogram2dcontour": [
                      {
                        "colorbar": {
                          "outlinewidth": 0,
                          "tickcolor": "rgb(237,237,237)",
                          "ticklen": 6,
                          "ticks": "inside"
                        },
                        "colorscale": [
                          [
                            0,
                            "rgb(20,44,66)"
                          ],
                          [
                            1,
                            "rgb(90,179,244)"
                          ]
                        ],
                        "type": "histogram2dcontour"
                      }
                    ],
                    "mesh3d": [
                      {
                        "colorbar": {
                          "outlinewidth": 0,
                          "tickcolor": "rgb(237,237,237)",
                          "ticklen": 6,
                          "ticks": "inside"
                        },
                        "type": "mesh3d"
                      }
                    ],
                    "parcoords": [
                      {
                        "line": {
                          "colorbar": {
                            "outlinewidth": 0,
                            "tickcolor": "rgb(237,237,237)",
                            "ticklen": 6,
                            "ticks": "inside"
                          }
                        },
                        "type": "parcoords"
                      }
                    ],
                    "pie": [
                      {
                        "automargin": true,
                        "type": "pie"
                      }
                    ],
                    "scatter": [
                      {
                        "marker": {
                          "colorbar": {
                            "outlinewidth": 0,
                            "tickcolor": "rgb(237,237,237)",
                            "ticklen": 6,
                            "ticks": "inside"
                          }
                        },
                        "type": "scatter"
                      }
                    ],
                    "scatter3d": [
                      {
                        "line": {
                          "colorbar": {
                            "outlinewidth": 0,
                            "tickcolor": "rgb(237,237,237)",
                            "ticklen": 6,
                            "ticks": "inside"
                          }
                        },
                        "marker": {
                          "colorbar": {
                            "outlinewidth": 0,
                            "tickcolor": "rgb(237,237,237)",
                            "ticklen": 6,
                            "ticks": "inside"
                          }
                        },
                        "type": "scatter3d"
                      }
                    ],
                    "scattercarpet": [
                      {
                        "marker": {
                          "colorbar": {
                            "outlinewidth": 0,
                            "tickcolor": "rgb(237,237,237)",
                            "ticklen": 6,
                            "ticks": "inside"
                          }
                        },
                        "type": "scattercarpet"
                      }
                    ],
                    "scattergeo": [
                      {
                        "marker": {
                          "colorbar": {
                            "outlinewidth": 0,
                            "tickcolor": "rgb(237,237,237)",
                            "ticklen": 6,
                            "ticks": "inside"
                          }
                        },
                        "type": "scattergeo"
                      }
                    ],
                    "scattergl": [
                      {
                        "marker": {
                          "colorbar": {
                            "outlinewidth": 0,
                            "tickcolor": "rgb(237,237,237)",
                            "ticklen": 6,
                            "ticks": "inside"
                          }
                        },
                        "type": "scattergl"
                      }
                    ],
                    "scattermapbox": [
                      {
                        "marker": {
                          "colorbar": {
                            "outlinewidth": 0,
                            "tickcolor": "rgb(237,237,237)",
                            "ticklen": 6,
                            "ticks": "inside"
                          }
                        },
                        "type": "scattermapbox"
                      }
                    ],
                    "scatterpolar": [
                      {
                        "marker": {
                          "colorbar": {
                            "outlinewidth": 0,
                            "tickcolor": "rgb(237,237,237)",
                            "ticklen": 6,
                            "ticks": "inside"
                          }
                        },
                        "type": "scatterpolar"
                      }
                    ],
                    "scatterpolargl": [
                      {
                        "marker": {
                          "colorbar": {
                            "outlinewidth": 0,
                            "tickcolor": "rgb(237,237,237)",
                            "ticklen": 6,
                            "ticks": "inside"
                          }
                        },
                        "type": "scatterpolargl"
                      }
                    ],
                    "scatterternary": [
                      {
                        "marker": {
                          "colorbar": {
                            "outlinewidth": 0,
                            "tickcolor": "rgb(237,237,237)",
                            "ticklen": 6,
                            "ticks": "inside"
                          }
                        },
                        "type": "scatterternary"
                      }
                    ],
                    "surface": [
                      {
                        "colorbar": {
                          "outlinewidth": 0,
                          "tickcolor": "rgb(237,237,237)",
                          "ticklen": 6,
                          "ticks": "inside"
                        },
                        "colorscale": [
                          [
                            0,
                            "rgb(20,44,66)"
                          ],
                          [
                            1,
                            "rgb(90,179,244)"
                          ]
                        ],
                        "type": "surface"
                      }
                    ],
                    "table": [
                      {
                        "cells": {
                          "fill": {
                            "color": "rgb(237,237,237)"
                          },
                          "line": {
                            "color": "white"
                          }
                        },
                        "header": {
                          "fill": {
                            "color": "rgb(217,217,217)"
                          },
                          "line": {
                            "color": "white"
                          }
                        },
                        "type": "table"
                      }
                    ]
                  },
                  "layout": {
                    "annotationdefaults": {
                      "arrowhead": 0,
                      "arrowwidth": 1
                    },
                    "autotypenumbers": "strict",
                    "coloraxis": {
                      "colorbar": {
                        "outlinewidth": 0,
                        "tickcolor": "rgb(237,237,237)",
                        "ticklen": 6,
                        "ticks": "inside"
                      }
                    },
                    "colorscale": {
                      "sequential": [
                        [
                          0,
                          "rgb(20,44,66)"
                        ],
                        [
                          1,
                          "rgb(90,179,244)"
                        ]
                      ],
                      "sequentialminus": [
                        [
                          0,
                          "rgb(20,44,66)"
                        ],
                        [
                          1,
                          "rgb(90,179,244)"
                        ]
                      ]
                    },
                    "colorway": [
                      "#F8766D",
                      "#A3A500",
                      "#00BF7D",
                      "#00B0F6",
                      "#E76BF3"
                    ],
                    "font": {
                      "color": "rgb(51,51,51)"
                    },
                    "geo": {
                      "bgcolor": "white",
                      "lakecolor": "white",
                      "landcolor": "rgb(237,237,237)",
                      "showlakes": true,
                      "showland": true,
                      "subunitcolor": "white"
                    },
                    "hoverlabel": {
                      "align": "left"
                    },
                    "hovermode": "closest",
                    "paper_bgcolor": "white",
                    "plot_bgcolor": "rgb(237,237,237)",
                    "polar": {
                      "angularaxis": {
                        "gridcolor": "white",
                        "linecolor": "white",
                        "showgrid": true,
                        "tickcolor": "rgb(51,51,51)",
                        "ticks": "outside"
                      },
                      "bgcolor": "rgb(237,237,237)",
                      "radialaxis": {
                        "gridcolor": "white",
                        "linecolor": "white",
                        "showgrid": true,
                        "tickcolor": "rgb(51,51,51)",
                        "ticks": "outside"
                      }
                    },
                    "scene": {
                      "xaxis": {
                        "backgroundcolor": "rgb(237,237,237)",
                        "gridcolor": "white",
                        "gridwidth": 2,
                        "linecolor": "white",
                        "showbackground": true,
                        "showgrid": true,
                        "tickcolor": "rgb(51,51,51)",
                        "ticks": "outside",
                        "zerolinecolor": "white"
                      },
                      "yaxis": {
                        "backgroundcolor": "rgb(237,237,237)",
                        "gridcolor": "white",
                        "gridwidth": 2,
                        "linecolor": "white",
                        "showbackground": true,
                        "showgrid": true,
                        "tickcolor": "rgb(51,51,51)",
                        "ticks": "outside",
                        "zerolinecolor": "white"
                      },
                      "zaxis": {
                        "backgroundcolor": "rgb(237,237,237)",
                        "gridcolor": "white",
                        "gridwidth": 2,
                        "linecolor": "white",
                        "showbackground": true,
                        "showgrid": true,
                        "tickcolor": "rgb(51,51,51)",
                        "ticks": "outside",
                        "zerolinecolor": "white"
                      }
                    },
                    "shapedefaults": {
                      "fillcolor": "black",
                      "line": {
                        "width": 0
                      },
                      "opacity": 0.3
                    },
                    "ternary": {
                      "aaxis": {
                        "gridcolor": "white",
                        "linecolor": "white",
                        "showgrid": true,
                        "tickcolor": "rgb(51,51,51)",
                        "ticks": "outside"
                      },
                      "baxis": {
                        "gridcolor": "white",
                        "linecolor": "white",
                        "showgrid": true,
                        "tickcolor": "rgb(51,51,51)",
                        "ticks": "outside"
                      },
                      "bgcolor": "rgb(237,237,237)",
                      "caxis": {
                        "gridcolor": "white",
                        "linecolor": "white",
                        "showgrid": true,
                        "tickcolor": "rgb(51,51,51)",
                        "ticks": "outside"
                      }
                    },
                    "xaxis": {
                      "automargin": true,
                      "gridcolor": "white",
                      "linecolor": "white",
                      "showgrid": true,
                      "tickcolor": "rgb(51,51,51)",
                      "ticks": "outside",
                      "title": {
                        "standoff": 15
                      },
                      "zerolinecolor": "white"
                    },
                    "yaxis": {
                      "automargin": true,
                      "gridcolor": "white",
                      "linecolor": "white",
                      "showgrid": true,
                      "tickcolor": "rgb(51,51,51)",
                      "ticks": "outside",
                      "title": {
                        "standoff": 15
                      },
                      "zerolinecolor": "white"
                    }
                  }
                },
                "title": {
                  "text": ""
                },
                "width": 1000,
                "xaxis": {
                  "title": {
                    "text": "<b>Timeframes"
                  }
                },
                "yaxis": {
                  "range": [
                    -60,
                    40
                  ],
                  "title": {
                    "text": "<b>Retorno anualizado %"
                  }
                }
              }
            }
          },
          "metadata": {},
          "output_type": "display_data"
        }
      ],
      "source": [
        "fig_box = go.Figure()\n",
        "\n",
        "fig_box.add_trace(go.Box(\n",
        "            y=result_final.monthly[~result_final.monthly.isna()],\n",
        "            name=\"Monthly\",\n",
        "            marker_color=\"red\",\n",
        "            boxpoints=\"all\", boxmean=True))\n",
        "\n",
        "fig_box.add_trace(go.Box(\n",
        "            y=result_final.monthly[~result_final.weekly.isna()],\n",
        "            name=\"Weekly\",\n",
        "            marker_color=\"blue\",\n",
        "            boxpoints=\"all\", boxmean=True))\n",
        "\n",
        "fig_box.add_trace(go.Box(\n",
        "            y=result_final.daily[~result_final.daily.isna()],\n",
        "            name=\"Daily\",\n",
        "            marker_color=\"green\",\n",
        "            boxpoints=\"all\", boxmean=True))\n",
        "\n",
        "fig_box.update_layout(title='', xaxis_title=\"<b>Timeframes\",\n",
        "                yaxis_title=\"<b>Retorno anualizado %\", legend_title=\"\",\n",
        "                font=dict(family=\"Arial, Arial, Arial\",size=22,color=\"black\"),\n",
        "                margin=dict(l=50, r=20, t=20, b=20), template = 'ggplot2', paper_bgcolor=\"#f7f8fa\",\n",
        "                legend=dict(orientation=\"v\",yanchor=\"bottom\",y=0.83,xanchor=\"right\",x=0.20),\n",
        "                yaxis=dict(range=[-60, 40]),\n",
        "                width=1000,height=1000)\n",
        "\n",
        "fig_box.show()"
      ]
    },
    {
      "cell_type": "code",
      "execution_count": 100,
      "metadata": {},
      "outputs": [
        {
          "data": {
            "text/html": [
              "<div>\n",
              "<style scoped>\n",
              "    .dataframe tbody tr th:only-of-type {\n",
              "        vertical-align: middle;\n",
              "    }\n",
              "\n",
              "    .dataframe tbody tr th {\n",
              "        vertical-align: top;\n",
              "    }\n",
              "\n",
              "    .dataframe thead th {\n",
              "        text-align: right;\n",
              "    }\n",
              "</style>\n",
              "<table border=\"1\" class=\"dataframe\">\n",
              "  <thead>\n",
              "    <tr style=\"text-align: right;\">\n",
              "      <th></th>\n",
              "      <th>Ativo</th>\n",
              "      <th>Timeframe</th>\n",
              "      <th>Cash_final</th>\n",
              "      <th>N_trades</th>\n",
              "      <th>Min_PnL</th>\n",
              "      <th>Data_init</th>\n",
              "      <th>Ano_init</th>\n",
              "      <th>N_candles</th>\n",
              "      <th>Tempo_em_anos</th>\n",
              "      <th>Retorno_annualizado</th>\n",
              "    </tr>\n",
              "  </thead>\n",
              "  <tbody>\n",
              "    <tr>\n",
              "      <th>21</th>\n",
              "      <td>7</td>\n",
              "      <td>0</td>\n",
              "      <td>0</td>\n",
              "      <td>3</td>\n",
              "      <td>-1.16654</td>\n",
              "      <td>2017-04-03 10:00:00</td>\n",
              "      <td>2017.253196</td>\n",
              "      <td>73</td>\n",
              "      <td>6.003001</td>\n",
              "      <td>-1.0</td>\n",
              "    </tr>\n",
              "    <tr>\n",
              "      <th>22</th>\n",
              "      <td>7</td>\n",
              "      <td>1</td>\n",
              "      <td>76.987223</td>\n",
              "      <td>30</td>\n",
              "      <td>-0.200355</td>\n",
              "      <td>2017-04-10 10:00:00</td>\n",
              "      <td>2017.272374</td>\n",
              "      <td>313</td>\n",
              "      <td>5.983823</td>\n",
              "      <td>-0.042765</td>\n",
              "    </tr>\n",
              "    <tr>\n",
              "      <th>23</th>\n",
              "      <td>7</td>\n",
              "      <td>2</td>\n",
              "      <td>174.751632</td>\n",
              "      <td>185</td>\n",
              "      <td>-0.121465</td>\n",
              "      <td>2017-04-11 10:00:00</td>\n",
              "      <td>2017.275114</td>\n",
              "      <td>1482</td>\n",
              "      <td>5.981083</td>\n",
              "      <td>0.09782</td>\n",
              "    </tr>\n",
              "  </tbody>\n",
              "</table>\n",
              "</div>"
            ],
            "text/plain": [
              "   Ativo Timeframe  Cash_final N_trades   Min_PnL           Data_init  \\\n",
              "21     7         0           0        3  -1.16654 2017-04-03 10:00:00   \n",
              "22     7         1   76.987223       30 -0.200355 2017-04-10 10:00:00   \n",
              "23     7         2  174.751632      185 -0.121465 2017-04-11 10:00:00   \n",
              "\n",
              "       Ano_init N_candles Tempo_em_anos Retorno_annualizado  \n",
              "21  2017.253196        73      6.003001                -1.0  \n",
              "22  2017.272374       313      5.983823           -0.042765  \n",
              "23  2017.275114      1482      5.981083             0.09782  "
            ]
          },
          "execution_count": 100,
          "metadata": {},
          "output_type": "execute_result"
        }
      ],
      "source": [
        "df_result_01[df_result_01.Ativo==7]"
      ]
    },
    {
      "cell_type": "code",
      "execution_count": 50,
      "metadata": {},
      "outputs": [
        {
          "ename": "AttributeError",
          "evalue": "type object 'DOMWidget' has no attribute '_ipython_display_'",
          "output_type": "error",
          "traceback": [
            "\u001b[1;31m---------------------------------------------------------------------------\u001b[0m",
            "\u001b[1;31mAttributeError\u001b[0m                            Traceback (most recent call last)",
            "File \u001b[1;32m~\\AppData\\Roaming\\Python\\Python310\\site-packages\\IPython\\core\\formatters.py:921\u001b[0m, in \u001b[0;36mIPythonDisplayFormatter.__call__\u001b[1;34m(self, obj)\u001b[0m\n\u001b[0;32m    919\u001b[0m method \u001b[39m=\u001b[39m get_real_method(obj, \u001b[39mself\u001b[39m\u001b[39m.\u001b[39mprint_method)\n\u001b[0;32m    920\u001b[0m \u001b[39mif\u001b[39;00m method \u001b[39mis\u001b[39;00m \u001b[39mnot\u001b[39;00m \u001b[39mNone\u001b[39;00m:\n\u001b[1;32m--> 921\u001b[0m     method()\n\u001b[0;32m    922\u001b[0m     \u001b[39mreturn\u001b[39;00m \u001b[39mTrue\u001b[39;00m\n",
            "File \u001b[1;32mc:\\Users\\jamir\\AppData\\Local\\Programs\\Python\\Python310\\lib\\site-packages\\plotly\\basewidget.py:741\u001b[0m, in \u001b[0;36mBaseFigureWidget._ipython_display_\u001b[1;34m(self)\u001b[0m\n\u001b[0;32m    737\u001b[0m \u001b[39m\"\"\"\u001b[39;00m\n\u001b[0;32m    738\u001b[0m \u001b[39mHandle rich display of figures in ipython contexts\u001b[39;00m\n\u001b[0;32m    739\u001b[0m \u001b[39m\"\"\"\u001b[39;00m\n\u001b[0;32m    740\u001b[0m \u001b[39m# Override BaseFigure's display to make sure we display the widget version\u001b[39;00m\n\u001b[1;32m--> 741\u001b[0m widgets\u001b[39m.\u001b[39;49mDOMWidget\u001b[39m.\u001b[39;49m_ipython_display_(\u001b[39mself\u001b[39m)\n",
            "\u001b[1;31mAttributeError\u001b[0m: type object 'DOMWidget' has no attribute '_ipython_display_'"
          ]
        },
        {
          "data": {
            "application/vnd.plotly.v1+json": {
              "config": {
                "plotlyServerURL": "https://plot.ly"
              },
              "data": [
                {
                  "customdata": [
                    [
                      0,
                      0,
                      0.26943404899027235,
                      0.2694340489902724
                    ],
                    [
                      1,
                      1,
                      0.6017005720823798,
                      0.6017005720823798
                    ],
                    [
                      2,
                      2,
                      0.2886306828638064,
                      0.2886306828638064
                    ],
                    [
                      3,
                      3,
                      1.4136224137931037,
                      1.4136224137931037
                    ],
                    [
                      4,
                      4,
                      0.38916306755247887,
                      0.38916306755247887
                    ]
                  ],
                  "hovertemplate": "Exit Trade Id: %{customdata[0]}<br>Position Id: %{customdata[1]}<br>Exit Timestamp: %{x}<br>PnL: %{customdata[2]:.6f}<br>Return: %{customdata[3]:.2%}",
                  "marker": {
                    "color": "#37B13F",
                    "line": {
                      "color": "rgb(38,123,44)",
                      "width": 1
                    },
                    "opacity": [
                      0.75,
                      0.7935592425137138,
                      0.7525166267807017,
                      0.9,
                      0.765696150508772
                    ],
                    "size": [
                      7,
                      9.032764650639976,
                      7.117442583099413,
                      14,
                      7.732487023742694
                    ],
                    "symbol": "circle"
                  },
                  "mode": "markers",
                  "name": "Closed - Profit",
                  "type": "scatter",
                  "uid": "7492b073-ee36-4247-918d-2b09c424dfe0",
                  "x": [
                    "2018-06-25T10:00:00",
                    "2018-11-12T09:00:00",
                    "2020-03-09T10:00:00",
                    "2020-11-30T10:00:00",
                    "2021-10-25T10:00:00"
                  ],
                  "y": [
                    0.2694340489902724,
                    0.6017005720823798,
                    0.2886306828638064,
                    1.4136224137931037,
                    0.38916306755247887
                  ]
                },
                {
                  "customdata": [
                    [
                      5,
                      5,
                      -0.5732894366197183,
                      -0.5732894366197183
                    ]
                  ],
                  "hovertemplate": "Exit Trade Id: %{customdata[0]}<br>Position Id: %{customdata[1]}<br>Exit Timestamp: %{x}<br>PnL: %{customdata[2]:.6f}<br>Return: %{customdata[3]:.2%}",
                  "marker": {
                    "color": "#FFAA00",
                    "line": {
                      "color": "rgb(178,118,0)",
                      "width": 1
                    },
                    "opacity": [
                      0.7898346194966517
                    ],
                    "size": [
                      8.858948909843747
                    ],
                    "symbol": "circle"
                  },
                  "mode": "markers",
                  "name": "Open",
                  "type": "scatter",
                  "uid": "d6a50756-fa0f-4067-a105-48fe00f4264a",
                  "x": [
                    "2023-03-27T10:00:00"
                  ],
                  "y": [
                    -0.5732894366197183
                  ]
                }
              ],
              "layout": {
                "height": 350,
                "legend": {
                  "orientation": "h",
                  "traceorder": "normal",
                  "x": 1,
                  "xanchor": "right",
                  "y": 1.02,
                  "yanchor": "bottom"
                },
                "margin": {
                  "b": 30,
                  "l": 30,
                  "r": 30,
                  "t": 30
                },
                "shapes": [
                  {
                    "line": {
                      "color": "gray",
                      "dash": "dash"
                    },
                    "type": "line",
                    "x0": 0,
                    "x1": 1,
                    "xref": "paper",
                    "y0": 0,
                    "y1": 0,
                    "yref": "y"
                  }
                ],
                "template": {
                  "data": {
                    "bar": [
                      {
                        "error_x": {
                          "color": "#2a3f5f"
                        },
                        "error_y": {
                          "color": "#2a3f5f"
                        },
                        "marker": {
                          "line": {
                            "color": "#E5ECF6",
                            "width": 0.5
                          }
                        },
                        "type": "bar"
                      }
                    ],
                    "barpolar": [
                      {
                        "marker": {
                          "line": {
                            "color": "#E5ECF6",
                            "width": 0.5
                          }
                        },
                        "type": "barpolar"
                      }
                    ],
                    "carpet": [
                      {
                        "aaxis": {
                          "endlinecolor": "#2a3f5f",
                          "gridcolor": "white",
                          "linecolor": "white",
                          "minorgridcolor": "white",
                          "startlinecolor": "#2a3f5f"
                        },
                        "baxis": {
                          "endlinecolor": "#2a3f5f",
                          "gridcolor": "white",
                          "linecolor": "white",
                          "minorgridcolor": "white",
                          "startlinecolor": "#2a3f5f"
                        },
                        "type": "carpet"
                      }
                    ],
                    "choropleth": [
                      {
                        "colorbar": {
                          "outlinewidth": 0,
                          "ticks": ""
                        },
                        "type": "choropleth"
                      }
                    ],
                    "contour": [
                      {
                        "colorbar": {
                          "outlinewidth": 0,
                          "ticks": ""
                        },
                        "colorscale": [
                          [
                            0,
                            "#0d0887"
                          ],
                          [
                            0.1111111111111111,
                            "#46039f"
                          ],
                          [
                            0.2222222222222222,
                            "#7201a8"
                          ],
                          [
                            0.3333333333333333,
                            "#9c179e"
                          ],
                          [
                            0.4444444444444444,
                            "#bd3786"
                          ],
                          [
                            0.5555555555555556,
                            "#d8576b"
                          ],
                          [
                            0.6666666666666666,
                            "#ed7953"
                          ],
                          [
                            0.7777777777777778,
                            "#fb9f3a"
                          ],
                          [
                            0.8888888888888888,
                            "#fdca26"
                          ],
                          [
                            1,
                            "#f0f921"
                          ]
                        ],
                        "type": "contour"
                      }
                    ],
                    "contourcarpet": [
                      {
                        "colorbar": {
                          "outlinewidth": 0,
                          "ticks": ""
                        },
                        "type": "contourcarpet"
                      }
                    ],
                    "heatmap": [
                      {
                        "colorbar": {
                          "outlinewidth": 0,
                          "ticks": ""
                        },
                        "colorscale": [
                          [
                            0,
                            "#0d0887"
                          ],
                          [
                            0.1111111111111111,
                            "#46039f"
                          ],
                          [
                            0.2222222222222222,
                            "#7201a8"
                          ],
                          [
                            0.3333333333333333,
                            "#9c179e"
                          ],
                          [
                            0.4444444444444444,
                            "#bd3786"
                          ],
                          [
                            0.5555555555555556,
                            "#d8576b"
                          ],
                          [
                            0.6666666666666666,
                            "#ed7953"
                          ],
                          [
                            0.7777777777777778,
                            "#fb9f3a"
                          ],
                          [
                            0.8888888888888888,
                            "#fdca26"
                          ],
                          [
                            1,
                            "#f0f921"
                          ]
                        ],
                        "type": "heatmap"
                      }
                    ],
                    "heatmapgl": [
                      {
                        "colorbar": {
                          "outlinewidth": 0,
                          "ticks": ""
                        },
                        "colorscale": [
                          [
                            0,
                            "#0d0887"
                          ],
                          [
                            0.1111111111111111,
                            "#46039f"
                          ],
                          [
                            0.2222222222222222,
                            "#7201a8"
                          ],
                          [
                            0.3333333333333333,
                            "#9c179e"
                          ],
                          [
                            0.4444444444444444,
                            "#bd3786"
                          ],
                          [
                            0.5555555555555556,
                            "#d8576b"
                          ],
                          [
                            0.6666666666666666,
                            "#ed7953"
                          ],
                          [
                            0.7777777777777778,
                            "#fb9f3a"
                          ],
                          [
                            0.8888888888888888,
                            "#fdca26"
                          ],
                          [
                            1,
                            "#f0f921"
                          ]
                        ],
                        "type": "heatmapgl"
                      }
                    ],
                    "histogram": [
                      {
                        "marker": {
                          "colorbar": {
                            "outlinewidth": 0,
                            "ticks": ""
                          }
                        },
                        "type": "histogram"
                      }
                    ],
                    "histogram2d": [
                      {
                        "colorbar": {
                          "outlinewidth": 0,
                          "ticks": ""
                        },
                        "colorscale": [
                          [
                            0,
                            "#0d0887"
                          ],
                          [
                            0.1111111111111111,
                            "#46039f"
                          ],
                          [
                            0.2222222222222222,
                            "#7201a8"
                          ],
                          [
                            0.3333333333333333,
                            "#9c179e"
                          ],
                          [
                            0.4444444444444444,
                            "#bd3786"
                          ],
                          [
                            0.5555555555555556,
                            "#d8576b"
                          ],
                          [
                            0.6666666666666666,
                            "#ed7953"
                          ],
                          [
                            0.7777777777777778,
                            "#fb9f3a"
                          ],
                          [
                            0.8888888888888888,
                            "#fdca26"
                          ],
                          [
                            1,
                            "#f0f921"
                          ]
                        ],
                        "type": "histogram2d"
                      }
                    ],
                    "histogram2dcontour": [
                      {
                        "colorbar": {
                          "outlinewidth": 0,
                          "ticks": ""
                        },
                        "colorscale": [
                          [
                            0,
                            "#0d0887"
                          ],
                          [
                            0.1111111111111111,
                            "#46039f"
                          ],
                          [
                            0.2222222222222222,
                            "#7201a8"
                          ],
                          [
                            0.3333333333333333,
                            "#9c179e"
                          ],
                          [
                            0.4444444444444444,
                            "#bd3786"
                          ],
                          [
                            0.5555555555555556,
                            "#d8576b"
                          ],
                          [
                            0.6666666666666666,
                            "#ed7953"
                          ],
                          [
                            0.7777777777777778,
                            "#fb9f3a"
                          ],
                          [
                            0.8888888888888888,
                            "#fdca26"
                          ],
                          [
                            1,
                            "#f0f921"
                          ]
                        ],
                        "type": "histogram2dcontour"
                      }
                    ],
                    "mesh3d": [
                      {
                        "colorbar": {
                          "outlinewidth": 0,
                          "ticks": ""
                        },
                        "type": "mesh3d"
                      }
                    ],
                    "parcoords": [
                      {
                        "line": {
                          "colorbar": {
                            "outlinewidth": 0,
                            "ticks": ""
                          }
                        },
                        "type": "parcoords"
                      }
                    ],
                    "pie": [
                      {
                        "automargin": true,
                        "type": "pie"
                      }
                    ],
                    "scatter": [
                      {
                        "marker": {
                          "colorbar": {
                            "outlinewidth": 0,
                            "ticks": ""
                          }
                        },
                        "type": "scatter"
                      }
                    ],
                    "scatter3d": [
                      {
                        "line": {
                          "colorbar": {
                            "outlinewidth": 0,
                            "ticks": ""
                          }
                        },
                        "marker": {
                          "colorbar": {
                            "outlinewidth": 0,
                            "ticks": ""
                          }
                        },
                        "type": "scatter3d"
                      }
                    ],
                    "scattercarpet": [
                      {
                        "marker": {
                          "colorbar": {
                            "outlinewidth": 0,
                            "ticks": ""
                          }
                        },
                        "type": "scattercarpet"
                      }
                    ],
                    "scattergeo": [
                      {
                        "marker": {
                          "colorbar": {
                            "outlinewidth": 0,
                            "ticks": ""
                          }
                        },
                        "type": "scattergeo"
                      }
                    ],
                    "scattergl": [
                      {
                        "marker": {
                          "colorbar": {
                            "outlinewidth": 0,
                            "ticks": ""
                          }
                        },
                        "type": "scattergl"
                      }
                    ],
                    "scattermapbox": [
                      {
                        "marker": {
                          "colorbar": {
                            "outlinewidth": 0,
                            "ticks": ""
                          }
                        },
                        "type": "scattermapbox"
                      }
                    ],
                    "scatterpolar": [
                      {
                        "marker": {
                          "colorbar": {
                            "outlinewidth": 0,
                            "ticks": ""
                          }
                        },
                        "type": "scatterpolar"
                      }
                    ],
                    "scatterpolargl": [
                      {
                        "marker": {
                          "colorbar": {
                            "outlinewidth": 0,
                            "ticks": ""
                          }
                        },
                        "type": "scatterpolargl"
                      }
                    ],
                    "scatterternary": [
                      {
                        "marker": {
                          "colorbar": {
                            "outlinewidth": 0,
                            "ticks": ""
                          }
                        },
                        "type": "scatterternary"
                      }
                    ],
                    "surface": [
                      {
                        "colorbar": {
                          "outlinewidth": 0,
                          "ticks": ""
                        },
                        "colorscale": [
                          [
                            0,
                            "#0d0887"
                          ],
                          [
                            0.1111111111111111,
                            "#46039f"
                          ],
                          [
                            0.2222222222222222,
                            "#7201a8"
                          ],
                          [
                            0.3333333333333333,
                            "#9c179e"
                          ],
                          [
                            0.4444444444444444,
                            "#bd3786"
                          ],
                          [
                            0.5555555555555556,
                            "#d8576b"
                          ],
                          [
                            0.6666666666666666,
                            "#ed7953"
                          ],
                          [
                            0.7777777777777778,
                            "#fb9f3a"
                          ],
                          [
                            0.8888888888888888,
                            "#fdca26"
                          ],
                          [
                            1,
                            "#f0f921"
                          ]
                        ],
                        "type": "surface"
                      }
                    ],
                    "table": [
                      {
                        "cells": {
                          "fill": {
                            "color": "#EBF0F8"
                          },
                          "line": {
                            "color": "white"
                          }
                        },
                        "header": {
                          "fill": {
                            "color": "#C8D4E3"
                          },
                          "line": {
                            "color": "white"
                          }
                        },
                        "type": "table"
                      }
                    ]
                  },
                  "layout": {
                    "annotationdefaults": {
                      "arrowcolor": "#2a3f5f",
                      "arrowhead": 0,
                      "arrowwidth": 1
                    },
                    "coloraxis": {
                      "colorbar": {
                        "outlinewidth": 0,
                        "ticks": ""
                      }
                    },
                    "colorscale": {
                      "diverging": [
                        [
                          0,
                          "#8e0152"
                        ],
                        [
                          0.1,
                          "#c51b7d"
                        ],
                        [
                          0.2,
                          "#de77ae"
                        ],
                        [
                          0.3,
                          "#f1b6da"
                        ],
                        [
                          0.4,
                          "#fde0ef"
                        ],
                        [
                          0.5,
                          "#f7f7f7"
                        ],
                        [
                          0.6,
                          "#e6f5d0"
                        ],
                        [
                          0.7,
                          "#b8e186"
                        ],
                        [
                          0.8,
                          "#7fbc41"
                        ],
                        [
                          0.9,
                          "#4d9221"
                        ],
                        [
                          1,
                          "#276419"
                        ]
                      ],
                      "sequential": [
                        [
                          0,
                          "#0d0887"
                        ],
                        [
                          0.1111111111111111,
                          "#46039f"
                        ],
                        [
                          0.2222222222222222,
                          "#7201a8"
                        ],
                        [
                          0.3333333333333333,
                          "#9c179e"
                        ],
                        [
                          0.4444444444444444,
                          "#bd3786"
                        ],
                        [
                          0.5555555555555556,
                          "#d8576b"
                        ],
                        [
                          0.6666666666666666,
                          "#ed7953"
                        ],
                        [
                          0.7777777777777778,
                          "#fb9f3a"
                        ],
                        [
                          0.8888888888888888,
                          "#fdca26"
                        ],
                        [
                          1,
                          "#f0f921"
                        ]
                      ],
                      "sequentialminus": [
                        [
                          0,
                          "#0d0887"
                        ],
                        [
                          0.1111111111111111,
                          "#46039f"
                        ],
                        [
                          0.2222222222222222,
                          "#7201a8"
                        ],
                        [
                          0.3333333333333333,
                          "#9c179e"
                        ],
                        [
                          0.4444444444444444,
                          "#bd3786"
                        ],
                        [
                          0.5555555555555556,
                          "#d8576b"
                        ],
                        [
                          0.6666666666666666,
                          "#ed7953"
                        ],
                        [
                          0.7777777777777778,
                          "#fb9f3a"
                        ],
                        [
                          0.8888888888888888,
                          "#fdca26"
                        ],
                        [
                          1,
                          "#f0f921"
                        ]
                      ]
                    },
                    "colorway": [
                      "#1f77b4",
                      "#ff7f0e",
                      "#2ca02c",
                      "#dc3912",
                      "#9467bd",
                      "#8c564b",
                      "#e377c2",
                      "#7f7f7f",
                      "#bcbd22",
                      "#17becf"
                    ],
                    "font": {
                      "color": "#2a3f5f"
                    },
                    "geo": {
                      "bgcolor": "white",
                      "lakecolor": "white",
                      "landcolor": "#E5ECF6",
                      "showlakes": true,
                      "showland": true,
                      "subunitcolor": "white"
                    },
                    "hoverlabel": {
                      "align": "left"
                    },
                    "hovermode": "closest",
                    "mapbox": {
                      "style": "light"
                    },
                    "paper_bgcolor": "white",
                    "plot_bgcolor": "#E5ECF6",
                    "polar": {
                      "angularaxis": {
                        "gridcolor": "white",
                        "linecolor": "white",
                        "ticks": ""
                      },
                      "bgcolor": "#E5ECF6",
                      "radialaxis": {
                        "gridcolor": "white",
                        "linecolor": "white",
                        "ticks": ""
                      }
                    },
                    "scene": {
                      "xaxis": {
                        "backgroundcolor": "#E5ECF6",
                        "gridcolor": "white",
                        "gridwidth": 2,
                        "linecolor": "white",
                        "showbackground": true,
                        "ticks": "",
                        "zerolinecolor": "white"
                      },
                      "yaxis": {
                        "backgroundcolor": "#E5ECF6",
                        "gridcolor": "white",
                        "gridwidth": 2,
                        "linecolor": "white",
                        "showbackground": true,
                        "ticks": "",
                        "zerolinecolor": "white"
                      },
                      "zaxis": {
                        "backgroundcolor": "#E5ECF6",
                        "gridcolor": "white",
                        "gridwidth": 2,
                        "linecolor": "white",
                        "showbackground": true,
                        "ticks": "",
                        "zerolinecolor": "white"
                      }
                    },
                    "shapedefaults": {
                      "line": {
                        "color": "#2a3f5f"
                      }
                    },
                    "ternary": {
                      "aaxis": {
                        "gridcolor": "white",
                        "linecolor": "white",
                        "ticks": ""
                      },
                      "baxis": {
                        "gridcolor": "white",
                        "linecolor": "white",
                        "ticks": ""
                      },
                      "bgcolor": "#E5ECF6",
                      "caxis": {
                        "gridcolor": "white",
                        "linecolor": "white",
                        "ticks": ""
                      }
                    },
                    "title": {
                      "x": 0.05
                    },
                    "xaxis": {
                      "automargin": true,
                      "gridcolor": "white",
                      "linecolor": "white",
                      "ticks": "",
                      "title": {
                        "standoff": 15
                      },
                      "zerolinecolor": "white",
                      "zerolinewidth": 2
                    },
                    "yaxis": {
                      "automargin": true,
                      "gridcolor": "white",
                      "linecolor": "white",
                      "ticks": "",
                      "title": {
                        "standoff": 15
                      },
                      "zerolinecolor": "white",
                      "zerolinewidth": 2
                    }
                  }
                },
                "width": 700,
                "yaxis": {
                  "tickformat": ".2%"
                }
              }
            },
            "text/html": [
              "<div>                        <script type=\"text/javascript\">window.PlotlyConfig = {MathJaxConfig: 'local'};</script>\n",
              "        <script src=\"https://cdn.plot.ly/plotly-2.9.0.min.js\"></script>                <div id=\"113b7c47-0b8e-4cf2-b023-39d7cca1898e\" class=\"plotly-graph-div\" style=\"height:350px; width:700px;\"></div>            <script type=\"text/javascript\">                                    window.PLOTLYENV=window.PLOTLYENV || {};                                    if (document.getElementById(\"113b7c47-0b8e-4cf2-b023-39d7cca1898e\")) {                    Plotly.newPlot(                        \"113b7c47-0b8e-4cf2-b023-39d7cca1898e\",                        [{\"customdata\":[[0.0,0.0,0.26943404899027235,0.2694340489902724],[1.0,1.0,0.6017005720823798,0.6017005720823798],[2.0,2.0,0.2886306828638064,0.2886306828638064],[3.0,3.0,1.4136224137931037,1.4136224137931037],[4.0,4.0,0.38916306755247887,0.38916306755247887]],\"hovertemplate\":\"Exit Trade Id: %{customdata[0]}<br>Position Id: %{customdata[1]}<br>Exit Timestamp: %{x}<br>PnL: %{customdata[2]:.6f}<br>Return: %{customdata[3]:.2%}\",\"marker\":{\"color\":\"#37B13F\",\"line\":{\"color\":\"rgb(38,123,44)\",\"width\":1},\"opacity\":[0.75,0.7935592425137138,0.7525166267807017,0.9,0.765696150508772],\"size\":[7.0,9.032764650639976,7.117442583099413,14.0,7.732487023742694],\"symbol\":\"circle\"},\"mode\":\"markers\",\"name\":\"Closed - Profit\",\"x\":[\"2018-06-25T10:00:00\",\"2018-11-12T09:00:00\",\"2020-03-09T10:00:00\",\"2020-11-30T10:00:00\",\"2021-10-25T10:00:00\"],\"y\":[0.2694340489902724,0.6017005720823798,0.2886306828638064,1.4136224137931037,0.38916306755247887],\"type\":\"scatter\",\"uid\":\"7492b073-ee36-4247-918d-2b09c424dfe0\"},{\"customdata\":[[5.0,5.0,-0.5732894366197183,-0.5732894366197183]],\"hovertemplate\":\"Exit Trade Id: %{customdata[0]}<br>Position Id: %{customdata[1]}<br>Exit Timestamp: %{x}<br>PnL: %{customdata[2]:.6f}<br>Return: %{customdata[3]:.2%}\",\"marker\":{\"color\":\"#FFAA00\",\"line\":{\"color\":\"rgb(178,118,0)\",\"width\":1},\"opacity\":[0.7898346194966517],\"size\":[8.858948909843747],\"symbol\":\"circle\"},\"mode\":\"markers\",\"name\":\"Open\",\"x\":[\"2023-03-27T10:00:00\"],\"y\":[-0.5732894366197183],\"type\":\"scatter\",\"uid\":\"d6a50756-fa0f-4067-a105-48fe00f4264a\"}],                        {\"template\":{\"data\":{\"barpolar\":[{\"marker\":{\"line\":{\"color\":\"#E5ECF6\",\"width\":0.5}},\"type\":\"barpolar\"}],\"bar\":[{\"error_x\":{\"color\":\"#2a3f5f\"},\"error_y\":{\"color\":\"#2a3f5f\"},\"marker\":{\"line\":{\"color\":\"#E5ECF6\",\"width\":0.5}},\"type\":\"bar\"}],\"carpet\":[{\"aaxis\":{\"endlinecolor\":\"#2a3f5f\",\"gridcolor\":\"white\",\"linecolor\":\"white\",\"minorgridcolor\":\"white\",\"startlinecolor\":\"#2a3f5f\"},\"baxis\":{\"endlinecolor\":\"#2a3f5f\",\"gridcolor\":\"white\",\"linecolor\":\"white\",\"minorgridcolor\":\"white\",\"startlinecolor\":\"#2a3f5f\"},\"type\":\"carpet\"}],\"choropleth\":[{\"colorbar\":{\"outlinewidth\":0,\"ticks\":\"\"},\"type\":\"choropleth\"}],\"contourcarpet\":[{\"colorbar\":{\"outlinewidth\":0,\"ticks\":\"\"},\"type\":\"contourcarpet\"}],\"contour\":[{\"colorbar\":{\"outlinewidth\":0,\"ticks\":\"\"},\"colorscale\":[[0.0,\"#0d0887\"],[0.1111111111111111,\"#46039f\"],[0.2222222222222222,\"#7201a8\"],[0.3333333333333333,\"#9c179e\"],[0.4444444444444444,\"#bd3786\"],[0.5555555555555556,\"#d8576b\"],[0.6666666666666666,\"#ed7953\"],[0.7777777777777778,\"#fb9f3a\"],[0.8888888888888888,\"#fdca26\"],[1.0,\"#f0f921\"]],\"type\":\"contour\"}],\"heatmapgl\":[{\"colorbar\":{\"outlinewidth\":0,\"ticks\":\"\"},\"colorscale\":[[0.0,\"#0d0887\"],[0.1111111111111111,\"#46039f\"],[0.2222222222222222,\"#7201a8\"],[0.3333333333333333,\"#9c179e\"],[0.4444444444444444,\"#bd3786\"],[0.5555555555555556,\"#d8576b\"],[0.6666666666666666,\"#ed7953\"],[0.7777777777777778,\"#fb9f3a\"],[0.8888888888888888,\"#fdca26\"],[1.0,\"#f0f921\"]],\"type\":\"heatmapgl\"}],\"heatmap\":[{\"colorbar\":{\"outlinewidth\":0,\"ticks\":\"\"},\"colorscale\":[[0.0,\"#0d0887\"],[0.1111111111111111,\"#46039f\"],[0.2222222222222222,\"#7201a8\"],[0.3333333333333333,\"#9c179e\"],[0.4444444444444444,\"#bd3786\"],[0.5555555555555556,\"#d8576b\"],[0.6666666666666666,\"#ed7953\"],[0.7777777777777778,\"#fb9f3a\"],[0.8888888888888888,\"#fdca26\"],[1.0,\"#f0f921\"]],\"type\":\"heatmap\"}],\"histogram2dcontour\":[{\"colorbar\":{\"outlinewidth\":0,\"ticks\":\"\"},\"colorscale\":[[0.0,\"#0d0887\"],[0.1111111111111111,\"#46039f\"],[0.2222222222222222,\"#7201a8\"],[0.3333333333333333,\"#9c179e\"],[0.4444444444444444,\"#bd3786\"],[0.5555555555555556,\"#d8576b\"],[0.6666666666666666,\"#ed7953\"],[0.7777777777777778,\"#fb9f3a\"],[0.8888888888888888,\"#fdca26\"],[1.0,\"#f0f921\"]],\"type\":\"histogram2dcontour\"}],\"histogram2d\":[{\"colorbar\":{\"outlinewidth\":0,\"ticks\":\"\"},\"colorscale\":[[0.0,\"#0d0887\"],[0.1111111111111111,\"#46039f\"],[0.2222222222222222,\"#7201a8\"],[0.3333333333333333,\"#9c179e\"],[0.4444444444444444,\"#bd3786\"],[0.5555555555555556,\"#d8576b\"],[0.6666666666666666,\"#ed7953\"],[0.7777777777777778,\"#fb9f3a\"],[0.8888888888888888,\"#fdca26\"],[1.0,\"#f0f921\"]],\"type\":\"histogram2d\"}],\"histogram\":[{\"marker\":{\"colorbar\":{\"outlinewidth\":0,\"ticks\":\"\"}},\"type\":\"histogram\"}],\"mesh3d\":[{\"colorbar\":{\"outlinewidth\":0,\"ticks\":\"\"},\"type\":\"mesh3d\"}],\"parcoords\":[{\"line\":{\"colorbar\":{\"outlinewidth\":0,\"ticks\":\"\"}},\"type\":\"parcoords\"}],\"pie\":[{\"automargin\":true,\"type\":\"pie\"}],\"scatter3d\":[{\"line\":{\"colorbar\":{\"outlinewidth\":0,\"ticks\":\"\"}},\"marker\":{\"colorbar\":{\"outlinewidth\":0,\"ticks\":\"\"}},\"type\":\"scatter3d\"}],\"scattercarpet\":[{\"marker\":{\"colorbar\":{\"outlinewidth\":0,\"ticks\":\"\"}},\"type\":\"scattercarpet\"}],\"scattergeo\":[{\"marker\":{\"colorbar\":{\"outlinewidth\":0,\"ticks\":\"\"}},\"type\":\"scattergeo\"}],\"scattergl\":[{\"marker\":{\"colorbar\":{\"outlinewidth\":0,\"ticks\":\"\"}},\"type\":\"scattergl\"}],\"scattermapbox\":[{\"marker\":{\"colorbar\":{\"outlinewidth\":0,\"ticks\":\"\"}},\"type\":\"scattermapbox\"}],\"scatterpolargl\":[{\"marker\":{\"colorbar\":{\"outlinewidth\":0,\"ticks\":\"\"}},\"type\":\"scatterpolargl\"}],\"scatterpolar\":[{\"marker\":{\"colorbar\":{\"outlinewidth\":0,\"ticks\":\"\"}},\"type\":\"scatterpolar\"}],\"scatter\":[{\"marker\":{\"colorbar\":{\"outlinewidth\":0,\"ticks\":\"\"}},\"type\":\"scatter\"}],\"scatterternary\":[{\"marker\":{\"colorbar\":{\"outlinewidth\":0,\"ticks\":\"\"}},\"type\":\"scatterternary\"}],\"surface\":[{\"colorbar\":{\"outlinewidth\":0,\"ticks\":\"\"},\"colorscale\":[[0.0,\"#0d0887\"],[0.1111111111111111,\"#46039f\"],[0.2222222222222222,\"#7201a8\"],[0.3333333333333333,\"#9c179e\"],[0.4444444444444444,\"#bd3786\"],[0.5555555555555556,\"#d8576b\"],[0.6666666666666666,\"#ed7953\"],[0.7777777777777778,\"#fb9f3a\"],[0.8888888888888888,\"#fdca26\"],[1.0,\"#f0f921\"]],\"type\":\"surface\"}],\"table\":[{\"cells\":{\"fill\":{\"color\":\"#EBF0F8\"},\"line\":{\"color\":\"white\"}},\"header\":{\"fill\":{\"color\":\"#C8D4E3\"},\"line\":{\"color\":\"white\"}},\"type\":\"table\"}]},\"layout\":{\"annotationdefaults\":{\"arrowcolor\":\"#2a3f5f\",\"arrowhead\":0,\"arrowwidth\":1},\"coloraxis\":{\"colorbar\":{\"outlinewidth\":0,\"ticks\":\"\"}},\"colorscale\":{\"diverging\":[[0,\"#8e0152\"],[0.1,\"#c51b7d\"],[0.2,\"#de77ae\"],[0.3,\"#f1b6da\"],[0.4,\"#fde0ef\"],[0.5,\"#f7f7f7\"],[0.6,\"#e6f5d0\"],[0.7,\"#b8e186\"],[0.8,\"#7fbc41\"],[0.9,\"#4d9221\"],[1,\"#276419\"]],\"sequential\":[[0.0,\"#0d0887\"],[0.1111111111111111,\"#46039f\"],[0.2222222222222222,\"#7201a8\"],[0.3333333333333333,\"#9c179e\"],[0.4444444444444444,\"#bd3786\"],[0.5555555555555556,\"#d8576b\"],[0.6666666666666666,\"#ed7953\"],[0.7777777777777778,\"#fb9f3a\"],[0.8888888888888888,\"#fdca26\"],[1.0,\"#f0f921\"]],\"sequentialminus\":[[0.0,\"#0d0887\"],[0.1111111111111111,\"#46039f\"],[0.2222222222222222,\"#7201a8\"],[0.3333333333333333,\"#9c179e\"],[0.4444444444444444,\"#bd3786\"],[0.5555555555555556,\"#d8576b\"],[0.6666666666666666,\"#ed7953\"],[0.7777777777777778,\"#fb9f3a\"],[0.8888888888888888,\"#fdca26\"],[1.0,\"#f0f921\"]]},\"colorway\":[\"#1f77b4\",\"#ff7f0e\",\"#2ca02c\",\"#dc3912\",\"#9467bd\",\"#8c564b\",\"#e377c2\",\"#7f7f7f\",\"#bcbd22\",\"#17becf\"],\"font\":{\"color\":\"#2a3f5f\"},\"geo\":{\"bgcolor\":\"white\",\"lakecolor\":\"white\",\"landcolor\":\"#E5ECF6\",\"showlakes\":true,\"showland\":true,\"subunitcolor\":\"white\"},\"hoverlabel\":{\"align\":\"left\"},\"hovermode\":\"closest\",\"mapbox\":{\"style\":\"light\"},\"paper_bgcolor\":\"white\",\"plot_bgcolor\":\"#E5ECF6\",\"polar\":{\"angularaxis\":{\"gridcolor\":\"white\",\"linecolor\":\"white\",\"ticks\":\"\"},\"bgcolor\":\"#E5ECF6\",\"radialaxis\":{\"gridcolor\":\"white\",\"linecolor\":\"white\",\"ticks\":\"\"}},\"scene\":{\"xaxis\":{\"backgroundcolor\":\"#E5ECF6\",\"gridcolor\":\"white\",\"gridwidth\":2,\"linecolor\":\"white\",\"showbackground\":true,\"ticks\":\"\",\"zerolinecolor\":\"white\"},\"yaxis\":{\"backgroundcolor\":\"#E5ECF6\",\"gridcolor\":\"white\",\"gridwidth\":2,\"linecolor\":\"white\",\"showbackground\":true,\"ticks\":\"\",\"zerolinecolor\":\"white\"},\"zaxis\":{\"backgroundcolor\":\"#E5ECF6\",\"gridcolor\":\"white\",\"gridwidth\":2,\"linecolor\":\"white\",\"showbackground\":true,\"ticks\":\"\",\"zerolinecolor\":\"white\"}},\"shapedefaults\":{\"line\":{\"color\":\"#2a3f5f\"}},\"ternary\":{\"aaxis\":{\"gridcolor\":\"white\",\"linecolor\":\"white\",\"ticks\":\"\"},\"baxis\":{\"gridcolor\":\"white\",\"linecolor\":\"white\",\"ticks\":\"\"},\"bgcolor\":\"#E5ECF6\",\"caxis\":{\"gridcolor\":\"white\",\"linecolor\":\"white\",\"ticks\":\"\"}},\"title\":{\"x\":0.05},\"xaxis\":{\"automargin\":true,\"gridcolor\":\"white\",\"linecolor\":\"white\",\"ticks\":\"\",\"title\":{\"standoff\":15},\"zerolinecolor\":\"white\",\"zerolinewidth\":2},\"yaxis\":{\"automargin\":true,\"gridcolor\":\"white\",\"linecolor\":\"white\",\"ticks\":\"\",\"title\":{\"standoff\":15},\"zerolinecolor\":\"white\",\"zerolinewidth\":2}}},\"margin\":{\"t\":30,\"b\":30,\"l\":30,\"r\":30},\"legend\":{\"orientation\":\"h\",\"yanchor\":\"bottom\",\"y\":1.02,\"xanchor\":\"right\",\"x\":1,\"traceorder\":\"normal\"},\"width\":700,\"height\":350,\"yaxis\":{\"tickformat\":\".2%\"},\"shapes\":[{\"line\":{\"color\":\"gray\",\"dash\":\"dash\"},\"type\":\"line\",\"x0\":0,\"x1\":1,\"xref\":\"paper\",\"y0\":0,\"y1\":0,\"yref\":\"y\"}]},                        {\"responsive\": true}                    )                };                            </script>        </div>"
            ],
            "text/plain": [
              "FigureWidget({\n",
              "    'data': [{'customdata': array([[0.        , 0.        , 0.26943405, 0.26943405],\n",
              "                                   [1.        , 1.        , 0.60170057, 0.60170057],\n",
              "                                   [2.        , 2.        , 0.28863068, 0.28863068],\n",
              "                                   [3.        , 3.        , 1.41362241, 1.41362241],\n",
              "                                   [4.        , 4.        , 0.38916307, 0.38916307]]),\n",
              "              'hovertemplate': ('Exit Trade Id: %{customdata[0]' ... 'r>Return: %{customdata[3]:.2%}'),\n",
              "              'marker': {'color': '#37B13F',\n",
              "                         'line': {'color': 'rgb(38,123,44)', 'width': 1},\n",
              "                         'opacity': array([0.75      , 0.79355924, 0.75251663, 0.9       , 0.76569615]),\n",
              "                         'size': array([ 7.        ,  9.03276465,  7.11744258, 14.        ,  7.73248702]),\n",
              "                         'symbol': 'circle'},\n",
              "              'mode': 'markers',\n",
              "              'name': 'Closed - Profit',\n",
              "              'type': 'scatter',\n",
              "              'uid': '7492b073-ee36-4247-918d-2b09c424dfe0',\n",
              "              'x': array([datetime.datetime(2018, 6, 25, 10, 0),\n",
              "                          datetime.datetime(2018, 11, 12, 9, 0),\n",
              "                          datetime.datetime(2020, 3, 9, 10, 0),\n",
              "                          datetime.datetime(2020, 11, 30, 10, 0),\n",
              "                          datetime.datetime(2021, 10, 25, 10, 0)], dtype=object),\n",
              "              'y': array([0.26943405, 0.60170057, 0.28863068, 1.41362241, 0.38916307])},\n",
              "             {'customdata': array([[ 5.        ,  5.        , -0.57328944, -0.57328944]]),\n",
              "              'hovertemplate': ('Exit Trade Id: %{customdata[0]' ... 'r>Return: %{customdata[3]:.2%}'),\n",
              "              'marker': {'color': '#FFAA00',\n",
              "                         'line': {'color': 'rgb(178,118,0)', 'width': 1},\n",
              "                         'opacity': array([0.78983462]),\n",
              "                         'size': array([8.85894891]),\n",
              "                         'symbol': 'circle'},\n",
              "              'mode': 'markers',\n",
              "              'name': 'Open',\n",
              "              'type': 'scatter',\n",
              "              'uid': 'd6a50756-fa0f-4067-a105-48fe00f4264a',\n",
              "              'x': array([datetime.datetime(2023, 3, 27, 10, 0)], dtype=object),\n",
              "              'y': array([-0.57328944])}],\n",
              "    'layout': {'height': 350,\n",
              "               'legend': {'orientation': 'h',\n",
              "                          'traceorder': 'normal',\n",
              "                          'x': 1,\n",
              "                          'xanchor': 'right',\n",
              "                          'y': 1.02,\n",
              "                          'yanchor': 'bottom'},\n",
              "               'margin': {'b': 30, 'l': 30, 'r': 30, 't': 30},\n",
              "               'shapes': [{'line': {'color': 'gray', 'dash': 'dash'},\n",
              "                           'type': 'line',\n",
              "                           'x0': 0,\n",
              "                           'x1': 1,\n",
              "                           'xref': 'paper',\n",
              "                           'y0': 0,\n",
              "                           'y1': 0,\n",
              "                           'yref': 'y'}],\n",
              "               'template': '...',\n",
              "               'width': 700,\n",
              "               'yaxis': {'tickformat': '.2%'}}\n",
              "})"
            ]
          },
          "execution_count": 50,
          "metadata": {},
          "output_type": "execute_result"
        }
      ],
      "source": [
        "ls_backtests_all[7][1].plot_trade_pnl()"
      ]
    },
    {
      "cell_type": "code",
      "execution_count": 27,
      "metadata": {},
      "outputs": [],
      "source": [
        "i = 7\n",
        "j = 1\n",
        "ls_ativos = []\n",
        "ls_timeframes = []\n",
        "ls_retorno = []\n",
        "ls_n_trades = []\n",
        "ls_annualized_return = []\n",
        "ls_min_pnl = []"
      ]
    },
    {
      "cell_type": "code",
      "execution_count": 51,
      "metadata": {},
      "outputs": [],
      "source": [
        "\n",
        "ls_ativos = []\n",
        "ls_timeframes = []\n",
        "ls_retorno = []\n",
        "ls_n_trades = []\n",
        "ls_annualized_return = []\n",
        "ls_min_pnl = []\n",
        "\n",
        "\n",
        "for i in range(len(ls_backtests_all)):\n",
        "\n",
        "    for j in range(len(ls_backtests_ativo)):\n",
        "\n",
        "        ls_ativos.append(i)\n",
        "        ls_timeframes.append(j)\n",
        "        \n",
        "        ls_n_trades.append(ls_backtests_all[i][j].trades.count())\n",
        "\n",
        "        ls_annualized_return = []\n",
        "\n",
        "        lista_pnl = list(ls_backtests_all[i][j].trades.pnl.values)\n",
        "        cash_init = [100]\n",
        "        if lista_pnl == []:\n",
        "            ls_min_pnl.append(1)\n",
        "        else:\n",
        "            ls_min_pnl.append(min(lista_pnl))\n",
        "        for index,pnl in enumerate(lista_pnl):\n",
        "            if pnl<=-1:\n",
        "                pnl=0\n",
        "                cash_init.append(cash_init[index]*pnl)\n",
        "            else:\n",
        "                cash_init.append(cash_init[index]*(1+pnl))\n",
        "        if min(cash_init)==0:\n",
        "            ls_retorno.append(0)\n",
        "        else:\n",
        "            ls_retorno.append(cash_init[-1])"
      ]
    },
    {
      "cell_type": "code",
      "execution_count": 56,
      "metadata": {},
      "outputs": [
        {
          "name": "stderr",
          "output_type": "stream",
          "text": [
            "c:\\Users\\jamir\\AppData\\Local\\Programs\\Python\\Python310\\lib\\site-packages\\vectorbt\\generic\\stats_builder.py:396: UserWarning:\n",
            "\n",
            "Metric 'sharpe_ratio' requires frequency to be set\n",
            "\n",
            "c:\\Users\\jamir\\AppData\\Local\\Programs\\Python\\Python310\\lib\\site-packages\\vectorbt\\generic\\stats_builder.py:396: UserWarning:\n",
            "\n",
            "Metric 'calmar_ratio' requires frequency to be set\n",
            "\n",
            "c:\\Users\\jamir\\AppData\\Local\\Programs\\Python\\Python310\\lib\\site-packages\\vectorbt\\generic\\stats_builder.py:396: UserWarning:\n",
            "\n",
            "Metric 'omega_ratio' requires frequency to be set\n",
            "\n",
            "c:\\Users\\jamir\\AppData\\Local\\Programs\\Python\\Python310\\lib\\site-packages\\vectorbt\\generic\\stats_builder.py:396: UserWarning:\n",
            "\n",
            "Metric 'sortino_ratio' requires frequency to be set\n",
            "\n"
          ]
        },
        {
          "data": {
            "text/plain": [
              "Start                         2017-04-10 10:00:00\n",
              "End                           2023-03-27 10:00:00\n",
              "Period                                        312\n",
              "Start Value                                 100.0\n",
              "End Value                              102.389261\n",
              "Total Return [%]                         2.389261\n",
              "Benchmark Return [%]                   -47.281427\n",
              "Max Gross Exposure [%]                   2.072857\n",
              "Total Fees Paid                          0.000603\n",
              "Max Drawdown [%]                         0.855273\n",
              "Max Drawdown Duration                        72.0\n",
              "Total Trades                                    6\n",
              "Total Closed Trades                             5\n",
              "Total Open Trades                               1\n",
              "Open Trade PnL                          -0.573289\n",
              "Win Rate [%]                                100.0\n",
              "Best Trade [%]                         141.362241\n",
              "Worst Trade [%]                         26.943405\n",
              "Avg Winning Trade [%]                   59.251016\n",
              "Avg Losing Trade [%]                          NaN\n",
              "Avg Winning Trade Duration                   40.2\n",
              "Avg Losing Trade Duration                     NaN\n",
              "Profit Factor                                 inf\n",
              "Expectancy                                0.59251\n",
              "dtype: object"
            ]
          },
          "execution_count": 56,
          "metadata": {},
          "output_type": "execute_result"
        }
      ],
      "source": [
        "ls_backtests_all[7][1].stats()"
      ]
    },
    {
      "cell_type": "code",
      "execution_count": 57,
      "metadata": {},
      "outputs": [
        {
          "data": {
            "text/plain": [
              "array([ 0.26943405,  0.60170057,  0.28863068,  1.41362241,  0.38916307,\n",
              "       -0.57328944])"
            ]
          },
          "execution_count": 57,
          "metadata": {},
          "output_type": "execute_result"
        }
      ],
      "source": [
        "ls_backtests_all[7][1].trades.pnl.values"
      ]
    },
    {
      "cell_type": "code",
      "execution_count": 58,
      "metadata": {},
      "outputs": [
        {
          "data": {
            "text/plain": [
              "[100,\n",
              " 62.55238971479539,\n",
              " 71.23654060113513,\n",
              " 43.65751424710615,\n",
              " 25.038652868004696,\n",
              " 30.112791463024838,\n",
              " 26.59247211461808,\n",
              " 29.66647637427573,\n",
              " 39.4824053273471,\n",
              " 46.13503882179273,\n",
              " 0.0,\n",
              " 0.0,\n",
              " 0.0,\n",
              " 0.0,\n",
              " 0.0,\n",
              " 0.0,\n",
              " 0.0,\n",
              " 0.0,\n",
              " 0.0,\n",
              " 0.0,\n",
              " 0.0,\n",
              " 0.0,\n",
              " 0.0,\n",
              " 0.0,\n",
              " 0.0,\n",
              " 0.0,\n",
              " 0.0,\n",
              " 0.0,\n",
              " 0.0,\n",
              " 0.0]"
            ]
          },
          "execution_count": 58,
          "metadata": {},
          "output_type": "execute_result"
        }
      ],
      "source": [
        "cash_init"
      ]
    },
    {
      "cell_type": "code",
      "execution_count": null,
      "metadata": {},
      "outputs": [],
      "source": [
        "ls_backtests_all[7][1]"
      ]
    },
    {
      "cell_type": "code",
      "execution_count": 134,
      "metadata": {},
      "outputs": [
        {
          "name": "stdout",
          "output_type": "stream",
          "text": [
            "média monthly   -51.084444\n",
            "weekly    -64.078889\n",
            "daily     -66.394444\n",
            "dtype: float64\n",
            "mediana monthly   -100.0\n",
            "weekly    -100.0\n",
            "daily     -100.0\n",
            "dtype: float64\n"
          ]
        }
      ],
      "source": [
        "print('média',result_final.mean())\n",
        "print('mediana',result_final.median())"
      ]
    },
    {
      "cell_type": "code",
      "execution_count": 135,
      "metadata": {},
      "outputs": [
        {
          "data": {
            "text/html": [
              "<div>\n",
              "<style scoped>\n",
              "    .dataframe tbody tr th:only-of-type {\n",
              "        vertical-align: middle;\n",
              "    }\n",
              "\n",
              "    .dataframe tbody tr th {\n",
              "        vertical-align: top;\n",
              "    }\n",
              "\n",
              "    .dataframe thead th {\n",
              "        text-align: right;\n",
              "    }\n",
              "</style>\n",
              "<table border=\"1\" class=\"dataframe\">\n",
              "  <thead>\n",
              "    <tr style=\"text-align: right;\">\n",
              "      <th></th>\n",
              "      <th>monthly</th>\n",
              "      <th>weekly</th>\n",
              "      <th>daily</th>\n",
              "    </tr>\n",
              "  </thead>\n",
              "  <tbody>\n",
              "    <tr>\n",
              "      <th>count</th>\n",
              "      <td>90.000000</td>\n",
              "      <td>90.000000</td>\n",
              "      <td>90.000000</td>\n",
              "    </tr>\n",
              "    <tr>\n",
              "      <th>mean</th>\n",
              "      <td>-51.084444</td>\n",
              "      <td>-64.078889</td>\n",
              "      <td>-66.394444</td>\n",
              "    </tr>\n",
              "    <tr>\n",
              "      <th>std</th>\n",
              "      <td>51.833983</td>\n",
              "      <td>48.403360</td>\n",
              "      <td>48.931352</td>\n",
              "    </tr>\n",
              "    <tr>\n",
              "      <th>min</th>\n",
              "      <td>-100.000000</td>\n",
              "      <td>-100.000000</td>\n",
              "      <td>-100.000000</td>\n",
              "    </tr>\n",
              "    <tr>\n",
              "      <th>25%</th>\n",
              "      <td>-100.000000</td>\n",
              "      <td>-100.000000</td>\n",
              "      <td>-100.000000</td>\n",
              "    </tr>\n",
              "    <tr>\n",
              "      <th>50%</th>\n",
              "      <td>-100.000000</td>\n",
              "      <td>-100.000000</td>\n",
              "      <td>-100.000000</td>\n",
              "    </tr>\n",
              "    <tr>\n",
              "      <th>75%</th>\n",
              "      <td>0.225000</td>\n",
              "      <td>-5.000000</td>\n",
              "      <td>-13.800000</td>\n",
              "    </tr>\n",
              "    <tr>\n",
              "      <th>max</th>\n",
              "      <td>20.600000</td>\n",
              "      <td>28.600000</td>\n",
              "      <td>77.900000</td>\n",
              "    </tr>\n",
              "  </tbody>\n",
              "</table>\n",
              "</div>"
            ],
            "text/plain": [
              "          monthly      weekly       daily\n",
              "count   90.000000   90.000000   90.000000\n",
              "mean   -51.084444  -64.078889  -66.394444\n",
              "std     51.833983   48.403360   48.931352\n",
              "min   -100.000000 -100.000000 -100.000000\n",
              "25%   -100.000000 -100.000000 -100.000000\n",
              "50%   -100.000000 -100.000000 -100.000000\n",
              "75%      0.225000   -5.000000  -13.800000\n",
              "max     20.600000   28.600000   77.900000"
            ]
          },
          "execution_count": 135,
          "metadata": {},
          "output_type": "execute_result"
        }
      ],
      "source": [
        "result_final.describe()"
      ]
    },
    {
      "attachments": {},
      "cell_type": "markdown",
      "metadata": {},
      "source": [
        "# 4. Backestinf incluindo DAYTRADE"
      ]
    },
    {
      "cell_type": "code",
      "execution_count": 73,
      "metadata": {},
      "outputs": [],
      "source": [
        "for i in range(len(cotacoes_tv_all)):\n",
        "\n",
        "    for j in range(len(cotacoes_tv_ativo)):\n",
        "\n",
        "        if (j==0) or (j==1) or (j==2):\n",
        "            cotacoes_tv_all[i][j]['entrada'] = cotacoes_tv_all[i][j]['RSI'].vbt.crossed_above(30)\n",
        "            cotacoes_tv_all[i][j]['saida'] = cotacoes_tv_all[i][j]['RSI'].vbt.crossed_above(70)\n",
        "            cotacoes_tv_all[i][j]['short_entrada'] = cotacoes_tv_all[i][j]['RSI'].vbt.crossed_below(70)\n",
        "            cotacoes_tv_all[i][j]['short_saida'] = cotacoes_tv_all[i][j]['RSI'].vbt.crossed_below(30)\n",
        "\n",
        "        else:\n",
        "            cotacoes_tv_all[i][j]['entrada'] = cotacoes_tv_all[i][j]['RSI'].vbt.crossed_above(30).vbt.signals.AND(cotacoes_tv_all[i][j].index.hour<15)\n",
        "            cotacoes_tv_all[i][j]['saida'] = cotacoes_tv_all[i][j]['RSI'].vbt.crossed_above(70).vbt.signals.OR(cotacoes_tv_all[i][j].index.hour>16)\n",
        "            cotacoes_tv_all[i][j]['short_entrada'] = cotacoes_tv_all[i][j]['RSI'].vbt.crossed_below(70).vbt.signals.AND(cotacoes_tv_all[i][j].index.hour<15)\n",
        "            cotacoes_tv_all[i][j]['short_saida'] = cotacoes_tv_all[i][j]['RSI'].vbt.crossed_below(30).vbt.signals.OR(cotacoes_tv_all[i][j].index.hour>16)"
      ]
    },
    {
      "cell_type": "code",
      "execution_count": 74,
      "metadata": {},
      "outputs": [],
      "source": [
        "ls_backtests_all = []\n",
        "\n",
        "for i in range(len(cotacoes_tv_all)):\n",
        "\n",
        "    ls_backtests_ativo = []\n",
        "\n",
        "    for j in range(len(cotacoes_tv_ativo)):\n",
        "\n",
        "        backtest_ativo = vbt.Portfolio.from_signals(cotacoes_tv_all[i][j].close, entries=cotacoes_tv_all[i][j].entrada, exits=cotacoes_tv_all[i][j].saida,\n",
        "                                                    short_entries=cotacoes_tv_all[i][j].short_entrada, short_exits=cotacoes_tv_all[i][j].short_saida,\n",
        "                                                    fees=0.00005,\n",
        "                                                    size_type='Value', size=1,\n",
        "                                                    )\n",
        "        ls_backtests_ativo.append(backtest_ativo)\n",
        "\n",
        "    ls_backtests_all.append(ls_backtests_ativo)\n",
        "\n",
        "ls_ativos = []\n",
        "ls_timeframes = []\n",
        "ls_retorno = []\n",
        "ls_n_trades = []\n",
        "ls_annualized_return = []\n",
        "ls_min_pnl = []\n",
        "\n",
        "\n",
        "for i in range(len(ls_backtests_all)):\n",
        "\n",
        "    for j in range(len(ls_backtests_ativo)):\n",
        "\n",
        "        ls_ativos.append(i)\n",
        "        ls_timeframes.append(j)\n",
        "        \n",
        "        ls_n_trades.append(ls_backtests_all[i][j].trades.count())\n",
        "\n",
        "        ls_annualized_return = []\n",
        "\n",
        "        lista_pnl = list(ls_backtests_all[i][j].trades.pnl.values)\n",
        "        cash_init = [100]\n",
        "        if lista_pnl == []:\n",
        "            ls_min_pnl.append(1)\n",
        "        else:\n",
        "            ls_min_pnl.append(min(lista_pnl))\n",
        "        for index,pnl in enumerate(lista_pnl):\n",
        "            if pnl<=-1:\n",
        "                pnl=0\n",
        "                cash_init.append(cash_init[index]*pnl)\n",
        "            else:\n",
        "                cash_init.append(cash_init[index]*(1+pnl))\n",
        "        if min(cash_init)==0:\n",
        "            ls_retorno.append(0)\n",
        "        else:\n",
        "            ls_retorno.append(cash_init[-1])"
      ]
    },
    {
      "cell_type": "code",
      "execution_count": 75,
      "metadata": {},
      "outputs": [],
      "source": [
        "from datetime import datetime as dt\n",
        "import time\n",
        "\n",
        "def toYearFraction(date):\n",
        "    def sinceEpoch(date): # returns seconds since epoch\n",
        "        return time.mktime(date.timetuple())\n",
        "    s = sinceEpoch\n",
        "\n",
        "    year = date.year\n",
        "    startOfThisYear = dt(year=year, month=1, day=1)\n",
        "    startOfNextYear = dt(year=year+1, month=1, day=1)\n",
        "\n",
        "    yearElapsed = s(date) - s(startOfThisYear)\n",
        "    yearDuration = s(startOfNextYear) - s(startOfThisYear)\n",
        "    fraction = yearElapsed/yearDuration\n",
        "\n",
        "    return date.year + fraction"
      ]
    },
    {
      "cell_type": "code",
      "execution_count": 76,
      "metadata": {},
      "outputs": [
        {
          "data": {
            "text/html": [
              "<div>\n",
              "<style scoped>\n",
              "    .dataframe tbody tr th:only-of-type {\n",
              "        vertical-align: middle;\n",
              "    }\n",
              "\n",
              "    .dataframe tbody tr th {\n",
              "        vertical-align: top;\n",
              "    }\n",
              "\n",
              "    .dataframe thead th {\n",
              "        text-align: right;\n",
              "    }\n",
              "</style>\n",
              "<table border=\"1\" class=\"dataframe\">\n",
              "  <thead>\n",
              "    <tr style=\"text-align: right;\">\n",
              "      <th></th>\n",
              "      <th>Ativo</th>\n",
              "      <th>Timeframe</th>\n",
              "      <th>Cash_final</th>\n",
              "      <th>N_trades</th>\n",
              "      <th>Min_PnL</th>\n",
              "      <th>Data_init</th>\n",
              "      <th>Ano_init</th>\n",
              "      <th>N_candles</th>\n",
              "      <th>Tempo_em_anos</th>\n",
              "      <th>Retorno_annualizado</th>\n",
              "    </tr>\n",
              "  </thead>\n",
              "  <tbody>\n",
              "    <tr>\n",
              "      <th>0</th>\n",
              "      <td>0</td>\n",
              "      <td>0</td>\n",
              "      <td>0</td>\n",
              "      <td>2</td>\n",
              "      <td>-1.380214</td>\n",
              "      <td>2011-10-03 09:00:00</td>\n",
              "      <td>2011.754452</td>\n",
              "      <td>600</td>\n",
              "      <td>11.487875</td>\n",
              "      <td>-1.0</td>\n",
              "    </tr>\n",
              "    <tr>\n",
              "      <th>1</th>\n",
              "      <td>0</td>\n",
              "      <td>1</td>\n",
              "      <td>51.960512</td>\n",
              "      <td>22</td>\n",
              "      <td>-0.569966</td>\n",
              "      <td>2011-10-07 09:00:00</td>\n",
              "      <td>2011.765411</td>\n",
              "      <td>2841</td>\n",
              "      <td>11.476916</td>\n",
              "      <td>-0.055447</td>\n",
              "    </tr>\n",
              "    <tr>\n",
              "      <th>2</th>\n",
              "      <td>0</td>\n",
              "      <td>2</td>\n",
              "      <td>120.789765</td>\n",
              "      <td>52</td>\n",
              "      <td>-0.105447</td>\n",
              "      <td>2021-01-04 09:00:00</td>\n",
              "      <td>2021.009247</td>\n",
              "      <td>5243</td>\n",
              "      <td>2.233081</td>\n",
              "      <td>0.088264</td>\n",
              "    </tr>\n",
              "    <tr>\n",
              "      <th>3</th>\n",
              "      <td>0</td>\n",
              "      <td>3</td>\n",
              "      <td>101.839946</td>\n",
              "      <td>78</td>\n",
              "      <td>-0.020617</td>\n",
              "      <td>2022-09-01 09:00:00</td>\n",
              "      <td>2022.666781</td>\n",
              "      <td>5311</td>\n",
              "      <td>0.575547</td>\n",
              "      <td>0.032185</td>\n",
              "    </tr>\n",
              "    <tr>\n",
              "      <th>4</th>\n",
              "      <td>0</td>\n",
              "      <td>4</td>\n",
              "      <td>102.926932</td>\n",
              "      <td>55</td>\n",
              "      <td>-0.012144</td>\n",
              "      <td>2023-01-23 09:00:00</td>\n",
              "      <td>2023.061301</td>\n",
              "      <td>5128</td>\n",
              "      <td>0.181026</td>\n",
              "      <td>0.172766</td>\n",
              "    </tr>\n",
              "    <tr>\n",
              "      <th>...</th>\n",
              "      <td>...</td>\n",
              "      <td>...</td>\n",
              "      <td>...</td>\n",
              "      <td>...</td>\n",
              "      <td>...</td>\n",
              "      <td>...</td>\n",
              "      <td>...</td>\n",
              "      <td>...</td>\n",
              "      <td>...</td>\n",
              "      <td>...</td>\n",
              "    </tr>\n",
              "    <tr>\n",
              "      <th>445</th>\n",
              "      <td>89</td>\n",
              "      <td>0</td>\n",
              "      <td>0</td>\n",
              "      <td>9</td>\n",
              "      <td>-1.143987</td>\n",
              "      <td>2007-07-30 10:00:00</td>\n",
              "      <td>2007.576484</td>\n",
              "      <td>818</td>\n",
              "      <td>15.665843</td>\n",
              "      <td>-1.0</td>\n",
              "    </tr>\n",
              "    <tr>\n",
              "      <th>446</th>\n",
              "      <td>89</td>\n",
              "      <td>1</td>\n",
              "      <td>0</td>\n",
              "      <td>29</td>\n",
              "      <td>-1.197503</td>\n",
              "      <td>2007-07-30 10:00:00</td>\n",
              "      <td>2007.576484</td>\n",
              "      <td>3870</td>\n",
              "      <td>15.665843</td>\n",
              "      <td>-1.0</td>\n",
              "    </tr>\n",
              "    <tr>\n",
              "      <th>447</th>\n",
              "      <td>89</td>\n",
              "      <td>2</td>\n",
              "      <td>74.382269</td>\n",
              "      <td>59</td>\n",
              "      <td>-0.414742</td>\n",
              "      <td>2020-01-02 10:00:00</td>\n",
              "      <td>2020.003871</td>\n",
              "      <td>6442</td>\n",
              "      <td>3.238457</td>\n",
              "      <td>-0.087335</td>\n",
              "    </tr>\n",
              "    <tr>\n",
              "      <th>448</th>\n",
              "      <td>89</td>\n",
              "      <td>3</td>\n",
              "      <td>78.68888</td>\n",
              "      <td>86</td>\n",
              "      <td>-0.121807</td>\n",
              "      <td>2022-08-01 10:00:00</td>\n",
              "      <td>2022.581963</td>\n",
              "      <td>5204</td>\n",
              "      <td>0.660364</td>\n",
              "      <td>-0.304367</td>\n",
              "    </tr>\n",
              "    <tr>\n",
              "      <th>449</th>\n",
              "      <td>89</td>\n",
              "      <td>4</td>\n",
              "      <td>109.891015</td>\n",
              "      <td>53</td>\n",
              "      <td>-0.079573</td>\n",
              "      <td>2023-01-09 10:00:00</td>\n",
              "      <td>2023.023059</td>\n",
              "      <td>5166</td>\n",
              "      <td>0.219268</td>\n",
              "      <td>0.537494</td>\n",
              "    </tr>\n",
              "  </tbody>\n",
              "</table>\n",
              "<p>450 rows × 10 columns</p>\n",
              "</div>"
            ],
            "text/plain": [
              "    Ativo Timeframe  Cash_final N_trades   Min_PnL           Data_init  \\\n",
              "0       0         0           0        2 -1.380214 2011-10-03 09:00:00   \n",
              "1       0         1   51.960512       22 -0.569966 2011-10-07 09:00:00   \n",
              "2       0         2  120.789765       52 -0.105447 2021-01-04 09:00:00   \n",
              "3       0         3  101.839946       78 -0.020617 2022-09-01 09:00:00   \n",
              "4       0         4  102.926932       55 -0.012144 2023-01-23 09:00:00   \n",
              "..    ...       ...         ...      ...       ...                 ...   \n",
              "445    89         0           0        9 -1.143987 2007-07-30 10:00:00   \n",
              "446    89         1           0       29 -1.197503 2007-07-30 10:00:00   \n",
              "447    89         2   74.382269       59 -0.414742 2020-01-02 10:00:00   \n",
              "448    89         3    78.68888       86 -0.121807 2022-08-01 10:00:00   \n",
              "449    89         4  109.891015       53 -0.079573 2023-01-09 10:00:00   \n",
              "\n",
              "        Ano_init N_candles Tempo_em_anos Retorno_annualizado  \n",
              "0    2011.754452       600     11.487875                -1.0  \n",
              "1    2011.765411      2841     11.476916           -0.055447  \n",
              "2    2021.009247      5243      2.233081            0.088264  \n",
              "3    2022.666781      5311      0.575547            0.032185  \n",
              "4    2023.061301      5128      0.181026            0.172766  \n",
              "..           ...       ...           ...                 ...  \n",
              "445  2007.576484       818     15.665843                -1.0  \n",
              "446  2007.576484      3870     15.665843                -1.0  \n",
              "447  2020.003871      6442      3.238457           -0.087335  \n",
              "448  2022.581963      5204      0.660364           -0.304367  \n",
              "449  2023.023059      5166      0.219268            0.537494  \n",
              "\n",
              "[450 rows x 10 columns]"
            ]
          },
          "execution_count": 76,
          "metadata": {},
          "output_type": "execute_result"
        }
      ],
      "source": [
        "ls_ativos = []\n",
        "ls_timeframes = []\n",
        "ls_data_init = []\n",
        "ls_year_init = []\n",
        "ls_n_candles = []\n",
        "\n",
        "for i in range(len(cotacoes_tv_all)):\n",
        "\n",
        "    for j in range(len(cotacoes_tv_ativo)):\n",
        "\n",
        "        ls_ativos.append(i)\n",
        "        ls_timeframes.append(j)\n",
        "        ls_data_init.append(cotacoes_tv_all[i][j].index[0])\n",
        "        ls_year_init.append(toYearFraction(cotacoes_tv_all[i][j].index[0]))\n",
        "        ls_n_candles.append(len(cotacoes_tv_all[i][j]))\n",
        "\n",
        "df_result_01 = pd.DataFrame([ls_ativos, ls_timeframes, ls_retorno, ls_n_trades, ls_min_pnl, ls_data_init, ls_year_init, ls_n_candles], \\\n",
        "                            index=['Ativo', 'Timeframe', 'Cash_final', 'N_trades', 'Min_PnL', 'Data_init', 'Ano_init','N_candles']).transpose()\n",
        "df_result_01\n",
        "#df_result_01.sort_values('Cash_final')\n",
        "\n",
        "df_result_01['Tempo_em_anos'] = toYearFraction(dt.now()) - df_result_01.Ano_init\n",
        "df_result_01['Retorno_annualizado']  = (df_result_01.Cash_final/100)**(1/df_result_01.Tempo_em_anos) - 1\n",
        "df_result_01"
      ]
    },
    {
      "cell_type": "code",
      "execution_count": 77,
      "metadata": {},
      "outputs": [
        {
          "data": {
            "text/html": [
              "<style type=\"text/css\">\n",
              "#T_2f77a_row0_col0, #T_2f77a_row2_col0, #T_2f77a_row2_col1, #T_2f77a_row3_col0, #T_2f77a_row3_col1, #T_2f77a_row4_col1, #T_2f77a_row8_col0, #T_2f77a_row9_col0, #T_2f77a_row9_col1, #T_2f77a_row10_col0, #T_2f77a_row10_col1, #T_2f77a_row11_col0, #T_2f77a_row11_col1, #T_2f77a_row12_col0, #T_2f77a_row13_col0, #T_2f77a_row13_col1, #T_2f77a_row14_col0, #T_2f77a_row14_col1, #T_2f77a_row14_col2, #T_2f77a_row15_col0, #T_2f77a_row15_col1, #T_2f77a_row15_col2, #T_2f77a_row16_col0, #T_2f77a_row16_col1, #T_2f77a_row17_col0, #T_2f77a_row17_col1, #T_2f77a_row18_col0, #T_2f77a_row18_col1, #T_2f77a_row19_col1, #T_2f77a_row19_col2, #T_2f77a_row20_col0, #T_2f77a_row20_col1, #T_2f77a_row21_col0, #T_2f77a_row21_col1, #T_2f77a_row22_col0, #T_2f77a_row22_col1, #T_2f77a_row24_col0, #T_2f77a_row24_col1, #T_2f77a_row25_col0, #T_2f77a_row25_col1, #T_2f77a_row26_col0, #T_2f77a_row26_col1, #T_2f77a_row28_col0, #T_2f77a_row29_col0, #T_2f77a_row29_col1, #T_2f77a_row29_col2, #T_2f77a_row30_col0, #T_2f77a_row30_col1, #T_2f77a_row31_col1, #T_2f77a_row32_col0, #T_2f77a_row32_col1, #T_2f77a_row34_col0, #T_2f77a_row34_col1, #T_2f77a_row35_col0, #T_2f77a_row35_col1, #T_2f77a_row36_col0, #T_2f77a_row37_col1, #T_2f77a_row38_col0, #T_2f77a_row38_col1, #T_2f77a_row39_col1, #T_2f77a_row40_col0, #T_2f77a_row41_col0, #T_2f77a_row41_col1, #T_2f77a_row42_col0, #T_2f77a_row42_col1, #T_2f77a_row43_col1, #T_2f77a_row44_col0, #T_2f77a_row44_col1, #T_2f77a_row45_col0, #T_2f77a_row45_col1, #T_2f77a_row46_col0, #T_2f77a_row46_col1, #T_2f77a_row48_col1, #T_2f77a_row50_col0, #T_2f77a_row50_col1, #T_2f77a_row51_col0, #T_2f77a_row51_col1, #T_2f77a_row52_col0, #T_2f77a_row52_col1, #T_2f77a_row54_col0, #T_2f77a_row54_col1, #T_2f77a_row55_col1, #T_2f77a_row55_col2, #T_2f77a_row56_col0, #T_2f77a_row56_col1, #T_2f77a_row57_col1, #T_2f77a_row58_col1, #T_2f77a_row59_col0, #T_2f77a_row60_col0, #T_2f77a_row60_col1, #T_2f77a_row62_col0, #T_2f77a_row62_col1, #T_2f77a_row63_col0, #T_2f77a_row65_col0, #T_2f77a_row65_col1, #T_2f77a_row65_col2, #T_2f77a_row66_col1, #T_2f77a_row67_col0, #T_2f77a_row67_col1, #T_2f77a_row68_col0, #T_2f77a_row68_col1, #T_2f77a_row71_col0, #T_2f77a_row71_col1, #T_2f77a_row74_col0, #T_2f77a_row74_col1, #T_2f77a_row75_col0, #T_2f77a_row75_col1, #T_2f77a_row76_col0, #T_2f77a_row78_col1, #T_2f77a_row81_col0, #T_2f77a_row81_col1, #T_2f77a_row82_col0, #T_2f77a_row82_col1, #T_2f77a_row83_col0, #T_2f77a_row83_col1, #T_2f77a_row84_col0, #T_2f77a_row84_col1, #T_2f77a_row86_col1, #T_2f77a_row87_col0, #T_2f77a_row88_col0, #T_2f77a_row88_col1, #T_2f77a_row89_col0, #T_2f77a_row89_col1 {\n",
              "  background-color: #ffe6e6;\n",
              "}\n",
              "#T_2f77a_row0_col1, #T_2f77a_row0_col2, #T_2f77a_row0_col3, #T_2f77a_row0_col4, #T_2f77a_row1_col0, #T_2f77a_row1_col1, #T_2f77a_row1_col2, #T_2f77a_row1_col3, #T_2f77a_row1_col4, #T_2f77a_row2_col2, #T_2f77a_row2_col3, #T_2f77a_row2_col4, #T_2f77a_row3_col2, #T_2f77a_row3_col3, #T_2f77a_row3_col4, #T_2f77a_row4_col0, #T_2f77a_row4_col2, #T_2f77a_row4_col3, #T_2f77a_row4_col4, #T_2f77a_row5_col0, #T_2f77a_row5_col1, #T_2f77a_row5_col2, #T_2f77a_row5_col3, #T_2f77a_row5_col4, #T_2f77a_row6_col0, #T_2f77a_row6_col1, #T_2f77a_row6_col2, #T_2f77a_row6_col3, #T_2f77a_row6_col4, #T_2f77a_row7_col0, #T_2f77a_row7_col1, #T_2f77a_row7_col2, #T_2f77a_row7_col3, #T_2f77a_row7_col4, #T_2f77a_row8_col1, #T_2f77a_row8_col2, #T_2f77a_row8_col3, #T_2f77a_row8_col4, #T_2f77a_row9_col2, #T_2f77a_row9_col3, #T_2f77a_row9_col4, #T_2f77a_row10_col2, #T_2f77a_row10_col3, #T_2f77a_row10_col4, #T_2f77a_row11_col2, #T_2f77a_row11_col3, #T_2f77a_row11_col4, #T_2f77a_row12_col1, #T_2f77a_row12_col2, #T_2f77a_row12_col3, #T_2f77a_row12_col4, #T_2f77a_row13_col2, #T_2f77a_row13_col3, #T_2f77a_row13_col4, #T_2f77a_row14_col3, #T_2f77a_row14_col4, #T_2f77a_row15_col3, #T_2f77a_row15_col4, #T_2f77a_row16_col2, #T_2f77a_row16_col3, #T_2f77a_row16_col4, #T_2f77a_row17_col2, #T_2f77a_row17_col3, #T_2f77a_row17_col4, #T_2f77a_row18_col2, #T_2f77a_row18_col3, #T_2f77a_row18_col4, #T_2f77a_row19_col0, #T_2f77a_row19_col3, #T_2f77a_row19_col4, #T_2f77a_row20_col2, #T_2f77a_row20_col3, #T_2f77a_row20_col4, #T_2f77a_row21_col2, #T_2f77a_row21_col3, #T_2f77a_row21_col4, #T_2f77a_row22_col2, #T_2f77a_row22_col3, #T_2f77a_row22_col4, #T_2f77a_row23_col0, #T_2f77a_row23_col1, #T_2f77a_row23_col2, #T_2f77a_row23_col3, #T_2f77a_row23_col4, #T_2f77a_row24_col2, #T_2f77a_row24_col3, #T_2f77a_row24_col4, #T_2f77a_row25_col2, #T_2f77a_row25_col3, #T_2f77a_row25_col4, #T_2f77a_row26_col2, #T_2f77a_row26_col3, #T_2f77a_row26_col4, #T_2f77a_row27_col0, #T_2f77a_row27_col1, #T_2f77a_row27_col2, #T_2f77a_row27_col3, #T_2f77a_row27_col4, #T_2f77a_row28_col1, #T_2f77a_row28_col2, #T_2f77a_row28_col3, #T_2f77a_row28_col4, #T_2f77a_row29_col3, #T_2f77a_row29_col4, #T_2f77a_row30_col2, #T_2f77a_row30_col3, #T_2f77a_row30_col4, #T_2f77a_row31_col0, #T_2f77a_row31_col2, #T_2f77a_row31_col3, #T_2f77a_row31_col4, #T_2f77a_row32_col2, #T_2f77a_row32_col3, #T_2f77a_row32_col4, #T_2f77a_row33_col0, #T_2f77a_row33_col1, #T_2f77a_row33_col2, #T_2f77a_row33_col3, #T_2f77a_row33_col4, #T_2f77a_row34_col2, #T_2f77a_row34_col3, #T_2f77a_row34_col4, #T_2f77a_row35_col2, #T_2f77a_row35_col3, #T_2f77a_row35_col4, #T_2f77a_row36_col1, #T_2f77a_row36_col2, #T_2f77a_row36_col3, #T_2f77a_row36_col4, #T_2f77a_row37_col0, #T_2f77a_row37_col2, #T_2f77a_row37_col3, #T_2f77a_row37_col4, #T_2f77a_row38_col2, #T_2f77a_row38_col3, #T_2f77a_row38_col4, #T_2f77a_row39_col0, #T_2f77a_row39_col2, #T_2f77a_row39_col3, #T_2f77a_row39_col4, #T_2f77a_row40_col1, #T_2f77a_row40_col2, #T_2f77a_row40_col3, #T_2f77a_row40_col4, #T_2f77a_row41_col2, #T_2f77a_row41_col3, #T_2f77a_row41_col4, #T_2f77a_row42_col2, #T_2f77a_row42_col3, #T_2f77a_row42_col4, #T_2f77a_row43_col0, #T_2f77a_row43_col2, #T_2f77a_row43_col3, #T_2f77a_row43_col4, #T_2f77a_row44_col2, #T_2f77a_row44_col3, #T_2f77a_row44_col4, #T_2f77a_row45_col2, #T_2f77a_row45_col3, #T_2f77a_row45_col4, #T_2f77a_row46_col2, #T_2f77a_row46_col3, #T_2f77a_row46_col4, #T_2f77a_row47_col0, #T_2f77a_row47_col1, #T_2f77a_row47_col2, #T_2f77a_row47_col3, #T_2f77a_row47_col4, #T_2f77a_row48_col0, #T_2f77a_row48_col2, #T_2f77a_row48_col3, #T_2f77a_row48_col4, #T_2f77a_row49_col0, #T_2f77a_row49_col1, #T_2f77a_row49_col2, #T_2f77a_row49_col3, #T_2f77a_row49_col4, #T_2f77a_row50_col2, #T_2f77a_row50_col3, #T_2f77a_row50_col4, #T_2f77a_row51_col2, #T_2f77a_row51_col3, #T_2f77a_row51_col4, #T_2f77a_row52_col2, #T_2f77a_row52_col3, #T_2f77a_row52_col4, #T_2f77a_row53_col0, #T_2f77a_row53_col1, #T_2f77a_row53_col2, #T_2f77a_row53_col3, #T_2f77a_row53_col4, #T_2f77a_row54_col2, #T_2f77a_row54_col3, #T_2f77a_row54_col4, #T_2f77a_row55_col0, #T_2f77a_row55_col3, #T_2f77a_row55_col4, #T_2f77a_row56_col2, #T_2f77a_row56_col3, #T_2f77a_row56_col4, #T_2f77a_row57_col0, #T_2f77a_row57_col2, #T_2f77a_row57_col3, #T_2f77a_row57_col4, #T_2f77a_row58_col0, #T_2f77a_row58_col2, #T_2f77a_row58_col3, #T_2f77a_row58_col4, #T_2f77a_row59_col1, #T_2f77a_row59_col2, #T_2f77a_row59_col3, #T_2f77a_row59_col4, #T_2f77a_row60_col2, #T_2f77a_row60_col3, #T_2f77a_row60_col4, #T_2f77a_row61_col0, #T_2f77a_row61_col1, #T_2f77a_row61_col2, #T_2f77a_row61_col3, #T_2f77a_row61_col4, #T_2f77a_row62_col2, #T_2f77a_row62_col3, #T_2f77a_row62_col4, #T_2f77a_row63_col1, #T_2f77a_row63_col2, #T_2f77a_row63_col3, #T_2f77a_row63_col4, #T_2f77a_row64_col0, #T_2f77a_row64_col1, #T_2f77a_row64_col2, #T_2f77a_row64_col3, #T_2f77a_row64_col4, #T_2f77a_row65_col3, #T_2f77a_row65_col4, #T_2f77a_row66_col0, #T_2f77a_row66_col2, #T_2f77a_row66_col3, #T_2f77a_row66_col4, #T_2f77a_row67_col2, #T_2f77a_row67_col3, #T_2f77a_row67_col4, #T_2f77a_row68_col2, #T_2f77a_row68_col3, #T_2f77a_row68_col4, #T_2f77a_row69_col0, #T_2f77a_row69_col1, #T_2f77a_row69_col2, #T_2f77a_row69_col3, #T_2f77a_row69_col4, #T_2f77a_row70_col0, #T_2f77a_row70_col1, #T_2f77a_row70_col2, #T_2f77a_row70_col3, #T_2f77a_row70_col4, #T_2f77a_row71_col2, #T_2f77a_row71_col3, #T_2f77a_row71_col4, #T_2f77a_row72_col0, #T_2f77a_row72_col1, #T_2f77a_row72_col2, #T_2f77a_row72_col3, #T_2f77a_row72_col4, #T_2f77a_row73_col0, #T_2f77a_row73_col1, #T_2f77a_row73_col2, #T_2f77a_row73_col3, #T_2f77a_row73_col4, #T_2f77a_row74_col2, #T_2f77a_row74_col3, #T_2f77a_row74_col4, #T_2f77a_row75_col2, #T_2f77a_row75_col3, #T_2f77a_row75_col4, #T_2f77a_row76_col1, #T_2f77a_row76_col2, #T_2f77a_row76_col3, #T_2f77a_row76_col4, #T_2f77a_row77_col0, #T_2f77a_row77_col1, #T_2f77a_row77_col2, #T_2f77a_row77_col3, #T_2f77a_row77_col4, #T_2f77a_row78_col0, #T_2f77a_row78_col2, #T_2f77a_row78_col3, #T_2f77a_row78_col4, #T_2f77a_row79_col0, #T_2f77a_row79_col1, #T_2f77a_row79_col2, #T_2f77a_row79_col3, #T_2f77a_row79_col4, #T_2f77a_row80_col0, #T_2f77a_row80_col1, #T_2f77a_row80_col2, #T_2f77a_row80_col3, #T_2f77a_row80_col4, #T_2f77a_row81_col2, #T_2f77a_row81_col3, #T_2f77a_row81_col4, #T_2f77a_row82_col2, #T_2f77a_row82_col3, #T_2f77a_row82_col4, #T_2f77a_row83_col2, #T_2f77a_row83_col3, #T_2f77a_row83_col4, #T_2f77a_row84_col2, #T_2f77a_row84_col3, #T_2f77a_row84_col4, #T_2f77a_row85_col0, #T_2f77a_row85_col1, #T_2f77a_row85_col2, #T_2f77a_row85_col3, #T_2f77a_row85_col4, #T_2f77a_row86_col0, #T_2f77a_row86_col2, #T_2f77a_row86_col3, #T_2f77a_row86_col4, #T_2f77a_row87_col1, #T_2f77a_row87_col2, #T_2f77a_row87_col3, #T_2f77a_row87_col4, #T_2f77a_row88_col2, #T_2f77a_row88_col3, #T_2f77a_row88_col4, #T_2f77a_row89_col2, #T_2f77a_row89_col3, #T_2f77a_row89_col4 {\n",
              "  background-color: #e6ffe6;\n",
              "}\n",
              "</style>\n",
              "<table id=\"T_2f77a\">\n",
              "  <thead>\n",
              "    <tr>\n",
              "      <th class=\"index_name level0\" >Timeframe</th>\n",
              "      <th id=\"T_2f77a_level0_col0\" class=\"col_heading level0 col0\" >0</th>\n",
              "      <th id=\"T_2f77a_level0_col1\" class=\"col_heading level0 col1\" >1</th>\n",
              "      <th id=\"T_2f77a_level0_col2\" class=\"col_heading level0 col2\" >2</th>\n",
              "      <th id=\"T_2f77a_level0_col3\" class=\"col_heading level0 col3\" >3</th>\n",
              "      <th id=\"T_2f77a_level0_col4\" class=\"col_heading level0 col4\" >4</th>\n",
              "    </tr>\n",
              "    <tr>\n",
              "      <th class=\"index_name level0\" >Ativo</th>\n",
              "      <th class=\"blank col0\" >&nbsp;</th>\n",
              "      <th class=\"blank col1\" >&nbsp;</th>\n",
              "      <th class=\"blank col2\" >&nbsp;</th>\n",
              "      <th class=\"blank col3\" >&nbsp;</th>\n",
              "      <th class=\"blank col4\" >&nbsp;</th>\n",
              "    </tr>\n",
              "  </thead>\n",
              "  <tbody>\n",
              "    <tr>\n",
              "      <th id=\"T_2f77a_level0_row0\" class=\"row_heading level0 row0\" >0</th>\n",
              "      <td id=\"T_2f77a_row0_col0\" class=\"data row0 col0\" >0.00</td>\n",
              "      <td id=\"T_2f77a_row0_col1\" class=\"data row0 col1\" >51.96</td>\n",
              "      <td id=\"T_2f77a_row0_col2\" class=\"data row0 col2\" >120.79</td>\n",
              "      <td id=\"T_2f77a_row0_col3\" class=\"data row0 col3\" >101.84</td>\n",
              "      <td id=\"T_2f77a_row0_col4\" class=\"data row0 col4\" >102.93</td>\n",
              "    </tr>\n",
              "    <tr>\n",
              "      <th id=\"T_2f77a_level0_row1\" class=\"row_heading level0 row1\" >1</th>\n",
              "      <td id=\"T_2f77a_row1_col0\" class=\"data row1 col0\" >225.01</td>\n",
              "      <td id=\"T_2f77a_row1_col1\" class=\"data row1 col1\" >24.86</td>\n",
              "      <td id=\"T_2f77a_row1_col2\" class=\"data row1 col2\" >133.08</td>\n",
              "      <td id=\"T_2f77a_row1_col3\" class=\"data row1 col3\" >91.40</td>\n",
              "      <td id=\"T_2f77a_row1_col4\" class=\"data row1 col4\" >100.00</td>\n",
              "    </tr>\n",
              "    <tr>\n",
              "      <th id=\"T_2f77a_level0_row2\" class=\"row_heading level0 row2\" >2</th>\n",
              "      <td id=\"T_2f77a_row2_col0\" class=\"data row2 col0\" >0.00</td>\n",
              "      <td id=\"T_2f77a_row2_col1\" class=\"data row2 col1\" >0.00</td>\n",
              "      <td id=\"T_2f77a_row2_col2\" class=\"data row2 col2\" >61.48</td>\n",
              "      <td id=\"T_2f77a_row2_col3\" class=\"data row2 col3\" >97.39</td>\n",
              "      <td id=\"T_2f77a_row2_col4\" class=\"data row2 col4\" >102.43</td>\n",
              "    </tr>\n",
              "    <tr>\n",
              "      <th id=\"T_2f77a_level0_row3\" class=\"row_heading level0 row3\" >3</th>\n",
              "      <td id=\"T_2f77a_row3_col0\" class=\"data row3 col0\" >0.00</td>\n",
              "      <td id=\"T_2f77a_row3_col1\" class=\"data row3 col1\" >0.00</td>\n",
              "      <td id=\"T_2f77a_row3_col2\" class=\"data row3 col2\" >75.32</td>\n",
              "      <td id=\"T_2f77a_row3_col3\" class=\"data row3 col3\" >66.65</td>\n",
              "      <td id=\"T_2f77a_row3_col4\" class=\"data row3 col4\" >107.84</td>\n",
              "    </tr>\n",
              "    <tr>\n",
              "      <th id=\"T_2f77a_level0_row4\" class=\"row_heading level0 row4\" >4</th>\n",
              "      <td id=\"T_2f77a_row4_col0\" class=\"data row4 col0\" >54.26</td>\n",
              "      <td id=\"T_2f77a_row4_col1\" class=\"data row4 col1\" >0.00</td>\n",
              "      <td id=\"T_2f77a_row4_col2\" class=\"data row4 col2\" >81.08</td>\n",
              "      <td id=\"T_2f77a_row4_col3\" class=\"data row4 col3\" >68.75</td>\n",
              "      <td id=\"T_2f77a_row4_col4\" class=\"data row4 col4\" >95.09</td>\n",
              "    </tr>\n",
              "    <tr>\n",
              "      <th id=\"T_2f77a_level0_row5\" class=\"row_heading level0 row5\" >5</th>\n",
              "      <td id=\"T_2f77a_row5_col0\" class=\"data row5 col0\" >172.36</td>\n",
              "      <td id=\"T_2f77a_row5_col1\" class=\"data row5 col1\" >61.15</td>\n",
              "      <td id=\"T_2f77a_row5_col2\" class=\"data row5 col2\" >59.09</td>\n",
              "      <td id=\"T_2f77a_row5_col3\" class=\"data row5 col3\" >86.57</td>\n",
              "      <td id=\"T_2f77a_row5_col4\" class=\"data row5 col4\" >119.10</td>\n",
              "    </tr>\n",
              "    <tr>\n",
              "      <th id=\"T_2f77a_level0_row6\" class=\"row_heading level0 row6\" >6</th>\n",
              "      <td id=\"T_2f77a_row6_col0\" class=\"data row6 col0\" >172.87</td>\n",
              "      <td id=\"T_2f77a_row6_col1\" class=\"data row6 col1\" >74.89</td>\n",
              "      <td id=\"T_2f77a_row6_col2\" class=\"data row6 col2\" >202.35</td>\n",
              "      <td id=\"T_2f77a_row6_col3\" class=\"data row6 col3\" >117.57</td>\n",
              "      <td id=\"T_2f77a_row6_col4\" class=\"data row6 col4\" >102.06</td>\n",
              "    </tr>\n",
              "    <tr>\n",
              "      <th id=\"T_2f77a_level0_row7\" class=\"row_heading level0 row7\" >7</th>\n",
              "      <td id=\"T_2f77a_row7_col0\" class=\"data row7 col0\" >361.26</td>\n",
              "      <td id=\"T_2f77a_row7_col1\" class=\"data row7 col1\" >29.93</td>\n",
              "      <td id=\"T_2f77a_row7_col2\" class=\"data row7 col2\" >6.66</td>\n",
              "      <td id=\"T_2f77a_row7_col3\" class=\"data row7 col3\" >80.93</td>\n",
              "      <td id=\"T_2f77a_row7_col4\" class=\"data row7 col4\" >99.65</td>\n",
              "    </tr>\n",
              "    <tr>\n",
              "      <th id=\"T_2f77a_level0_row8\" class=\"row_heading level0 row8\" >8</th>\n",
              "      <td id=\"T_2f77a_row8_col0\" class=\"data row8 col0\" >0.00</td>\n",
              "      <td id=\"T_2f77a_row8_col1\" class=\"data row8 col1\" >0.24</td>\n",
              "      <td id=\"T_2f77a_row8_col2\" class=\"data row8 col2\" >68.48</td>\n",
              "      <td id=\"T_2f77a_row8_col3\" class=\"data row8 col3\" >75.09</td>\n",
              "      <td id=\"T_2f77a_row8_col4\" class=\"data row8 col4\" >103.68</td>\n",
              "    </tr>\n",
              "    <tr>\n",
              "      <th id=\"T_2f77a_level0_row9\" class=\"row_heading level0 row9\" >9</th>\n",
              "      <td id=\"T_2f77a_row9_col0\" class=\"data row9 col0\" >0.00</td>\n",
              "      <td id=\"T_2f77a_row9_col1\" class=\"data row9 col1\" >0.00</td>\n",
              "      <td id=\"T_2f77a_row9_col2\" class=\"data row9 col2\" >129.89</td>\n",
              "      <td id=\"T_2f77a_row9_col3\" class=\"data row9 col3\" >81.49</td>\n",
              "      <td id=\"T_2f77a_row9_col4\" class=\"data row9 col4\" >104.73</td>\n",
              "    </tr>\n",
              "    <tr>\n",
              "      <th id=\"T_2f77a_level0_row10\" class=\"row_heading level0 row10\" >10</th>\n",
              "      <td id=\"T_2f77a_row10_col0\" class=\"data row10 col0\" >0.00</td>\n",
              "      <td id=\"T_2f77a_row10_col1\" class=\"data row10 col1\" >0.00</td>\n",
              "      <td id=\"T_2f77a_row10_col2\" class=\"data row10 col2\" >91.48</td>\n",
              "      <td id=\"T_2f77a_row10_col3\" class=\"data row10 col3\" >83.26</td>\n",
              "      <td id=\"T_2f77a_row10_col4\" class=\"data row10 col4\" >95.18</td>\n",
              "    </tr>\n",
              "    <tr>\n",
              "      <th id=\"T_2f77a_level0_row11\" class=\"row_heading level0 row11\" >11</th>\n",
              "      <td id=\"T_2f77a_row11_col0\" class=\"data row11 col0\" >0.00</td>\n",
              "      <td id=\"T_2f77a_row11_col1\" class=\"data row11 col1\" >0.00</td>\n",
              "      <td id=\"T_2f77a_row11_col2\" class=\"data row11 col2\" >125.58</td>\n",
              "      <td id=\"T_2f77a_row11_col3\" class=\"data row11 col3\" >82.25</td>\n",
              "      <td id=\"T_2f77a_row11_col4\" class=\"data row11 col4\" >87.05</td>\n",
              "    </tr>\n",
              "    <tr>\n",
              "      <th id=\"T_2f77a_level0_row12\" class=\"row_heading level0 row12\" >12</th>\n",
              "      <td id=\"T_2f77a_row12_col0\" class=\"data row12 col0\" >0.00</td>\n",
              "      <td id=\"T_2f77a_row12_col1\" class=\"data row12 col1\" >7.00</td>\n",
              "      <td id=\"T_2f77a_row12_col2\" class=\"data row12 col2\" >99.68</td>\n",
              "      <td id=\"T_2f77a_row12_col3\" class=\"data row12 col3\" >91.95</td>\n",
              "      <td id=\"T_2f77a_row12_col4\" class=\"data row12 col4\" >106.17</td>\n",
              "    </tr>\n",
              "    <tr>\n",
              "      <th id=\"T_2f77a_level0_row13\" class=\"row_heading level0 row13\" >13</th>\n",
              "      <td id=\"T_2f77a_row13_col0\" class=\"data row13 col0\" >0.00</td>\n",
              "      <td id=\"T_2f77a_row13_col1\" class=\"data row13 col1\" >0.00</td>\n",
              "      <td id=\"T_2f77a_row13_col2\" class=\"data row13 col2\" >48.59</td>\n",
              "      <td id=\"T_2f77a_row13_col3\" class=\"data row13 col3\" >153.87</td>\n",
              "      <td id=\"T_2f77a_row13_col4\" class=\"data row13 col4\" >135.97</td>\n",
              "    </tr>\n",
              "    <tr>\n",
              "      <th id=\"T_2f77a_level0_row14\" class=\"row_heading level0 row14\" >14</th>\n",
              "      <td id=\"T_2f77a_row14_col0\" class=\"data row14 col0\" >0.00</td>\n",
              "      <td id=\"T_2f77a_row14_col1\" class=\"data row14 col1\" >0.00</td>\n",
              "      <td id=\"T_2f77a_row14_col2\" class=\"data row14 col2\" >0.00</td>\n",
              "      <td id=\"T_2f77a_row14_col3\" class=\"data row14 col3\" >73.13</td>\n",
              "      <td id=\"T_2f77a_row14_col4\" class=\"data row14 col4\" >105.45</td>\n",
              "    </tr>\n",
              "    <tr>\n",
              "      <th id=\"T_2f77a_level0_row15\" class=\"row_heading level0 row15\" >15</th>\n",
              "      <td id=\"T_2f77a_row15_col0\" class=\"data row15 col0\" >0.00</td>\n",
              "      <td id=\"T_2f77a_row15_col1\" class=\"data row15 col1\" >0.00</td>\n",
              "      <td id=\"T_2f77a_row15_col2\" class=\"data row15 col2\" >0.00</td>\n",
              "      <td id=\"T_2f77a_row15_col3\" class=\"data row15 col3\" >83.96</td>\n",
              "      <td id=\"T_2f77a_row15_col4\" class=\"data row15 col4\" >112.00</td>\n",
              "    </tr>\n",
              "    <tr>\n",
              "      <th id=\"T_2f77a_level0_row16\" class=\"row_heading level0 row16\" >16</th>\n",
              "      <td id=\"T_2f77a_row16_col0\" class=\"data row16 col0\" >0.00</td>\n",
              "      <td id=\"T_2f77a_row16_col1\" class=\"data row16 col1\" >0.00</td>\n",
              "      <td id=\"T_2f77a_row16_col2\" class=\"data row16 col2\" >77.75</td>\n",
              "      <td id=\"T_2f77a_row16_col3\" class=\"data row16 col3\" >100.99</td>\n",
              "      <td id=\"T_2f77a_row16_col4\" class=\"data row16 col4\" >100.07</td>\n",
              "    </tr>\n",
              "    <tr>\n",
              "      <th id=\"T_2f77a_level0_row17\" class=\"row_heading level0 row17\" >17</th>\n",
              "      <td id=\"T_2f77a_row17_col0\" class=\"data row17 col0\" >0.00</td>\n",
              "      <td id=\"T_2f77a_row17_col1\" class=\"data row17 col1\" >0.00</td>\n",
              "      <td id=\"T_2f77a_row17_col2\" class=\"data row17 col2\" >31.56</td>\n",
              "      <td id=\"T_2f77a_row17_col3\" class=\"data row17 col3\" >100.40</td>\n",
              "      <td id=\"T_2f77a_row17_col4\" class=\"data row17 col4\" >71.43</td>\n",
              "    </tr>\n",
              "    <tr>\n",
              "      <th id=\"T_2f77a_level0_row18\" class=\"row_heading level0 row18\" >18</th>\n",
              "      <td id=\"T_2f77a_row18_col0\" class=\"data row18 col0\" >0.00</td>\n",
              "      <td id=\"T_2f77a_row18_col1\" class=\"data row18 col1\" >0.00</td>\n",
              "      <td id=\"T_2f77a_row18_col2\" class=\"data row18 col2\" >14.62</td>\n",
              "      <td id=\"T_2f77a_row18_col3\" class=\"data row18 col3\" >108.27</td>\n",
              "      <td id=\"T_2f77a_row18_col4\" class=\"data row18 col4\" >107.63</td>\n",
              "    </tr>\n",
              "    <tr>\n",
              "      <th id=\"T_2f77a_level0_row19\" class=\"row_heading level0 row19\" >19</th>\n",
              "      <td id=\"T_2f77a_row19_col0\" class=\"data row19 col0\" >144.13</td>\n",
              "      <td id=\"T_2f77a_row19_col1\" class=\"data row19 col1\" >0.00</td>\n",
              "      <td id=\"T_2f77a_row19_col2\" class=\"data row19 col2\" >0.00</td>\n",
              "      <td id=\"T_2f77a_row19_col3\" class=\"data row19 col3\" >90.38</td>\n",
              "      <td id=\"T_2f77a_row19_col4\" class=\"data row19 col4\" >94.41</td>\n",
              "    </tr>\n",
              "    <tr>\n",
              "      <th id=\"T_2f77a_level0_row20\" class=\"row_heading level0 row20\" >20</th>\n",
              "      <td id=\"T_2f77a_row20_col0\" class=\"data row20 col0\" >0.00</td>\n",
              "      <td id=\"T_2f77a_row20_col1\" class=\"data row20 col1\" >0.00</td>\n",
              "      <td id=\"T_2f77a_row20_col2\" class=\"data row20 col2\" >155.07</td>\n",
              "      <td id=\"T_2f77a_row20_col3\" class=\"data row20 col3\" >118.33</td>\n",
              "      <td id=\"T_2f77a_row20_col4\" class=\"data row20 col4\" >105.15</td>\n",
              "    </tr>\n",
              "    <tr>\n",
              "      <th id=\"T_2f77a_level0_row21\" class=\"row_heading level0 row21\" >21</th>\n",
              "      <td id=\"T_2f77a_row21_col0\" class=\"data row21 col0\" >0.00</td>\n",
              "      <td id=\"T_2f77a_row21_col1\" class=\"data row21 col1\" >0.00</td>\n",
              "      <td id=\"T_2f77a_row21_col2\" class=\"data row21 col2\" >71.64</td>\n",
              "      <td id=\"T_2f77a_row21_col3\" class=\"data row21 col3\" >128.31</td>\n",
              "      <td id=\"T_2f77a_row21_col4\" class=\"data row21 col4\" >101.39</td>\n",
              "    </tr>\n",
              "    <tr>\n",
              "      <th id=\"T_2f77a_level0_row22\" class=\"row_heading level0 row22\" >22</th>\n",
              "      <td id=\"T_2f77a_row22_col0\" class=\"data row22 col0\" >0.00</td>\n",
              "      <td id=\"T_2f77a_row22_col1\" class=\"data row22 col1\" >0.00</td>\n",
              "      <td id=\"T_2f77a_row22_col2\" class=\"data row22 col2\" >118.99</td>\n",
              "      <td id=\"T_2f77a_row22_col3\" class=\"data row22 col3\" >96.87</td>\n",
              "      <td id=\"T_2f77a_row22_col4\" class=\"data row22 col4\" >114.24</td>\n",
              "    </tr>\n",
              "    <tr>\n",
              "      <th id=\"T_2f77a_level0_row23\" class=\"row_heading level0 row23\" >23</th>\n",
              "      <td id=\"T_2f77a_row23_col0\" class=\"data row23 col0\" >93.15</td>\n",
              "      <td id=\"T_2f77a_row23_col1\" class=\"data row23 col1\" >76.51</td>\n",
              "      <td id=\"T_2f77a_row23_col2\" class=\"data row23 col2\" >22.98</td>\n",
              "      <td id=\"T_2f77a_row23_col3\" class=\"data row23 col3\" >95.52</td>\n",
              "      <td id=\"T_2f77a_row23_col4\" class=\"data row23 col4\" >96.44</td>\n",
              "    </tr>\n",
              "    <tr>\n",
              "      <th id=\"T_2f77a_level0_row24\" class=\"row_heading level0 row24\" >24</th>\n",
              "      <td id=\"T_2f77a_row24_col0\" class=\"data row24 col0\" >0.00</td>\n",
              "      <td id=\"T_2f77a_row24_col1\" class=\"data row24 col1\" >0.00</td>\n",
              "      <td id=\"T_2f77a_row24_col2\" class=\"data row24 col2\" >22.55</td>\n",
              "      <td id=\"T_2f77a_row24_col3\" class=\"data row24 col3\" >88.97</td>\n",
              "      <td id=\"T_2f77a_row24_col4\" class=\"data row24 col4\" >112.71</td>\n",
              "    </tr>\n",
              "    <tr>\n",
              "      <th id=\"T_2f77a_level0_row25\" class=\"row_heading level0 row25\" >25</th>\n",
              "      <td id=\"T_2f77a_row25_col0\" class=\"data row25 col0\" >0.00</td>\n",
              "      <td id=\"T_2f77a_row25_col1\" class=\"data row25 col1\" >0.00</td>\n",
              "      <td id=\"T_2f77a_row25_col2\" class=\"data row25 col2\" >177.00</td>\n",
              "      <td id=\"T_2f77a_row25_col3\" class=\"data row25 col3\" >98.24</td>\n",
              "      <td id=\"T_2f77a_row25_col4\" class=\"data row25 col4\" >97.64</td>\n",
              "    </tr>\n",
              "    <tr>\n",
              "      <th id=\"T_2f77a_level0_row26\" class=\"row_heading level0 row26\" >26</th>\n",
              "      <td id=\"T_2f77a_row26_col0\" class=\"data row26 col0\" >0.00</td>\n",
              "      <td id=\"T_2f77a_row26_col1\" class=\"data row26 col1\" >0.00</td>\n",
              "      <td id=\"T_2f77a_row26_col2\" class=\"data row26 col2\" >326.41</td>\n",
              "      <td id=\"T_2f77a_row26_col3\" class=\"data row26 col3\" >101.15</td>\n",
              "      <td id=\"T_2f77a_row26_col4\" class=\"data row26 col4\" >105.48</td>\n",
              "    </tr>\n",
              "    <tr>\n",
              "      <th id=\"T_2f77a_level0_row27\" class=\"row_heading level0 row27\" >27</th>\n",
              "      <td id=\"T_2f77a_row27_col0\" class=\"data row27 col0\" >174.25</td>\n",
              "      <td id=\"T_2f77a_row27_col1\" class=\"data row27 col1\" >132.64</td>\n",
              "      <td id=\"T_2f77a_row27_col2\" class=\"data row27 col2\" >57.82</td>\n",
              "      <td id=\"T_2f77a_row27_col3\" class=\"data row27 col3\" >107.44</td>\n",
              "      <td id=\"T_2f77a_row27_col4\" class=\"data row27 col4\" >86.94</td>\n",
              "    </tr>\n",
              "    <tr>\n",
              "      <th id=\"T_2f77a_level0_row28\" class=\"row_heading level0 row28\" >28</th>\n",
              "      <td id=\"T_2f77a_row28_col0\" class=\"data row28 col0\" >0.00</td>\n",
              "      <td id=\"T_2f77a_row28_col1\" class=\"data row28 col1\" >14.11</td>\n",
              "      <td id=\"T_2f77a_row28_col2\" class=\"data row28 col2\" >54.55</td>\n",
              "      <td id=\"T_2f77a_row28_col3\" class=\"data row28 col3\" >75.42</td>\n",
              "      <td id=\"T_2f77a_row28_col4\" class=\"data row28 col4\" >106.04</td>\n",
              "    </tr>\n",
              "    <tr>\n",
              "      <th id=\"T_2f77a_level0_row29\" class=\"row_heading level0 row29\" >29</th>\n",
              "      <td id=\"T_2f77a_row29_col0\" class=\"data row29 col0\" >0.00</td>\n",
              "      <td id=\"T_2f77a_row29_col1\" class=\"data row29 col1\" >0.00</td>\n",
              "      <td id=\"T_2f77a_row29_col2\" class=\"data row29 col2\" >0.00</td>\n",
              "      <td id=\"T_2f77a_row29_col3\" class=\"data row29 col3\" >85.40</td>\n",
              "      <td id=\"T_2f77a_row29_col4\" class=\"data row29 col4\" >99.62</td>\n",
              "    </tr>\n",
              "    <tr>\n",
              "      <th id=\"T_2f77a_level0_row30\" class=\"row_heading level0 row30\" >30</th>\n",
              "      <td id=\"T_2f77a_row30_col0\" class=\"data row30 col0\" >0.00</td>\n",
              "      <td id=\"T_2f77a_row30_col1\" class=\"data row30 col1\" >0.00</td>\n",
              "      <td id=\"T_2f77a_row30_col2\" class=\"data row30 col2\" >5.47</td>\n",
              "      <td id=\"T_2f77a_row30_col3\" class=\"data row30 col3\" >38.82</td>\n",
              "      <td id=\"T_2f77a_row30_col4\" class=\"data row30 col4\" >41.33</td>\n",
              "    </tr>\n",
              "    <tr>\n",
              "      <th id=\"T_2f77a_level0_row31\" class=\"row_heading level0 row31\" >31</th>\n",
              "      <td id=\"T_2f77a_row31_col0\" class=\"data row31 col0\" >372.51</td>\n",
              "      <td id=\"T_2f77a_row31_col1\" class=\"data row31 col1\" >0.00</td>\n",
              "      <td id=\"T_2f77a_row31_col2\" class=\"data row31 col2\" >21.95</td>\n",
              "      <td id=\"T_2f77a_row31_col3\" class=\"data row31 col3\" >102.31</td>\n",
              "      <td id=\"T_2f77a_row31_col4\" class=\"data row31 col4\" >103.37</td>\n",
              "    </tr>\n",
              "    <tr>\n",
              "      <th id=\"T_2f77a_level0_row32\" class=\"row_heading level0 row32\" >32</th>\n",
              "      <td id=\"T_2f77a_row32_col0\" class=\"data row32 col0\" >0.00</td>\n",
              "      <td id=\"T_2f77a_row32_col1\" class=\"data row32 col1\" >0.00</td>\n",
              "      <td id=\"T_2f77a_row32_col2\" class=\"data row32 col2\" >134.92</td>\n",
              "      <td id=\"T_2f77a_row32_col3\" class=\"data row32 col3\" >78.06</td>\n",
              "      <td id=\"T_2f77a_row32_col4\" class=\"data row32 col4\" >107.67</td>\n",
              "    </tr>\n",
              "    <tr>\n",
              "      <th id=\"T_2f77a_level0_row33\" class=\"row_heading level0 row33\" >33</th>\n",
              "      <td id=\"T_2f77a_row33_col0\" class=\"data row33 col0\" >45.55</td>\n",
              "      <td id=\"T_2f77a_row33_col1\" class=\"data row33 col1\" >14.91</td>\n",
              "      <td id=\"T_2f77a_row33_col2\" class=\"data row33 col2\" >167.89</td>\n",
              "      <td id=\"T_2f77a_row33_col3\" class=\"data row33 col3\" >76.68</td>\n",
              "      <td id=\"T_2f77a_row33_col4\" class=\"data row33 col4\" >99.57</td>\n",
              "    </tr>\n",
              "    <tr>\n",
              "      <th id=\"T_2f77a_level0_row34\" class=\"row_heading level0 row34\" >34</th>\n",
              "      <td id=\"T_2f77a_row34_col0\" class=\"data row34 col0\" >0.00</td>\n",
              "      <td id=\"T_2f77a_row34_col1\" class=\"data row34 col1\" >0.00</td>\n",
              "      <td id=\"T_2f77a_row34_col2\" class=\"data row34 col2\" >195.09</td>\n",
              "      <td id=\"T_2f77a_row34_col3\" class=\"data row34 col3\" >86.86</td>\n",
              "      <td id=\"T_2f77a_row34_col4\" class=\"data row34 col4\" >89.42</td>\n",
              "    </tr>\n",
              "    <tr>\n",
              "      <th id=\"T_2f77a_level0_row35\" class=\"row_heading level0 row35\" >35</th>\n",
              "      <td id=\"T_2f77a_row35_col0\" class=\"data row35 col0\" >0.00</td>\n",
              "      <td id=\"T_2f77a_row35_col1\" class=\"data row35 col1\" >0.00</td>\n",
              "      <td id=\"T_2f77a_row35_col2\" class=\"data row35 col2\" >35.07</td>\n",
              "      <td id=\"T_2f77a_row35_col3\" class=\"data row35 col3\" >122.42</td>\n",
              "      <td id=\"T_2f77a_row35_col4\" class=\"data row35 col4\" >88.38</td>\n",
              "    </tr>\n",
              "    <tr>\n",
              "      <th id=\"T_2f77a_level0_row36\" class=\"row_heading level0 row36\" >36</th>\n",
              "      <td id=\"T_2f77a_row36_col0\" class=\"data row36 col0\" >0.00</td>\n",
              "      <td id=\"T_2f77a_row36_col1\" class=\"data row36 col1\" >4085.11</td>\n",
              "      <td id=\"T_2f77a_row36_col2\" class=\"data row36 col2\" >62.42</td>\n",
              "      <td id=\"T_2f77a_row36_col3\" class=\"data row36 col3\" >98.90</td>\n",
              "      <td id=\"T_2f77a_row36_col4\" class=\"data row36 col4\" >94.09</td>\n",
              "    </tr>\n",
              "    <tr>\n",
              "      <th id=\"T_2f77a_level0_row37\" class=\"row_heading level0 row37\" >37</th>\n",
              "      <td id=\"T_2f77a_row37_col0\" class=\"data row37 col0\" >308.41</td>\n",
              "      <td id=\"T_2f77a_row37_col1\" class=\"data row37 col1\" >0.00</td>\n",
              "      <td id=\"T_2f77a_row37_col2\" class=\"data row37 col2\" >11.08</td>\n",
              "      <td id=\"T_2f77a_row37_col3\" class=\"data row37 col3\" >107.16</td>\n",
              "      <td id=\"T_2f77a_row37_col4\" class=\"data row37 col4\" >119.77</td>\n",
              "    </tr>\n",
              "    <tr>\n",
              "      <th id=\"T_2f77a_level0_row38\" class=\"row_heading level0 row38\" >38</th>\n",
              "      <td id=\"T_2f77a_row38_col0\" class=\"data row38 col0\" >0.00</td>\n",
              "      <td id=\"T_2f77a_row38_col1\" class=\"data row38 col1\" >0.00</td>\n",
              "      <td id=\"T_2f77a_row38_col2\" class=\"data row38 col2\" >213.31</td>\n",
              "      <td id=\"T_2f77a_row38_col3\" class=\"data row38 col3\" >103.65</td>\n",
              "      <td id=\"T_2f77a_row38_col4\" class=\"data row38 col4\" >103.81</td>\n",
              "    </tr>\n",
              "    <tr>\n",
              "      <th id=\"T_2f77a_level0_row39\" class=\"row_heading level0 row39\" >39</th>\n",
              "      <td id=\"T_2f77a_row39_col0\" class=\"data row39 col0\" >0.11</td>\n",
              "      <td id=\"T_2f77a_row39_col1\" class=\"data row39 col1\" >0.00</td>\n",
              "      <td id=\"T_2f77a_row39_col2\" class=\"data row39 col2\" >140.30</td>\n",
              "      <td id=\"T_2f77a_row39_col3\" class=\"data row39 col3\" >98.72</td>\n",
              "      <td id=\"T_2f77a_row39_col4\" class=\"data row39 col4\" >123.16</td>\n",
              "    </tr>\n",
              "    <tr>\n",
              "      <th id=\"T_2f77a_level0_row40\" class=\"row_heading level0 row40\" >40</th>\n",
              "      <td id=\"T_2f77a_row40_col0\" class=\"data row40 col0\" >0.00</td>\n",
              "      <td id=\"T_2f77a_row40_col1\" class=\"data row40 col1\" >46.12</td>\n",
              "      <td id=\"T_2f77a_row40_col2\" class=\"data row40 col2\" >214.18</td>\n",
              "      <td id=\"T_2f77a_row40_col3\" class=\"data row40 col3\" >110.49</td>\n",
              "      <td id=\"T_2f77a_row40_col4\" class=\"data row40 col4\" >102.13</td>\n",
              "    </tr>\n",
              "    <tr>\n",
              "      <th id=\"T_2f77a_level0_row41\" class=\"row_heading level0 row41\" >41</th>\n",
              "      <td id=\"T_2f77a_row41_col0\" class=\"data row41 col0\" >0.00</td>\n",
              "      <td id=\"T_2f77a_row41_col1\" class=\"data row41 col1\" >0.00</td>\n",
              "      <td id=\"T_2f77a_row41_col2\" class=\"data row41 col2\" >107.66</td>\n",
              "      <td id=\"T_2f77a_row41_col3\" class=\"data row41 col3\" >93.06</td>\n",
              "      <td id=\"T_2f77a_row41_col4\" class=\"data row41 col4\" >95.63</td>\n",
              "    </tr>\n",
              "    <tr>\n",
              "      <th id=\"T_2f77a_level0_row42\" class=\"row_heading level0 row42\" >42</th>\n",
              "      <td id=\"T_2f77a_row42_col0\" class=\"data row42 col0\" >0.00</td>\n",
              "      <td id=\"T_2f77a_row42_col1\" class=\"data row42 col1\" >0.00</td>\n",
              "      <td id=\"T_2f77a_row42_col2\" class=\"data row42 col2\" >81.41</td>\n",
              "      <td id=\"T_2f77a_row42_col3\" class=\"data row42 col3\" >112.40</td>\n",
              "      <td id=\"T_2f77a_row42_col4\" class=\"data row42 col4\" >95.27</td>\n",
              "    </tr>\n",
              "    <tr>\n",
              "      <th id=\"T_2f77a_level0_row43\" class=\"row_heading level0 row43\" >43</th>\n",
              "      <td id=\"T_2f77a_row43_col0\" class=\"data row43 col0\" >135.09</td>\n",
              "      <td id=\"T_2f77a_row43_col1\" class=\"data row43 col1\" >0.00</td>\n",
              "      <td id=\"T_2f77a_row43_col2\" class=\"data row43 col2\" >217.51</td>\n",
              "      <td id=\"T_2f77a_row43_col3\" class=\"data row43 col3\" >97.77</td>\n",
              "      <td id=\"T_2f77a_row43_col4\" class=\"data row43 col4\" >87.11</td>\n",
              "    </tr>\n",
              "    <tr>\n",
              "      <th id=\"T_2f77a_level0_row44\" class=\"row_heading level0 row44\" >44</th>\n",
              "      <td id=\"T_2f77a_row44_col0\" class=\"data row44 col0\" >0.00</td>\n",
              "      <td id=\"T_2f77a_row44_col1\" class=\"data row44 col1\" >0.00</td>\n",
              "      <td id=\"T_2f77a_row44_col2\" class=\"data row44 col2\" >36.22</td>\n",
              "      <td id=\"T_2f77a_row44_col3\" class=\"data row44 col3\" >117.51</td>\n",
              "      <td id=\"T_2f77a_row44_col4\" class=\"data row44 col4\" >101.73</td>\n",
              "    </tr>\n",
              "    <tr>\n",
              "      <th id=\"T_2f77a_level0_row45\" class=\"row_heading level0 row45\" >45</th>\n",
              "      <td id=\"T_2f77a_row45_col0\" class=\"data row45 col0\" >0.00</td>\n",
              "      <td id=\"T_2f77a_row45_col1\" class=\"data row45 col1\" >0.00</td>\n",
              "      <td id=\"T_2f77a_row45_col2\" class=\"data row45 col2\" >64.20</td>\n",
              "      <td id=\"T_2f77a_row45_col3\" class=\"data row45 col3\" >102.22</td>\n",
              "      <td id=\"T_2f77a_row45_col4\" class=\"data row45 col4\" >93.71</td>\n",
              "    </tr>\n",
              "    <tr>\n",
              "      <th id=\"T_2f77a_level0_row46\" class=\"row_heading level0 row46\" >46</th>\n",
              "      <td id=\"T_2f77a_row46_col0\" class=\"data row46 col0\" >0.00</td>\n",
              "      <td id=\"T_2f77a_row46_col1\" class=\"data row46 col1\" >0.00</td>\n",
              "      <td id=\"T_2f77a_row46_col2\" class=\"data row46 col2\" >6.97</td>\n",
              "      <td id=\"T_2f77a_row46_col3\" class=\"data row46 col3\" >78.28</td>\n",
              "      <td id=\"T_2f77a_row46_col4\" class=\"data row46 col4\" >111.66</td>\n",
              "    </tr>\n",
              "    <tr>\n",
              "      <th id=\"T_2f77a_level0_row47\" class=\"row_heading level0 row47\" >47</th>\n",
              "      <td id=\"T_2f77a_row47_col0\" class=\"data row47 col0\" >4.93</td>\n",
              "      <td id=\"T_2f77a_row47_col1\" class=\"data row47 col1\" >45.36</td>\n",
              "      <td id=\"T_2f77a_row47_col2\" class=\"data row47 col2\" >336.26</td>\n",
              "      <td id=\"T_2f77a_row47_col3\" class=\"data row47 col3\" >94.41</td>\n",
              "      <td id=\"T_2f77a_row47_col4\" class=\"data row47 col4\" >128.91</td>\n",
              "    </tr>\n",
              "    <tr>\n",
              "      <th id=\"T_2f77a_level0_row48\" class=\"row_heading level0 row48\" >48</th>\n",
              "      <td id=\"T_2f77a_row48_col0\" class=\"data row48 col0\" >103.11</td>\n",
              "      <td id=\"T_2f77a_row48_col1\" class=\"data row48 col1\" >0.00</td>\n",
              "      <td id=\"T_2f77a_row48_col2\" class=\"data row48 col2\" >244.34</td>\n",
              "      <td id=\"T_2f77a_row48_col3\" class=\"data row48 col3\" >82.57</td>\n",
              "      <td id=\"T_2f77a_row48_col4\" class=\"data row48 col4\" >107.23</td>\n",
              "    </tr>\n",
              "    <tr>\n",
              "      <th id=\"T_2f77a_level0_row49\" class=\"row_heading level0 row49\" >49</th>\n",
              "      <td id=\"T_2f77a_row49_col0\" class=\"data row49 col0\" >100.00</td>\n",
              "      <td id=\"T_2f77a_row49_col1\" class=\"data row49 col1\" >171.11</td>\n",
              "      <td id=\"T_2f77a_row49_col2\" class=\"data row49 col2\" >206.65</td>\n",
              "      <td id=\"T_2f77a_row49_col3\" class=\"data row49 col3\" >85.38</td>\n",
              "      <td id=\"T_2f77a_row49_col4\" class=\"data row49 col4\" >103.84</td>\n",
              "    </tr>\n",
              "    <tr>\n",
              "      <th id=\"T_2f77a_level0_row50\" class=\"row_heading level0 row50\" >50</th>\n",
              "      <td id=\"T_2f77a_row50_col0\" class=\"data row50 col0\" >0.00</td>\n",
              "      <td id=\"T_2f77a_row50_col1\" class=\"data row50 col1\" >0.00</td>\n",
              "      <td id=\"T_2f77a_row50_col2\" class=\"data row50 col2\" >59.18</td>\n",
              "      <td id=\"T_2f77a_row50_col3\" class=\"data row50 col3\" >102.98</td>\n",
              "      <td id=\"T_2f77a_row50_col4\" class=\"data row50 col4\" >100.80</td>\n",
              "    </tr>\n",
              "    <tr>\n",
              "      <th id=\"T_2f77a_level0_row51\" class=\"row_heading level0 row51\" >51</th>\n",
              "      <td id=\"T_2f77a_row51_col0\" class=\"data row51 col0\" >0.00</td>\n",
              "      <td id=\"T_2f77a_row51_col1\" class=\"data row51 col1\" >0.00</td>\n",
              "      <td id=\"T_2f77a_row51_col2\" class=\"data row51 col2\" >66.33</td>\n",
              "      <td id=\"T_2f77a_row51_col3\" class=\"data row51 col3\" >86.44</td>\n",
              "      <td id=\"T_2f77a_row51_col4\" class=\"data row51 col4\" >97.65</td>\n",
              "    </tr>\n",
              "    <tr>\n",
              "      <th id=\"T_2f77a_level0_row52\" class=\"row_heading level0 row52\" >52</th>\n",
              "      <td id=\"T_2f77a_row52_col0\" class=\"data row52 col0\" >0.00</td>\n",
              "      <td id=\"T_2f77a_row52_col1\" class=\"data row52 col1\" >0.00</td>\n",
              "      <td id=\"T_2f77a_row52_col2\" class=\"data row52 col2\" >84.86</td>\n",
              "      <td id=\"T_2f77a_row52_col3\" class=\"data row52 col3\" >102.95</td>\n",
              "      <td id=\"T_2f77a_row52_col4\" class=\"data row52 col4\" >119.93</td>\n",
              "    </tr>\n",
              "    <tr>\n",
              "      <th id=\"T_2f77a_level0_row53\" class=\"row_heading level0 row53\" >53</th>\n",
              "      <td id=\"T_2f77a_row53_col0\" class=\"data row53 col0\" >68.60</td>\n",
              "      <td id=\"T_2f77a_row53_col1\" class=\"data row53 col1\" >64.02</td>\n",
              "      <td id=\"T_2f77a_row53_col2\" class=\"data row53 col2\" >60.98</td>\n",
              "      <td id=\"T_2f77a_row53_col3\" class=\"data row53 col3\" >103.21</td>\n",
              "      <td id=\"T_2f77a_row53_col4\" class=\"data row53 col4\" >119.14</td>\n",
              "    </tr>\n",
              "    <tr>\n",
              "      <th id=\"T_2f77a_level0_row54\" class=\"row_heading level0 row54\" >54</th>\n",
              "      <td id=\"T_2f77a_row54_col0\" class=\"data row54 col0\" >0.00</td>\n",
              "      <td id=\"T_2f77a_row54_col1\" class=\"data row54 col1\" >0.00</td>\n",
              "      <td id=\"T_2f77a_row54_col2\" class=\"data row54 col2\" >98.48</td>\n",
              "      <td id=\"T_2f77a_row54_col3\" class=\"data row54 col3\" >90.80</td>\n",
              "      <td id=\"T_2f77a_row54_col4\" class=\"data row54 col4\" >99.50</td>\n",
              "    </tr>\n",
              "    <tr>\n",
              "      <th id=\"T_2f77a_level0_row55\" class=\"row_heading level0 row55\" >55</th>\n",
              "      <td id=\"T_2f77a_row55_col0\" class=\"data row55 col0\" >40.42</td>\n",
              "      <td id=\"T_2f77a_row55_col1\" class=\"data row55 col1\" >0.00</td>\n",
              "      <td id=\"T_2f77a_row55_col2\" class=\"data row55 col2\" >0.00</td>\n",
              "      <td id=\"T_2f77a_row55_col3\" class=\"data row55 col3\" >66.27</td>\n",
              "      <td id=\"T_2f77a_row55_col4\" class=\"data row55 col4\" >88.22</td>\n",
              "    </tr>\n",
              "    <tr>\n",
              "      <th id=\"T_2f77a_level0_row56\" class=\"row_heading level0 row56\" >56</th>\n",
              "      <td id=\"T_2f77a_row56_col0\" class=\"data row56 col0\" >0.00</td>\n",
              "      <td id=\"T_2f77a_row56_col1\" class=\"data row56 col1\" >0.00</td>\n",
              "      <td id=\"T_2f77a_row56_col2\" class=\"data row56 col2\" >10.16</td>\n",
              "      <td id=\"T_2f77a_row56_col3\" class=\"data row56 col3\" >95.05</td>\n",
              "      <td id=\"T_2f77a_row56_col4\" class=\"data row56 col4\" >89.09</td>\n",
              "    </tr>\n",
              "    <tr>\n",
              "      <th id=\"T_2f77a_level0_row57\" class=\"row_heading level0 row57\" >57</th>\n",
              "      <td id=\"T_2f77a_row57_col0\" class=\"data row57 col0\" >178.15</td>\n",
              "      <td id=\"T_2f77a_row57_col1\" class=\"data row57 col1\" >0.00</td>\n",
              "      <td id=\"T_2f77a_row57_col2\" class=\"data row57 col2\" >38.77</td>\n",
              "      <td id=\"T_2f77a_row57_col3\" class=\"data row57 col3\" >115.10</td>\n",
              "      <td id=\"T_2f77a_row57_col4\" class=\"data row57 col4\" >117.72</td>\n",
              "    </tr>\n",
              "    <tr>\n",
              "      <th id=\"T_2f77a_level0_row58\" class=\"row_heading level0 row58\" >58</th>\n",
              "      <td id=\"T_2f77a_row58_col0\" class=\"data row58 col0\" >213.34</td>\n",
              "      <td id=\"T_2f77a_row58_col1\" class=\"data row58 col1\" >0.00</td>\n",
              "      <td id=\"T_2f77a_row58_col2\" class=\"data row58 col2\" >66.28</td>\n",
              "      <td id=\"T_2f77a_row58_col3\" class=\"data row58 col3\" >114.95</td>\n",
              "      <td id=\"T_2f77a_row58_col4\" class=\"data row58 col4\" >100.03</td>\n",
              "    </tr>\n",
              "    <tr>\n",
              "      <th id=\"T_2f77a_level0_row59\" class=\"row_heading level0 row59\" >59</th>\n",
              "      <td id=\"T_2f77a_row59_col0\" class=\"data row59 col0\" >0.00</td>\n",
              "      <td id=\"T_2f77a_row59_col1\" class=\"data row59 col1\" >36.35</td>\n",
              "      <td id=\"T_2f77a_row59_col2\" class=\"data row59 col2\" >145.45</td>\n",
              "      <td id=\"T_2f77a_row59_col3\" class=\"data row59 col3\" >94.37</td>\n",
              "      <td id=\"T_2f77a_row59_col4\" class=\"data row59 col4\" >117.03</td>\n",
              "    </tr>\n",
              "    <tr>\n",
              "      <th id=\"T_2f77a_level0_row60\" class=\"row_heading level0 row60\" >60</th>\n",
              "      <td id=\"T_2f77a_row60_col0\" class=\"data row60 col0\" >0.00</td>\n",
              "      <td id=\"T_2f77a_row60_col1\" class=\"data row60 col1\" >0.00</td>\n",
              "      <td id=\"T_2f77a_row60_col2\" class=\"data row60 col2\" >116.80</td>\n",
              "      <td id=\"T_2f77a_row60_col3\" class=\"data row60 col3\" >77.65</td>\n",
              "      <td id=\"T_2f77a_row60_col4\" class=\"data row60 col4\" >132.86</td>\n",
              "    </tr>\n",
              "    <tr>\n",
              "      <th id=\"T_2f77a_level0_row61\" class=\"row_heading level0 row61\" >61</th>\n",
              "      <td id=\"T_2f77a_row61_col0\" class=\"data row61 col0\" >267.98</td>\n",
              "      <td id=\"T_2f77a_row61_col1\" class=\"data row61 col1\" >39.56</td>\n",
              "      <td id=\"T_2f77a_row61_col2\" class=\"data row61 col2\" >27.28</td>\n",
              "      <td id=\"T_2f77a_row61_col3\" class=\"data row61 col3\" >81.48</td>\n",
              "      <td id=\"T_2f77a_row61_col4\" class=\"data row61 col4\" >97.31</td>\n",
              "    </tr>\n",
              "    <tr>\n",
              "      <th id=\"T_2f77a_level0_row62\" class=\"row_heading level0 row62\" >62</th>\n",
              "      <td id=\"T_2f77a_row62_col0\" class=\"data row62 col0\" >0.00</td>\n",
              "      <td id=\"T_2f77a_row62_col1\" class=\"data row62 col1\" >0.00</td>\n",
              "      <td id=\"T_2f77a_row62_col2\" class=\"data row62 col2\" >41.51</td>\n",
              "      <td id=\"T_2f77a_row62_col3\" class=\"data row62 col3\" >104.41</td>\n",
              "      <td id=\"T_2f77a_row62_col4\" class=\"data row62 col4\" >87.57</td>\n",
              "    </tr>\n",
              "    <tr>\n",
              "      <th id=\"T_2f77a_level0_row63\" class=\"row_heading level0 row63\" >63</th>\n",
              "      <td id=\"T_2f77a_row63_col0\" class=\"data row63 col0\" >0.00</td>\n",
              "      <td id=\"T_2f77a_row63_col1\" class=\"data row63 col1\" >3.75</td>\n",
              "      <td id=\"T_2f77a_row63_col2\" class=\"data row63 col2\" >47.45</td>\n",
              "      <td id=\"T_2f77a_row63_col3\" class=\"data row63 col3\" >98.91</td>\n",
              "      <td id=\"T_2f77a_row63_col4\" class=\"data row63 col4\" >87.56</td>\n",
              "    </tr>\n",
              "    <tr>\n",
              "      <th id=\"T_2f77a_level0_row64\" class=\"row_heading level0 row64\" >64</th>\n",
              "      <td id=\"T_2f77a_row64_col0\" class=\"data row64 col0\" >59.73</td>\n",
              "      <td id=\"T_2f77a_row64_col1\" class=\"data row64 col1\" >33.40</td>\n",
              "      <td id=\"T_2f77a_row64_col2\" class=\"data row64 col2\" >142.93</td>\n",
              "      <td id=\"T_2f77a_row64_col3\" class=\"data row64 col3\" >135.72</td>\n",
              "      <td id=\"T_2f77a_row64_col4\" class=\"data row64 col4\" >109.94</td>\n",
              "    </tr>\n",
              "    <tr>\n",
              "      <th id=\"T_2f77a_level0_row65\" class=\"row_heading level0 row65\" >65</th>\n",
              "      <td id=\"T_2f77a_row65_col0\" class=\"data row65 col0\" >0.00</td>\n",
              "      <td id=\"T_2f77a_row65_col1\" class=\"data row65 col1\" >0.00</td>\n",
              "      <td id=\"T_2f77a_row65_col2\" class=\"data row65 col2\" >0.00</td>\n",
              "      <td id=\"T_2f77a_row65_col3\" class=\"data row65 col3\" >90.61</td>\n",
              "      <td id=\"T_2f77a_row65_col4\" class=\"data row65 col4\" >106.36</td>\n",
              "    </tr>\n",
              "    <tr>\n",
              "      <th id=\"T_2f77a_level0_row66\" class=\"row_heading level0 row66\" >66</th>\n",
              "      <td id=\"T_2f77a_row66_col0\" class=\"data row66 col0\" >30.42</td>\n",
              "      <td id=\"T_2f77a_row66_col1\" class=\"data row66 col1\" >0.00</td>\n",
              "      <td id=\"T_2f77a_row66_col2\" class=\"data row66 col2\" >92.38</td>\n",
              "      <td id=\"T_2f77a_row66_col3\" class=\"data row66 col3\" >104.21</td>\n",
              "      <td id=\"T_2f77a_row66_col4\" class=\"data row66 col4\" >100.73</td>\n",
              "    </tr>\n",
              "    <tr>\n",
              "      <th id=\"T_2f77a_level0_row67\" class=\"row_heading level0 row67\" >67</th>\n",
              "      <td id=\"T_2f77a_row67_col0\" class=\"data row67 col0\" >0.00</td>\n",
              "      <td id=\"T_2f77a_row67_col1\" class=\"data row67 col1\" >0.00</td>\n",
              "      <td id=\"T_2f77a_row67_col2\" class=\"data row67 col2\" >279.64</td>\n",
              "      <td id=\"T_2f77a_row67_col3\" class=\"data row67 col3\" >87.65</td>\n",
              "      <td id=\"T_2f77a_row67_col4\" class=\"data row67 col4\" >109.05</td>\n",
              "    </tr>\n",
              "    <tr>\n",
              "      <th id=\"T_2f77a_level0_row68\" class=\"row_heading level0 row68\" >68</th>\n",
              "      <td id=\"T_2f77a_row68_col0\" class=\"data row68 col0\" >0.00</td>\n",
              "      <td id=\"T_2f77a_row68_col1\" class=\"data row68 col1\" >0.00</td>\n",
              "      <td id=\"T_2f77a_row68_col2\" class=\"data row68 col2\" >151.72</td>\n",
              "      <td id=\"T_2f77a_row68_col3\" class=\"data row68 col3\" >95.13</td>\n",
              "      <td id=\"T_2f77a_row68_col4\" class=\"data row68 col4\" >103.12</td>\n",
              "    </tr>\n",
              "    <tr>\n",
              "      <th id=\"T_2f77a_level0_row69\" class=\"row_heading level0 row69\" >69</th>\n",
              "      <td id=\"T_2f77a_row69_col0\" class=\"data row69 col0\" >100.00</td>\n",
              "      <td id=\"T_2f77a_row69_col1\" class=\"data row69 col1\" >75.96</td>\n",
              "      <td id=\"T_2f77a_row69_col2\" class=\"data row69 col2\" >56.67</td>\n",
              "      <td id=\"T_2f77a_row69_col3\" class=\"data row69 col3\" >78.43</td>\n",
              "      <td id=\"T_2f77a_row69_col4\" class=\"data row69 col4\" >103.20</td>\n",
              "    </tr>\n",
              "    <tr>\n",
              "      <th id=\"T_2f77a_level0_row70\" class=\"row_heading level0 row70\" >70</th>\n",
              "      <td id=\"T_2f77a_row70_col0\" class=\"data row70 col0\" >46.38</td>\n",
              "      <td id=\"T_2f77a_row70_col1\" class=\"data row70 col1\" >155.98</td>\n",
              "      <td id=\"T_2f77a_row70_col2\" class=\"data row70 col2\" >59.49</td>\n",
              "      <td id=\"T_2f77a_row70_col3\" class=\"data row70 col3\" >91.23</td>\n",
              "      <td id=\"T_2f77a_row70_col4\" class=\"data row70 col4\" >104.30</td>\n",
              "    </tr>\n",
              "    <tr>\n",
              "      <th id=\"T_2f77a_level0_row71\" class=\"row_heading level0 row71\" >71</th>\n",
              "      <td id=\"T_2f77a_row71_col0\" class=\"data row71 col0\" >0.00</td>\n",
              "      <td id=\"T_2f77a_row71_col1\" class=\"data row71 col1\" >0.00</td>\n",
              "      <td id=\"T_2f77a_row71_col2\" class=\"data row71 col2\" >187.15</td>\n",
              "      <td id=\"T_2f77a_row71_col3\" class=\"data row71 col3\" >84.24</td>\n",
              "      <td id=\"T_2f77a_row71_col4\" class=\"data row71 col4\" >99.37</td>\n",
              "    </tr>\n",
              "    <tr>\n",
              "      <th id=\"T_2f77a_level0_row72\" class=\"row_heading level0 row72\" >72</th>\n",
              "      <td id=\"T_2f77a_row72_col0\" class=\"data row72 col0\" >120.76</td>\n",
              "      <td id=\"T_2f77a_row72_col1\" class=\"data row72 col1\" >392.90</td>\n",
              "      <td id=\"T_2f77a_row72_col2\" class=\"data row72 col2\" >10.77</td>\n",
              "      <td id=\"T_2f77a_row72_col3\" class=\"data row72 col3\" >86.83</td>\n",
              "      <td id=\"T_2f77a_row72_col4\" class=\"data row72 col4\" >94.22</td>\n",
              "    </tr>\n",
              "    <tr>\n",
              "      <th id=\"T_2f77a_level0_row73\" class=\"row_heading level0 row73\" >73</th>\n",
              "      <td id=\"T_2f77a_row73_col0\" class=\"data row73 col0\" >13.17</td>\n",
              "      <td id=\"T_2f77a_row73_col1\" class=\"data row73 col1\" >95.54</td>\n",
              "      <td id=\"T_2f77a_row73_col2\" class=\"data row73 col2\" >144.70</td>\n",
              "      <td id=\"T_2f77a_row73_col3\" class=\"data row73 col3\" >87.42</td>\n",
              "      <td id=\"T_2f77a_row73_col4\" class=\"data row73 col4\" >89.89</td>\n",
              "    </tr>\n",
              "    <tr>\n",
              "      <th id=\"T_2f77a_level0_row74\" class=\"row_heading level0 row74\" >74</th>\n",
              "      <td id=\"T_2f77a_row74_col0\" class=\"data row74 col0\" >0.00</td>\n",
              "      <td id=\"T_2f77a_row74_col1\" class=\"data row74 col1\" >0.00</td>\n",
              "      <td id=\"T_2f77a_row74_col2\" class=\"data row74 col2\" >188.81</td>\n",
              "      <td id=\"T_2f77a_row74_col3\" class=\"data row74 col3\" >89.73</td>\n",
              "      <td id=\"T_2f77a_row74_col4\" class=\"data row74 col4\" >107.59</td>\n",
              "    </tr>\n",
              "    <tr>\n",
              "      <th id=\"T_2f77a_level0_row75\" class=\"row_heading level0 row75\" >75</th>\n",
              "      <td id=\"T_2f77a_row75_col0\" class=\"data row75 col0\" >0.00</td>\n",
              "      <td id=\"T_2f77a_row75_col1\" class=\"data row75 col1\" >0.00</td>\n",
              "      <td id=\"T_2f77a_row75_col2\" class=\"data row75 col2\" >88.65</td>\n",
              "      <td id=\"T_2f77a_row75_col3\" class=\"data row75 col3\" >137.66</td>\n",
              "      <td id=\"T_2f77a_row75_col4\" class=\"data row75 col4\" >124.60</td>\n",
              "    </tr>\n",
              "    <tr>\n",
              "      <th id=\"T_2f77a_level0_row76\" class=\"row_heading level0 row76\" >76</th>\n",
              "      <td id=\"T_2f77a_row76_col0\" class=\"data row76 col0\" >0.00</td>\n",
              "      <td id=\"T_2f77a_row76_col1\" class=\"data row76 col1\" >21.72</td>\n",
              "      <td id=\"T_2f77a_row76_col2\" class=\"data row76 col2\" >51.16</td>\n",
              "      <td id=\"T_2f77a_row76_col3\" class=\"data row76 col3\" >73.45</td>\n",
              "      <td id=\"T_2f77a_row76_col4\" class=\"data row76 col4\" >81.53</td>\n",
              "    </tr>\n",
              "    <tr>\n",
              "      <th id=\"T_2f77a_level0_row77\" class=\"row_heading level0 row77\" >77</th>\n",
              "      <td id=\"T_2f77a_row77_col0\" class=\"data row77 col0\" >133.78</td>\n",
              "      <td id=\"T_2f77a_row77_col1\" class=\"data row77 col1\" >346.72</td>\n",
              "      <td id=\"T_2f77a_row77_col2\" class=\"data row77 col2\" >42.62</td>\n",
              "      <td id=\"T_2f77a_row77_col3\" class=\"data row77 col3\" >98.71</td>\n",
              "      <td id=\"T_2f77a_row77_col4\" class=\"data row77 col4\" >111.35</td>\n",
              "    </tr>\n",
              "    <tr>\n",
              "      <th id=\"T_2f77a_level0_row78\" class=\"row_heading level0 row78\" >78</th>\n",
              "      <td id=\"T_2f77a_row78_col0\" class=\"data row78 col0\" >95.19</td>\n",
              "      <td id=\"T_2f77a_row78_col1\" class=\"data row78 col1\" >0.00</td>\n",
              "      <td id=\"T_2f77a_row78_col2\" class=\"data row78 col2\" >28.71</td>\n",
              "      <td id=\"T_2f77a_row78_col3\" class=\"data row78 col3\" >99.65</td>\n",
              "      <td id=\"T_2f77a_row78_col4\" class=\"data row78 col4\" >120.43</td>\n",
              "    </tr>\n",
              "    <tr>\n",
              "      <th id=\"T_2f77a_level0_row79\" class=\"row_heading level0 row79\" >79</th>\n",
              "      <td id=\"T_2f77a_row79_col0\" class=\"data row79 col0\" >22.96</td>\n",
              "      <td id=\"T_2f77a_row79_col1\" class=\"data row79 col1\" >93.09</td>\n",
              "      <td id=\"T_2f77a_row79_col2\" class=\"data row79 col2\" >94.58</td>\n",
              "      <td id=\"T_2f77a_row79_col3\" class=\"data row79 col3\" >102.45</td>\n",
              "      <td id=\"T_2f77a_row79_col4\" class=\"data row79 col4\" >100.24</td>\n",
              "    </tr>\n",
              "    <tr>\n",
              "      <th id=\"T_2f77a_level0_row80\" class=\"row_heading level0 row80\" >80</th>\n",
              "      <td id=\"T_2f77a_row80_col0\" class=\"data row80 col0\" >60.19</td>\n",
              "      <td id=\"T_2f77a_row80_col1\" class=\"data row80 col1\" >101.67</td>\n",
              "      <td id=\"T_2f77a_row80_col2\" class=\"data row80 col2\" >138.89</td>\n",
              "      <td id=\"T_2f77a_row80_col3\" class=\"data row80 col3\" >112.50</td>\n",
              "      <td id=\"T_2f77a_row80_col4\" class=\"data row80 col4\" >106.28</td>\n",
              "    </tr>\n",
              "    <tr>\n",
              "      <th id=\"T_2f77a_level0_row81\" class=\"row_heading level0 row81\" >81</th>\n",
              "      <td id=\"T_2f77a_row81_col0\" class=\"data row81 col0\" >0.00</td>\n",
              "      <td id=\"T_2f77a_row81_col1\" class=\"data row81 col1\" >0.00</td>\n",
              "      <td id=\"T_2f77a_row81_col2\" class=\"data row81 col2\" >66.86</td>\n",
              "      <td id=\"T_2f77a_row81_col3\" class=\"data row81 col3\" >121.24</td>\n",
              "      <td id=\"T_2f77a_row81_col4\" class=\"data row81 col4\" >113.75</td>\n",
              "    </tr>\n",
              "    <tr>\n",
              "      <th id=\"T_2f77a_level0_row82\" class=\"row_heading level0 row82\" >82</th>\n",
              "      <td id=\"T_2f77a_row82_col0\" class=\"data row82 col0\" >0.00</td>\n",
              "      <td id=\"T_2f77a_row82_col1\" class=\"data row82 col1\" >0.00</td>\n",
              "      <td id=\"T_2f77a_row82_col2\" class=\"data row82 col2\" >92.57</td>\n",
              "      <td id=\"T_2f77a_row82_col3\" class=\"data row82 col3\" >109.27</td>\n",
              "      <td id=\"T_2f77a_row82_col4\" class=\"data row82 col4\" >90.54</td>\n",
              "    </tr>\n",
              "    <tr>\n",
              "      <th id=\"T_2f77a_level0_row83\" class=\"row_heading level0 row83\" >83</th>\n",
              "      <td id=\"T_2f77a_row83_col0\" class=\"data row83 col0\" >0.00</td>\n",
              "      <td id=\"T_2f77a_row83_col1\" class=\"data row83 col1\" >0.00</td>\n",
              "      <td id=\"T_2f77a_row83_col2\" class=\"data row83 col2\" >46.36</td>\n",
              "      <td id=\"T_2f77a_row83_col3\" class=\"data row83 col3\" >110.12</td>\n",
              "      <td id=\"T_2f77a_row83_col4\" class=\"data row83 col4\" >97.98</td>\n",
              "    </tr>\n",
              "    <tr>\n",
              "      <th id=\"T_2f77a_level0_row84\" class=\"row_heading level0 row84\" >84</th>\n",
              "      <td id=\"T_2f77a_row84_col0\" class=\"data row84 col0\" >0.00</td>\n",
              "      <td id=\"T_2f77a_row84_col1\" class=\"data row84 col1\" >0.00</td>\n",
              "      <td id=\"T_2f77a_row84_col2\" class=\"data row84 col2\" >40.46</td>\n",
              "      <td id=\"T_2f77a_row84_col3\" class=\"data row84 col3\" >94.41</td>\n",
              "      <td id=\"T_2f77a_row84_col4\" class=\"data row84 col4\" >99.81</td>\n",
              "    </tr>\n",
              "    <tr>\n",
              "      <th id=\"T_2f77a_level0_row85\" class=\"row_heading level0 row85\" >85</th>\n",
              "      <td id=\"T_2f77a_row85_col0\" class=\"data row85 col0\" >207.75</td>\n",
              "      <td id=\"T_2f77a_row85_col1\" class=\"data row85 col1\" >109.36</td>\n",
              "      <td id=\"T_2f77a_row85_col2\" class=\"data row85 col2\" >115.53</td>\n",
              "      <td id=\"T_2f77a_row85_col3\" class=\"data row85 col3\" >82.82</td>\n",
              "      <td id=\"T_2f77a_row85_col4\" class=\"data row85 col4\" >85.33</td>\n",
              "    </tr>\n",
              "    <tr>\n",
              "      <th id=\"T_2f77a_level0_row86\" class=\"row_heading level0 row86\" >86</th>\n",
              "      <td id=\"T_2f77a_row86_col0\" class=\"data row86 col0\" >49.22</td>\n",
              "      <td id=\"T_2f77a_row86_col1\" class=\"data row86 col1\" >0.00</td>\n",
              "      <td id=\"T_2f77a_row86_col2\" class=\"data row86 col2\" >4.11</td>\n",
              "      <td id=\"T_2f77a_row86_col3\" class=\"data row86 col3\" >60.79</td>\n",
              "      <td id=\"T_2f77a_row86_col4\" class=\"data row86 col4\" >127.89</td>\n",
              "    </tr>\n",
              "    <tr>\n",
              "      <th id=\"T_2f77a_level0_row87\" class=\"row_heading level0 row87\" >87</th>\n",
              "      <td id=\"T_2f77a_row87_col0\" class=\"data row87 col0\" >0.00</td>\n",
              "      <td id=\"T_2f77a_row87_col1\" class=\"data row87 col1\" >2.26</td>\n",
              "      <td id=\"T_2f77a_row87_col2\" class=\"data row87 col2\" >467.19</td>\n",
              "      <td id=\"T_2f77a_row87_col3\" class=\"data row87 col3\" >99.27</td>\n",
              "      <td id=\"T_2f77a_row87_col4\" class=\"data row87 col4\" >110.66</td>\n",
              "    </tr>\n",
              "    <tr>\n",
              "      <th id=\"T_2f77a_level0_row88\" class=\"row_heading level0 row88\" >88</th>\n",
              "      <td id=\"T_2f77a_row88_col0\" class=\"data row88 col0\" >0.00</td>\n",
              "      <td id=\"T_2f77a_row88_col1\" class=\"data row88 col1\" >0.00</td>\n",
              "      <td id=\"T_2f77a_row88_col2\" class=\"data row88 col2\" >33.10</td>\n",
              "      <td id=\"T_2f77a_row88_col3\" class=\"data row88 col3\" >106.82</td>\n",
              "      <td id=\"T_2f77a_row88_col4\" class=\"data row88 col4\" >108.71</td>\n",
              "    </tr>\n",
              "    <tr>\n",
              "      <th id=\"T_2f77a_level0_row89\" class=\"row_heading level0 row89\" >89</th>\n",
              "      <td id=\"T_2f77a_row89_col0\" class=\"data row89 col0\" >0.00</td>\n",
              "      <td id=\"T_2f77a_row89_col1\" class=\"data row89 col1\" >0.00</td>\n",
              "      <td id=\"T_2f77a_row89_col2\" class=\"data row89 col2\" >74.38</td>\n",
              "      <td id=\"T_2f77a_row89_col3\" class=\"data row89 col3\" >78.69</td>\n",
              "      <td id=\"T_2f77a_row89_col4\" class=\"data row89 col4\" >109.89</td>\n",
              "    </tr>\n",
              "  </tbody>\n",
              "</table>\n"
            ],
            "text/plain": [
              "<pandas.io.formats.style.Styler at 0x22c7cccc160>"
            ]
          },
          "execution_count": 77,
          "metadata": {},
          "output_type": "execute_result"
        }
      ],
      "source": [
        "result_final_DT = pd.pivot_table(df_result_01, values=\"Cash_final\", index=[\"Ativo\"], columns=[\"Timeframe\"], aggfunc='mean')\n",
        "result_final_DT.style.format('{:.2f}', na_rep=\"\").applymap(lambda x: 'background-color : #e6ffe6' if x>0.05 else 'background-color : #ffe6e6')"
      ]
    },
    {
      "cell_type": "code",
      "execution_count": 78,
      "metadata": {},
      "outputs": [
        {
          "data": {
            "text/html": [
              "<style type=\"text/css\">\n",
              "#T_a8395_row0_col0, #T_a8395_row0_col1, #T_a8395_row0_col3, #T_a8395_row1_col0, #T_a8395_row1_col1, #T_a8395_row1_col3, #T_a8395_row1_col4, #T_a8395_row2_col0, #T_a8395_row2_col1, #T_a8395_row2_col2, #T_a8395_row2_col3, #T_a8395_row3_col0, #T_a8395_row3_col1, #T_a8395_row3_col2, #T_a8395_row3_col3, #T_a8395_row4_col0, #T_a8395_row4_col1, #T_a8395_row4_col2, #T_a8395_row4_col3, #T_a8395_row4_col4, #T_a8395_row5_col0, #T_a8395_row5_col1, #T_a8395_row5_col2, #T_a8395_row5_col3, #T_a8395_row6_col1, #T_a8395_row7_col1, #T_a8395_row7_col2, #T_a8395_row7_col3, #T_a8395_row7_col4, #T_a8395_row8_col0, #T_a8395_row8_col1, #T_a8395_row8_col2, #T_a8395_row8_col3, #T_a8395_row9_col0, #T_a8395_row9_col1, #T_a8395_row9_col3, #T_a8395_row10_col0, #T_a8395_row10_col1, #T_a8395_row10_col2, #T_a8395_row10_col3, #T_a8395_row10_col4, #T_a8395_row11_col0, #T_a8395_row11_col1, #T_a8395_row11_col3, #T_a8395_row11_col4, #T_a8395_row12_col0, #T_a8395_row12_col1, #T_a8395_row12_col2, #T_a8395_row12_col3, #T_a8395_row13_col0, #T_a8395_row13_col1, #T_a8395_row13_col2, #T_a8395_row14_col0, #T_a8395_row14_col1, #T_a8395_row14_col2, #T_a8395_row14_col3, #T_a8395_row15_col0, #T_a8395_row15_col1, #T_a8395_row15_col2, #T_a8395_row15_col3, #T_a8395_row16_col0, #T_a8395_row16_col1, #T_a8395_row16_col2, #T_a8395_row16_col3, #T_a8395_row16_col4, #T_a8395_row17_col0, #T_a8395_row17_col1, #T_a8395_row17_col2, #T_a8395_row17_col3, #T_a8395_row17_col4, #T_a8395_row18_col0, #T_a8395_row18_col1, #T_a8395_row18_col2, #T_a8395_row19_col1, #T_a8395_row19_col2, #T_a8395_row19_col3, #T_a8395_row19_col4, #T_a8395_row20_col0, #T_a8395_row20_col1, #T_a8395_row21_col0, #T_a8395_row21_col1, #T_a8395_row21_col2, #T_a8395_row22_col0, #T_a8395_row22_col1, #T_a8395_row22_col3, #T_a8395_row23_col0, #T_a8395_row23_col1, #T_a8395_row23_col2, #T_a8395_row23_col3, #T_a8395_row23_col4, #T_a8395_row24_col0, #T_a8395_row24_col1, #T_a8395_row24_col2, #T_a8395_row24_col3, #T_a8395_row25_col0, #T_a8395_row25_col1, #T_a8395_row25_col3, #T_a8395_row25_col4, #T_a8395_row26_col0, #T_a8395_row26_col1, #T_a8395_row26_col3, #T_a8395_row27_col2, #T_a8395_row27_col4, #T_a8395_row28_col0, #T_a8395_row28_col1, #T_a8395_row28_col2, #T_a8395_row28_col3, #T_a8395_row29_col0, #T_a8395_row29_col1, #T_a8395_row29_col2, #T_a8395_row29_col3, #T_a8395_row29_col4, #T_a8395_row30_col0, #T_a8395_row30_col1, #T_a8395_row30_col2, #T_a8395_row30_col3, #T_a8395_row30_col4, #T_a8395_row31_col1, #T_a8395_row31_col2, #T_a8395_row31_col3, #T_a8395_row32_col0, #T_a8395_row32_col1, #T_a8395_row32_col3, #T_a8395_row33_col0, #T_a8395_row33_col1, #T_a8395_row33_col3, #T_a8395_row33_col4, #T_a8395_row34_col0, #T_a8395_row34_col1, #T_a8395_row34_col3, #T_a8395_row34_col4, #T_a8395_row35_col0, #T_a8395_row35_col1, #T_a8395_row35_col2, #T_a8395_row35_col4, #T_a8395_row36_col0, #T_a8395_row36_col2, #T_a8395_row36_col3, #T_a8395_row36_col4, #T_a8395_row37_col0, #T_a8395_row37_col1, #T_a8395_row37_col2, #T_a8395_row38_col0, #T_a8395_row38_col1, #T_a8395_row39_col0, #T_a8395_row39_col1, #T_a8395_row39_col3, #T_a8395_row40_col0, #T_a8395_row40_col1, #T_a8395_row41_col0, #T_a8395_row41_col1, #T_a8395_row41_col2, #T_a8395_row41_col3, #T_a8395_row41_col4, #T_a8395_row42_col0, #T_a8395_row42_col1, #T_a8395_row42_col2, #T_a8395_row42_col4, #T_a8395_row43_col0, #T_a8395_row43_col1, #T_a8395_row43_col3, #T_a8395_row43_col4, #T_a8395_row44_col0, #T_a8395_row44_col1, #T_a8395_row44_col2, #T_a8395_row45_col0, #T_a8395_row45_col1, #T_a8395_row45_col2, #T_a8395_row45_col3, #T_a8395_row45_col4, #T_a8395_row46_col0, #T_a8395_row46_col1, #T_a8395_row46_col2, #T_a8395_row46_col3, #T_a8395_row47_col0, #T_a8395_row47_col1, #T_a8395_row47_col3, #T_a8395_row48_col0, #T_a8395_row48_col1, #T_a8395_row48_col3, #T_a8395_row49_col0, #T_a8395_row49_col3, #T_a8395_row50_col0, #T_a8395_row50_col1, #T_a8395_row50_col2, #T_a8395_row50_col3, #T_a8395_row50_col4, #T_a8395_row51_col0, #T_a8395_row51_col1, #T_a8395_row51_col2, #T_a8395_row51_col3, #T_a8395_row51_col4, #T_a8395_row52_col0, #T_a8395_row52_col1, #T_a8395_row52_col2, #T_a8395_row52_col3, #T_a8395_row53_col0, #T_a8395_row53_col1, #T_a8395_row53_col2, #T_a8395_row53_col3, #T_a8395_row54_col0, #T_a8395_row54_col1, #T_a8395_row54_col2, #T_a8395_row54_col3, #T_a8395_row54_col4, #T_a8395_row55_col0, #T_a8395_row55_col1, #T_a8395_row55_col2, #T_a8395_row55_col3, #T_a8395_row55_col4, #T_a8395_row56_col0, #T_a8395_row56_col1, #T_a8395_row56_col2, #T_a8395_row56_col3, #T_a8395_row56_col4, #T_a8395_row57_col0, #T_a8395_row57_col1, #T_a8395_row57_col2, #T_a8395_row58_col0, #T_a8395_row58_col1, #T_a8395_row58_col2, #T_a8395_row58_col4, #T_a8395_row59_col0, #T_a8395_row59_col1, #T_a8395_row59_col3, #T_a8395_row60_col0, #T_a8395_row60_col1, #T_a8395_row60_col2, #T_a8395_row60_col3, #T_a8395_row61_col0, #T_a8395_row61_col1, #T_a8395_row61_col2, #T_a8395_row61_col3, #T_a8395_row61_col4, #T_a8395_row62_col0, #T_a8395_row62_col1, #T_a8395_row62_col2, #T_a8395_row62_col4, #T_a8395_row63_col0, #T_a8395_row63_col1, #T_a8395_row63_col2, #T_a8395_row63_col3, #T_a8395_row63_col4, #T_a8395_row64_col0, #T_a8395_row64_col1, #T_a8395_row65_col0, #T_a8395_row65_col1, #T_a8395_row65_col2, #T_a8395_row65_col3, #T_a8395_row66_col0, #T_a8395_row66_col1, #T_a8395_row66_col2, #T_a8395_row66_col4, #T_a8395_row67_col0, #T_a8395_row67_col1, #T_a8395_row67_col3, #T_a8395_row68_col0, #T_a8395_row68_col1, #T_a8395_row68_col3, #T_a8395_row69_col0, #T_a8395_row69_col1, #T_a8395_row69_col2, #T_a8395_row69_col3, #T_a8395_row70_col0, #T_a8395_row70_col2, #T_a8395_row70_col3, #T_a8395_row71_col0, #T_a8395_row71_col1, #T_a8395_row71_col3, #T_a8395_row71_col4, #T_a8395_row72_col2, #T_a8395_row72_col3, #T_a8395_row72_col4, #T_a8395_row73_col0, #T_a8395_row73_col1, #T_a8395_row73_col3, #T_a8395_row73_col4, #T_a8395_row74_col0, #T_a8395_row74_col1, #T_a8395_row74_col3, #T_a8395_row75_col0, #T_a8395_row75_col1, #T_a8395_row75_col2, #T_a8395_row76_col0, #T_a8395_row76_col1, #T_a8395_row76_col2, #T_a8395_row76_col3, #T_a8395_row76_col4, #T_a8395_row77_col2, #T_a8395_row77_col3, #T_a8395_row78_col0, #T_a8395_row78_col1, #T_a8395_row78_col2, #T_a8395_row78_col3, #T_a8395_row79_col0, #T_a8395_row79_col1, #T_a8395_row79_col2, #T_a8395_row79_col3, #T_a8395_row79_col4, #T_a8395_row80_col0, #T_a8395_row80_col1, #T_a8395_row81_col0, #T_a8395_row81_col1, #T_a8395_row81_col2, #T_a8395_row82_col0, #T_a8395_row82_col1, #T_a8395_row82_col2, #T_a8395_row82_col4, #T_a8395_row83_col0, #T_a8395_row83_col1, #T_a8395_row83_col2, #T_a8395_row83_col4, #T_a8395_row84_col0, #T_a8395_row84_col1, #T_a8395_row84_col2, #T_a8395_row84_col3, #T_a8395_row84_col4, #T_a8395_row85_col1, #T_a8395_row85_col2, #T_a8395_row85_col3, #T_a8395_row85_col4, #T_a8395_row86_col0, #T_a8395_row86_col1, #T_a8395_row86_col2, #T_a8395_row86_col3, #T_a8395_row87_col0, #T_a8395_row87_col1, #T_a8395_row87_col3, #T_a8395_row88_col0, #T_a8395_row88_col1, #T_a8395_row88_col2, #T_a8395_row89_col0, #T_a8395_row89_col1, #T_a8395_row89_col2, #T_a8395_row89_col3 {\n",
              "  background-color: #ffe6e6;\n",
              "}\n",
              "#T_a8395_row0_col2, #T_a8395_row0_col4, #T_a8395_row1_col2, #T_a8395_row2_col4, #T_a8395_row3_col4, #T_a8395_row5_col4, #T_a8395_row6_col0, #T_a8395_row6_col2, #T_a8395_row6_col3, #T_a8395_row6_col4, #T_a8395_row7_col0, #T_a8395_row8_col4, #T_a8395_row9_col2, #T_a8395_row9_col4, #T_a8395_row11_col2, #T_a8395_row12_col4, #T_a8395_row13_col3, #T_a8395_row13_col4, #T_a8395_row14_col4, #T_a8395_row15_col4, #T_a8395_row18_col3, #T_a8395_row18_col4, #T_a8395_row19_col0, #T_a8395_row20_col2, #T_a8395_row20_col3, #T_a8395_row20_col4, #T_a8395_row21_col3, #T_a8395_row21_col4, #T_a8395_row22_col2, #T_a8395_row22_col4, #T_a8395_row24_col4, #T_a8395_row25_col2, #T_a8395_row26_col2, #T_a8395_row26_col4, #T_a8395_row27_col0, #T_a8395_row27_col1, #T_a8395_row27_col3, #T_a8395_row28_col4, #T_a8395_row31_col0, #T_a8395_row31_col4, #T_a8395_row32_col2, #T_a8395_row32_col4, #T_a8395_row33_col2, #T_a8395_row34_col2, #T_a8395_row35_col3, #T_a8395_row36_col1, #T_a8395_row37_col3, #T_a8395_row37_col4, #T_a8395_row38_col2, #T_a8395_row38_col3, #T_a8395_row38_col4, #T_a8395_row39_col2, #T_a8395_row39_col4, #T_a8395_row40_col2, #T_a8395_row40_col3, #T_a8395_row40_col4, #T_a8395_row42_col3, #T_a8395_row43_col2, #T_a8395_row44_col3, #T_a8395_row44_col4, #T_a8395_row46_col4, #T_a8395_row47_col2, #T_a8395_row47_col4, #T_a8395_row48_col2, #T_a8395_row48_col4, #T_a8395_row49_col1, #T_a8395_row49_col2, #T_a8395_row49_col4, #T_a8395_row52_col4, #T_a8395_row53_col4, #T_a8395_row57_col3, #T_a8395_row57_col4, #T_a8395_row58_col3, #T_a8395_row59_col2, #T_a8395_row59_col4, #T_a8395_row60_col4, #T_a8395_row62_col3, #T_a8395_row64_col2, #T_a8395_row64_col3, #T_a8395_row64_col4, #T_a8395_row65_col4, #T_a8395_row66_col3, #T_a8395_row67_col2, #T_a8395_row67_col4, #T_a8395_row68_col2, #T_a8395_row68_col4, #T_a8395_row69_col4, #T_a8395_row70_col1, #T_a8395_row70_col4, #T_a8395_row71_col2, #T_a8395_row72_col0, #T_a8395_row72_col1, #T_a8395_row73_col2, #T_a8395_row74_col2, #T_a8395_row74_col4, #T_a8395_row75_col3, #T_a8395_row75_col4, #T_a8395_row77_col0, #T_a8395_row77_col1, #T_a8395_row77_col4, #T_a8395_row78_col4, #T_a8395_row80_col2, #T_a8395_row80_col3, #T_a8395_row80_col4, #T_a8395_row81_col3, #T_a8395_row81_col4, #T_a8395_row82_col3, #T_a8395_row83_col3, #T_a8395_row85_col0, #T_a8395_row86_col4, #T_a8395_row87_col2, #T_a8395_row87_col4, #T_a8395_row88_col3, #T_a8395_row88_col4, #T_a8395_row89_col4 {\n",
              "  background-color: #e6ffe6;\n",
              "}\n",
              "</style>\n",
              "<table id=\"T_a8395\">\n",
              "  <thead>\n",
              "    <tr>\n",
              "      <th class=\"index_name level0\" >Timeframe</th>\n",
              "      <th id=\"T_a8395_level0_col0\" class=\"col_heading level0 col0\" >0</th>\n",
              "      <th id=\"T_a8395_level0_col1\" class=\"col_heading level0 col1\" >1</th>\n",
              "      <th id=\"T_a8395_level0_col2\" class=\"col_heading level0 col2\" >2</th>\n",
              "      <th id=\"T_a8395_level0_col3\" class=\"col_heading level0 col3\" >3</th>\n",
              "      <th id=\"T_a8395_level0_col4\" class=\"col_heading level0 col4\" >4</th>\n",
              "    </tr>\n",
              "    <tr>\n",
              "      <th class=\"index_name level0\" >Ativo</th>\n",
              "      <th class=\"blank col0\" >&nbsp;</th>\n",
              "      <th class=\"blank col1\" >&nbsp;</th>\n",
              "      <th class=\"blank col2\" >&nbsp;</th>\n",
              "      <th class=\"blank col3\" >&nbsp;</th>\n",
              "      <th class=\"blank col4\" >&nbsp;</th>\n",
              "    </tr>\n",
              "  </thead>\n",
              "  <tbody>\n",
              "    <tr>\n",
              "      <th id=\"T_a8395_level0_row0\" class=\"row_heading level0 row0\" >0</th>\n",
              "      <td id=\"T_a8395_row0_col0\" class=\"data row0 col0\" >-1.00</td>\n",
              "      <td id=\"T_a8395_row0_col1\" class=\"data row0 col1\" >-0.06</td>\n",
              "      <td id=\"T_a8395_row0_col2\" class=\"data row0 col2\" >0.09</td>\n",
              "      <td id=\"T_a8395_row0_col3\" class=\"data row0 col3\" >0.03</td>\n",
              "      <td id=\"T_a8395_row0_col4\" class=\"data row0 col4\" >0.17</td>\n",
              "    </tr>\n",
              "    <tr>\n",
              "      <th id=\"T_a8395_level0_row1\" class=\"row_heading level0 row1\" >1</th>\n",
              "      <td id=\"T_a8395_row1_col0\" class=\"data row1 col0\" >0.05</td>\n",
              "      <td id=\"T_a8395_row1_col1\" class=\"data row1 col1\" >-0.07</td>\n",
              "      <td id=\"T_a8395_row1_col2\" class=\"data row1 col2\" >0.14</td>\n",
              "      <td id=\"T_a8395_row1_col3\" class=\"data row1 col3\" >-0.14</td>\n",
              "      <td id=\"T_a8395_row1_col4\" class=\"data row1 col4\" >-0.00</td>\n",
              "    </tr>\n",
              "    <tr>\n",
              "      <th id=\"T_a8395_level0_row2\" class=\"row_heading level0 row2\" >2</th>\n",
              "      <td id=\"T_a8395_row2_col0\" class=\"data row2 col0\" >-1.00</td>\n",
              "      <td id=\"T_a8395_row2_col1\" class=\"data row2 col1\" >-1.00</td>\n",
              "      <td id=\"T_a8395_row2_col2\" class=\"data row2 col2\" >-0.14</td>\n",
              "      <td id=\"T_a8395_row2_col3\" class=\"data row2 col3\" >-0.04</td>\n",
              "      <td id=\"T_a8395_row2_col4\" class=\"data row2 col4\" >0.12</td>\n",
              "    </tr>\n",
              "    <tr>\n",
              "      <th id=\"T_a8395_level0_row3\" class=\"row_heading level0 row3\" >3</th>\n",
              "      <td id=\"T_a8395_row3_col0\" class=\"data row3 col0\" >-1.00</td>\n",
              "      <td id=\"T_a8395_row3_col1\" class=\"data row3 col1\" >-1.00</td>\n",
              "      <td id=\"T_a8395_row3_col2\" class=\"data row3 col2\" >-0.08</td>\n",
              "      <td id=\"T_a8395_row3_col3\" class=\"data row3 col3\" >-0.46</td>\n",
              "      <td id=\"T_a8395_row3_col4\" class=\"data row3 col4\" >0.41</td>\n",
              "    </tr>\n",
              "    <tr>\n",
              "      <th id=\"T_a8395_level0_row4\" class=\"row_heading level0 row4\" >4</th>\n",
              "      <td id=\"T_a8395_row4_col0\" class=\"data row4 col0\" >-0.05</td>\n",
              "      <td id=\"T_a8395_row4_col1\" class=\"data row4 col1\" >-1.00</td>\n",
              "      <td id=\"T_a8395_row4_col2\" class=\"data row4 col2\" >-0.06</td>\n",
              "      <td id=\"T_a8395_row4_col3\" class=\"data row4 col3\" >-0.43</td>\n",
              "      <td id=\"T_a8395_row4_col4\" class=\"data row4 col4\" >-0.21</td>\n",
              "    </tr>\n",
              "    <tr>\n",
              "      <th id=\"T_a8395_level0_row5\" class=\"row_heading level0 row5\" >5</th>\n",
              "      <td id=\"T_a8395_row5_col0\" class=\"data row5 col0\" >0.05</td>\n",
              "      <td id=\"T_a8395_row5_col1\" class=\"data row5 col1\" >-0.04</td>\n",
              "      <td id=\"T_a8395_row5_col2\" class=\"data row5 col2\" >-0.15</td>\n",
              "      <td id=\"T_a8395_row5_col3\" class=\"data row5 col3\" >-0.20</td>\n",
              "      <td id=\"T_a8395_row5_col4\" class=\"data row5 col4\" >1.22</td>\n",
              "    </tr>\n",
              "    <tr>\n",
              "      <th id=\"T_a8395_level0_row6\" class=\"row_heading level0 row6\" >6</th>\n",
              "      <td id=\"T_a8395_row6_col0\" class=\"data row6 col0\" >0.30</td>\n",
              "      <td id=\"T_a8395_row6_col1\" class=\"data row6 col1\" >-0.13</td>\n",
              "      <td id=\"T_a8395_row6_col2\" class=\"data row6 col2\" >0.40</td>\n",
              "      <td id=\"T_a8395_row6_col3\" class=\"data row6 col3\" >0.28</td>\n",
              "      <td id=\"T_a8395_row6_col4\" class=\"data row6 col4\" >0.10</td>\n",
              "    </tr>\n",
              "    <tr>\n",
              "      <th id=\"T_a8395_level0_row7\" class=\"row_heading level0 row7\" >7</th>\n",
              "      <td id=\"T_a8395_row7_col0\" class=\"data row7 col0\" >0.24</td>\n",
              "      <td id=\"T_a8395_row7_col1\" class=\"data row7 col1\" >-0.18</td>\n",
              "      <td id=\"T_a8395_row7_col2\" class=\"data row7 col2\" >-0.57</td>\n",
              "      <td id=\"T_a8395_row7_col3\" class=\"data row7 col3\" >-0.27</td>\n",
              "      <td id=\"T_a8395_row7_col4\" class=\"data row7 col4\" >-0.02</td>\n",
              "    </tr>\n",
              "    <tr>\n",
              "      <th id=\"T_a8395_level0_row8\" class=\"row_heading level0 row8\" >8</th>\n",
              "      <td id=\"T_a8395_row8_col0\" class=\"data row8 col0\" >-1.00</td>\n",
              "      <td id=\"T_a8395_row8_col1\" class=\"data row8 col1\" >-0.32</td>\n",
              "      <td id=\"T_a8395_row8_col2\" class=\"data row8 col2\" >-0.11</td>\n",
              "      <td id=\"T_a8395_row8_col3\" class=\"data row8 col3\" >-0.35</td>\n",
              "      <td id=\"T_a8395_row8_col4\" class=\"data row8 col4\" >0.18</td>\n",
              "    </tr>\n",
              "    <tr>\n",
              "      <th id=\"T_a8395_level0_row9\" class=\"row_heading level0 row9\" >9</th>\n",
              "      <td id=\"T_a8395_row9_col0\" class=\"data row9 col0\" >-1.00</td>\n",
              "      <td id=\"T_a8395_row9_col1\" class=\"data row9 col1\" >-1.00</td>\n",
              "      <td id=\"T_a8395_row9_col2\" class=\"data row9 col2\" >0.08</td>\n",
              "      <td id=\"T_a8395_row9_col3\" class=\"data row9 col3\" >-0.27</td>\n",
              "      <td id=\"T_a8395_row9_col4\" class=\"data row9 col4\" >0.23</td>\n",
              "    </tr>\n",
              "    <tr>\n",
              "      <th id=\"T_a8395_level0_row10\" class=\"row_heading level0 row10\" >10</th>\n",
              "      <td id=\"T_a8395_row10_col0\" class=\"data row10 col0\" >-1.00</td>\n",
              "      <td id=\"T_a8395_row10_col1\" class=\"data row10 col1\" >-1.00</td>\n",
              "      <td id=\"T_a8395_row10_col2\" class=\"data row10 col2\" >-0.03</td>\n",
              "      <td id=\"T_a8395_row10_col3\" class=\"data row10 col3\" >-0.24</td>\n",
              "      <td id=\"T_a8395_row10_col4\" class=\"data row10 col4\" >-0.20</td>\n",
              "    </tr>\n",
              "    <tr>\n",
              "      <th id=\"T_a8395_level0_row11\" class=\"row_heading level0 row11\" >11</th>\n",
              "      <td id=\"T_a8395_row11_col0\" class=\"data row11 col0\" >-1.00</td>\n",
              "      <td id=\"T_a8395_row11_col1\" class=\"data row11 col1\" >-1.00</td>\n",
              "      <td id=\"T_a8395_row11_col2\" class=\"data row11 col2\" >0.07</td>\n",
              "      <td id=\"T_a8395_row11_col3\" class=\"data row11 col3\" >-0.26</td>\n",
              "      <td id=\"T_a8395_row11_col4\" class=\"data row11 col4\" >-0.47</td>\n",
              "    </tr>\n",
              "    <tr>\n",
              "      <th id=\"T_a8395_level0_row12\" class=\"row_heading level0 row12\" >12</th>\n",
              "      <td id=\"T_a8395_row12_col0\" class=\"data row12 col0\" >-1.00</td>\n",
              "      <td id=\"T_a8395_row12_col1\" class=\"data row12 col1\" >-0.24</td>\n",
              "      <td id=\"T_a8395_row12_col2\" class=\"data row12 col2\" >-0.00</td>\n",
              "      <td id=\"T_a8395_row12_col3\" class=\"data row12 col3\" >-0.12</td>\n",
              "      <td id=\"T_a8395_row12_col4\" class=\"data row12 col4\" >0.31</td>\n",
              "    </tr>\n",
              "    <tr>\n",
              "      <th id=\"T_a8395_level0_row13\" class=\"row_heading level0 row13\" >13</th>\n",
              "      <td id=\"T_a8395_row13_col0\" class=\"data row13 col0\" >-1.00</td>\n",
              "      <td id=\"T_a8395_row13_col1\" class=\"data row13 col1\" >-1.00</td>\n",
              "      <td id=\"T_a8395_row13_col2\" class=\"data row13 col2\" >-0.20</td>\n",
              "      <td id=\"T_a8395_row13_col3\" class=\"data row13 col3\" >0.92</td>\n",
              "      <td id=\"T_a8395_row13_col4\" class=\"data row13 col4\" >3.06</td>\n",
              "    </tr>\n",
              "    <tr>\n",
              "      <th id=\"T_a8395_level0_row14\" class=\"row_heading level0 row14\" >14</th>\n",
              "      <td id=\"T_a8395_row14_col0\" class=\"data row14 col0\" >-1.00</td>\n",
              "      <td id=\"T_a8395_row14_col1\" class=\"data row14 col1\" >-1.00</td>\n",
              "      <td id=\"T_a8395_row14_col2\" class=\"data row14 col2\" >-1.00</td>\n",
              "      <td id=\"T_a8395_row14_col3\" class=\"data row14 col3\" >-0.38</td>\n",
              "      <td id=\"T_a8395_row14_col4\" class=\"data row14 col4\" >0.27</td>\n",
              "    </tr>\n",
              "    <tr>\n",
              "      <th id=\"T_a8395_level0_row15\" class=\"row_heading level0 row15\" >15</th>\n",
              "      <td id=\"T_a8395_row15_col0\" class=\"data row15 col0\" >-1.00</td>\n",
              "      <td id=\"T_a8395_row15_col1\" class=\"data row15 col1\" >-1.00</td>\n",
              "      <td id=\"T_a8395_row15_col2\" class=\"data row15 col2\" >-1.00</td>\n",
              "      <td id=\"T_a8395_row15_col3\" class=\"data row15 col3\" >-0.23</td>\n",
              "      <td id=\"T_a8395_row15_col4\" class=\"data row15 col4\" >0.68</td>\n",
              "    </tr>\n",
              "    <tr>\n",
              "      <th id=\"T_a8395_level0_row16\" class=\"row_heading level0 row16\" >16</th>\n",
              "      <td id=\"T_a8395_row16_col0\" class=\"data row16 col0\" >-1.00</td>\n",
              "      <td id=\"T_a8395_row16_col1\" class=\"data row16 col1\" >-1.00</td>\n",
              "      <td id=\"T_a8395_row16_col2\" class=\"data row16 col2\" >-0.07</td>\n",
              "      <td id=\"T_a8395_row16_col3\" class=\"data row16 col3\" >0.01</td>\n",
              "      <td id=\"T_a8395_row16_col4\" class=\"data row16 col4\" >0.00</td>\n",
              "    </tr>\n",
              "    <tr>\n",
              "      <th id=\"T_a8395_level0_row17\" class=\"row_heading level0 row17\" >17</th>\n",
              "      <td id=\"T_a8395_row17_col0\" class=\"data row17 col0\" >-1.00</td>\n",
              "      <td id=\"T_a8395_row17_col1\" class=\"data row17 col1\" >-1.00</td>\n",
              "      <td id=\"T_a8395_row17_col2\" class=\"data row17 col2\" >-0.30</td>\n",
              "      <td id=\"T_a8395_row17_col3\" class=\"data row17 col3\" >0.01</td>\n",
              "      <td id=\"T_a8395_row17_col4\" class=\"data row17 col4\" >-0.78</td>\n",
              "    </tr>\n",
              "    <tr>\n",
              "      <th id=\"T_a8395_level0_row18\" class=\"row_heading level0 row18\" >18</th>\n",
              "      <td id=\"T_a8395_row18_col0\" class=\"data row18 col0\" >-1.00</td>\n",
              "      <td id=\"T_a8395_row18_col1\" class=\"data row18 col1\" >-1.00</td>\n",
              "      <td id=\"T_a8395_row18_col2\" class=\"data row18 col2\" >-0.45</td>\n",
              "      <td id=\"T_a8395_row18_col3\" class=\"data row18 col3\" >0.13</td>\n",
              "      <td id=\"T_a8395_row18_col4\" class=\"data row18 col4\" >0.40</td>\n",
              "    </tr>\n",
              "    <tr>\n",
              "      <th id=\"T_a8395_level0_row19\" class=\"row_heading level0 row19\" >19</th>\n",
              "      <td id=\"T_a8395_row19_col0\" class=\"data row19 col0\" >0.16</td>\n",
              "      <td id=\"T_a8395_row19_col1\" class=\"data row19 col1\" >-1.00</td>\n",
              "      <td id=\"T_a8395_row19_col2\" class=\"data row19 col2\" >-1.00</td>\n",
              "      <td id=\"T_a8395_row19_col3\" class=\"data row19 col3\" >-0.14</td>\n",
              "      <td id=\"T_a8395_row19_col4\" class=\"data row19 col4\" >-0.23</td>\n",
              "    </tr>\n",
              "    <tr>\n",
              "      <th id=\"T_a8395_level0_row20\" class=\"row_heading level0 row20\" >20</th>\n",
              "      <td id=\"T_a8395_row20_col0\" class=\"data row20 col0\" >-1.00</td>\n",
              "      <td id=\"T_a8395_row20_col1\" class=\"data row20 col1\" >-1.00</td>\n",
              "      <td id=\"T_a8395_row20_col2\" class=\"data row20 col2\" >0.15</td>\n",
              "      <td id=\"T_a8395_row20_col3\" class=\"data row20 col3\" >0.29</td>\n",
              "      <td id=\"T_a8395_row20_col4\" class=\"data row20 col4\" >0.26</td>\n",
              "    </tr>\n",
              "    <tr>\n",
              "      <th id=\"T_a8395_level0_row21\" class=\"row_heading level0 row21\" >21</th>\n",
              "      <td id=\"T_a8395_row21_col0\" class=\"data row21 col0\" >-1.00</td>\n",
              "      <td id=\"T_a8395_row21_col1\" class=\"data row21 col1\" >-1.00</td>\n",
              "      <td id=\"T_a8395_row21_col2\" class=\"data row21 col2\" >-0.10</td>\n",
              "      <td id=\"T_a8395_row21_col3\" class=\"data row21 col3\" >0.46</td>\n",
              "      <td id=\"T_a8395_row21_col4\" class=\"data row21 col4\" >0.07</td>\n",
              "    </tr>\n",
              "    <tr>\n",
              "      <th id=\"T_a8395_level0_row22\" class=\"row_heading level0 row22\" >22</th>\n",
              "      <td id=\"T_a8395_row22_col0\" class=\"data row22 col0\" >-1.00</td>\n",
              "      <td id=\"T_a8395_row22_col1\" class=\"data row22 col1\" >-1.00</td>\n",
              "      <td id=\"T_a8395_row22_col2\" class=\"data row22 col2\" >0.06</td>\n",
              "      <td id=\"T_a8395_row22_col3\" class=\"data row22 col3\" >-0.05</td>\n",
              "      <td id=\"T_a8395_row22_col4\" class=\"data row22 col4\" >0.83</td>\n",
              "    </tr>\n",
              "    <tr>\n",
              "      <th id=\"T_a8395_level0_row23\" class=\"row_heading level0 row23\" >23</th>\n",
              "      <td id=\"T_a8395_row23_col0\" class=\"data row23 col0\" >-0.03</td>\n",
              "      <td id=\"T_a8395_row23_col1\" class=\"data row23 col1\" >-0.12</td>\n",
              "      <td id=\"T_a8395_row23_col2\" class=\"data row23 col2\" >-0.50</td>\n",
              "      <td id=\"T_a8395_row23_col3\" class=\"data row23 col3\" >-0.07</td>\n",
              "      <td id=\"T_a8395_row23_col4\" class=\"data row23 col4\" >-0.15</td>\n",
              "    </tr>\n",
              "    <tr>\n",
              "      <th id=\"T_a8395_level0_row24\" class=\"row_heading level0 row24\" >24</th>\n",
              "      <td id=\"T_a8395_row24_col0\" class=\"data row24 col0\" >-1.00</td>\n",
              "      <td id=\"T_a8395_row24_col1\" class=\"data row24 col1\" >-1.00</td>\n",
              "      <td id=\"T_a8395_row24_col2\" class=\"data row24 col2\" >-0.37</td>\n",
              "      <td id=\"T_a8395_row24_col3\" class=\"data row24 col3\" >-0.16</td>\n",
              "      <td id=\"T_a8395_row24_col4\" class=\"data row24 col4\" >0.73</td>\n",
              "    </tr>\n",
              "    <tr>\n",
              "      <th id=\"T_a8395_level0_row25\" class=\"row_heading level0 row25\" >25</th>\n",
              "      <td id=\"T_a8395_row25_col0\" class=\"data row25 col0\" >-1.00</td>\n",
              "      <td id=\"T_a8395_row25_col1\" class=\"data row25 col1\" >-1.00</td>\n",
              "      <td id=\"T_a8395_row25_col2\" class=\"data row25 col2\" >0.19</td>\n",
              "      <td id=\"T_a8395_row25_col3\" class=\"data row25 col3\" >-0.03</td>\n",
              "      <td id=\"T_a8395_row25_col4\" class=\"data row25 col4\" >-0.10</td>\n",
              "    </tr>\n",
              "    <tr>\n",
              "      <th id=\"T_a8395_level0_row26\" class=\"row_heading level0 row26\" >26</th>\n",
              "      <td id=\"T_a8395_row26_col0\" class=\"data row26 col0\" >-1.00</td>\n",
              "      <td id=\"T_a8395_row26_col1\" class=\"data row26 col1\" >-1.00</td>\n",
              "      <td id=\"T_a8395_row26_col2\" class=\"data row26 col2\" >0.44</td>\n",
              "      <td id=\"T_a8395_row26_col3\" class=\"data row26 col3\" >0.02</td>\n",
              "      <td id=\"T_a8395_row26_col4\" class=\"data row26 col4\" >0.28</td>\n",
              "    </tr>\n",
              "    <tr>\n",
              "      <th id=\"T_a8395_level0_row27\" class=\"row_heading level0 row27\" >27</th>\n",
              "      <td id=\"T_a8395_row27_col0\" class=\"data row27 col0\" >0.10</td>\n",
              "      <td id=\"T_a8395_row27_col1\" class=\"data row27 col1\" >0.05</td>\n",
              "      <td id=\"T_a8395_row27_col2\" class=\"data row27 col2\" >-0.16</td>\n",
              "      <td id=\"T_a8395_row27_col3\" class=\"data row27 col3\" >0.11</td>\n",
              "      <td id=\"T_a8395_row27_col4\" class=\"data row27 col4\" >-0.47</td>\n",
              "    </tr>\n",
              "    <tr>\n",
              "      <th id=\"T_a8395_level0_row28\" class=\"row_heading level0 row28\" >28</th>\n",
              "      <td id=\"T_a8395_row28_col0\" class=\"data row28 col0\" >-1.00</td>\n",
              "      <td id=\"T_a8395_row28_col1\" class=\"data row28 col1\" >-0.11</td>\n",
              "      <td id=\"T_a8395_row28_col2\" class=\"data row28 col2\" >-0.17</td>\n",
              "      <td id=\"T_a8395_row28_col3\" class=\"data row28 col3\" >-0.35</td>\n",
              "      <td id=\"T_a8395_row28_col4\" class=\"data row28 col4\" >0.31</td>\n",
              "    </tr>\n",
              "    <tr>\n",
              "      <th id=\"T_a8395_level0_row29\" class=\"row_heading level0 row29\" >29</th>\n",
              "      <td id=\"T_a8395_row29_col0\" class=\"data row29 col0\" >-1.00</td>\n",
              "      <td id=\"T_a8395_row29_col1\" class=\"data row29 col1\" >-1.00</td>\n",
              "      <td id=\"T_a8395_row29_col2\" class=\"data row29 col2\" >-1.00</td>\n",
              "      <td id=\"T_a8395_row29_col3\" class=\"data row29 col3\" >-0.21</td>\n",
              "      <td id=\"T_a8395_row29_col4\" class=\"data row29 col4\" >-0.02</td>\n",
              "    </tr>\n",
              "    <tr>\n",
              "      <th id=\"T_a8395_level0_row30\" class=\"row_heading level0 row30\" >30</th>\n",
              "      <td id=\"T_a8395_row30_col0\" class=\"data row30 col0\" >-1.00</td>\n",
              "      <td id=\"T_a8395_row30_col1\" class=\"data row30 col1\" >-1.00</td>\n",
              "      <td id=\"T_a8395_row30_col2\" class=\"data row30 col2\" >-0.59</td>\n",
              "      <td id=\"T_a8395_row30_col3\" class=\"data row30 col3\" >-0.76</td>\n",
              "      <td id=\"T_a8395_row30_col4\" class=\"data row30 col4\" >-0.98</td>\n",
              "    </tr>\n",
              "    <tr>\n",
              "      <th id=\"T_a8395_level0_row31\" class=\"row_heading level0 row31\" >31</th>\n",
              "      <td id=\"T_a8395_row31_col0\" class=\"data row31 col0\" >0.08</td>\n",
              "      <td id=\"T_a8395_row31_col1\" class=\"data row31 col1\" >-0.45</td>\n",
              "      <td id=\"T_a8395_row31_col2\" class=\"data row31 col2\" >-0.37</td>\n",
              "      <td id=\"T_a8395_row31_col3\" class=\"data row31 col3\" >0.04</td>\n",
              "      <td id=\"T_a8395_row31_col4\" class=\"data row31 col4\" >0.16</td>\n",
              "    </tr>\n",
              "    <tr>\n",
              "      <th id=\"T_a8395_level0_row32\" class=\"row_heading level0 row32\" >32</th>\n",
              "      <td id=\"T_a8395_row32_col0\" class=\"data row32 col0\" >-1.00</td>\n",
              "      <td id=\"T_a8395_row32_col1\" class=\"data row32 col1\" >-1.00</td>\n",
              "      <td id=\"T_a8395_row32_col2\" class=\"data row32 col2\" >0.10</td>\n",
              "      <td id=\"T_a8395_row32_col3\" class=\"data row32 col3\" >-0.31</td>\n",
              "      <td id=\"T_a8395_row32_col4\" class=\"data row32 col4\" >0.40</td>\n",
              "    </tr>\n",
              "    <tr>\n",
              "      <th id=\"T_a8395_level0_row33\" class=\"row_heading level0 row33\" >33</th>\n",
              "      <td id=\"T_a8395_row33_col0\" class=\"data row33 col0\" >-0.06</td>\n",
              "      <td id=\"T_a8395_row33_col1\" class=\"data row33 col1\" >-0.14</td>\n",
              "      <td id=\"T_a8395_row33_col2\" class=\"data row33 col2\" >0.17</td>\n",
              "      <td id=\"T_a8395_row33_col3\" class=\"data row33 col3\" >-0.33</td>\n",
              "      <td id=\"T_a8395_row33_col4\" class=\"data row33 col4\" >-0.02</td>\n",
              "    </tr>\n",
              "    <tr>\n",
              "      <th id=\"T_a8395_level0_row34\" class=\"row_heading level0 row34\" >34</th>\n",
              "      <td id=\"T_a8395_row34_col0\" class=\"data row34 col0\" >-1.00</td>\n",
              "      <td id=\"T_a8395_row34_col1\" class=\"data row34 col1\" >-1.00</td>\n",
              "      <td id=\"T_a8395_row34_col2\" class=\"data row34 col2\" >0.23</td>\n",
              "      <td id=\"T_a8395_row34_col3\" class=\"data row34 col3\" >-0.19</td>\n",
              "      <td id=\"T_a8395_row34_col4\" class=\"data row34 col4\" >-0.40</td>\n",
              "    </tr>\n",
              "    <tr>\n",
              "      <th id=\"T_a8395_level0_row35\" class=\"row_heading level0 row35\" >35</th>\n",
              "      <td id=\"T_a8395_row35_col0\" class=\"data row35 col0\" >-1.00</td>\n",
              "      <td id=\"T_a8395_row35_col1\" class=\"data row35 col1\" >-1.00</td>\n",
              "      <td id=\"T_a8395_row35_col2\" class=\"data row35 col2\" >-0.28</td>\n",
              "      <td id=\"T_a8395_row35_col3\" class=\"data row35 col3\" >0.36</td>\n",
              "      <td id=\"T_a8395_row35_col4\" class=\"data row35 col4\" >-0.43</td>\n",
              "    </tr>\n",
              "    <tr>\n",
              "      <th id=\"T_a8395_level0_row36\" class=\"row_heading level0 row36\" >36</th>\n",
              "      <td id=\"T_a8395_row36_col0\" class=\"data row36 col0\" >-1.00</td>\n",
              "      <td id=\"T_a8395_row36_col1\" class=\"data row36 col1\" >0.17</td>\n",
              "      <td id=\"T_a8395_row36_col2\" class=\"data row36 col2\" >-0.14</td>\n",
              "      <td id=\"T_a8395_row36_col3\" class=\"data row36 col3\" >-0.02</td>\n",
              "      <td id=\"T_a8395_row36_col4\" class=\"data row36 col4\" >-0.24</td>\n",
              "    </tr>\n",
              "    <tr>\n",
              "      <th id=\"T_a8395_level0_row37\" class=\"row_heading level0 row37\" >37</th>\n",
              "      <td id=\"T_a8395_row37_col0\" class=\"data row37 col0\" >0.05</td>\n",
              "      <td id=\"T_a8395_row37_col1\" class=\"data row37 col1\" >-1.00</td>\n",
              "      <td id=\"T_a8395_row37_col2\" class=\"data row37 col2\" >-0.49</td>\n",
              "      <td id=\"T_a8395_row37_col3\" class=\"data row37 col3\" >0.11</td>\n",
              "      <td id=\"T_a8395_row37_col4\" class=\"data row37 col4\" >1.28</td>\n",
              "    </tr>\n",
              "    <tr>\n",
              "      <th id=\"T_a8395_level0_row38\" class=\"row_heading level0 row38\" >38</th>\n",
              "      <td id=\"T_a8395_row38_col0\" class=\"data row38 col0\" >-1.00</td>\n",
              "      <td id=\"T_a8395_row38_col1\" class=\"data row38 col1\" >-1.00</td>\n",
              "      <td id=\"T_a8395_row38_col2\" class=\"data row38 col2\" >0.26</td>\n",
              "      <td id=\"T_a8395_row38_col3\" class=\"data row38 col3\" >0.06</td>\n",
              "      <td id=\"T_a8395_row38_col4\" class=\"data row38 col4\" >0.19</td>\n",
              "    </tr>\n",
              "    <tr>\n",
              "      <th id=\"T_a8395_level0_row39\" class=\"row_heading level0 row39\" >39</th>\n",
              "      <td id=\"T_a8395_row39_col0\" class=\"data row39 col0\" >-0.36</td>\n",
              "      <td id=\"T_a8395_row39_col1\" class=\"data row39 col1\" >-1.00</td>\n",
              "      <td id=\"T_a8395_row39_col2\" class=\"data row39 col2\" >0.11</td>\n",
              "      <td id=\"T_a8395_row39_col3\" class=\"data row39 col3\" >-0.02</td>\n",
              "      <td id=\"T_a8395_row39_col4\" class=\"data row39 col4\" >1.59</td>\n",
              "    </tr>\n",
              "    <tr>\n",
              "      <th id=\"T_a8395_level0_row40\" class=\"row_heading level0 row40\" >40</th>\n",
              "      <td id=\"T_a8395_row40_col0\" class=\"data row40 col0\" >-1.00</td>\n",
              "      <td id=\"T_a8395_row40_col1\" class=\"data row40 col1\" >-0.06</td>\n",
              "      <td id=\"T_a8395_row40_col2\" class=\"data row40 col2\" >0.27</td>\n",
              "      <td id=\"T_a8395_row40_col3\" class=\"data row40 col3\" >0.16</td>\n",
              "      <td id=\"T_a8395_row40_col4\" class=\"data row40 col4\" >0.10</td>\n",
              "    </tr>\n",
              "    <tr>\n",
              "      <th id=\"T_a8395_level0_row41\" class=\"row_heading level0 row41\" >41</th>\n",
              "      <td id=\"T_a8395_row41_col0\" class=\"data row41 col0\" >-1.00</td>\n",
              "      <td id=\"T_a8395_row41_col1\" class=\"data row41 col1\" >-1.00</td>\n",
              "      <td id=\"T_a8395_row41_col2\" class=\"data row41 col2\" >0.02</td>\n",
              "      <td id=\"T_a8395_row41_col3\" class=\"data row41 col3\" >-0.10</td>\n",
              "      <td id=\"T_a8395_row41_col4\" class=\"data row41 col4\" >-0.18</td>\n",
              "    </tr>\n",
              "    <tr>\n",
              "      <th id=\"T_a8395_level0_row42\" class=\"row_heading level0 row42\" >42</th>\n",
              "      <td id=\"T_a8395_row42_col0\" class=\"data row42 col0\" >-1.00</td>\n",
              "      <td id=\"T_a8395_row42_col1\" class=\"data row42 col1\" >-1.00</td>\n",
              "      <td id=\"T_a8395_row42_col2\" class=\"data row42 col2\" >-0.06</td>\n",
              "      <td id=\"T_a8395_row42_col3\" class=\"data row42 col3\" >0.19</td>\n",
              "      <td id=\"T_a8395_row42_col4\" class=\"data row42 col4\" >-0.20</td>\n",
              "    </tr>\n",
              "    <tr>\n",
              "      <th id=\"T_a8395_level0_row43\" class=\"row_heading level0 row43\" >43</th>\n",
              "      <td id=\"T_a8395_row43_col0\" class=\"data row43 col0\" >0.02</td>\n",
              "      <td id=\"T_a8395_row43_col1\" class=\"data row43 col1\" >-1.00</td>\n",
              "      <td id=\"T_a8395_row43_col2\" class=\"data row43 col2\" >0.27</td>\n",
              "      <td id=\"T_a8395_row43_col3\" class=\"data row43 col3\" >-0.03</td>\n",
              "      <td id=\"T_a8395_row43_col4\" class=\"data row43 col4\" >-0.47</td>\n",
              "    </tr>\n",
              "    <tr>\n",
              "      <th id=\"T_a8395_level0_row44\" class=\"row_heading level0 row44\" >44</th>\n",
              "      <td id=\"T_a8395_row44_col0\" class=\"data row44 col0\" >-1.00</td>\n",
              "      <td id=\"T_a8395_row44_col1\" class=\"data row44 col1\" >-1.00</td>\n",
              "      <td id=\"T_a8395_row44_col2\" class=\"data row44 col2\" >-0.27</td>\n",
              "      <td id=\"T_a8395_row44_col3\" class=\"data row44 col3\" >0.28</td>\n",
              "      <td id=\"T_a8395_row44_col4\" class=\"data row44 col4\" >0.08</td>\n",
              "    </tr>\n",
              "    <tr>\n",
              "      <th id=\"T_a8395_level0_row45\" class=\"row_heading level0 row45\" >45</th>\n",
              "      <td id=\"T_a8395_row45_col0\" class=\"data row45 col0\" >-1.00</td>\n",
              "      <td id=\"T_a8395_row45_col1\" class=\"data row45 col1\" >-1.00</td>\n",
              "      <td id=\"T_a8395_row45_col2\" class=\"data row45 col2\" >-0.13</td>\n",
              "      <td id=\"T_a8395_row45_col3\" class=\"data row45 col3\" >0.03</td>\n",
              "      <td id=\"T_a8395_row45_col4\" class=\"data row45 col4\" >-0.26</td>\n",
              "    </tr>\n",
              "    <tr>\n",
              "      <th id=\"T_a8395_level0_row46\" class=\"row_heading level0 row46\" >46</th>\n",
              "      <td id=\"T_a8395_row46_col0\" class=\"data row46 col0\" >-1.00</td>\n",
              "      <td id=\"T_a8395_row46_col1\" class=\"data row46 col1\" >-1.00</td>\n",
              "      <td id=\"T_a8395_row46_col2\" class=\"data row46 col2\" >-0.56</td>\n",
              "      <td id=\"T_a8395_row46_col3\" class=\"data row46 col3\" >-0.31</td>\n",
              "      <td id=\"T_a8395_row46_col4\" class=\"data row46 col4\" >0.65</td>\n",
              "    </tr>\n",
              "    <tr>\n",
              "      <th id=\"T_a8395_level0_row47\" class=\"row_heading level0 row47\" >47</th>\n",
              "      <td id=\"T_a8395_row47_col0\" class=\"data row47 col0\" >-0.46</td>\n",
              "      <td id=\"T_a8395_row47_col1\" class=\"data row47 col1\" >-0.15</td>\n",
              "      <td id=\"T_a8395_row47_col2\" class=\"data row47 col2\" >0.45</td>\n",
              "      <td id=\"T_a8395_row47_col3\" class=\"data row47 col3\" >-0.08</td>\n",
              "      <td id=\"T_a8395_row47_col4\" class=\"data row47 col4\" >2.18</td>\n",
              "    </tr>\n",
              "    <tr>\n",
              "      <th id=\"T_a8395_level0_row48\" class=\"row_heading level0 row48\" >48</th>\n",
              "      <td id=\"T_a8395_row48_col0\" class=\"data row48 col0\" >0.00</td>\n",
              "      <td id=\"T_a8395_row48_col1\" class=\"data row48 col1\" >-1.00</td>\n",
              "      <td id=\"T_a8395_row48_col2\" class=\"data row48 col2\" >0.32</td>\n",
              "      <td id=\"T_a8395_row48_col3\" class=\"data row48 col3\" >-0.25</td>\n",
              "      <td id=\"T_a8395_row48_col4\" class=\"data row48 col4\" >0.37</td>\n",
              "    </tr>\n",
              "    <tr>\n",
              "      <th id=\"T_a8395_level0_row49\" class=\"row_heading level0 row49\" >49</th>\n",
              "      <td id=\"T_a8395_row49_col0\" class=\"data row49 col0\" >0.00</td>\n",
              "      <td id=\"T_a8395_row49_col1\" class=\"data row49 col1\" >0.49</td>\n",
              "      <td id=\"T_a8395_row49_col2\" class=\"data row49 col2\" >0.71</td>\n",
              "      <td id=\"T_a8395_row49_col3\" class=\"data row49 col3\" >-0.21</td>\n",
              "      <td id=\"T_a8395_row49_col4\" class=\"data row49 col4\" >0.19</td>\n",
              "    </tr>\n",
              "    <tr>\n",
              "      <th id=\"T_a8395_level0_row50\" class=\"row_heading level0 row50\" >50</th>\n",
              "      <td id=\"T_a8395_row50_col0\" class=\"data row50 col0\" >-1.00</td>\n",
              "      <td id=\"T_a8395_row50_col1\" class=\"data row50 col1\" >-1.00</td>\n",
              "      <td id=\"T_a8395_row50_col2\" class=\"data row50 col2\" >-0.15</td>\n",
              "      <td id=\"T_a8395_row50_col3\" class=\"data row50 col3\" >0.05</td>\n",
              "      <td id=\"T_a8395_row50_col4\" class=\"data row50 col4\" >0.04</td>\n",
              "    </tr>\n",
              "    <tr>\n",
              "      <th id=\"T_a8395_level0_row51\" class=\"row_heading level0 row51\" >51</th>\n",
              "      <td id=\"T_a8395_row51_col0\" class=\"data row51 col0\" >-1.00</td>\n",
              "      <td id=\"T_a8395_row51_col1\" class=\"data row51 col1\" >-1.00</td>\n",
              "      <td id=\"T_a8395_row51_col2\" class=\"data row51 col2\" >-0.12</td>\n",
              "      <td id=\"T_a8395_row51_col3\" class=\"data row51 col3\" >-0.20</td>\n",
              "      <td id=\"T_a8395_row51_col4\" class=\"data row51 col4\" >-0.10</td>\n",
              "    </tr>\n",
              "    <tr>\n",
              "      <th id=\"T_a8395_level0_row52\" class=\"row_heading level0 row52\" >52</th>\n",
              "      <td id=\"T_a8395_row52_col0\" class=\"data row52 col0\" >-1.00</td>\n",
              "      <td id=\"T_a8395_row52_col1\" class=\"data row52 col1\" >-1.00</td>\n",
              "      <td id=\"T_a8395_row52_col2\" class=\"data row52 col2\" >-0.05</td>\n",
              "      <td id=\"T_a8395_row52_col3\" class=\"data row52 col3\" >0.05</td>\n",
              "      <td id=\"T_a8395_row52_col4\" class=\"data row52 col4\" >1.29</td>\n",
              "    </tr>\n",
              "    <tr>\n",
              "      <th id=\"T_a8395_level0_row53\" class=\"row_heading level0 row53\" >53</th>\n",
              "      <td id=\"T_a8395_row53_col0\" class=\"data row53 col0\" >-0.04</td>\n",
              "      <td id=\"T_a8395_row53_col1\" class=\"data row53 col1\" >-0.05</td>\n",
              "      <td id=\"T_a8395_row53_col2\" class=\"data row53 col2\" >-0.14</td>\n",
              "      <td id=\"T_a8395_row53_col3\" class=\"data row53 col3\" >0.05</td>\n",
              "      <td id=\"T_a8395_row53_col4\" class=\"data row53 col4\" >1.22</td>\n",
              "    </tr>\n",
              "    <tr>\n",
              "      <th id=\"T_a8395_level0_row54\" class=\"row_heading level0 row54\" >54</th>\n",
              "      <td id=\"T_a8395_row54_col0\" class=\"data row54 col0\" >-1.00</td>\n",
              "      <td id=\"T_a8395_row54_col1\" class=\"data row54 col1\" >-1.00</td>\n",
              "      <td id=\"T_a8395_row54_col2\" class=\"data row54 col2\" >-0.00</td>\n",
              "      <td id=\"T_a8395_row54_col3\" class=\"data row54 col3\" >-0.14</td>\n",
              "      <td id=\"T_a8395_row54_col4\" class=\"data row54 col4\" >-0.02</td>\n",
              "    </tr>\n",
              "    <tr>\n",
              "      <th id=\"T_a8395_level0_row55\" class=\"row_heading level0 row55\" >55</th>\n",
              "      <td id=\"T_a8395_row55_col0\" class=\"data row55 col0\" >-0.25</td>\n",
              "      <td id=\"T_a8395_row55_col1\" class=\"data row55 col1\" >-1.00</td>\n",
              "      <td id=\"T_a8395_row55_col2\" class=\"data row55 col2\" >-1.00</td>\n",
              "      <td id=\"T_a8395_row55_col3\" class=\"data row55 col3\" >-0.46</td>\n",
              "      <td id=\"T_a8395_row55_col4\" class=\"data row55 col4\" >-0.44</td>\n",
              "    </tr>\n",
              "    <tr>\n",
              "      <th id=\"T_a8395_level0_row56\" class=\"row_heading level0 row56\" >56</th>\n",
              "      <td id=\"T_a8395_row56_col0\" class=\"data row56 col0\" >-1.00</td>\n",
              "      <td id=\"T_a8395_row56_col1\" class=\"data row56 col1\" >-1.00</td>\n",
              "      <td id=\"T_a8395_row56_col2\" class=\"data row56 col2\" >-0.51</td>\n",
              "      <td id=\"T_a8395_row56_col3\" class=\"data row56 col3\" >-0.07</td>\n",
              "      <td id=\"T_a8395_row56_col4\" class=\"data row56 col4\" >-0.41</td>\n",
              "    </tr>\n",
              "    <tr>\n",
              "      <th id=\"T_a8395_level0_row57\" class=\"row_heading level0 row57\" >57</th>\n",
              "      <td id=\"T_a8395_row57_col0\" class=\"data row57 col0\" >0.04</td>\n",
              "      <td id=\"T_a8395_row57_col1\" class=\"data row57 col1\" >-1.00</td>\n",
              "      <td id=\"T_a8395_row57_col2\" class=\"data row57 col2\" >-0.25</td>\n",
              "      <td id=\"T_a8395_row57_col3\" class=\"data row57 col3\" >0.24</td>\n",
              "      <td id=\"T_a8395_row57_col4\" class=\"data row57 col4\" >1.10</td>\n",
              "    </tr>\n",
              "    <tr>\n",
              "      <th id=\"T_a8395_level0_row58\" class=\"row_heading level0 row58\" >58</th>\n",
              "      <td id=\"T_a8395_row58_col0\" class=\"data row58 col0\" >0.05</td>\n",
              "      <td id=\"T_a8395_row58_col1\" class=\"data row58 col1\" >-1.00</td>\n",
              "      <td id=\"T_a8395_row58_col2\" class=\"data row58 col2\" >-0.12</td>\n",
              "      <td id=\"T_a8395_row58_col3\" class=\"data row58 col3\" >0.23</td>\n",
              "      <td id=\"T_a8395_row58_col4\" class=\"data row58 col4\" >0.00</td>\n",
              "    </tr>\n",
              "    <tr>\n",
              "      <th id=\"T_a8395_level0_row59\" class=\"row_heading level0 row59\" >59</th>\n",
              "      <td id=\"T_a8395_row59_col0\" class=\"data row59 col0\" >-1.00</td>\n",
              "      <td id=\"T_a8395_row59_col1\" class=\"data row59 col1\" >-0.06</td>\n",
              "      <td id=\"T_a8395_row59_col2\" class=\"data row59 col2\" >0.12</td>\n",
              "      <td id=\"T_a8395_row59_col3\" class=\"data row59 col3\" >-0.08</td>\n",
              "      <td id=\"T_a8395_row59_col4\" class=\"data row59 col4\" >1.05</td>\n",
              "    </tr>\n",
              "    <tr>\n",
              "      <th id=\"T_a8395_level0_row60\" class=\"row_heading level0 row60\" >60</th>\n",
              "      <td id=\"T_a8395_row60_col0\" class=\"data row60 col0\" >-1.00</td>\n",
              "      <td id=\"T_a8395_row60_col1\" class=\"data row60 col1\" >-1.00</td>\n",
              "      <td id=\"T_a8395_row60_col2\" class=\"data row60 col2\" >0.05</td>\n",
              "      <td id=\"T_a8395_row60_col3\" class=\"data row60 col3\" >-0.32</td>\n",
              "      <td id=\"T_a8395_row60_col4\" class=\"data row60 col4\" >2.65</td>\n",
              "    </tr>\n",
              "    <tr>\n",
              "      <th id=\"T_a8395_level0_row61\" class=\"row_heading level0 row61\" >61</th>\n",
              "      <td id=\"T_a8395_row61_col0\" class=\"data row61 col0\" >0.04</td>\n",
              "      <td id=\"T_a8395_row61_col1\" class=\"data row61 col1\" >-0.04</td>\n",
              "      <td id=\"T_a8395_row61_col2\" class=\"data row61 col2\" >-0.33</td>\n",
              "      <td id=\"T_a8395_row61_col3\" class=\"data row61 col3\" >-0.27</td>\n",
              "      <td id=\"T_a8395_row61_col4\" class=\"data row61 col4\" >-0.12</td>\n",
              "    </tr>\n",
              "    <tr>\n",
              "      <th id=\"T_a8395_level0_row62\" class=\"row_heading level0 row62\" >62</th>\n",
              "      <td id=\"T_a8395_row62_col0\" class=\"data row62 col0\" >-1.00</td>\n",
              "      <td id=\"T_a8395_row62_col1\" class=\"data row62 col1\" >-1.00</td>\n",
              "      <td id=\"T_a8395_row62_col2\" class=\"data row62 col2\" >-0.24</td>\n",
              "      <td id=\"T_a8395_row62_col3\" class=\"data row62 col3\" >0.07</td>\n",
              "      <td id=\"T_a8395_row62_col4\" class=\"data row62 col4\" >-0.45</td>\n",
              "    </tr>\n",
              "    <tr>\n",
              "      <th id=\"T_a8395_level0_row63\" class=\"row_heading level0 row63\" >63</th>\n",
              "      <td id=\"T_a8395_row63_col0\" class=\"data row63 col0\" >-1.00</td>\n",
              "      <td id=\"T_a8395_row63_col1\" class=\"data row63 col1\" >-0.13</td>\n",
              "      <td id=\"T_a8395_row63_col2\" class=\"data row63 col2\" >-0.21</td>\n",
              "      <td id=\"T_a8395_row63_col3\" class=\"data row63 col3\" >-0.02</td>\n",
              "      <td id=\"T_a8395_row63_col4\" class=\"data row63 col4\" >-0.45</td>\n",
              "    </tr>\n",
              "    <tr>\n",
              "      <th id=\"T_a8395_level0_row64\" class=\"row_heading level0 row64\" >64</th>\n",
              "      <td id=\"T_a8395_row64_col0\" class=\"data row64 col0\" >-0.18</td>\n",
              "      <td id=\"T_a8395_row64_col1\" class=\"data row64 col1\" >-0.35</td>\n",
              "      <td id=\"T_a8395_row64_col2\" class=\"data row64 col2\" >0.15</td>\n",
              "      <td id=\"T_a8395_row64_col3\" class=\"data row64 col3\" >0.59</td>\n",
              "      <td id=\"T_a8395_row64_col4\" class=\"data row64 col4\" >0.54</td>\n",
              "    </tr>\n",
              "    <tr>\n",
              "      <th id=\"T_a8395_level0_row65\" class=\"row_heading level0 row65\" >65</th>\n",
              "      <td id=\"T_a8395_row65_col0\" class=\"data row65 col0\" >-1.00</td>\n",
              "      <td id=\"T_a8395_row65_col1\" class=\"data row65 col1\" >-1.00</td>\n",
              "      <td id=\"T_a8395_row65_col2\" class=\"data row65 col2\" >-1.00</td>\n",
              "      <td id=\"T_a8395_row65_col3\" class=\"data row65 col3\" >-0.14</td>\n",
              "      <td id=\"T_a8395_row65_col4\" class=\"data row65 col4\" >0.32</td>\n",
              "    </tr>\n",
              "    <tr>\n",
              "      <th id=\"T_a8395_level0_row66\" class=\"row_heading level0 row66\" >66</th>\n",
              "      <td id=\"T_a8395_row66_col0\" class=\"data row66 col0\" >-0.10</td>\n",
              "      <td id=\"T_a8395_row66_col1\" class=\"data row66 col1\" >-1.00</td>\n",
              "      <td id=\"T_a8395_row66_col2\" class=\"data row66 col2\" >-0.02</td>\n",
              "      <td id=\"T_a8395_row66_col3\" class=\"data row66 col3\" >0.06</td>\n",
              "      <td id=\"T_a8395_row66_col4\" class=\"data row66 col4\" >0.03</td>\n",
              "    </tr>\n",
              "    <tr>\n",
              "      <th id=\"T_a8395_level0_row67\" class=\"row_heading level0 row67\" >67</th>\n",
              "      <td id=\"T_a8395_row67_col0\" class=\"data row67 col0\" >-1.00</td>\n",
              "      <td id=\"T_a8395_row67_col1\" class=\"data row67 col1\" >-1.00</td>\n",
              "      <td id=\"T_a8395_row67_col2\" class=\"data row67 col2\" >0.37</td>\n",
              "      <td id=\"T_a8395_row67_col3\" class=\"data row67 col3\" >-0.18</td>\n",
              "      <td id=\"T_a8395_row67_col4\" class=\"data row67 col4\" >0.48</td>\n",
              "    </tr>\n",
              "    <tr>\n",
              "      <th id=\"T_a8395_level0_row68\" class=\"row_heading level0 row68\" >68</th>\n",
              "      <td id=\"T_a8395_row68_col0\" class=\"data row68 col0\" >-1.00</td>\n",
              "      <td id=\"T_a8395_row68_col1\" class=\"data row68 col1\" >-1.00</td>\n",
              "      <td id=\"T_a8395_row68_col2\" class=\"data row68 col2\" >0.14</td>\n",
              "      <td id=\"T_a8395_row68_col3\" class=\"data row68 col3\" >-0.07</td>\n",
              "      <td id=\"T_a8395_row68_col4\" class=\"data row68 col4\" >0.15</td>\n",
              "    </tr>\n",
              "    <tr>\n",
              "      <th id=\"T_a8395_level0_row69\" class=\"row_heading level0 row69\" >69</th>\n",
              "      <td id=\"T_a8395_row69_col0\" class=\"data row69 col0\" >-0.00</td>\n",
              "      <td id=\"T_a8395_row69_col1\" class=\"data row69 col1\" >-0.15</td>\n",
              "      <td id=\"T_a8395_row69_col2\" class=\"data row69 col2\" >-0.29</td>\n",
              "      <td id=\"T_a8395_row69_col3\" class=\"data row69 col3\" >-0.31</td>\n",
              "      <td id=\"T_a8395_row69_col4\" class=\"data row69 col4\" >0.15</td>\n",
              "    </tr>\n",
              "    <tr>\n",
              "      <th id=\"T_a8395_level0_row70\" class=\"row_heading level0 row70\" >70</th>\n",
              "      <td id=\"T_a8395_row70_col0\" class=\"data row70 col0\" >-0.28</td>\n",
              "      <td id=\"T_a8395_row70_col1\" class=\"data row70 col1\" >0.21</td>\n",
              "      <td id=\"T_a8395_row70_col2\" class=\"data row70 col2\" >-0.20</td>\n",
              "      <td id=\"T_a8395_row70_col3\" class=\"data row70 col3\" >-0.13</td>\n",
              "      <td id=\"T_a8395_row70_col4\" class=\"data row70 col4\" >0.21</td>\n",
              "    </tr>\n",
              "    <tr>\n",
              "      <th id=\"T_a8395_level0_row71\" class=\"row_heading level0 row71\" >71</th>\n",
              "      <td id=\"T_a8395_row71_col0\" class=\"data row71 col0\" >-1.00</td>\n",
              "      <td id=\"T_a8395_row71_col1\" class=\"data row71 col1\" >-1.00</td>\n",
              "      <td id=\"T_a8395_row71_col2\" class=\"data row71 col2\" >0.21</td>\n",
              "      <td id=\"T_a8395_row71_col3\" class=\"data row71 col3\" >-0.23</td>\n",
              "      <td id=\"T_a8395_row71_col4\" class=\"data row71 col4\" >-0.03</td>\n",
              "    </tr>\n",
              "    <tr>\n",
              "      <th id=\"T_a8395_level0_row72\" class=\"row_heading level0 row72\" >72</th>\n",
              "      <td id=\"T_a8395_row72_col0\" class=\"data row72 col0\" >0.08</td>\n",
              "      <td id=\"T_a8395_row72_col1\" class=\"data row72 col1\" >0.78</td>\n",
              "      <td id=\"T_a8395_row72_col2\" class=\"data row72 col2\" >-0.61</td>\n",
              "      <td id=\"T_a8395_row72_col3\" class=\"data row72 col3\" >-0.19</td>\n",
              "      <td id=\"T_a8395_row72_col4\" class=\"data row72 col4\" >-0.24</td>\n",
              "    </tr>\n",
              "    <tr>\n",
              "      <th id=\"T_a8395_level0_row73\" class=\"row_heading level0 row73\" >73</th>\n",
              "      <td id=\"T_a8395_row73_col0\" class=\"data row73 col0\" >-0.14</td>\n",
              "      <td id=\"T_a8395_row73_col1\" class=\"data row73 col1\" >-0.00</td>\n",
              "      <td id=\"T_a8395_row73_col2\" class=\"data row73 col2\" >0.12</td>\n",
              "      <td id=\"T_a8395_row73_col3\" class=\"data row73 col3\" >-0.18</td>\n",
              "      <td id=\"T_a8395_row73_col4\" class=\"data row73 col4\" >-0.39</td>\n",
              "    </tr>\n",
              "    <tr>\n",
              "      <th id=\"T_a8395_level0_row74\" class=\"row_heading level0 row74\" >74</th>\n",
              "      <td id=\"T_a8395_row74_col0\" class=\"data row74 col0\" >-1.00</td>\n",
              "      <td id=\"T_a8395_row74_col1\" class=\"data row74 col1\" >-1.00</td>\n",
              "      <td id=\"T_a8395_row74_col2\" class=\"data row74 col2\" >0.22</td>\n",
              "      <td id=\"T_a8395_row74_col3\" class=\"data row74 col3\" >-0.15</td>\n",
              "      <td id=\"T_a8395_row74_col4\" class=\"data row74 col4\" >0.40</td>\n",
              "    </tr>\n",
              "    <tr>\n",
              "      <th id=\"T_a8395_level0_row75\" class=\"row_heading level0 row75\" >75</th>\n",
              "      <td id=\"T_a8395_row75_col0\" class=\"data row75 col0\" >-1.00</td>\n",
              "      <td id=\"T_a8395_row75_col1\" class=\"data row75 col1\" >-1.00</td>\n",
              "      <td id=\"T_a8395_row75_col2\" class=\"data row75 col2\" >-0.04</td>\n",
              "      <td id=\"T_a8395_row75_col3\" class=\"data row75 col3\" >0.62</td>\n",
              "      <td id=\"T_a8395_row75_col4\" class=\"data row75 col4\" >1.73</td>\n",
              "    </tr>\n",
              "    <tr>\n",
              "      <th id=\"T_a8395_level0_row76\" class=\"row_heading level0 row76\" >76</th>\n",
              "      <td id=\"T_a8395_row76_col0\" class=\"data row76 col0\" >-1.00</td>\n",
              "      <td id=\"T_a8395_row76_col1\" class=\"data row76 col1\" >-0.09</td>\n",
              "      <td id=\"T_a8395_row76_col2\" class=\"data row76 col2\" >-0.19</td>\n",
              "      <td id=\"T_a8395_row76_col3\" class=\"data row76 col3\" >-0.37</td>\n",
              "      <td id=\"T_a8395_row76_col4\" class=\"data row76 col4\" >-0.61</td>\n",
              "    </tr>\n",
              "    <tr>\n",
              "      <th id=\"T_a8395_level0_row77\" class=\"row_heading level0 row77\" >77</th>\n",
              "      <td id=\"T_a8395_row77_col0\" class=\"data row77 col0\" >0.12</td>\n",
              "      <td id=\"T_a8395_row77_col1\" class=\"data row77 col1\" >0.60</td>\n",
              "      <td id=\"T_a8395_row77_col2\" class=\"data row77 col2\" >-0.27</td>\n",
              "      <td id=\"T_a8395_row77_col3\" class=\"data row77 col3\" >-0.02</td>\n",
              "      <td id=\"T_a8395_row77_col4\" class=\"data row77 col4\" >0.63</td>\n",
              "    </tr>\n",
              "    <tr>\n",
              "      <th id=\"T_a8395_level0_row78\" class=\"row_heading level0 row78\" >78</th>\n",
              "      <td id=\"T_a8395_row78_col0\" class=\"data row78 col0\" >-0.01</td>\n",
              "      <td id=\"T_a8395_row78_col1\" class=\"data row78 col1\" >-1.00</td>\n",
              "      <td id=\"T_a8395_row78_col2\" class=\"data row78 col2\" >-0.32</td>\n",
              "      <td id=\"T_a8395_row78_col3\" class=\"data row78 col3\" >-0.01</td>\n",
              "      <td id=\"T_a8395_row78_col4\" class=\"data row78 col4\" >1.33</td>\n",
              "    </tr>\n",
              "    <tr>\n",
              "      <th id=\"T_a8395_level0_row79\" class=\"row_heading level0 row79\" >79</th>\n",
              "      <td id=\"T_a8395_row79_col0\" class=\"data row79 col0\" >-0.13</td>\n",
              "      <td id=\"T_a8395_row79_col1\" class=\"data row79 col1\" >-0.01</td>\n",
              "      <td id=\"T_a8395_row79_col2\" class=\"data row79 col2\" >-0.02</td>\n",
              "      <td id=\"T_a8395_row79_col3\" class=\"data row79 col3\" >0.04</td>\n",
              "      <td id=\"T_a8395_row79_col4\" class=\"data row79 col4\" >0.01</td>\n",
              "    </tr>\n",
              "    <tr>\n",
              "      <th id=\"T_a8395_level0_row80\" class=\"row_heading level0 row80\" >80</th>\n",
              "      <td id=\"T_a8395_row80_col0\" class=\"data row80 col0\" >-0.04</td>\n",
              "      <td id=\"T_a8395_row80_col1\" class=\"data row80 col1\" >0.00</td>\n",
              "      <td id=\"T_a8395_row80_col2\" class=\"data row80 col2\" >0.11</td>\n",
              "      <td id=\"T_a8395_row80_col3\" class=\"data row80 col3\" >0.20</td>\n",
              "      <td id=\"T_a8395_row80_col4\" class=\"data row80 col4\" >0.32</td>\n",
              "    </tr>\n",
              "    <tr>\n",
              "      <th id=\"T_a8395_level0_row81\" class=\"row_heading level0 row81\" >81</th>\n",
              "      <td id=\"T_a8395_row81_col0\" class=\"data row81 col0\" >-1.00</td>\n",
              "      <td id=\"T_a8395_row81_col1\" class=\"data row81 col1\" >-1.00</td>\n",
              "      <td id=\"T_a8395_row81_col2\" class=\"data row81 col2\" >-0.12</td>\n",
              "      <td id=\"T_a8395_row81_col3\" class=\"data row81 col3\" >0.34</td>\n",
              "      <td id=\"T_a8395_row81_col4\" class=\"data row81 col4\" >0.80</td>\n",
              "    </tr>\n",
              "    <tr>\n",
              "      <th id=\"T_a8395_level0_row82\" class=\"row_heading level0 row82\" >82</th>\n",
              "      <td id=\"T_a8395_row82_col0\" class=\"data row82 col0\" >-1.00</td>\n",
              "      <td id=\"T_a8395_row82_col1\" class=\"data row82 col1\" >-1.00</td>\n",
              "      <td id=\"T_a8395_row82_col2\" class=\"data row82 col2\" >-0.02</td>\n",
              "      <td id=\"T_a8395_row82_col3\" class=\"data row82 col3\" >0.14</td>\n",
              "      <td id=\"T_a8395_row82_col4\" class=\"data row82 col4\" >-0.36</td>\n",
              "    </tr>\n",
              "    <tr>\n",
              "      <th id=\"T_a8395_level0_row83\" class=\"row_heading level0 row83\" >83</th>\n",
              "      <td id=\"T_a8395_row83_col0\" class=\"data row83 col0\" >-1.00</td>\n",
              "      <td id=\"T_a8395_row83_col1\" class=\"data row83 col1\" >-1.00</td>\n",
              "      <td id=\"T_a8395_row83_col2\" class=\"data row83 col2\" >-0.21</td>\n",
              "      <td id=\"T_a8395_row83_col3\" class=\"data row83 col3\" >0.16</td>\n",
              "      <td id=\"T_a8395_row83_col4\" class=\"data row83 col4\" >-0.09</td>\n",
              "    </tr>\n",
              "    <tr>\n",
              "      <th id=\"T_a8395_level0_row84\" class=\"row_heading level0 row84\" >84</th>\n",
              "      <td id=\"T_a8395_row84_col0\" class=\"data row84 col0\" >-1.00</td>\n",
              "      <td id=\"T_a8395_row84_col1\" class=\"data row84 col1\" >-1.00</td>\n",
              "      <td id=\"T_a8395_row84_col2\" class=\"data row84 col2\" >-0.24</td>\n",
              "      <td id=\"T_a8395_row84_col3\" class=\"data row84 col3\" >-0.08</td>\n",
              "      <td id=\"T_a8395_row84_col4\" class=\"data row84 col4\" >-0.01</td>\n",
              "    </tr>\n",
              "    <tr>\n",
              "      <th id=\"T_a8395_level0_row85\" class=\"row_heading level0 row85\" >85</th>\n",
              "      <td id=\"T_a8395_row85_col0\" class=\"data row85 col0\" >0.15</td>\n",
              "      <td id=\"T_a8395_row85_col1\" class=\"data row85 col1\" >0.02</td>\n",
              "      <td id=\"T_a8395_row85_col2\" class=\"data row85 col2\" >0.05</td>\n",
              "      <td id=\"T_a8395_row85_col3\" class=\"data row85 col3\" >-0.25</td>\n",
              "      <td id=\"T_a8395_row85_col4\" class=\"data row85 col4\" >-0.52</td>\n",
              "    </tr>\n",
              "    <tr>\n",
              "      <th id=\"T_a8395_level0_row86\" class=\"row_heading level0 row86\" >86</th>\n",
              "      <td id=\"T_a8395_row86_col0\" class=\"data row86 col0\" >-0.06</td>\n",
              "      <td id=\"T_a8395_row86_col1\" class=\"data row86 col1\" >-1.00</td>\n",
              "      <td id=\"T_a8395_row86_col2\" class=\"data row86 col2\" >-0.63</td>\n",
              "      <td id=\"T_a8395_row86_col3\" class=\"data row86 col3\" >-0.53</td>\n",
              "      <td id=\"T_a8395_row86_col4\" class=\"data row86 col4\" >2.07</td>\n",
              "    </tr>\n",
              "    <tr>\n",
              "      <th id=\"T_a8395_level0_row87\" class=\"row_heading level0 row87\" >87</th>\n",
              "      <td id=\"T_a8395_row87_col0\" class=\"data row87 col0\" >-1.00</td>\n",
              "      <td id=\"T_a8395_row87_col1\" class=\"data row87 col1\" >-0.15</td>\n",
              "      <td id=\"T_a8395_row87_col2\" class=\"data row87 col2\" >0.61</td>\n",
              "      <td id=\"T_a8395_row87_col3\" class=\"data row87 col3\" >-0.01</td>\n",
              "      <td id=\"T_a8395_row87_col4\" class=\"data row87 col4\" >0.59</td>\n",
              "    </tr>\n",
              "    <tr>\n",
              "      <th id=\"T_a8395_level0_row88\" class=\"row_heading level0 row88\" >88</th>\n",
              "      <td id=\"T_a8395_row88_col0\" class=\"data row88 col0\" >-1.00</td>\n",
              "      <td id=\"T_a8395_row88_col1\" class=\"data row88 col1\" >-1.00</td>\n",
              "      <td id=\"T_a8395_row88_col2\" class=\"data row88 col2\" >-0.29</td>\n",
              "      <td id=\"T_a8395_row88_col3\" class=\"data row88 col3\" >0.11</td>\n",
              "      <td id=\"T_a8395_row88_col4\" class=\"data row88 col4\" >0.46</td>\n",
              "    </tr>\n",
              "    <tr>\n",
              "      <th id=\"T_a8395_level0_row89\" class=\"row_heading level0 row89\" >89</th>\n",
              "      <td id=\"T_a8395_row89_col0\" class=\"data row89 col0\" >-1.00</td>\n",
              "      <td id=\"T_a8395_row89_col1\" class=\"data row89 col1\" >-1.00</td>\n",
              "      <td id=\"T_a8395_row89_col2\" class=\"data row89 col2\" >-0.09</td>\n",
              "      <td id=\"T_a8395_row89_col3\" class=\"data row89 col3\" >-0.30</td>\n",
              "      <td id=\"T_a8395_row89_col4\" class=\"data row89 col4\" >0.54</td>\n",
              "    </tr>\n",
              "  </tbody>\n",
              "</table>\n"
            ],
            "text/plain": [
              "<pandas.io.formats.style.Styler at 0x22c7234f1c0>"
            ]
          },
          "execution_count": 78,
          "metadata": {},
          "output_type": "execute_result"
        }
      ],
      "source": [
        "result_final_DT = pd.pivot_table(df_result_01, values=\"Retorno_annualizado\", index=[\"Ativo\"], columns=[\"Timeframe\"], aggfunc='mean')\n",
        "result_final_DT.style.format('{:.2f}', na_rep=\"\").applymap(lambda x: 'background-color : #e6ffe6' if x>0.05 else 'background-color : #ffe6e6')"
      ]
    },
    {
      "cell_type": "code",
      "execution_count": 61,
      "metadata": {},
      "outputs": [
        {
          "ename": "AttributeError",
          "evalue": "type object 'DOMWidget' has no attribute '_ipython_display_'",
          "output_type": "error",
          "traceback": [
            "\u001b[1;31m---------------------------------------------------------------------------\u001b[0m",
            "\u001b[1;31mAttributeError\u001b[0m                            Traceback (most recent call last)",
            "File \u001b[1;32m~\\AppData\\Roaming\\Python\\Python310\\site-packages\\IPython\\core\\formatters.py:921\u001b[0m, in \u001b[0;36mIPythonDisplayFormatter.__call__\u001b[1;34m(self, obj)\u001b[0m\n\u001b[0;32m    919\u001b[0m method \u001b[39m=\u001b[39m get_real_method(obj, \u001b[39mself\u001b[39m\u001b[39m.\u001b[39mprint_method)\n\u001b[0;32m    920\u001b[0m \u001b[39mif\u001b[39;00m method \u001b[39mis\u001b[39;00m \u001b[39mnot\u001b[39;00m \u001b[39mNone\u001b[39;00m:\n\u001b[1;32m--> 921\u001b[0m     method()\n\u001b[0;32m    922\u001b[0m     \u001b[39mreturn\u001b[39;00m \u001b[39mTrue\u001b[39;00m\n",
            "File \u001b[1;32mc:\\Users\\jamir\\AppData\\Local\\Programs\\Python\\Python310\\lib\\site-packages\\plotly\\basewidget.py:741\u001b[0m, in \u001b[0;36mBaseFigureWidget._ipython_display_\u001b[1;34m(self)\u001b[0m\n\u001b[0;32m    737\u001b[0m \u001b[39m\"\"\"\u001b[39;00m\n\u001b[0;32m    738\u001b[0m \u001b[39mHandle rich display of figures in ipython contexts\u001b[39;00m\n\u001b[0;32m    739\u001b[0m \u001b[39m\"\"\"\u001b[39;00m\n\u001b[0;32m    740\u001b[0m \u001b[39m# Override BaseFigure's display to make sure we display the widget version\u001b[39;00m\n\u001b[1;32m--> 741\u001b[0m widgets\u001b[39m.\u001b[39;49mDOMWidget\u001b[39m.\u001b[39;49m_ipython_display_(\u001b[39mself\u001b[39m)\n",
            "\u001b[1;31mAttributeError\u001b[0m: type object 'DOMWidget' has no attribute '_ipython_display_'"
          ]
        },
        {
          "data": {
            "application/vnd.plotly.v1+json": {
              "config": {
                "plotlyServerURL": "https://plot.ly"
              },
              "data": [
                {
                  "customdata": [
                    [
                      0,
                      0,
                      0.007329791976225939,
                      0.007329791976225939
                    ],
                    [
                      1,
                      1,
                      0.051351565995525726,
                      0.05135156599552573
                    ],
                    [
                      3,
                      3,
                      0.016621571906354615,
                      0.016621571906354618
                    ],
                    [
                      4,
                      4,
                      0.021009234828496006,
                      0.021009234828496006
                    ],
                    [
                      5,
                      5,
                      0.04498522880215335,
                      0.04498522880215335
                    ],
                    [
                      6,
                      6,
                      0.01536469072164943,
                      0.01536469072164943
                    ],
                    [
                      7,
                      7,
                      0.010996050913838203,
                      0.010996050913838205
                    ],
                    [
                      8,
                      8,
                      0.014112596899224795,
                      0.014112596899224797
                    ],
                    [
                      10,
                      10,
                      0.03177410358565745,
                      0.03177410358565745
                    ],
                    [
                      11,
                      11,
                      0.012245061728395117,
                      0.012245061728395117
                    ],
                    [
                      14,
                      14,
                      0.026797896551724168,
                      0.026797896551724168
                    ],
                    [
                      16,
                      16,
                      0.03335362989323853,
                      0.03335362989323853
                    ],
                    [
                      17,
                      17,
                      0.0028388684790595017,
                      0.0028388684790595017
                    ],
                    [
                      18,
                      18,
                      0.010171973587674228,
                      0.010171973587674228
                    ],
                    [
                      19,
                      19,
                      0.015431767751479286,
                      0.015431767751479286
                    ],
                    [
                      20,
                      20,
                      0.03274835766423348,
                      0.03274835766423348
                    ],
                    [
                      21,
                      21,
                      0.021159377372816913,
                      0.021159377372816913
                    ],
                    [
                      22,
                      22,
                      0.03713194341027547,
                      0.037131943410275474
                    ],
                    [
                      23,
                      23,
                      0.022310007727975294,
                      0.022310007727975294
                    ],
                    [
                      24,
                      24,
                      0.01824954128440367,
                      0.018249541284403672
                    ],
                    [
                      25,
                      25,
                      0.007687772585669839,
                      0.00768777258566984
                    ],
                    [
                      26,
                      26,
                      0.015356723338485322,
                      0.015356723338485322
                    ],
                    [
                      27,
                      27,
                      0.012709607686148877,
                      0.012709607686148877
                    ],
                    [
                      28,
                      28,
                      0.019742261904761832,
                      0.019742261904761835
                    ],
                    [
                      30,
                      30,
                      0.0283007314974182,
                      0.0283007314974182
                    ],
                    [
                      31,
                      31,
                      0.03814945355191261,
                      0.03814945355191261
                    ],
                    [
                      32,
                      32,
                      0.005126742160278814,
                      0.005126742160278814
                    ],
                    [
                      33,
                      33,
                      0.0069419014084506955,
                      0.0069419014084506955
                    ],
                    [
                      35,
                      35,
                      0.045158198121263926,
                      0.04515819812126393
                    ],
                    [
                      36,
                      36,
                      0.018037757625721327,
                      0.018037757625721327
                    ],
                    [
                      37,
                      37,
                      0.01753136020151122,
                      0.01753136020151122
                    ],
                    [
                      38,
                      38,
                      0.023060794044664896,
                      0.023060794044664896
                    ],
                    [
                      40,
                      40,
                      0.021508686257562706,
                      0.021508686257562706
                    ],
                    [
                      41,
                      41,
                      0.020252964601769875,
                      0.020252964601769875
                    ],
                    [
                      42,
                      42,
                      0.013070105355575123,
                      0.013070105355575123
                    ],
                    [
                      43,
                      43,
                      0.04874302841918308,
                      0.04874302841918308
                    ],
                    [
                      44,
                      44,
                      0.0350044948630137,
                      0.035004494863013706
                    ],
                    [
                      45,
                      45,
                      0.03801866134751785,
                      0.03801866134751785
                    ],
                    [
                      46,
                      46,
                      0.04149800509337861,
                      0.04149800509337861
                    ],
                    [
                      47,
                      47,
                      0.02222031250000003,
                      0.02222031250000003
                    ]
                  ],
                  "hovertemplate": "Exit Trade Id: %{customdata[0]}<br>Position Id: %{customdata[1]}<br>Exit Timestamp: %{x}<br>PnL: %{customdata[2]:.6f}<br>Return: %{customdata[3]:.2%}",
                  "marker": {
                    "color": "#37B13F",
                    "line": {
                      "color": "rgb(38,123,44)",
                      "width": 1
                    },
                    "opacity": [
                      0.7619666429936992,
                      0.8633012916787994,
                      0.783355586893735,
                      0.7934556405755541,
                      0.848646486022434,
                      0.7804623456255576,
                      0.7704060816512296,
                      0.7775801244874327,
                      0.818235518668834,
                      0.7732812059486177,
                      0.806780682901723,
                      0.8218714635400568,
                      0.751628891619629,
                      0.7685091206995975,
                      0.7806167516531218,
                      0.8204781746494686,
                      0.7938012568602312,
                      0.8305688429937619,
                      0.796449917106301,
                      0.7871030438890476,
                      0.7627906860974181,
                      0.7804440053384643,
                      0.7743505540718083,
                      0.7905391689207805,
                      0.8102400903119475,
                      0.8329110710169015,
                      0.756895396227567,
                      0.761073749527013,
                      0.8490446477407165,
                      0.7866155346251,
                      0.7854498477299087,
                      0.7981781679397627,
                      0.7946053383382465,
                      0.7917147662140915,
                      0.7751803912489083,
                      0.8572966440977029,
                      0.8256716243801303,
                      0.832609997687206,
                      0.8406191723285307,
                      0.7962434457721013
                    ],
                    "size": [
                      7.558443339705961,
                      12.287393611677306,
                      8.556594055040962,
                      9.027929893525855,
                      11.603502681046917,
                      8.42157612919269,
                      7.952283810390714,
                      8.287072476080192,
                      10.184324204545586,
                      8.086456277602158,
                      9.649765202080404,
                      10.354001631869316,
                      7.076014942249353,
                      7.8637589659812175,
                      8.428781743812351,
                      10.288981483641868,
                      9.044058653477453,
                      10.759879339708885,
                      9.167662798294042,
                      8.731475381488892,
                      7.596898684546176,
                      8.420720249128332,
                      8.136359190017721,
                      8.891827882969753,
                      9.81120421455755,
                      10.86918331412207,
                      7.321785157286458,
                      7.516774977927272,
                      11.622083561233438,
                      8.708724949171332,
                      8.654326227395737,
                      9.248314503855593,
                      9.08158245578484,
                      8.94668908999094,
                      8.17508492494905,
                      12.00717672455947,
                      10.531342471072744,
                      10.855133225402946,
                      11.228894708664765,
                      9.158027469364724
                    ],
                    "symbol": "circle"
                  },
                  "mode": "markers",
                  "name": "Closed - Profit",
                  "type": "scatter",
                  "uid": "69fd9723-b1b9-4745-8928-1ecce8d1777c",
                  "x": [
                    "2023-01-10T16:30:00",
                    "2023-01-11T10:05:00",
                    "2023-01-16T16:50:00",
                    "2023-01-17T10:10:00",
                    "2023-01-20T12:35:00",
                    "2023-01-20T15:00:00",
                    "2023-01-20T17:20:00",
                    "2023-01-23T10:55:00",
                    "2023-01-24T12:25:00",
                    "2023-01-24T17:40:00",
                    "2023-01-30T17:45:00",
                    "2023-02-03T15:10:00",
                    "2023-02-07T11:05:00",
                    "2023-02-07T14:30:00",
                    "2023-02-07T16:40:00",
                    "2023-02-08T13:25:00",
                    "2023-02-10T10:35:00",
                    "2023-02-13T13:20:00",
                    "2023-02-14T10:30:00",
                    "2023-02-14T13:30:00",
                    "2023-02-15T15:00:00",
                    "2023-02-16T11:15:00",
                    "2023-02-17T10:50:00",
                    "2023-02-17T14:45:00",
                    "2023-02-24T10:05:00",
                    "2023-02-24T16:50:00",
                    "2023-03-01T14:25:00",
                    "2023-03-03T10:10:00",
                    "2023-03-08T10:05:00",
                    "2023-03-08T13:35:00",
                    "2023-03-09T10:40:00",
                    "2023-03-09T17:20:00",
                    "2023-03-14T11:45:00",
                    "2023-03-16T10:05:00",
                    "2023-03-16T15:20:00",
                    "2023-03-20T10:05:00",
                    "2023-03-20T13:40:00",
                    "2023-03-23T10:05:00",
                    "2023-03-23T15:05:00",
                    "2023-03-28T11:50:00"
                  ],
                  "y": [
                    0.007329791976225939,
                    0.05135156599552573,
                    0.016621571906354618,
                    0.021009234828496006,
                    0.04498522880215335,
                    0.01536469072164943,
                    0.010996050913838205,
                    0.014112596899224797,
                    0.03177410358565745,
                    0.012245061728395117,
                    0.026797896551724168,
                    0.03335362989323853,
                    0.0028388684790595017,
                    0.010171973587674228,
                    0.015431767751479286,
                    0.03274835766423348,
                    0.021159377372816913,
                    0.037131943410275474,
                    0.022310007727975294,
                    0.018249541284403672,
                    0.00768777258566984,
                    0.015356723338485322,
                    0.012709607686148877,
                    0.019742261904761835,
                    0.0283007314974182,
                    0.03814945355191261,
                    0.005126742160278814,
                    0.0069419014084506955,
                    0.04515819812126393,
                    0.018037757625721327,
                    0.01753136020151122,
                    0.023060794044664896,
                    0.021508686257562706,
                    0.020252964601769875,
                    0.013070105355575123,
                    0.04874302841918308,
                    0.035004494863013706,
                    0.03801866134751785,
                    0.04149800509337861,
                    0.02222031250000003
                  ]
                },
                {
                  "customdata": [
                    [
                      2,
                      2,
                      -0.06729421015010728,
                      -0.06729421015010728
                    ],
                    [
                      9,
                      9,
                      -0.01055699346405214,
                      -0.01055699346405214
                    ],
                    [
                      12,
                      12,
                      -0.0021312457684497395,
                      -0.00213124576844974
                    ],
                    [
                      13,
                      13,
                      -0.018342331081081173,
                      -0.018342331081081176
                    ],
                    [
                      15,
                      15,
                      -0.01755722765363133,
                      -0.01755722765363133
                    ],
                    [
                      29,
                      29,
                      -0.06067855411954761,
                      -0.06067855411954761
                    ],
                    [
                      34,
                      34,
                      -0.009607821953327577,
                      -0.009607821953327577
                    ],
                    [
                      39,
                      39,
                      -0.020420745131244658,
                      -0.020420745131244658
                    ]
                  ],
                  "hovertemplate": "Exit Trade Id: %{customdata[0]}<br>Position Id: %{customdata[1]}<br>Exit Timestamp: %{x}<br>PnL: %{customdata[2]:.6f}<br>Return: %{customdata[3]:.2%}",
                  "marker": {
                    "color": "#EA4335",
                    "line": {
                      "color": "rgb(181,31,18)",
                      "width": 1
                    },
                    "opacity": [
                      0.9,
                      0.7693954060613013,
                      0.75,
                      0.7873166386761127,
                      0.7855093925626958,
                      0.8847712820618198,
                      0.7672104881718266,
                      0.792100983748239
                    ],
                    "size": [
                      14,
                      7.905118949527393,
                      7,
                      8.741443138218592,
                      8.657104986259135,
                      13.289326496218253,
                      7.803156114685242,
                      8.964712574917819
                    ],
                    "symbol": "circle"
                  },
                  "mode": "markers",
                  "name": "Closed - Loss",
                  "type": "scatter",
                  "uid": "6bc77ac9-0a70-40c5-ba9c-27e2c9850e3a",
                  "x": [
                    "2023-01-16T10:30:00",
                    "2023-01-24T10:00:00",
                    "2023-01-25T17:10:00",
                    "2023-01-27T15:55:00",
                    "2023-01-31T17:30:00",
                    "2023-02-23T10:40:00",
                    "2023-03-07T10:10:00",
                    "2023-03-13T15:15:00"
                  ],
                  "y": [
                    -0.06729421015010728,
                    -0.01055699346405214,
                    -0.00213124576844974,
                    -0.018342331081081176,
                    -0.01755722765363133,
                    -0.06067855411954761,
                    -0.009607821953327577,
                    -0.020420745131244658
                  ]
                },
                {
                  "customdata": [
                    [
                      48,
                      48,
                      0.00257927256792278,
                      0.00257927256792278
                    ]
                  ],
                  "hovertemplate": "Exit Trade Id: %{customdata[0]}<br>Position Id: %{customdata[1]}<br>Exit Timestamp: %{x}<br>PnL: %{customdata[2]:.6f}<br>Return: %{customdata[3]:.2%}",
                  "marker": {
                    "color": "#FFAA00",
                    "line": {
                      "color": "rgb(178,118,0)",
                      "width": 1
                    },
                    "opacity": [
                      0.7510313223248615
                    ],
                    "size": [
                      7.048128375160202
                    ],
                    "symbol": "circle"
                  },
                  "mode": "markers",
                  "name": "Open",
                  "type": "scatter",
                  "uid": "48bb97bc-7dec-4de8-8e67-2030a17270fa",
                  "x": [
                    "2023-03-29T17:55:00"
                  ],
                  "y": [
                    0.00257927256792278
                  ]
                }
              ],
              "layout": {
                "height": 350,
                "legend": {
                  "orientation": "h",
                  "traceorder": "normal",
                  "x": 1,
                  "xanchor": "right",
                  "y": 1.02,
                  "yanchor": "bottom"
                },
                "margin": {
                  "b": 30,
                  "l": 30,
                  "r": 30,
                  "t": 30
                },
                "shapes": [
                  {
                    "line": {
                      "color": "gray",
                      "dash": "dash"
                    },
                    "type": "line",
                    "x0": 0,
                    "x1": 1,
                    "xref": "paper",
                    "y0": 0,
                    "y1": 0,
                    "yref": "y"
                  }
                ],
                "template": {
                  "data": {
                    "bar": [
                      {
                        "error_x": {
                          "color": "#2a3f5f"
                        },
                        "error_y": {
                          "color": "#2a3f5f"
                        },
                        "marker": {
                          "line": {
                            "color": "#E5ECF6",
                            "width": 0.5
                          }
                        },
                        "type": "bar"
                      }
                    ],
                    "barpolar": [
                      {
                        "marker": {
                          "line": {
                            "color": "#E5ECF6",
                            "width": 0.5
                          }
                        },
                        "type": "barpolar"
                      }
                    ],
                    "carpet": [
                      {
                        "aaxis": {
                          "endlinecolor": "#2a3f5f",
                          "gridcolor": "white",
                          "linecolor": "white",
                          "minorgridcolor": "white",
                          "startlinecolor": "#2a3f5f"
                        },
                        "baxis": {
                          "endlinecolor": "#2a3f5f",
                          "gridcolor": "white",
                          "linecolor": "white",
                          "minorgridcolor": "white",
                          "startlinecolor": "#2a3f5f"
                        },
                        "type": "carpet"
                      }
                    ],
                    "choropleth": [
                      {
                        "colorbar": {
                          "outlinewidth": 0,
                          "ticks": ""
                        },
                        "type": "choropleth"
                      }
                    ],
                    "contour": [
                      {
                        "colorbar": {
                          "outlinewidth": 0,
                          "ticks": ""
                        },
                        "colorscale": [
                          [
                            0,
                            "#0d0887"
                          ],
                          [
                            0.1111111111111111,
                            "#46039f"
                          ],
                          [
                            0.2222222222222222,
                            "#7201a8"
                          ],
                          [
                            0.3333333333333333,
                            "#9c179e"
                          ],
                          [
                            0.4444444444444444,
                            "#bd3786"
                          ],
                          [
                            0.5555555555555556,
                            "#d8576b"
                          ],
                          [
                            0.6666666666666666,
                            "#ed7953"
                          ],
                          [
                            0.7777777777777778,
                            "#fb9f3a"
                          ],
                          [
                            0.8888888888888888,
                            "#fdca26"
                          ],
                          [
                            1,
                            "#f0f921"
                          ]
                        ],
                        "type": "contour"
                      }
                    ],
                    "contourcarpet": [
                      {
                        "colorbar": {
                          "outlinewidth": 0,
                          "ticks": ""
                        },
                        "type": "contourcarpet"
                      }
                    ],
                    "heatmap": [
                      {
                        "colorbar": {
                          "outlinewidth": 0,
                          "ticks": ""
                        },
                        "colorscale": [
                          [
                            0,
                            "#0d0887"
                          ],
                          [
                            0.1111111111111111,
                            "#46039f"
                          ],
                          [
                            0.2222222222222222,
                            "#7201a8"
                          ],
                          [
                            0.3333333333333333,
                            "#9c179e"
                          ],
                          [
                            0.4444444444444444,
                            "#bd3786"
                          ],
                          [
                            0.5555555555555556,
                            "#d8576b"
                          ],
                          [
                            0.6666666666666666,
                            "#ed7953"
                          ],
                          [
                            0.7777777777777778,
                            "#fb9f3a"
                          ],
                          [
                            0.8888888888888888,
                            "#fdca26"
                          ],
                          [
                            1,
                            "#f0f921"
                          ]
                        ],
                        "type": "heatmap"
                      }
                    ],
                    "heatmapgl": [
                      {
                        "colorbar": {
                          "outlinewidth": 0,
                          "ticks": ""
                        },
                        "colorscale": [
                          [
                            0,
                            "#0d0887"
                          ],
                          [
                            0.1111111111111111,
                            "#46039f"
                          ],
                          [
                            0.2222222222222222,
                            "#7201a8"
                          ],
                          [
                            0.3333333333333333,
                            "#9c179e"
                          ],
                          [
                            0.4444444444444444,
                            "#bd3786"
                          ],
                          [
                            0.5555555555555556,
                            "#d8576b"
                          ],
                          [
                            0.6666666666666666,
                            "#ed7953"
                          ],
                          [
                            0.7777777777777778,
                            "#fb9f3a"
                          ],
                          [
                            0.8888888888888888,
                            "#fdca26"
                          ],
                          [
                            1,
                            "#f0f921"
                          ]
                        ],
                        "type": "heatmapgl"
                      }
                    ],
                    "histogram": [
                      {
                        "marker": {
                          "colorbar": {
                            "outlinewidth": 0,
                            "ticks": ""
                          }
                        },
                        "type": "histogram"
                      }
                    ],
                    "histogram2d": [
                      {
                        "colorbar": {
                          "outlinewidth": 0,
                          "ticks": ""
                        },
                        "colorscale": [
                          [
                            0,
                            "#0d0887"
                          ],
                          [
                            0.1111111111111111,
                            "#46039f"
                          ],
                          [
                            0.2222222222222222,
                            "#7201a8"
                          ],
                          [
                            0.3333333333333333,
                            "#9c179e"
                          ],
                          [
                            0.4444444444444444,
                            "#bd3786"
                          ],
                          [
                            0.5555555555555556,
                            "#d8576b"
                          ],
                          [
                            0.6666666666666666,
                            "#ed7953"
                          ],
                          [
                            0.7777777777777778,
                            "#fb9f3a"
                          ],
                          [
                            0.8888888888888888,
                            "#fdca26"
                          ],
                          [
                            1,
                            "#f0f921"
                          ]
                        ],
                        "type": "histogram2d"
                      }
                    ],
                    "histogram2dcontour": [
                      {
                        "colorbar": {
                          "outlinewidth": 0,
                          "ticks": ""
                        },
                        "colorscale": [
                          [
                            0,
                            "#0d0887"
                          ],
                          [
                            0.1111111111111111,
                            "#46039f"
                          ],
                          [
                            0.2222222222222222,
                            "#7201a8"
                          ],
                          [
                            0.3333333333333333,
                            "#9c179e"
                          ],
                          [
                            0.4444444444444444,
                            "#bd3786"
                          ],
                          [
                            0.5555555555555556,
                            "#d8576b"
                          ],
                          [
                            0.6666666666666666,
                            "#ed7953"
                          ],
                          [
                            0.7777777777777778,
                            "#fb9f3a"
                          ],
                          [
                            0.8888888888888888,
                            "#fdca26"
                          ],
                          [
                            1,
                            "#f0f921"
                          ]
                        ],
                        "type": "histogram2dcontour"
                      }
                    ],
                    "mesh3d": [
                      {
                        "colorbar": {
                          "outlinewidth": 0,
                          "ticks": ""
                        },
                        "type": "mesh3d"
                      }
                    ],
                    "parcoords": [
                      {
                        "line": {
                          "colorbar": {
                            "outlinewidth": 0,
                            "ticks": ""
                          }
                        },
                        "type": "parcoords"
                      }
                    ],
                    "pie": [
                      {
                        "automargin": true,
                        "type": "pie"
                      }
                    ],
                    "scatter": [
                      {
                        "marker": {
                          "colorbar": {
                            "outlinewidth": 0,
                            "ticks": ""
                          }
                        },
                        "type": "scatter"
                      }
                    ],
                    "scatter3d": [
                      {
                        "line": {
                          "colorbar": {
                            "outlinewidth": 0,
                            "ticks": ""
                          }
                        },
                        "marker": {
                          "colorbar": {
                            "outlinewidth": 0,
                            "ticks": ""
                          }
                        },
                        "type": "scatter3d"
                      }
                    ],
                    "scattercarpet": [
                      {
                        "marker": {
                          "colorbar": {
                            "outlinewidth": 0,
                            "ticks": ""
                          }
                        },
                        "type": "scattercarpet"
                      }
                    ],
                    "scattergeo": [
                      {
                        "marker": {
                          "colorbar": {
                            "outlinewidth": 0,
                            "ticks": ""
                          }
                        },
                        "type": "scattergeo"
                      }
                    ],
                    "scattergl": [
                      {
                        "marker": {
                          "colorbar": {
                            "outlinewidth": 0,
                            "ticks": ""
                          }
                        },
                        "type": "scattergl"
                      }
                    ],
                    "scattermapbox": [
                      {
                        "marker": {
                          "colorbar": {
                            "outlinewidth": 0,
                            "ticks": ""
                          }
                        },
                        "type": "scattermapbox"
                      }
                    ],
                    "scatterpolar": [
                      {
                        "marker": {
                          "colorbar": {
                            "outlinewidth": 0,
                            "ticks": ""
                          }
                        },
                        "type": "scatterpolar"
                      }
                    ],
                    "scatterpolargl": [
                      {
                        "marker": {
                          "colorbar": {
                            "outlinewidth": 0,
                            "ticks": ""
                          }
                        },
                        "type": "scatterpolargl"
                      }
                    ],
                    "scatterternary": [
                      {
                        "marker": {
                          "colorbar": {
                            "outlinewidth": 0,
                            "ticks": ""
                          }
                        },
                        "type": "scatterternary"
                      }
                    ],
                    "surface": [
                      {
                        "colorbar": {
                          "outlinewidth": 0,
                          "ticks": ""
                        },
                        "colorscale": [
                          [
                            0,
                            "#0d0887"
                          ],
                          [
                            0.1111111111111111,
                            "#46039f"
                          ],
                          [
                            0.2222222222222222,
                            "#7201a8"
                          ],
                          [
                            0.3333333333333333,
                            "#9c179e"
                          ],
                          [
                            0.4444444444444444,
                            "#bd3786"
                          ],
                          [
                            0.5555555555555556,
                            "#d8576b"
                          ],
                          [
                            0.6666666666666666,
                            "#ed7953"
                          ],
                          [
                            0.7777777777777778,
                            "#fb9f3a"
                          ],
                          [
                            0.8888888888888888,
                            "#fdca26"
                          ],
                          [
                            1,
                            "#f0f921"
                          ]
                        ],
                        "type": "surface"
                      }
                    ],
                    "table": [
                      {
                        "cells": {
                          "fill": {
                            "color": "#EBF0F8"
                          },
                          "line": {
                            "color": "white"
                          }
                        },
                        "header": {
                          "fill": {
                            "color": "#C8D4E3"
                          },
                          "line": {
                            "color": "white"
                          }
                        },
                        "type": "table"
                      }
                    ]
                  },
                  "layout": {
                    "annotationdefaults": {
                      "arrowcolor": "#2a3f5f",
                      "arrowhead": 0,
                      "arrowwidth": 1
                    },
                    "coloraxis": {
                      "colorbar": {
                        "outlinewidth": 0,
                        "ticks": ""
                      }
                    },
                    "colorscale": {
                      "diverging": [
                        [
                          0,
                          "#8e0152"
                        ],
                        [
                          0.1,
                          "#c51b7d"
                        ],
                        [
                          0.2,
                          "#de77ae"
                        ],
                        [
                          0.3,
                          "#f1b6da"
                        ],
                        [
                          0.4,
                          "#fde0ef"
                        ],
                        [
                          0.5,
                          "#f7f7f7"
                        ],
                        [
                          0.6,
                          "#e6f5d0"
                        ],
                        [
                          0.7,
                          "#b8e186"
                        ],
                        [
                          0.8,
                          "#7fbc41"
                        ],
                        [
                          0.9,
                          "#4d9221"
                        ],
                        [
                          1,
                          "#276419"
                        ]
                      ],
                      "sequential": [
                        [
                          0,
                          "#0d0887"
                        ],
                        [
                          0.1111111111111111,
                          "#46039f"
                        ],
                        [
                          0.2222222222222222,
                          "#7201a8"
                        ],
                        [
                          0.3333333333333333,
                          "#9c179e"
                        ],
                        [
                          0.4444444444444444,
                          "#bd3786"
                        ],
                        [
                          0.5555555555555556,
                          "#d8576b"
                        ],
                        [
                          0.6666666666666666,
                          "#ed7953"
                        ],
                        [
                          0.7777777777777778,
                          "#fb9f3a"
                        ],
                        [
                          0.8888888888888888,
                          "#fdca26"
                        ],
                        [
                          1,
                          "#f0f921"
                        ]
                      ],
                      "sequentialminus": [
                        [
                          0,
                          "#0d0887"
                        ],
                        [
                          0.1111111111111111,
                          "#46039f"
                        ],
                        [
                          0.2222222222222222,
                          "#7201a8"
                        ],
                        [
                          0.3333333333333333,
                          "#9c179e"
                        ],
                        [
                          0.4444444444444444,
                          "#bd3786"
                        ],
                        [
                          0.5555555555555556,
                          "#d8576b"
                        ],
                        [
                          0.6666666666666666,
                          "#ed7953"
                        ],
                        [
                          0.7777777777777778,
                          "#fb9f3a"
                        ],
                        [
                          0.8888888888888888,
                          "#fdca26"
                        ],
                        [
                          1,
                          "#f0f921"
                        ]
                      ]
                    },
                    "colorway": [
                      "#1f77b4",
                      "#ff7f0e",
                      "#2ca02c",
                      "#dc3912",
                      "#9467bd",
                      "#8c564b",
                      "#e377c2",
                      "#7f7f7f",
                      "#bcbd22",
                      "#17becf"
                    ],
                    "font": {
                      "color": "#2a3f5f"
                    },
                    "geo": {
                      "bgcolor": "white",
                      "lakecolor": "white",
                      "landcolor": "#E5ECF6",
                      "showlakes": true,
                      "showland": true,
                      "subunitcolor": "white"
                    },
                    "hoverlabel": {
                      "align": "left"
                    },
                    "hovermode": "closest",
                    "mapbox": {
                      "style": "light"
                    },
                    "paper_bgcolor": "white",
                    "plot_bgcolor": "#E5ECF6",
                    "polar": {
                      "angularaxis": {
                        "gridcolor": "white",
                        "linecolor": "white",
                        "ticks": ""
                      },
                      "bgcolor": "#E5ECF6",
                      "radialaxis": {
                        "gridcolor": "white",
                        "linecolor": "white",
                        "ticks": ""
                      }
                    },
                    "scene": {
                      "xaxis": {
                        "backgroundcolor": "#E5ECF6",
                        "gridcolor": "white",
                        "gridwidth": 2,
                        "linecolor": "white",
                        "showbackground": true,
                        "ticks": "",
                        "zerolinecolor": "white"
                      },
                      "yaxis": {
                        "backgroundcolor": "#E5ECF6",
                        "gridcolor": "white",
                        "gridwidth": 2,
                        "linecolor": "white",
                        "showbackground": true,
                        "ticks": "",
                        "zerolinecolor": "white"
                      },
                      "zaxis": {
                        "backgroundcolor": "#E5ECF6",
                        "gridcolor": "white",
                        "gridwidth": 2,
                        "linecolor": "white",
                        "showbackground": true,
                        "ticks": "",
                        "zerolinecolor": "white"
                      }
                    },
                    "shapedefaults": {
                      "line": {
                        "color": "#2a3f5f"
                      }
                    },
                    "ternary": {
                      "aaxis": {
                        "gridcolor": "white",
                        "linecolor": "white",
                        "ticks": ""
                      },
                      "baxis": {
                        "gridcolor": "white",
                        "linecolor": "white",
                        "ticks": ""
                      },
                      "bgcolor": "#E5ECF6",
                      "caxis": {
                        "gridcolor": "white",
                        "linecolor": "white",
                        "ticks": ""
                      }
                    },
                    "title": {
                      "x": 0.05
                    },
                    "xaxis": {
                      "automargin": true,
                      "gridcolor": "white",
                      "linecolor": "white",
                      "ticks": "",
                      "title": {
                        "standoff": 15
                      },
                      "zerolinecolor": "white",
                      "zerolinewidth": 2
                    },
                    "yaxis": {
                      "automargin": true,
                      "gridcolor": "white",
                      "linecolor": "white",
                      "ticks": "",
                      "title": {
                        "standoff": 15
                      },
                      "zerolinecolor": "white",
                      "zerolinewidth": 2
                    }
                  }
                },
                "width": 700,
                "yaxis": {
                  "tickformat": ".2%"
                }
              }
            },
            "text/html": [
              "<div>                        <script type=\"text/javascript\">window.PlotlyConfig = {MathJaxConfig: 'local'};</script>\n",
              "        <script src=\"https://cdn.plot.ly/plotly-2.9.0.min.js\"></script>                <div id=\"34d2a6aa-2cf3-42da-aa9d-227d05c8bb3c\" class=\"plotly-graph-div\" style=\"height:350px; width:700px;\"></div>            <script type=\"text/javascript\">                                    window.PLOTLYENV=window.PLOTLYENV || {};                                    if (document.getElementById(\"34d2a6aa-2cf3-42da-aa9d-227d05c8bb3c\")) {                    Plotly.newPlot(                        \"34d2a6aa-2cf3-42da-aa9d-227d05c8bb3c\",                        [{\"customdata\":[[0.0,0.0,0.007329791976225939,0.007329791976225939],[1.0,1.0,0.051351565995525726,0.05135156599552573],[3.0,3.0,0.016621571906354615,0.016621571906354618],[4.0,4.0,0.021009234828496006,0.021009234828496006],[5.0,5.0,0.04498522880215335,0.04498522880215335],[6.0,6.0,0.01536469072164943,0.01536469072164943],[7.0,7.0,0.010996050913838203,0.010996050913838205],[8.0,8.0,0.014112596899224795,0.014112596899224797],[10.0,10.0,0.03177410358565745,0.03177410358565745],[11.0,11.0,0.012245061728395117,0.012245061728395117],[14.0,14.0,0.026797896551724168,0.026797896551724168],[16.0,16.0,0.03335362989323853,0.03335362989323853],[17.0,17.0,0.0028388684790595017,0.0028388684790595017],[18.0,18.0,0.010171973587674228,0.010171973587674228],[19.0,19.0,0.015431767751479286,0.015431767751479286],[20.0,20.0,0.03274835766423348,0.03274835766423348],[21.0,21.0,0.021159377372816913,0.021159377372816913],[22.0,22.0,0.03713194341027547,0.037131943410275474],[23.0,23.0,0.022310007727975294,0.022310007727975294],[24.0,24.0,0.01824954128440367,0.018249541284403672],[25.0,25.0,0.007687772585669839,0.00768777258566984],[26.0,26.0,0.015356723338485322,0.015356723338485322],[27.0,27.0,0.012709607686148877,0.012709607686148877],[28.0,28.0,0.019742261904761832,0.019742261904761835],[30.0,30.0,0.0283007314974182,0.0283007314974182],[31.0,31.0,0.03814945355191261,0.03814945355191261],[32.0,32.0,0.005126742160278814,0.005126742160278814],[33.0,33.0,0.0069419014084506955,0.0069419014084506955],[35.0,35.0,0.045158198121263926,0.04515819812126393],[36.0,36.0,0.018037757625721327,0.018037757625721327],[37.0,37.0,0.01753136020151122,0.01753136020151122],[38.0,38.0,0.023060794044664896,0.023060794044664896],[40.0,40.0,0.021508686257562706,0.021508686257562706],[41.0,41.0,0.020252964601769875,0.020252964601769875],[42.0,42.0,0.013070105355575123,0.013070105355575123],[43.0,43.0,0.04874302841918308,0.04874302841918308],[44.0,44.0,0.0350044948630137,0.035004494863013706],[45.0,45.0,0.03801866134751785,0.03801866134751785],[46.0,46.0,0.04149800509337861,0.04149800509337861],[47.0,47.0,0.02222031250000003,0.02222031250000003]],\"hovertemplate\":\"Exit Trade Id: %{customdata[0]}<br>Position Id: %{customdata[1]}<br>Exit Timestamp: %{x}<br>PnL: %{customdata[2]:.6f}<br>Return: %{customdata[3]:.2%}\",\"marker\":{\"color\":\"#37B13F\",\"line\":{\"color\":\"rgb(38,123,44)\",\"width\":1},\"opacity\":[0.7619666429936992,0.8633012916787994,0.783355586893735,0.7934556405755541,0.848646486022434,0.7804623456255576,0.7704060816512296,0.7775801244874327,0.818235518668834,0.7732812059486177,0.806780682901723,0.8218714635400568,0.751628891619629,0.7685091206995975,0.7806167516531218,0.8204781746494686,0.7938012568602312,0.8305688429937619,0.796449917106301,0.7871030438890476,0.7627906860974181,0.7804440053384643,0.7743505540718083,0.7905391689207805,0.8102400903119475,0.8329110710169015,0.756895396227567,0.761073749527013,0.8490446477407165,0.7866155346251,0.7854498477299087,0.7981781679397627,0.7946053383382465,0.7917147662140915,0.7751803912489083,0.8572966440977029,0.8256716243801303,0.832609997687206,0.8406191723285307,0.7962434457721013],\"size\":[7.558443339705961,12.287393611677306,8.556594055040962,9.027929893525855,11.603502681046917,8.42157612919269,7.952283810390714,8.287072476080192,10.184324204545586,8.086456277602158,9.649765202080404,10.354001631869316,7.076014942249353,7.8637589659812175,8.428781743812351,10.288981483641868,9.044058653477453,10.759879339708885,9.167662798294042,8.731475381488892,7.596898684546176,8.420720249128332,8.136359190017721,8.891827882969753,9.81120421455755,10.86918331412207,7.321785157286458,7.516774977927272,11.622083561233438,8.708724949171332,8.654326227395737,9.248314503855593,9.08158245578484,8.94668908999094,8.17508492494905,12.00717672455947,10.531342471072744,10.855133225402946,11.228894708664765,9.158027469364724],\"symbol\":\"circle\"},\"mode\":\"markers\",\"name\":\"Closed - Profit\",\"x\":[\"2023-01-10T16:30:00\",\"2023-01-11T10:05:00\",\"2023-01-16T16:50:00\",\"2023-01-17T10:10:00\",\"2023-01-20T12:35:00\",\"2023-01-20T15:00:00\",\"2023-01-20T17:20:00\",\"2023-01-23T10:55:00\",\"2023-01-24T12:25:00\",\"2023-01-24T17:40:00\",\"2023-01-30T17:45:00\",\"2023-02-03T15:10:00\",\"2023-02-07T11:05:00\",\"2023-02-07T14:30:00\",\"2023-02-07T16:40:00\",\"2023-02-08T13:25:00\",\"2023-02-10T10:35:00\",\"2023-02-13T13:20:00\",\"2023-02-14T10:30:00\",\"2023-02-14T13:30:00\",\"2023-02-15T15:00:00\",\"2023-02-16T11:15:00\",\"2023-02-17T10:50:00\",\"2023-02-17T14:45:00\",\"2023-02-24T10:05:00\",\"2023-02-24T16:50:00\",\"2023-03-01T14:25:00\",\"2023-03-03T10:10:00\",\"2023-03-08T10:05:00\",\"2023-03-08T13:35:00\",\"2023-03-09T10:40:00\",\"2023-03-09T17:20:00\",\"2023-03-14T11:45:00\",\"2023-03-16T10:05:00\",\"2023-03-16T15:20:00\",\"2023-03-20T10:05:00\",\"2023-03-20T13:40:00\",\"2023-03-23T10:05:00\",\"2023-03-23T15:05:00\",\"2023-03-28T11:50:00\"],\"y\":[0.007329791976225939,0.05135156599552573,0.016621571906354618,0.021009234828496006,0.04498522880215335,0.01536469072164943,0.010996050913838205,0.014112596899224797,0.03177410358565745,0.012245061728395117,0.026797896551724168,0.03335362989323853,0.0028388684790595017,0.010171973587674228,0.015431767751479286,0.03274835766423348,0.021159377372816913,0.037131943410275474,0.022310007727975294,0.018249541284403672,0.00768777258566984,0.015356723338485322,0.012709607686148877,0.019742261904761835,0.0283007314974182,0.03814945355191261,0.005126742160278814,0.0069419014084506955,0.04515819812126393,0.018037757625721327,0.01753136020151122,0.023060794044664896,0.021508686257562706,0.020252964601769875,0.013070105355575123,0.04874302841918308,0.035004494863013706,0.03801866134751785,0.04149800509337861,0.02222031250000003],\"type\":\"scatter\",\"uid\":\"69fd9723-b1b9-4745-8928-1ecce8d1777c\"},{\"customdata\":[[2.0,2.0,-0.06729421015010728,-0.06729421015010728],[9.0,9.0,-0.01055699346405214,-0.01055699346405214],[12.0,12.0,-0.0021312457684497395,-0.00213124576844974],[13.0,13.0,-0.018342331081081173,-0.018342331081081176],[15.0,15.0,-0.01755722765363133,-0.01755722765363133],[29.0,29.0,-0.06067855411954761,-0.06067855411954761],[34.0,34.0,-0.009607821953327577,-0.009607821953327577],[39.0,39.0,-0.020420745131244658,-0.020420745131244658]],\"hovertemplate\":\"Exit Trade Id: %{customdata[0]}<br>Position Id: %{customdata[1]}<br>Exit Timestamp: %{x}<br>PnL: %{customdata[2]:.6f}<br>Return: %{customdata[3]:.2%}\",\"marker\":{\"color\":\"#EA4335\",\"line\":{\"color\":\"rgb(181,31,18)\",\"width\":1},\"opacity\":[0.9,0.7693954060613013,0.75,0.7873166386761127,0.7855093925626958,0.8847712820618198,0.7672104881718266,0.792100983748239],\"size\":[14.0,7.905118949527393,7.0,8.741443138218592,8.657104986259135,13.289326496218253,7.803156114685242,8.964712574917819],\"symbol\":\"circle\"},\"mode\":\"markers\",\"name\":\"Closed - Loss\",\"x\":[\"2023-01-16T10:30:00\",\"2023-01-24T10:00:00\",\"2023-01-25T17:10:00\",\"2023-01-27T15:55:00\",\"2023-01-31T17:30:00\",\"2023-02-23T10:40:00\",\"2023-03-07T10:10:00\",\"2023-03-13T15:15:00\"],\"y\":[-0.06729421015010728,-0.01055699346405214,-0.00213124576844974,-0.018342331081081176,-0.01755722765363133,-0.06067855411954761,-0.009607821953327577,-0.020420745131244658],\"type\":\"scatter\",\"uid\":\"6bc77ac9-0a70-40c5-ba9c-27e2c9850e3a\"},{\"customdata\":[[48.0,48.0,0.00257927256792278,0.00257927256792278]],\"hovertemplate\":\"Exit Trade Id: %{customdata[0]}<br>Position Id: %{customdata[1]}<br>Exit Timestamp: %{x}<br>PnL: %{customdata[2]:.6f}<br>Return: %{customdata[3]:.2%}\",\"marker\":{\"color\":\"#FFAA00\",\"line\":{\"color\":\"rgb(178,118,0)\",\"width\":1},\"opacity\":[0.7510313223248615],\"size\":[7.048128375160202],\"symbol\":\"circle\"},\"mode\":\"markers\",\"name\":\"Open\",\"x\":[\"2023-03-29T17:55:00\"],\"y\":[0.00257927256792278],\"type\":\"scatter\",\"uid\":\"48bb97bc-7dec-4de8-8e67-2030a17270fa\"}],                        {\"template\":{\"data\":{\"barpolar\":[{\"marker\":{\"line\":{\"color\":\"#E5ECF6\",\"width\":0.5}},\"type\":\"barpolar\"}],\"bar\":[{\"error_x\":{\"color\":\"#2a3f5f\"},\"error_y\":{\"color\":\"#2a3f5f\"},\"marker\":{\"line\":{\"color\":\"#E5ECF6\",\"width\":0.5}},\"type\":\"bar\"}],\"carpet\":[{\"aaxis\":{\"endlinecolor\":\"#2a3f5f\",\"gridcolor\":\"white\",\"linecolor\":\"white\",\"minorgridcolor\":\"white\",\"startlinecolor\":\"#2a3f5f\"},\"baxis\":{\"endlinecolor\":\"#2a3f5f\",\"gridcolor\":\"white\",\"linecolor\":\"white\",\"minorgridcolor\":\"white\",\"startlinecolor\":\"#2a3f5f\"},\"type\":\"carpet\"}],\"choropleth\":[{\"colorbar\":{\"outlinewidth\":0,\"ticks\":\"\"},\"type\":\"choropleth\"}],\"contourcarpet\":[{\"colorbar\":{\"outlinewidth\":0,\"ticks\":\"\"},\"type\":\"contourcarpet\"}],\"contour\":[{\"colorbar\":{\"outlinewidth\":0,\"ticks\":\"\"},\"colorscale\":[[0.0,\"#0d0887\"],[0.1111111111111111,\"#46039f\"],[0.2222222222222222,\"#7201a8\"],[0.3333333333333333,\"#9c179e\"],[0.4444444444444444,\"#bd3786\"],[0.5555555555555556,\"#d8576b\"],[0.6666666666666666,\"#ed7953\"],[0.7777777777777778,\"#fb9f3a\"],[0.8888888888888888,\"#fdca26\"],[1.0,\"#f0f921\"]],\"type\":\"contour\"}],\"heatmapgl\":[{\"colorbar\":{\"outlinewidth\":0,\"ticks\":\"\"},\"colorscale\":[[0.0,\"#0d0887\"],[0.1111111111111111,\"#46039f\"],[0.2222222222222222,\"#7201a8\"],[0.3333333333333333,\"#9c179e\"],[0.4444444444444444,\"#bd3786\"],[0.5555555555555556,\"#d8576b\"],[0.6666666666666666,\"#ed7953\"],[0.7777777777777778,\"#fb9f3a\"],[0.8888888888888888,\"#fdca26\"],[1.0,\"#f0f921\"]],\"type\":\"heatmapgl\"}],\"heatmap\":[{\"colorbar\":{\"outlinewidth\":0,\"ticks\":\"\"},\"colorscale\":[[0.0,\"#0d0887\"],[0.1111111111111111,\"#46039f\"],[0.2222222222222222,\"#7201a8\"],[0.3333333333333333,\"#9c179e\"],[0.4444444444444444,\"#bd3786\"],[0.5555555555555556,\"#d8576b\"],[0.6666666666666666,\"#ed7953\"],[0.7777777777777778,\"#fb9f3a\"],[0.8888888888888888,\"#fdca26\"],[1.0,\"#f0f921\"]],\"type\":\"heatmap\"}],\"histogram2dcontour\":[{\"colorbar\":{\"outlinewidth\":0,\"ticks\":\"\"},\"colorscale\":[[0.0,\"#0d0887\"],[0.1111111111111111,\"#46039f\"],[0.2222222222222222,\"#7201a8\"],[0.3333333333333333,\"#9c179e\"],[0.4444444444444444,\"#bd3786\"],[0.5555555555555556,\"#d8576b\"],[0.6666666666666666,\"#ed7953\"],[0.7777777777777778,\"#fb9f3a\"],[0.8888888888888888,\"#fdca26\"],[1.0,\"#f0f921\"]],\"type\":\"histogram2dcontour\"}],\"histogram2d\":[{\"colorbar\":{\"outlinewidth\":0,\"ticks\":\"\"},\"colorscale\":[[0.0,\"#0d0887\"],[0.1111111111111111,\"#46039f\"],[0.2222222222222222,\"#7201a8\"],[0.3333333333333333,\"#9c179e\"],[0.4444444444444444,\"#bd3786\"],[0.5555555555555556,\"#d8576b\"],[0.6666666666666666,\"#ed7953\"],[0.7777777777777778,\"#fb9f3a\"],[0.8888888888888888,\"#fdca26\"],[1.0,\"#f0f921\"]],\"type\":\"histogram2d\"}],\"histogram\":[{\"marker\":{\"colorbar\":{\"outlinewidth\":0,\"ticks\":\"\"}},\"type\":\"histogram\"}],\"mesh3d\":[{\"colorbar\":{\"outlinewidth\":0,\"ticks\":\"\"},\"type\":\"mesh3d\"}],\"parcoords\":[{\"line\":{\"colorbar\":{\"outlinewidth\":0,\"ticks\":\"\"}},\"type\":\"parcoords\"}],\"pie\":[{\"automargin\":true,\"type\":\"pie\"}],\"scatter3d\":[{\"line\":{\"colorbar\":{\"outlinewidth\":0,\"ticks\":\"\"}},\"marker\":{\"colorbar\":{\"outlinewidth\":0,\"ticks\":\"\"}},\"type\":\"scatter3d\"}],\"scattercarpet\":[{\"marker\":{\"colorbar\":{\"outlinewidth\":0,\"ticks\":\"\"}},\"type\":\"scattercarpet\"}],\"scattergeo\":[{\"marker\":{\"colorbar\":{\"outlinewidth\":0,\"ticks\":\"\"}},\"type\":\"scattergeo\"}],\"scattergl\":[{\"marker\":{\"colorbar\":{\"outlinewidth\":0,\"ticks\":\"\"}},\"type\":\"scattergl\"}],\"scattermapbox\":[{\"marker\":{\"colorbar\":{\"outlinewidth\":0,\"ticks\":\"\"}},\"type\":\"scattermapbox\"}],\"scatterpolargl\":[{\"marker\":{\"colorbar\":{\"outlinewidth\":0,\"ticks\":\"\"}},\"type\":\"scatterpolargl\"}],\"scatterpolar\":[{\"marker\":{\"colorbar\":{\"outlinewidth\":0,\"ticks\":\"\"}},\"type\":\"scatterpolar\"}],\"scatter\":[{\"marker\":{\"colorbar\":{\"outlinewidth\":0,\"ticks\":\"\"}},\"type\":\"scatter\"}],\"scatterternary\":[{\"marker\":{\"colorbar\":{\"outlinewidth\":0,\"ticks\":\"\"}},\"type\":\"scatterternary\"}],\"surface\":[{\"colorbar\":{\"outlinewidth\":0,\"ticks\":\"\"},\"colorscale\":[[0.0,\"#0d0887\"],[0.1111111111111111,\"#46039f\"],[0.2222222222222222,\"#7201a8\"],[0.3333333333333333,\"#9c179e\"],[0.4444444444444444,\"#bd3786\"],[0.5555555555555556,\"#d8576b\"],[0.6666666666666666,\"#ed7953\"],[0.7777777777777778,\"#fb9f3a\"],[0.8888888888888888,\"#fdca26\"],[1.0,\"#f0f921\"]],\"type\":\"surface\"}],\"table\":[{\"cells\":{\"fill\":{\"color\":\"#EBF0F8\"},\"line\":{\"color\":\"white\"}},\"header\":{\"fill\":{\"color\":\"#C8D4E3\"},\"line\":{\"color\":\"white\"}},\"type\":\"table\"}]},\"layout\":{\"annotationdefaults\":{\"arrowcolor\":\"#2a3f5f\",\"arrowhead\":0,\"arrowwidth\":1},\"coloraxis\":{\"colorbar\":{\"outlinewidth\":0,\"ticks\":\"\"}},\"colorscale\":{\"diverging\":[[0,\"#8e0152\"],[0.1,\"#c51b7d\"],[0.2,\"#de77ae\"],[0.3,\"#f1b6da\"],[0.4,\"#fde0ef\"],[0.5,\"#f7f7f7\"],[0.6,\"#e6f5d0\"],[0.7,\"#b8e186\"],[0.8,\"#7fbc41\"],[0.9,\"#4d9221\"],[1,\"#276419\"]],\"sequential\":[[0.0,\"#0d0887\"],[0.1111111111111111,\"#46039f\"],[0.2222222222222222,\"#7201a8\"],[0.3333333333333333,\"#9c179e\"],[0.4444444444444444,\"#bd3786\"],[0.5555555555555556,\"#d8576b\"],[0.6666666666666666,\"#ed7953\"],[0.7777777777777778,\"#fb9f3a\"],[0.8888888888888888,\"#fdca26\"],[1.0,\"#f0f921\"]],\"sequentialminus\":[[0.0,\"#0d0887\"],[0.1111111111111111,\"#46039f\"],[0.2222222222222222,\"#7201a8\"],[0.3333333333333333,\"#9c179e\"],[0.4444444444444444,\"#bd3786\"],[0.5555555555555556,\"#d8576b\"],[0.6666666666666666,\"#ed7953\"],[0.7777777777777778,\"#fb9f3a\"],[0.8888888888888888,\"#fdca26\"],[1.0,\"#f0f921\"]]},\"colorway\":[\"#1f77b4\",\"#ff7f0e\",\"#2ca02c\",\"#dc3912\",\"#9467bd\",\"#8c564b\",\"#e377c2\",\"#7f7f7f\",\"#bcbd22\",\"#17becf\"],\"font\":{\"color\":\"#2a3f5f\"},\"geo\":{\"bgcolor\":\"white\",\"lakecolor\":\"white\",\"landcolor\":\"#E5ECF6\",\"showlakes\":true,\"showland\":true,\"subunitcolor\":\"white\"},\"hoverlabel\":{\"align\":\"left\"},\"hovermode\":\"closest\",\"mapbox\":{\"style\":\"light\"},\"paper_bgcolor\":\"white\",\"plot_bgcolor\":\"#E5ECF6\",\"polar\":{\"angularaxis\":{\"gridcolor\":\"white\",\"linecolor\":\"white\",\"ticks\":\"\"},\"bgcolor\":\"#E5ECF6\",\"radialaxis\":{\"gridcolor\":\"white\",\"linecolor\":\"white\",\"ticks\":\"\"}},\"scene\":{\"xaxis\":{\"backgroundcolor\":\"#E5ECF6\",\"gridcolor\":\"white\",\"gridwidth\":2,\"linecolor\":\"white\",\"showbackground\":true,\"ticks\":\"\",\"zerolinecolor\":\"white\"},\"yaxis\":{\"backgroundcolor\":\"#E5ECF6\",\"gridcolor\":\"white\",\"gridwidth\":2,\"linecolor\":\"white\",\"showbackground\":true,\"ticks\":\"\",\"zerolinecolor\":\"white\"},\"zaxis\":{\"backgroundcolor\":\"#E5ECF6\",\"gridcolor\":\"white\",\"gridwidth\":2,\"linecolor\":\"white\",\"showbackground\":true,\"ticks\":\"\",\"zerolinecolor\":\"white\"}},\"shapedefaults\":{\"line\":{\"color\":\"#2a3f5f\"}},\"ternary\":{\"aaxis\":{\"gridcolor\":\"white\",\"linecolor\":\"white\",\"ticks\":\"\"},\"baxis\":{\"gridcolor\":\"white\",\"linecolor\":\"white\",\"ticks\":\"\"},\"bgcolor\":\"#E5ECF6\",\"caxis\":{\"gridcolor\":\"white\",\"linecolor\":\"white\",\"ticks\":\"\"}},\"title\":{\"x\":0.05},\"xaxis\":{\"automargin\":true,\"gridcolor\":\"white\",\"linecolor\":\"white\",\"ticks\":\"\",\"title\":{\"standoff\":15},\"zerolinecolor\":\"white\",\"zerolinewidth\":2},\"yaxis\":{\"automargin\":true,\"gridcolor\":\"white\",\"linecolor\":\"white\",\"ticks\":\"\",\"title\":{\"standoff\":15},\"zerolinecolor\":\"white\",\"zerolinewidth\":2}}},\"margin\":{\"t\":30,\"b\":30,\"l\":30,\"r\":30},\"legend\":{\"orientation\":\"h\",\"yanchor\":\"bottom\",\"y\":1.02,\"xanchor\":\"right\",\"x\":1,\"traceorder\":\"normal\"},\"width\":700,\"height\":350,\"yaxis\":{\"tickformat\":\".2%\"},\"shapes\":[{\"line\":{\"color\":\"gray\",\"dash\":\"dash\"},\"type\":\"line\",\"x0\":0,\"x1\":1,\"xref\":\"paper\",\"y0\":0,\"y1\":0,\"yref\":\"y\"}]},                        {\"responsive\": true}                    )                };                            </script>        </div>"
            ],
            "text/plain": [
              "FigureWidget({\n",
              "    'data': [{'customdata': array([[0.00000000e+00, 0.00000000e+00, 7.32979198e-03, 7.32979198e-03],\n",
              "                                   [1.00000000e+00, 1.00000000e+00, 5.13515660e-02, 5.13515660e-02],\n",
              "                                   [3.00000000e+00, 3.00000000e+00, 1.66215719e-02, 1.66215719e-02],\n",
              "                                   [4.00000000e+00, 4.00000000e+00, 2.10092348e-02, 2.10092348e-02],\n",
              "                                   [5.00000000e+00, 5.00000000e+00, 4.49852288e-02, 4.49852288e-02],\n",
              "                                   [6.00000000e+00, 6.00000000e+00, 1.53646907e-02, 1.53646907e-02],\n",
              "                                   [7.00000000e+00, 7.00000000e+00, 1.09960509e-02, 1.09960509e-02],\n",
              "                                   [8.00000000e+00, 8.00000000e+00, 1.41125969e-02, 1.41125969e-02],\n",
              "                                   [1.00000000e+01, 1.00000000e+01, 3.17741036e-02, 3.17741036e-02],\n",
              "                                   [1.10000000e+01, 1.10000000e+01, 1.22450617e-02, 1.22450617e-02],\n",
              "                                   [1.40000000e+01, 1.40000000e+01, 2.67978966e-02, 2.67978966e-02],\n",
              "                                   [1.60000000e+01, 1.60000000e+01, 3.33536299e-02, 3.33536299e-02],\n",
              "                                   [1.70000000e+01, 1.70000000e+01, 2.83886848e-03, 2.83886848e-03],\n",
              "                                   [1.80000000e+01, 1.80000000e+01, 1.01719736e-02, 1.01719736e-02],\n",
              "                                   [1.90000000e+01, 1.90000000e+01, 1.54317678e-02, 1.54317678e-02],\n",
              "                                   [2.00000000e+01, 2.00000000e+01, 3.27483577e-02, 3.27483577e-02],\n",
              "                                   [2.10000000e+01, 2.10000000e+01, 2.11593774e-02, 2.11593774e-02],\n",
              "                                   [2.20000000e+01, 2.20000000e+01, 3.71319434e-02, 3.71319434e-02],\n",
              "                                   [2.30000000e+01, 2.30000000e+01, 2.23100077e-02, 2.23100077e-02],\n",
              "                                   [2.40000000e+01, 2.40000000e+01, 1.82495413e-02, 1.82495413e-02],\n",
              "                                   [2.50000000e+01, 2.50000000e+01, 7.68777259e-03, 7.68777259e-03],\n",
              "                                   [2.60000000e+01, 2.60000000e+01, 1.53567233e-02, 1.53567233e-02],\n",
              "                                   [2.70000000e+01, 2.70000000e+01, 1.27096077e-02, 1.27096077e-02],\n",
              "                                   [2.80000000e+01, 2.80000000e+01, 1.97422619e-02, 1.97422619e-02],\n",
              "                                   [3.00000000e+01, 3.00000000e+01, 2.83007315e-02, 2.83007315e-02],\n",
              "                                   [3.10000000e+01, 3.10000000e+01, 3.81494536e-02, 3.81494536e-02],\n",
              "                                   [3.20000000e+01, 3.20000000e+01, 5.12674216e-03, 5.12674216e-03],\n",
              "                                   [3.30000000e+01, 3.30000000e+01, 6.94190141e-03, 6.94190141e-03],\n",
              "                                   [3.50000000e+01, 3.50000000e+01, 4.51581981e-02, 4.51581981e-02],\n",
              "                                   [3.60000000e+01, 3.60000000e+01, 1.80377576e-02, 1.80377576e-02],\n",
              "                                   [3.70000000e+01, 3.70000000e+01, 1.75313602e-02, 1.75313602e-02],\n",
              "                                   [3.80000000e+01, 3.80000000e+01, 2.30607940e-02, 2.30607940e-02],\n",
              "                                   [4.00000000e+01, 4.00000000e+01, 2.15086863e-02, 2.15086863e-02],\n",
              "                                   [4.10000000e+01, 4.10000000e+01, 2.02529646e-02, 2.02529646e-02],\n",
              "                                   [4.20000000e+01, 4.20000000e+01, 1.30701054e-02, 1.30701054e-02],\n",
              "                                   [4.30000000e+01, 4.30000000e+01, 4.87430284e-02, 4.87430284e-02],\n",
              "                                   [4.40000000e+01, 4.40000000e+01, 3.50044949e-02, 3.50044949e-02],\n",
              "                                   [4.50000000e+01, 4.50000000e+01, 3.80186613e-02, 3.80186613e-02],\n",
              "                                   [4.60000000e+01, 4.60000000e+01, 4.14980051e-02, 4.14980051e-02],\n",
              "                                   [4.70000000e+01, 4.70000000e+01, 2.22203125e-02, 2.22203125e-02]]),\n",
              "              'hovertemplate': ('Exit Trade Id: %{customdata[0]' ... 'r>Return: %{customdata[3]:.2%}'),\n",
              "              'marker': {'color': '#37B13F',\n",
              "                         'line': {'color': 'rgb(38,123,44)', 'width': 1},\n",
              "                         'opacity': array([0.76196664, 0.86330129, 0.78335559, 0.79345564, 0.84864649, 0.78046235,\n",
              "                                           0.77040608, 0.77758012, 0.81823552, 0.77328121, 0.80678068, 0.82187146,\n",
              "                                           0.75162889, 0.76850912, 0.78061675, 0.82047817, 0.79380126, 0.83056884,\n",
              "                                           0.79644992, 0.78710304, 0.76279069, 0.78044401, 0.77435055, 0.79053917,\n",
              "                                           0.81024009, 0.83291107, 0.7568954 , 0.76107375, 0.84904465, 0.78661553,\n",
              "                                           0.78544985, 0.79817817, 0.79460534, 0.79171477, 0.77518039, 0.85729664,\n",
              "                                           0.82567162, 0.83261   , 0.84061917, 0.79624345]),\n",
              "                         'size': array([ 7.55844334, 12.28739361,  8.55659406,  9.02792989, 11.60350268,\n",
              "                                         8.42157613,  7.95228381,  8.28707248, 10.1843242 ,  8.08645628,\n",
              "                                         9.6497652 , 10.35400163,  7.07601494,  7.86375897,  8.42878174,\n",
              "                                        10.28898148,  9.04405865, 10.75987934,  9.1676628 ,  8.73147538,\n",
              "                                         7.59689868,  8.42072025,  8.13635919,  8.89182788,  9.81120421,\n",
              "                                        10.86918331,  7.32178516,  7.51677498, 11.62208356,  8.70872495,\n",
              "                                         8.65432623,  9.2483145 ,  9.08158246,  8.94668909,  8.17508492,\n",
              "                                        12.00717672, 10.53134247, 10.85513323, 11.22889471,  9.15802747]),\n",
              "                         'symbol': 'circle'},\n",
              "              'mode': 'markers',\n",
              "              'name': 'Closed - Profit',\n",
              "              'type': 'scatter',\n",
              "              'uid': '69fd9723-b1b9-4745-8928-1ecce8d1777c',\n",
              "              'x': array([datetime.datetime(2023, 1, 10, 16, 30),\n",
              "                          datetime.datetime(2023, 1, 11, 10, 5),\n",
              "                          datetime.datetime(2023, 1, 16, 16, 50),\n",
              "                          datetime.datetime(2023, 1, 17, 10, 10),\n",
              "                          datetime.datetime(2023, 1, 20, 12, 35),\n",
              "                          datetime.datetime(2023, 1, 20, 15, 0),\n",
              "                          datetime.datetime(2023, 1, 20, 17, 20),\n",
              "                          datetime.datetime(2023, 1, 23, 10, 55),\n",
              "                          datetime.datetime(2023, 1, 24, 12, 25),\n",
              "                          datetime.datetime(2023, 1, 24, 17, 40),\n",
              "                          datetime.datetime(2023, 1, 30, 17, 45),\n",
              "                          datetime.datetime(2023, 2, 3, 15, 10),\n",
              "                          datetime.datetime(2023, 2, 7, 11, 5),\n",
              "                          datetime.datetime(2023, 2, 7, 14, 30),\n",
              "                          datetime.datetime(2023, 2, 7, 16, 40),\n",
              "                          datetime.datetime(2023, 2, 8, 13, 25),\n",
              "                          datetime.datetime(2023, 2, 10, 10, 35),\n",
              "                          datetime.datetime(2023, 2, 13, 13, 20),\n",
              "                          datetime.datetime(2023, 2, 14, 10, 30),\n",
              "                          datetime.datetime(2023, 2, 14, 13, 30),\n",
              "                          datetime.datetime(2023, 2, 15, 15, 0),\n",
              "                          datetime.datetime(2023, 2, 16, 11, 15),\n",
              "                          datetime.datetime(2023, 2, 17, 10, 50),\n",
              "                          datetime.datetime(2023, 2, 17, 14, 45),\n",
              "                          datetime.datetime(2023, 2, 24, 10, 5),\n",
              "                          datetime.datetime(2023, 2, 24, 16, 50),\n",
              "                          datetime.datetime(2023, 3, 1, 14, 25),\n",
              "                          datetime.datetime(2023, 3, 3, 10, 10),\n",
              "                          datetime.datetime(2023, 3, 8, 10, 5),\n",
              "                          datetime.datetime(2023, 3, 8, 13, 35),\n",
              "                          datetime.datetime(2023, 3, 9, 10, 40),\n",
              "                          datetime.datetime(2023, 3, 9, 17, 20),\n",
              "                          datetime.datetime(2023, 3, 14, 11, 45),\n",
              "                          datetime.datetime(2023, 3, 16, 10, 5),\n",
              "                          datetime.datetime(2023, 3, 16, 15, 20),\n",
              "                          datetime.datetime(2023, 3, 20, 10, 5),\n",
              "                          datetime.datetime(2023, 3, 20, 13, 40),\n",
              "                          datetime.datetime(2023, 3, 23, 10, 5),\n",
              "                          datetime.datetime(2023, 3, 23, 15, 5),\n",
              "                          datetime.datetime(2023, 3, 28, 11, 50)], dtype=object),\n",
              "              'y': array([0.00732979, 0.05135157, 0.01662157, 0.02100923, 0.04498523, 0.01536469,\n",
              "                          0.01099605, 0.0141126 , 0.0317741 , 0.01224506, 0.0267979 , 0.03335363,\n",
              "                          0.00283887, 0.01017197, 0.01543177, 0.03274836, 0.02115938, 0.03713194,\n",
              "                          0.02231001, 0.01824954, 0.00768777, 0.01535672, 0.01270961, 0.01974226,\n",
              "                          0.02830073, 0.03814945, 0.00512674, 0.0069419 , 0.0451582 , 0.01803776,\n",
              "                          0.01753136, 0.02306079, 0.02150869, 0.02025296, 0.01307011, 0.04874303,\n",
              "                          0.03500449, 0.03801866, 0.04149801, 0.02222031])},\n",
              "             {'customdata': array([[ 2.00000000e+00,  2.00000000e+00, -6.72942102e-02, -6.72942102e-02],\n",
              "                                   [ 9.00000000e+00,  9.00000000e+00, -1.05569935e-02, -1.05569935e-02],\n",
              "                                   [ 1.20000000e+01,  1.20000000e+01, -2.13124577e-03, -2.13124577e-03],\n",
              "                                   [ 1.30000000e+01,  1.30000000e+01, -1.83423311e-02, -1.83423311e-02],\n",
              "                                   [ 1.50000000e+01,  1.50000000e+01, -1.75572277e-02, -1.75572277e-02],\n",
              "                                   [ 2.90000000e+01,  2.90000000e+01, -6.06785541e-02, -6.06785541e-02],\n",
              "                                   [ 3.40000000e+01,  3.40000000e+01, -9.60782195e-03, -9.60782195e-03],\n",
              "                                   [ 3.90000000e+01,  3.90000000e+01, -2.04207451e-02, -2.04207451e-02]]),\n",
              "              'hovertemplate': ('Exit Trade Id: %{customdata[0]' ... 'r>Return: %{customdata[3]:.2%}'),\n",
              "              'marker': {'color': '#EA4335',\n",
              "                         'line': {'color': 'rgb(181,31,18)', 'width': 1},\n",
              "                         'opacity': array([0.9       , 0.76939541, 0.75      , 0.78731664, 0.78550939, 0.88477128,\n",
              "                                           0.76721049, 0.79210098]),\n",
              "                         'size': array([14.        ,  7.90511895,  7.        ,  8.74144314,  8.65710499,\n",
              "                                        13.2893265 ,  7.80315611,  8.96471257]),\n",
              "                         'symbol': 'circle'},\n",
              "              'mode': 'markers',\n",
              "              'name': 'Closed - Loss',\n",
              "              'type': 'scatter',\n",
              "              'uid': '6bc77ac9-0a70-40c5-ba9c-27e2c9850e3a',\n",
              "              'x': array([datetime.datetime(2023, 1, 16, 10, 30),\n",
              "                          datetime.datetime(2023, 1, 24, 10, 0),\n",
              "                          datetime.datetime(2023, 1, 25, 17, 10),\n",
              "                          datetime.datetime(2023, 1, 27, 15, 55),\n",
              "                          datetime.datetime(2023, 1, 31, 17, 30),\n",
              "                          datetime.datetime(2023, 2, 23, 10, 40),\n",
              "                          datetime.datetime(2023, 3, 7, 10, 10),\n",
              "                          datetime.datetime(2023, 3, 13, 15, 15)], dtype=object),\n",
              "              'y': array([-0.06729421, -0.01055699, -0.00213125, -0.01834233, -0.01755723,\n",
              "                          -0.06067855, -0.00960782, -0.02042075])},\n",
              "             {'customdata': array([[4.80000000e+01, 4.80000000e+01, 2.57927257e-03, 2.57927257e-03]]),\n",
              "              'hovertemplate': ('Exit Trade Id: %{customdata[0]' ... 'r>Return: %{customdata[3]:.2%}'),\n",
              "              'marker': {'color': '#FFAA00',\n",
              "                         'line': {'color': 'rgb(178,118,0)', 'width': 1},\n",
              "                         'opacity': array([0.75103132]),\n",
              "                         'size': array([7.04812838]),\n",
              "                         'symbol': 'circle'},\n",
              "              'mode': 'markers',\n",
              "              'name': 'Open',\n",
              "              'type': 'scatter',\n",
              "              'uid': '48bb97bc-7dec-4de8-8e67-2030a17270fa',\n",
              "              'x': array([datetime.datetime(2023, 3, 29, 17, 55)], dtype=object),\n",
              "              'y': array([0.00257927])}],\n",
              "    'layout': {'height': 350,\n",
              "               'legend': {'orientation': 'h',\n",
              "                          'traceorder': 'normal',\n",
              "                          'x': 1,\n",
              "                          'xanchor': 'right',\n",
              "                          'y': 1.02,\n",
              "                          'yanchor': 'bottom'},\n",
              "               'margin': {'b': 30, 'l': 30, 'r': 30, 't': 30},\n",
              "               'shapes': [{'line': {'color': 'gray', 'dash': 'dash'},\n",
              "                           'type': 'line',\n",
              "                           'x0': 0,\n",
              "                           'x1': 1,\n",
              "                           'xref': 'paper',\n",
              "                           'y0': 0,\n",
              "                           'y1': 0,\n",
              "                           'yref': 'y'}],\n",
              "               'template': '...',\n",
              "               'width': 700,\n",
              "               'yaxis': {'tickformat': '.2%'}}\n",
              "})"
            ]
          },
          "execution_count": 61,
          "metadata": {},
          "output_type": "execute_result"
        }
      ],
      "source": [
        "ls_backtests_all[13][4].plot_trade_pnl()"
      ]
    },
    {
      "cell_type": "code",
      "execution_count": null,
      "metadata": {},
      "outputs": [
        {
          "name": "stdout",
          "output_type": "stream",
          "text": [
            "média Timeframe\n",
            "0   -0.641008\n",
            "1   -0.665225\n",
            "2   -0.126683\n",
            "3    0.103369\n",
            "4    1.271620\n",
            "dtype: float64\n",
            "mediana Timeframe\n",
            "0   -1.000000\n",
            "1   -1.000000\n",
            "2   -0.103956\n",
            "3    0.109934\n",
            "4    0.306170\n",
            "dtype: float64\n"
          ]
        }
      ],
      "source": [
        "print('média',result_final.mean())\n",
        "print('mediana',result_final.median())"
      ]
    },
    {
      "cell_type": "code",
      "execution_count": null,
      "metadata": {},
      "outputs": [
        {
          "name": "stdout",
          "output_type": "stream",
          "text": [
            "média Timeframe\n",
            "0   -0.641008\n",
            "1   -0.665225\n",
            "2   -0.126683\n",
            "3   -0.059027\n",
            "4    0.279479\n",
            "dtype: float64\n",
            "mediana Timeframe\n",
            "0   -1.000000\n",
            "1   -1.000000\n",
            "2   -0.103956\n",
            "3   -0.073540\n",
            "4    0.133594\n",
            "dtype: float64\n"
          ]
        }
      ],
      "source": [
        "print('média',result_final_DT.mean())\n",
        "print('mediana',result_final_DT.median())"
      ]
    }
  ],
  "metadata": {
    "colab": {
      "provenance": []
    },
    "kernelspec": {
      "display_name": "Python 3",
      "language": "python",
      "name": "python3"
    },
    "language_info": {
      "codemirror_mode": {
        "name": "ipython",
        "version": 3
      },
      "file_extension": ".py",
      "mimetype": "text/x-python",
      "name": "python",
      "nbconvert_exporter": "python",
      "pygments_lexer": "ipython3",
      "version": "3.10.10"
    },
    "vscode": {
      "interpreter": {
        "hash": "1493eefcff544751201f05572390e1978af46bb86c6fb31cde43e7bf57ccf7b4"
      }
    }
  },
  "nbformat": 4,
  "nbformat_minor": 0
}
