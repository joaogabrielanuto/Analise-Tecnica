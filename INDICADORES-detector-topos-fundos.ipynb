{
  "cells": [
    {
      "attachments": {},
      "cell_type": "markdown",
      "metadata": {
        "colab_type": "text",
        "id": "view-in-github"
      },
      "source": [
        "<a href=\"https://colab.research.google.com/github/joaogabrielanuto/quant-traders/blob/under-construction/detector-topos-fundos.ipynb\" target=\"_parent\"><img src=\"https://colab.research.google.com/assets/colab-badge.svg\" alt=\"Open In Colab\"/></a>"
      ]
    },
    {
      "attachments": {},
      "cell_type": "markdown",
      "metadata": {
        "id": "mr8o75594R0T"
      },
      "source": [
        "<img src=\"https://tradingcomdados.com/images/logotipo/logotipo-trading-com-dados.svg\" width=\"300\" align=\"left\"/>"
      ]
    },
    {
      "attachments": {},
      "cell_type": "markdown",
      "metadata": {
        "id": "zNRZ5ynA4UGz"
      },
      "source": [
        "---\n",
        "# **Detector de topos e fundos** \n",
        "\n",
        "\n",
        "#### Metodologia utilizando mínimas e máximas do candles\n",
        "---"
      ]
    },
    {
      "attachments": {},
      "cell_type": "markdown",
      "metadata": {
        "id": "dzYJeGqZ51my"
      },
      "source": [
        "# 1. Bibliotecas"
      ]
    },
    {
      "cell_type": "code",
      "execution_count": null,
      "metadata": {
        "id": "-oC8j-6m4T5z"
      },
      "outputs": [],
      "source": [
        "import pandas as pd\n",
        "import numpy as np\n",
        "from datetime import datetime\n",
        "import pytz\n",
        "import yfinance as yf\n",
        "import mplfinance as mpf\n",
        "import plotly.graph_objects as go"
      ]
    },
    {
      "attachments": {},
      "cell_type": "markdown",
      "metadata": {
        "id": "qYgW2A9d6eIz"
      },
      "source": [
        "# 2. Entendendo a metodologia"
      ]
    },
    {
      "attachments": {},
      "cell_type": "markdown",
      "metadata": {
        "id": "Ga9w52PnQGJt"
      },
      "source": [
        "Obtenção de dados OHLC"
      ]
    },
    {
      "cell_type": "code",
      "execution_count": null,
      "metadata": {
        "colab": {
          "base_uri": "https://localhost:8080/",
          "height": 472
        },
        "id": "_KAsoezhQH5s",
        "outputId": "1b510a99-509d-4f99-fe44-497d659a682c"
      },
      "outputs": [],
      "source": [
        "df = yf.download('^BVSP', start='2022-01-01', end='2023-01-01')\n",
        "mpf.plot(df[-30:], type='candle')"
      ]
    },
    {
      "attachments": {},
      "cell_type": "markdown",
      "metadata": {
        "id": "bG_n52t06aD6"
      },
      "source": [
        "# 3. Construção das funções"
      ]
    },
    {
      "attachments": {},
      "cell_type": "markdown",
      "metadata": {},
      "source": [
        "## 3.1. Primeira etapa"
      ]
    },
    {
      "attachments": {},
      "cell_type": "markdown",
      "metadata": {
        "id": "QuSZ18O3e-R4"
      },
      "source": [
        "Vamos retomar os dados diários do IBOV em 2022 e checar o **candle do dia 27/dez, que é um fundo segundo nossa metodologia para 2 candles**\n",
        "\n",
        "Note que que o candle referência atende às 2 regras:\n",
        "* Mínima (candle referência) é menor que a dos dois candles anteriores,\n",
        "* Mínima (candle referência) é menor que a dos dois candles posteriores"
      ]
    },
    {
      "cell_type": "code",
      "execution_count": null,
      "metadata": {
        "colab": {
          "base_uri": "https://localhost:8080/"
        },
        "id": "FDMDrqzA6Nj6",
        "outputId": "9a93fb71-10df-4e0b-d0e1-f857e6cd136d"
      },
      "outputs": [],
      "source": [
        "mpf.plot(df[-7:], type='candle')"
      ]
    },
    {
      "cell_type": "code",
      "execution_count": null,
      "metadata": {},
      "outputs": [],
      "source": [
        "mpf.plot(df[:10], type='candle')"
      ]
    },
    {
      "cell_type": "code",
      "execution_count": null,
      "metadata": {},
      "outputs": [],
      "source": [
        "df['Low'] <= df['Low'].rolling(2, closed='left').min()"
      ]
    },
    {
      "cell_type": "code",
      "execution_count": null,
      "metadata": {},
      "outputs": [],
      "source": [
        "df_invertido = df.iloc[::-1]\n",
        "df_invertido.head()"
      ]
    },
    {
      "cell_type": "code",
      "execution_count": null,
      "metadata": {},
      "outputs": [],
      "source": [
        "df_invertido = df.iloc[::-1]\n",
        "df_invertido['Low'] <= df_invertido['Low'].rolling(2, closed='left').min()"
      ]
    },
    {
      "cell_type": "code",
      "execution_count": null,
      "metadata": {},
      "outputs": [],
      "source": [
        "def localizar_fundos(df, n_candles=2):\n",
        "    \n",
        "    df_invertido = df.iloc[::-1]\n",
        "\n",
        "    cond_low_anteriores = df['Low'] <= df['Low'].rolling(n_candles, closed='left').min()\n",
        "    cond_low_posteriores = df_invertido['Low'] <= df_invertido['Low'].rolling(n_candles, closed='left').min()\n",
        "\n",
        "    return (cond_low_anteriores & cond_low_posteriores)"
      ]
    },
    {
      "cell_type": "code",
      "execution_count": null,
      "metadata": {},
      "outputs": [],
      "source": [
        "localizar_fundos(df)"
      ]
    },
    {
      "cell_type": "code",
      "execution_count": null,
      "metadata": {},
      "outputs": [],
      "source": [
        "def localizar_topos(df, n_candles=2):\n",
        "    \n",
        "    df_invertido = df.iloc[::-1]\n",
        "\n",
        "    cond_high_anteriores = df['High'] >= df['High'].rolling(n_candles, closed='left').max()\n",
        "    cond_high_posteriores = df_invertido['High'] >= df_invertido['High'].rolling(n_candles, closed='left').max()\n",
        "  \n",
        "    return (cond_high_anteriores & cond_high_posteriores)"
      ]
    },
    {
      "cell_type": "code",
      "execution_count": null,
      "metadata": {},
      "outputs": [],
      "source": [
        "localizar_topos(df)"
      ]
    },
    {
      "cell_type": "code",
      "execution_count": null,
      "metadata": {},
      "outputs": [],
      "source": [
        "n_candles = 2\n",
        "\n",
        "dict_topos_fundos = {'vertice':[], 'data':[], 'preco':[]}\n",
        "\n",
        "for i in range(len(df)):\n",
        "\n",
        "    if localizar_fundos(df, n_candles).iloc[i]:\n",
        "        dict_topos_fundos['vertice'].append('fundo')\n",
        "        dict_topos_fundos['data'].append(df.index[i])\n",
        "        dict_topos_fundos['preco'].append(df.Low.iloc[i])\n",
        "    \n",
        "    if localizar_topos(df, n_candles).iloc[i]:\n",
        "        dict_topos_fundos['vertice'].append('topo')\n",
        "        dict_topos_fundos['data'].append(df.index[i])\n",
        "        dict_topos_fundos['preco'].append(df.High.iloc[i])"
      ]
    },
    {
      "cell_type": "code",
      "execution_count": null,
      "metadata": {},
      "outputs": [],
      "source": [
        "df_topos_fundos = pd.DataFrame(dict_topos_fundos)\n",
        "df_topos_fundos.index = df_topos_fundos.data\n",
        "df_topos_fundos.head(10)"
      ]
    },
    {
      "cell_type": "code",
      "execution_count": null,
      "metadata": {},
      "outputs": [],
      "source": [
        "df_final = pd.merge(df, df_topos_fundos, left_index=True, right_index=True, how='left')\n",
        "df_final.head(10)"
      ]
    },
    {
      "cell_type": "code",
      "execution_count": null,
      "metadata": {},
      "outputs": [],
      "source": [
        "df_figure = df_final\n",
        "\n",
        "fig_topos_fundos = go.Figure(data=[go.Candlestick(name='', x=df_figure.index, open=df_figure.Open, high = df_figure.High,\n",
        "                                                  low=df_figure.Low, close=df_figure.Close, \n",
        "                                                  increasing_line_color= 'green', decreasing_line_color= 'red',\n",
        "                                                  showlegend=False)])\n",
        "\n",
        "fig_topos_fundos.add_trace(go.Scatter(x=df_topos_fundos.data, y=df_topos_fundos.preco,\n",
        "                                      mode=\"lines\", line_width=2, line_dash=\"solid\", line_color=\"black\",\n",
        "                                      name=\"Topos / Fundos\", showlegend=True))\n",
        "\n",
        "fig_topos_fundos.update_xaxes(rangebreaks=[\n",
        "                              dict(bounds=[\"sat\", \"mon\"])])\n",
        "\n",
        "fig_topos_fundos.update_layout(xaxis_rangeslider_visible=False, title_text='<b>Indicador topos e fundos',\n",
        "                               template = 'none', margin=dict(l=75, r=75, t=75, b=75), \n",
        "                               paper_bgcolor=\"#f7f8fa\",\n",
        "                               width=1200,height=600)"
      ]
    },
    {
      "attachments": {},
      "cell_type": "markdown",
      "metadata": {},
      "source": [
        "## 3.2. Segunda etapa"
      ]
    },
    {
      "cell_type": "code",
      "execution_count": null,
      "metadata": {},
      "outputs": [],
      "source": [
        "n_candles = 2\n",
        "ls_vertices = ['neutro']\n",
        "\n",
        "dict_topos_fundos = {'vertice':[], 'data':[], 'preco':[]}\n",
        "\n",
        "for i in range(len(df)):\n",
        "\n",
        "    if localizar_fundos(df, n_candles).iloc[i]:\n",
        "\n",
        "        if ls_vertices[-1]!='fundo':\n",
        "            dict_topos_fundos['vertice'].append('fundo')\n",
        "            dict_topos_fundos['data'].append(df.index[i])\n",
        "            dict_topos_fundos['preco'].append(df.Low.iloc[i])\n",
        "            ls_vertices.append('fundo')\n",
        "        \n",
        "        else:\n",
        "            if df.Low.iloc[i] < dict_topos_fundos['preco'][-1]:\n",
        "                dict_topos_fundos['data'][-1] = df.index[i]\n",
        "                dict_topos_fundos['preco'][-1] = df.Low.iloc[i]\n",
        "    \n",
        "    if localizar_topos(df, n_candles).iloc[i]:\n",
        "\n",
        "        if ls_vertices[-1]!='topo':\n",
        "            dict_topos_fundos['vertice'].append('topo')\n",
        "            dict_topos_fundos['data'].append(df.index[i])\n",
        "            dict_topos_fundos['preco'].append(df.High.iloc[i])\n",
        "            ls_vertices.append('topo')\n",
        "\n",
        "        else:\n",
        "            if df.High.iloc[i] > dict_topos_fundos['preco'][-1]:\n",
        "                dict_topos_fundos['data'][-1] = df.index[i]\n",
        "                dict_topos_fundos['preco'][-1] = df.High.iloc[i]"
      ]
    },
    {
      "cell_type": "code",
      "execution_count": null,
      "metadata": {},
      "outputs": [],
      "source": [
        "df_topos_fundos = pd.DataFrame(dict_topos_fundos)\n",
        "df_topos_fundos.index = df_topos_fundos.data\n",
        "\n",
        "df_final = pd.merge(df, df_topos_fundos, left_index=True, right_index=True, how='left')\n",
        "df_final.head(20)\n",
        "\n",
        "df_figure = df_final\n",
        "\n",
        "fig_topos_fundos = go.Figure(data=[go.Candlestick(name='', x=df_figure.index, open=df_figure.Open, high = df_figure.High,\n",
        "                                                  low=df_figure.Low, close=df_figure.Close, \n",
        "                                                  increasing_line_color= 'green', decreasing_line_color= 'red',\n",
        "                                                  showlegend=False)])\n",
        "\n",
        "fig_topos_fundos.add_trace(go.Scatter(x=df_topos_fundos.data, y=df_topos_fundos.preco,\n",
        "                                      mode=\"lines\", line_width=2, line_dash=\"solid\", line_color=\"black\",\n",
        "                                      name=\"Topos / Fundos\", showlegend=True))\n",
        "\n",
        "fig_topos_fundos.update_xaxes(rangebreaks=[\n",
        "                              dict(bounds=[\"sat\", \"mon\"])])\n",
        "\n",
        "fig_topos_fundos.update_layout(xaxis_rangeslider_visible=False, title_text='<b>Indicador topos e fundos',\n",
        "                               template = 'none', margin=dict(l=75, r=75, t=75, b=75), \n",
        "                               paper_bgcolor=\"#f7f8fa\",\n",
        "                               width=1200,height=600)"
      ]
    },
    {
      "attachments": {},
      "cell_type": "markdown",
      "metadata": {},
      "source": [
        "# 4. Teoria de Dow"
      ]
    },
    {
      "cell_type": "code",
      "execution_count": null,
      "metadata": {},
      "outputs": [],
      "source": [
        "df_1w = yf.download('^BVSP', start='2020-01-01', end='2023-01-01', interval='1wk')\n",
        "df_1d = yf.download('^BVSP', start='2020-01-01', end='2023-01-01', interval='1d')"
      ]
    },
    {
      "cell_type": "code",
      "execution_count": null,
      "metadata": {},
      "outputs": [],
      "source": [
        "df = df_1w.copy()\n",
        "\n",
        "n_candles = 10\n",
        "ls_vertices = ['neutro']\n",
        "\n",
        "dict_topos_fundos = {'vertice':[], 'data':[], 'preco':[]}\n",
        "\n",
        "for i in range(len(df)):\n",
        "\n",
        "    if localizar_fundos(df, n_candles).iloc[i]:\n",
        "\n",
        "        if ls_vertices[-1]!='fundo':\n",
        "            dict_topos_fundos['vertice'].append('fundo')\n",
        "            dict_topos_fundos['data'].append(df.index[i])\n",
        "            dict_topos_fundos['preco'].append(df.Low.iloc[i])\n",
        "            ls_vertices.append('fundo')\n",
        "        \n",
        "        else:\n",
        "            if df.Low.iloc[i] < dict_topos_fundos['preco'][-1]:\n",
        "                dict_topos_fundos['data'][-1] = df.index[i]\n",
        "                dict_topos_fundos['preco'][-1] = df.Low.iloc[i]\n",
        "    \n",
        "    if localizar_topos(df, n_candles).iloc[i]:\n",
        "\n",
        "        if ls_vertices[-1]!='topo':\n",
        "            dict_topos_fundos['vertice'].append('topo')\n",
        "            dict_topos_fundos['data'].append(df.index[i])\n",
        "            dict_topos_fundos['preco'].append(df.High.iloc[i])\n",
        "            ls_vertices.append('topo')\n",
        "\n",
        "        else:\n",
        "            if df.High.iloc[i] > dict_topos_fundos['preco'][-1]:\n",
        "                dict_topos_fundos['data'][-1] = df.index[i]\n",
        "                dict_topos_fundos['preco'][-1] = df.High.iloc[i]\n",
        "\n",
        "df_topos_fundos = pd.DataFrame(dict_topos_fundos)\n",
        "df_topos_fundos.index = df_topos_fundos.data\n",
        "\n",
        "df_final = pd.merge(df, df_topos_fundos, left_index=True, right_index=True, how='left')\n",
        "df_final.head(20)\n",
        "\n",
        "df_figure = df_final\n",
        "\n",
        "fig_topos_fundos = go.Figure(data=[go.Candlestick(name='', x=df_figure.index, open=df_figure.Open, high = df_figure.High,\n",
        "                                                  low=df_figure.Low, close=df_figure.Close, \n",
        "                                                  increasing_line_color= 'green', decreasing_line_color= 'red',\n",
        "                                                  showlegend=False)])\n",
        "\n",
        "fig_topos_fundos.add_trace(go.Scatter(x=df_topos_fundos.data, y=df_topos_fundos.preco,\n",
        "                                      mode=\"lines\", line_width=2, line_dash=\"solid\", line_color=\"black\",\n",
        "                                      name=\"Topos / Fundos\", showlegend=True))\n",
        "\n",
        "fig_semanal = fig_topos_fundos.update_layout(xaxis_rangeslider_visible=False, title_text='<b>Indicador topos e fundos',\n",
        "                               template = 'none', margin=dict(l=75, r=75, t=75, b=75), \n",
        "                               paper_bgcolor=\"#f7f8fa\",\n",
        "                               width=1200,height=600)"
      ]
    },
    {
      "cell_type": "code",
      "execution_count": null,
      "metadata": {},
      "outputs": [],
      "source": [
        "df = df_1d.copy()\n",
        "\n",
        "n_candles = 10\n",
        "ls_vertices = ['neutro']\n",
        "\n",
        "dict_topos_fundos = {'vertice':[], 'data':[], 'preco':[]}\n",
        "\n",
        "for i in range(len(df)):\n",
        "\n",
        "    if localizar_fundos(df, n_candles).iloc[i]:\n",
        "\n",
        "        if ls_vertices[-1]!='fundo':\n",
        "            dict_topos_fundos['vertice'].append('fundo')\n",
        "            dict_topos_fundos['data'].append(df.index[i])\n",
        "            dict_topos_fundos['preco'].append(df.Low.iloc[i])\n",
        "            ls_vertices.append('fundo')\n",
        "        \n",
        "        else:\n",
        "            if df.Low.iloc[i] < dict_topos_fundos['preco'][-1]:\n",
        "                dict_topos_fundos['data'][-1] = df.index[i]\n",
        "                dict_topos_fundos['preco'][-1] = df.Low.iloc[i]\n",
        "    \n",
        "    if localizar_topos(df, n_candles).iloc[i]:\n",
        "\n",
        "        if ls_vertices[-1]!='topo':\n",
        "            dict_topos_fundos['vertice'].append('topo')\n",
        "            dict_topos_fundos['data'].append(df.index[i])\n",
        "            dict_topos_fundos['preco'].append(df.High.iloc[i])\n",
        "            ls_vertices.append('topo')\n",
        "\n",
        "        else:\n",
        "            if df.High.iloc[i] > dict_topos_fundos['preco'][-1]:\n",
        "                dict_topos_fundos['data'][-1] = df.index[i]\n",
        "                dict_topos_fundos['preco'][-1] = df.High.iloc[i]\n",
        "\n",
        "df_topos_fundos = pd.DataFrame(dict_topos_fundos)\n",
        "df_topos_fundos.index = df_topos_fundos.data\n",
        "\n",
        "df_final = pd.merge(df, df_topos_fundos, left_index=True, right_index=True, how='left')\n",
        "df_final.head(20)\n",
        "\n",
        "df_figure = df_final\n",
        "\n",
        "fig_topos_fundos = go.Figure(data=[go.Candlestick(name='', x=df_figure.index, open=df_figure.Open, high = df_figure.High,\n",
        "                                                  low=df_figure.Low, close=df_figure.Close, \n",
        "                                                  increasing_line_color= 'green', decreasing_line_color= 'red',\n",
        "                                                  showlegend=False)])\n",
        "\n",
        "fig_topos_fundos.add_trace(go.Scatter(x=df_topos_fundos.data, y=df_topos_fundos.preco,\n",
        "                                      mode=\"lines\", line_width=2, line_dash=\"solid\", line_color=\"black\",\n",
        "                                      name=\"Topos / Fundos\", showlegend=True))\n",
        "\n",
        "fig_diario = fig_topos_fundos.update_layout(xaxis_rangeslider_visible=False, title_text='<b>Indicador topos e fundos',\n",
        "                               template = 'none', margin=dict(l=75, r=75, t=75, b=75), \n",
        "                               paper_bgcolor=\"#f7f8fa\",\n",
        "                               width=1200,height=600)"
      ]
    },
    {
      "cell_type": "code",
      "execution_count": null,
      "metadata": {},
      "outputs": [],
      "source": [
        "fig_semanal"
      ]
    },
    {
      "cell_type": "code",
      "execution_count": null,
      "metadata": {},
      "outputs": [],
      "source": [
        "fig_diario"
      ]
    },
    {
      "attachments": {},
      "cell_type": "markdown",
      "metadata": {},
      "source": [
        "# 5. Screening ativos"
      ]
    },
    {
      "cell_type": "code",
      "execution_count": null,
      "metadata": {},
      "outputs": [],
      "source": [
        "lista_tickers = ['ABEV3', 'ALPA4', 'ALSO3', 'ARZZ3', 'ASAI3', 'AZUL4', 'B3SA3', 'BBAS3', 'BBDC3', 'BBDC4',\n",
        "                'BBSE3', 'BEEF3', 'BPAC11', 'BPAN4', 'BRAP4', 'BRFS3', 'BRKM5', 'CASH3', 'CCRO3', 'CIEL3', 'CMIG4', 'CMIN3',\n",
        "                'COGN3', 'CPFE3', 'CPLE6', 'CRFB3', 'CSAN3', 'CSNA3', 'CVCB3', 'CYRE3', 'DXCO3', 'ECOR3', 'EGIE3', 'ELET3',\n",
        "                'ELET6', 'EMBR3', 'ENBR3', 'ENEV3', 'ENGI11', 'EQTL3', 'EZTC3', 'FLRY3', 'GGBR4', 'GOAU4', 'GOLL4', 'HAPV3',\n",
        "                'HYPE3', 'IGTI11', 'ITSA4', 'ITUB4', 'JBSS3', 'KLBN11', 'LREN3', 'LWSA3', 'MGLU3', 'MRFG3', 'MRVE3', 'MULT3',\n",
        "                'NTCO3', 'PCAR3', 'PETR3', 'PETR4', 'PETZ3', 'PRIO3', 'QUAL3', 'RADL3', 'RAIL3', 'RAIZ4', 'RDOR3', 'RENT3',\n",
        "                'RRRP3', 'SANB11', 'SBSP3', 'SLCE3', 'SMTO3', 'SOMA3', 'SUZB3', 'TAEE11', 'TIMS3', 'TOTS3', 'UGPA3', 'USIM5',\n",
        "                'VALE3', 'VBBR3', 'VIIA3', 'VIVT3', 'WEGE3', 'YDUQ3']"
      ]
    },
    {
      "cell_type": "code",
      "execution_count": null,
      "metadata": {},
      "outputs": [],
      "source": [
        "lista_tickers_yf = [x + '.SA' for x in lista_tickers[2:]]"
      ]
    },
    {
      "cell_type": "code",
      "execution_count": null,
      "metadata": {},
      "outputs": [],
      "source": [
        "lista_tickers_yf[0:5]"
      ]
    },
    {
      "cell_type": "code",
      "execution_count": null,
      "metadata": {},
      "outputs": [],
      "source": [
        "ls_close_ativos = []\n",
        "indice_ativo = 0\n",
        "\n",
        "for i in lista_tickers_yf:\n",
        "    df_1d_ativo = yf.download(i, start='2022-01-01', interval='1d', auto_adjust=True)\n",
        "    df_1d_ativo['Ticker'] = i\n",
        "    df_1d_ativo['Indice_ativo'] = indice_ativo\n",
        "    indice_ativo +=1\n",
        "    ls_close_ativos.append(df_1d_ativo)"
      ]
    },
    {
      "cell_type": "code",
      "execution_count": null,
      "metadata": {},
      "outputs": [],
      "source": [
        "list(enumerate(lista_tickers_yf))"
      ]
    },
    {
      "cell_type": "code",
      "execution_count": null,
      "metadata": {},
      "outputs": [],
      "source": [
        "ls_close_ativos[1]"
      ]
    },
    {
      "cell_type": "code",
      "execution_count": null,
      "metadata": {},
      "outputs": [],
      "source": [
        "n_candles = 10\n",
        "\n",
        "ls_ativos_topos_fundos = []\n",
        "\n",
        "for df in ls_close_ativos:\n",
        "    \n",
        "    ls_vertices = ['neutro']\n",
        "    dict_topos_fundos = {'vertice':[], 'data':[], 'preco':[]}\n",
        "\n",
        "    for i in range(len(df)):\n",
        "\n",
        "        if localizar_fundos(df, n_candles).iloc[i]:\n",
        "\n",
        "            if ls_vertices[-1]!='fundo':\n",
        "                dict_topos_fundos['vertice'].append('fundo')\n",
        "                dict_topos_fundos['data'].append(df.index[i])\n",
        "                dict_topos_fundos['preco'].append(df.Low.iloc[i])\n",
        "                ls_vertices.append('fundo')\n",
        "            \n",
        "            else:\n",
        "                if df.Low.iloc[i] < dict_topos_fundos['preco'][-1]:\n",
        "                    dict_topos_fundos['data'][-1] = df.index[i]\n",
        "                    dict_topos_fundos['preco'][-1] = df.Low.iloc[i]\n",
        "        \n",
        "        if localizar_topos(df, n_candles).iloc[i]:\n",
        "\n",
        "            if ls_vertices[-1]!='topo':\n",
        "                dict_topos_fundos['vertice'].append('topo')\n",
        "                dict_topos_fundos['data'].append(df.index[i])\n",
        "                dict_topos_fundos['preco'].append(df.High.iloc[i])\n",
        "                ls_vertices.append('topo')\n",
        "\n",
        "            else:\n",
        "                if df.High.iloc[i] > dict_topos_fundos['preco'][-1]:\n",
        "                    dict_topos_fundos['data'][-1] = df.index[i]\n",
        "                    dict_topos_fundos['preco'][-1] = df.High.iloc[i]\n",
        "    \n",
        "    df_topos_fundos = pd.DataFrame(dict_topos_fundos)\n",
        "    df_topos_fundos.index = df_topos_fundos.data\n",
        "\n",
        "    df_final = pd.merge(df, df_topos_fundos, left_index=True, right_index=True, how='left')\n",
        "    df_final.head(20)\n",
        "\n",
        "    ls_ativos_topos_fundos.append(df_final)"
      ]
    },
    {
      "cell_type": "code",
      "execution_count": null,
      "metadata": {},
      "outputs": [],
      "source": [
        "def ativo_rompeu_topo(df):\n",
        "    ultimo_topo = df[df.vertice=='topo']['preco'][-1]\n",
        "    distancia_topo = (ultimo_topo - df.Close[-1])/ultimo_topo*100\n",
        "    \n",
        "    if distancia_topo < 0:\n",
        "        return 'rompeu topo'"
      ]
    },
    {
      "cell_type": "code",
      "execution_count": null,
      "metadata": {},
      "outputs": [],
      "source": [
        "for df in ls_ativos_topos_fundos:\n",
        "\n",
        "    if ativo_rompeu_topo(df)=='rompeu topo':\n",
        "        print(df.Ticker[0],'indice=',df.Indice_ativo[0],'rompeu topo anterior')"
      ]
    },
    {
      "cell_type": "code",
      "execution_count": null,
      "metadata": {},
      "outputs": [],
      "source": [
        "i = 4\n",
        "\n",
        "df_figure = ls_ativos_topos_fundos[i]\n",
        "df_topos_fundos = ls_ativos_topos_fundos[i][~ls_ativos_topos_fundos[i].preco.isna()]\n",
        "\n",
        "fig_topos_fundos = go.Figure(data=[go.Candlestick(name='', x=df_figure.index, open=df_figure.Open, high = df_figure.High,\n",
        "                                                  low=df_figure.Low, close=df_figure.Close, \n",
        "                                                  increasing_line_color= 'green', decreasing_line_color= 'red',\n",
        "                                                  showlegend=False)])\n",
        "\n",
        "fig_topos_fundos.add_trace(go.Scatter(x=df_topos_fundos.index, y=df_topos_fundos.preco,\n",
        "                                      mode=\"lines\", line_width=2, line_dash=\"solid\", line_color=\"black\",\n",
        "                                      name=\"Topos / Fundos\", showlegend=True))\n",
        "\n",
        "fig_topos_fundos.update_layout(xaxis_rangeslider_visible=False, title_text='<b>Indicador topos e fundos',\n",
        "                               template = 'none', margin=dict(l=75, r=75, t=75, b=75), \n",
        "                               paper_bgcolor=\"#f7f8fa\",\n",
        "                               width=1200,height=600)"
      ]
    },
    {
      "cell_type": "code",
      "execution_count": null,
      "metadata": {},
      "outputs": [],
      "source": []
    }
  ],
  "metadata": {
    "colab": {
      "authorship_tag": "ABX9TyM+nZDdpKHR31+RSs2Dn8vq",
      "include_colab_link": true,
      "provenance": []
    },
    "kernelspec": {
      "display_name": "Python 3",
      "name": "python3"
    },
    "language_info": {
      "codemirror_mode": {
        "name": "ipython",
        "version": 3
      },
      "file_extension": ".py",
      "mimetype": "text/x-python",
      "name": "python",
      "nbconvert_exporter": "python",
      "pygments_lexer": "ipython3",
      "version": "3.10.10"
    }
  },
  "nbformat": 4,
  "nbformat_minor": 0
}
