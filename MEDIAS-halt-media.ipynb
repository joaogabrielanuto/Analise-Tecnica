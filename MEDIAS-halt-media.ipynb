{
 "cells": [
  {
   "attachments": {},
   "cell_type": "markdown",
   "metadata": {},
   "source": [
    "# ***Backtest Halt na média, stop e alvo fixos***"
   ]
  },
  {
   "attachments": {},
   "cell_type": "markdown",
   "metadata": {},
   "source": [
    "---"
   ]
  },
  {
   "attachments": {},
   "cell_type": "markdown",
   "metadata": {},
   "source": [
    "## **1. Bibliotecas**"
   ]
  },
  {
   "cell_type": "code",
   "execution_count": null,
   "metadata": {},
   "outputs": [],
   "source": [
    "# %pip install ta \n",
    "# %pip install vectorbt"
   ]
  },
  {
   "cell_type": "code",
   "execution_count": 2,
   "metadata": {},
   "outputs": [],
   "source": [
    "# Análise e manipulação de dados gerais\n",
    "import os\n",
    "import numpy as np\n",
    "import pandas as pd\n",
    "\n",
    "# Dados séries temporais\n",
    "from datetime import datetime, timedelta\n",
    "import pytz\n",
    "\n",
    "# Dados OHLCV\n",
    "#import MetaTrader5 as mt5\n",
    "\n",
    "# Indicadores e backtesting\n",
    "import ta\n",
    "import vectorbt as vbt\n",
    "\n",
    "# Bibliotecas gráficas\n",
    "import plotly.graph_objects as go"
   ]
  },
  {
   "attachments": {},
   "cell_type": "markdown",
   "metadata": {
    "tags": []
   },
   "source": [
    "## **2. Obtenção dos Dados**"
   ]
  },
  {
   "cell_type": "code",
   "execution_count": 3,
   "metadata": {},
   "outputs": [
    {
     "data": {
      "text/html": [
       "<div>\n",
       "<style scoped>\n",
       "    .dataframe tbody tr th:only-of-type {\n",
       "        vertical-align: middle;\n",
       "    }\n",
       "\n",
       "    .dataframe tbody tr th {\n",
       "        vertical-align: top;\n",
       "    }\n",
       "\n",
       "    .dataframe thead th {\n",
       "        text-align: right;\n",
       "    }\n",
       "</style>\n",
       "<table border=\"1\" class=\"dataframe\">\n",
       "  <thead>\n",
       "    <tr style=\"text-align: right;\">\n",
       "      <th></th>\n",
       "      <th>open</th>\n",
       "      <th>high</th>\n",
       "      <th>low</th>\n",
       "      <th>close</th>\n",
       "      <th>tick_volume</th>\n",
       "      <th>spread</th>\n",
       "      <th>real_volume</th>\n",
       "      <th>ticker</th>\n",
       "      <th>timeframe</th>\n",
       "    </tr>\n",
       "    <tr>\n",
       "      <th>time</th>\n",
       "      <th></th>\n",
       "      <th></th>\n",
       "      <th></th>\n",
       "      <th></th>\n",
       "      <th></th>\n",
       "      <th></th>\n",
       "      <th></th>\n",
       "      <th></th>\n",
       "      <th></th>\n",
       "    </tr>\n",
       "  </thead>\n",
       "  <tbody>\n",
       "    <tr>\n",
       "      <th>2018-02-28 09:00:00</th>\n",
       "      <td>3994.277</td>\n",
       "      <td>3999.182</td>\n",
       "      <td>3993.050</td>\n",
       "      <td>3994.890</td>\n",
       "      <td>2237</td>\n",
       "      <td>1</td>\n",
       "      <td>6108</td>\n",
       "      <td>WDO$</td>\n",
       "      <td>5M</td>\n",
       "    </tr>\n",
       "    <tr>\n",
       "      <th>2018-02-28 09:05:00</th>\n",
       "      <td>3994.277</td>\n",
       "      <td>3999.795</td>\n",
       "      <td>3993.050</td>\n",
       "      <td>3997.956</td>\n",
       "      <td>3048</td>\n",
       "      <td>1</td>\n",
       "      <td>7668</td>\n",
       "      <td>WDO$</td>\n",
       "      <td>5M</td>\n",
       "    </tr>\n",
       "    <tr>\n",
       "      <th>2018-02-28 09:10:00</th>\n",
       "      <td>3998.569</td>\n",
       "      <td>3998.569</td>\n",
       "      <td>3993.663</td>\n",
       "      <td>3993.663</td>\n",
       "      <td>2786</td>\n",
       "      <td>1</td>\n",
       "      <td>8455</td>\n",
       "      <td>WDO$</td>\n",
       "      <td>5M</td>\n",
       "    </tr>\n",
       "    <tr>\n",
       "      <th>2018-02-28 09:15:00</th>\n",
       "      <td>3994.277</td>\n",
       "      <td>3994.277</td>\n",
       "      <td>3991.211</td>\n",
       "      <td>3991.824</td>\n",
       "      <td>2520</td>\n",
       "      <td>1</td>\n",
       "      <td>8081</td>\n",
       "      <td>WDO$</td>\n",
       "      <td>5M</td>\n",
       "    </tr>\n",
       "    <tr>\n",
       "      <th>2018-02-28 09:20:00</th>\n",
       "      <td>3991.824</td>\n",
       "      <td>3993.050</td>\n",
       "      <td>3988.758</td>\n",
       "      <td>3990.598</td>\n",
       "      <td>2723</td>\n",
       "      <td>1</td>\n",
       "      <td>7806</td>\n",
       "      <td>WDO$</td>\n",
       "      <td>5M</td>\n",
       "    </tr>\n",
       "    <tr>\n",
       "      <th>2018-02-28 09:25:00</th>\n",
       "      <td>3990.598</td>\n",
       "      <td>3991.824</td>\n",
       "      <td>3988.145</td>\n",
       "      <td>3990.598</td>\n",
       "      <td>2772</td>\n",
       "      <td>1</td>\n",
       "      <td>7800</td>\n",
       "      <td>WDO$</td>\n",
       "      <td>5M</td>\n",
       "    </tr>\n",
       "    <tr>\n",
       "      <th>2018-02-28 09:30:00</th>\n",
       "      <td>3989.984</td>\n",
       "      <td>3992.437</td>\n",
       "      <td>3988.758</td>\n",
       "      <td>3989.371</td>\n",
       "      <td>2514</td>\n",
       "      <td>1</td>\n",
       "      <td>7238</td>\n",
       "      <td>WDO$</td>\n",
       "      <td>5M</td>\n",
       "    </tr>\n",
       "    <tr>\n",
       "      <th>2018-02-28 09:35:00</th>\n",
       "      <td>3988.758</td>\n",
       "      <td>3990.598</td>\n",
       "      <td>3986.918</td>\n",
       "      <td>3989.371</td>\n",
       "      <td>2685</td>\n",
       "      <td>1</td>\n",
       "      <td>8031</td>\n",
       "      <td>WDO$</td>\n",
       "      <td>5M</td>\n",
       "    </tr>\n",
       "    <tr>\n",
       "      <th>2018-02-28 09:40:00</th>\n",
       "      <td>3989.371</td>\n",
       "      <td>3991.824</td>\n",
       "      <td>3988.758</td>\n",
       "      <td>3988.758</td>\n",
       "      <td>1845</td>\n",
       "      <td>1</td>\n",
       "      <td>5296</td>\n",
       "      <td>WDO$</td>\n",
       "      <td>5M</td>\n",
       "    </tr>\n",
       "    <tr>\n",
       "      <th>2018-02-28 09:45:00</th>\n",
       "      <td>3988.758</td>\n",
       "      <td>3989.984</td>\n",
       "      <td>3986.305</td>\n",
       "      <td>3987.532</td>\n",
       "      <td>2208</td>\n",
       "      <td>1</td>\n",
       "      <td>6981</td>\n",
       "      <td>WDO$</td>\n",
       "      <td>5M</td>\n",
       "    </tr>\n",
       "  </tbody>\n",
       "</table>\n",
       "</div>"
      ],
      "text/plain": [
       "                         open      high       low     close  tick_volume  \\\n",
       "time                                                                       \n",
       "2018-02-28 09:00:00  3994.277  3999.182  3993.050  3994.890         2237   \n",
       "2018-02-28 09:05:00  3994.277  3999.795  3993.050  3997.956         3048   \n",
       "2018-02-28 09:10:00  3998.569  3998.569  3993.663  3993.663         2786   \n",
       "2018-02-28 09:15:00  3994.277  3994.277  3991.211  3991.824         2520   \n",
       "2018-02-28 09:20:00  3991.824  3993.050  3988.758  3990.598         2723   \n",
       "2018-02-28 09:25:00  3990.598  3991.824  3988.145  3990.598         2772   \n",
       "2018-02-28 09:30:00  3989.984  3992.437  3988.758  3989.371         2514   \n",
       "2018-02-28 09:35:00  3988.758  3990.598  3986.918  3989.371         2685   \n",
       "2018-02-28 09:40:00  3989.371  3991.824  3988.758  3988.758         1845   \n",
       "2018-02-28 09:45:00  3988.758  3989.984  3986.305  3987.532         2208   \n",
       "\n",
       "                     spread  real_volume ticker timeframe  \n",
       "time                                                       \n",
       "2018-02-28 09:00:00       1         6108   WDO$        5M  \n",
       "2018-02-28 09:05:00       1         7668   WDO$        5M  \n",
       "2018-02-28 09:10:00       1         8455   WDO$        5M  \n",
       "2018-02-28 09:15:00       1         8081   WDO$        5M  \n",
       "2018-02-28 09:20:00       1         7806   WDO$        5M  \n",
       "2018-02-28 09:25:00       1         7800   WDO$        5M  \n",
       "2018-02-28 09:30:00       1         7238   WDO$        5M  \n",
       "2018-02-28 09:35:00       1         8031   WDO$        5M  \n",
       "2018-02-28 09:40:00       1         5296   WDO$        5M  \n",
       "2018-02-28 09:45:00       1         6981   WDO$        5M  "
      ]
     },
     "execution_count": 3,
     "metadata": {},
     "output_type": "execute_result"
    }
   ],
   "source": [
    "dados_ohlc = pd.read_excel('C:\\\\Users\\\\joaog\\\\Documents\\\\GitHub\\\\quant-traders\\\\codigos-antigos-seq\\\\WDO$_5M.xlsx', index_col='time', parse_dates=True) # Importar dados csv\n",
    "dados_ohlc.head(10)"
   ]
  },
  {
   "attachments": {},
   "cell_type": "markdown",
   "metadata": {},
   "source": [
    "## **3. Criar Funções para localizar os sinais de entrada**"
   ]
  },
  {
   "cell_type": "code",
   "execution_count": 4,
   "metadata": {},
   "outputs": [],
   "source": [
    "df = dados_ohlc.copy()\n",
    "mm = 20\n",
    "df['mm'] = df['close'].rolling(mm).mean()\n",
    "df['entrada'] = False"
   ]
  },
  {
   "cell_type": "code",
   "execution_count": 5,
   "metadata": {},
   "outputs": [],
   "source": [
    "def sinal_compra(open, high, low, close, mm):\n",
    "    cond1 = low < mm\n",
    "    cond2 = close > mm\n",
    "    cond3 = low.shift(1) > mm\n",
    "    cond4 = low.shift(2) > mm\n",
    "    cond5 = low.shift(3) > mm\n",
    "    cond6 = low.shift(4) > mm\n",
    "    cond7 = low.shift(5) > mm\n",
    "    cond8 = low.shift(6) > mm\n",
    "    cond9 = low.shift(7) > mm\n",
    "    cond10 = low.shift(8) > mm\n",
    "    cond11 = low.shift(9) > mm\n",
    "    cond12 = low.shift(10) > mm\n",
    "\n",
    "    \n",
    "    return(cond1 & cond2 & cond3 & cond4 & cond5 & cond6 & cond7) # & cond8 & cond9 \\\n",
    "           # & cond10 & cond11 & cond12)  \n",
    "\n",
    "df['sinal_compra'] = sinal_compra(df['open'], df['high'], df['low'], df['close'], df['mm'])"
   ]
  },
  {
   "attachments": {},
   "cell_type": "markdown",
   "metadata": {},
   "source": [
    "**Nota:** Aqui você consegue filtrar apenas os dias que representaram candles sinalizadores"
   ]
  },
  {
   "cell_type": "code",
   "execution_count": 6,
   "metadata": {},
   "outputs": [
    {
     "data": {
      "text/html": [
       "<div>\n",
       "<style scoped>\n",
       "    .dataframe tbody tr th:only-of-type {\n",
       "        vertical-align: middle;\n",
       "    }\n",
       "\n",
       "    .dataframe tbody tr th {\n",
       "        vertical-align: top;\n",
       "    }\n",
       "\n",
       "    .dataframe thead th {\n",
       "        text-align: right;\n",
       "    }\n",
       "</style>\n",
       "<table border=\"1\" class=\"dataframe\">\n",
       "  <thead>\n",
       "    <tr style=\"text-align: right;\">\n",
       "      <th></th>\n",
       "      <th>open</th>\n",
       "      <th>high</th>\n",
       "      <th>low</th>\n",
       "      <th>close</th>\n",
       "      <th>tick_volume</th>\n",
       "      <th>spread</th>\n",
       "      <th>real_volume</th>\n",
       "      <th>ticker</th>\n",
       "      <th>timeframe</th>\n",
       "      <th>mm</th>\n",
       "      <th>entrada</th>\n",
       "      <th>sinal_compra</th>\n",
       "    </tr>\n",
       "    <tr>\n",
       "      <th>time</th>\n",
       "      <th></th>\n",
       "      <th></th>\n",
       "      <th></th>\n",
       "      <th></th>\n",
       "      <th></th>\n",
       "      <th></th>\n",
       "      <th></th>\n",
       "      <th></th>\n",
       "      <th></th>\n",
       "      <th></th>\n",
       "      <th></th>\n",
       "      <th></th>\n",
       "    </tr>\n",
       "  </thead>\n",
       "  <tbody>\n",
       "    <tr>\n",
       "      <th>2018-02-28 17:05:00</th>\n",
       "      <td>3989.984</td>\n",
       "      <td>3990.598</td>\n",
       "      <td>3986.918</td>\n",
       "      <td>3988.145</td>\n",
       "      <td>905</td>\n",
       "      <td>1</td>\n",
       "      <td>3290</td>\n",
       "      <td>WDO$</td>\n",
       "      <td>5M</td>\n",
       "      <td>3986.9798</td>\n",
       "      <td>False</td>\n",
       "      <td>True</td>\n",
       "    </tr>\n",
       "    <tr>\n",
       "      <th>2018-03-05 11:50:00</th>\n",
       "      <td>4010.219</td>\n",
       "      <td>4010.219</td>\n",
       "      <td>4006.540</td>\n",
       "      <td>4007.767</td>\n",
       "      <td>1505</td>\n",
       "      <td>1</td>\n",
       "      <td>5281</td>\n",
       "      <td>WDO$</td>\n",
       "      <td>5M</td>\n",
       "      <td>4007.4602</td>\n",
       "      <td>False</td>\n",
       "      <td>True</td>\n",
       "    </tr>\n",
       "    <tr>\n",
       "      <th>2018-03-06 11:55:00</th>\n",
       "      <td>3966.683</td>\n",
       "      <td>3967.297</td>\n",
       "      <td>3965.457</td>\n",
       "      <td>3967.297</td>\n",
       "      <td>1824</td>\n",
       "      <td>1</td>\n",
       "      <td>7055</td>\n",
       "      <td>WDO$</td>\n",
       "      <td>5M</td>\n",
       "      <td>3965.8863</td>\n",
       "      <td>False</td>\n",
       "      <td>True</td>\n",
       "    </tr>\n",
       "    <tr>\n",
       "      <th>2018-03-09 15:20:00</th>\n",
       "      <td>3996.116</td>\n",
       "      <td>3997.343</td>\n",
       "      <td>3993.663</td>\n",
       "      <td>3996.116</td>\n",
       "      <td>2043</td>\n",
       "      <td>1</td>\n",
       "      <td>7612</td>\n",
       "      <td>WDO$</td>\n",
       "      <td>5M</td>\n",
       "      <td>3995.0431</td>\n",
       "      <td>False</td>\n",
       "      <td>True</td>\n",
       "    </tr>\n",
       "    <tr>\n",
       "      <th>2018-03-12 11:55:00</th>\n",
       "      <td>4005.927</td>\n",
       "      <td>4006.540</td>\n",
       "      <td>4004.088</td>\n",
       "      <td>4005.314</td>\n",
       "      <td>1304</td>\n",
       "      <td>1</td>\n",
       "      <td>4492</td>\n",
       "      <td>WDO$</td>\n",
       "      <td>5M</td>\n",
       "      <td>4004.4556</td>\n",
       "      <td>False</td>\n",
       "      <td>True</td>\n",
       "    </tr>\n",
       "    <tr>\n",
       "      <th>...</th>\n",
       "      <td>...</td>\n",
       "      <td>...</td>\n",
       "      <td>...</td>\n",
       "      <td>...</td>\n",
       "      <td>...</td>\n",
       "      <td>...</td>\n",
       "      <td>...</td>\n",
       "      <td>...</td>\n",
       "      <td>...</td>\n",
       "      <td>...</td>\n",
       "      <td>...</td>\n",
       "      <td>...</td>\n",
       "    </tr>\n",
       "    <tr>\n",
       "      <th>2023-03-10 09:00:00</th>\n",
       "      <td>5175.000</td>\n",
       "      <td>5187.500</td>\n",
       "      <td>5175.000</td>\n",
       "      <td>5187.500</td>\n",
       "      <td>17860</td>\n",
       "      <td>1</td>\n",
       "      <td>50405</td>\n",
       "      <td>WDO$</td>\n",
       "      <td>5M</td>\n",
       "      <td>5184.2500</td>\n",
       "      <td>False</td>\n",
       "      <td>True</td>\n",
       "    </tr>\n",
       "    <tr>\n",
       "      <th>2023-03-10 10:30:00</th>\n",
       "      <td>5220.000</td>\n",
       "      <td>5243.500</td>\n",
       "      <td>5204.000</td>\n",
       "      <td>5207.000</td>\n",
       "      <td>48460</td>\n",
       "      <td>1</td>\n",
       "      <td>156464</td>\n",
       "      <td>WDO$</td>\n",
       "      <td>5M</td>\n",
       "      <td>5204.6000</td>\n",
       "      <td>False</td>\n",
       "      <td>True</td>\n",
       "    </tr>\n",
       "    <tr>\n",
       "      <th>2023-03-13 13:55:00</th>\n",
       "      <td>5260.000</td>\n",
       "      <td>5262.500</td>\n",
       "      <td>5257.500</td>\n",
       "      <td>5259.500</td>\n",
       "      <td>5487</td>\n",
       "      <td>1</td>\n",
       "      <td>17878</td>\n",
       "      <td>WDO$</td>\n",
       "      <td>5M</td>\n",
       "      <td>5258.1750</td>\n",
       "      <td>False</td>\n",
       "      <td>True</td>\n",
       "    </tr>\n",
       "    <tr>\n",
       "      <th>2023-03-15 09:50:00</th>\n",
       "      <td>5300.500</td>\n",
       "      <td>5302.000</td>\n",
       "      <td>5294.000</td>\n",
       "      <td>5297.500</td>\n",
       "      <td>17715</td>\n",
       "      <td>1</td>\n",
       "      <td>53425</td>\n",
       "      <td>WDO$</td>\n",
       "      <td>5M</td>\n",
       "      <td>5297.0500</td>\n",
       "      <td>False</td>\n",
       "      <td>True</td>\n",
       "    </tr>\n",
       "    <tr>\n",
       "      <th>2023-03-17 11:00:00</th>\n",
       "      <td>5280.000</td>\n",
       "      <td>5280.000</td>\n",
       "      <td>5269.500</td>\n",
       "      <td>5277.500</td>\n",
       "      <td>16134</td>\n",
       "      <td>1</td>\n",
       "      <td>56245</td>\n",
       "      <td>WDO$</td>\n",
       "      <td>5M</td>\n",
       "      <td>5271.5000</td>\n",
       "      <td>False</td>\n",
       "      <td>True</td>\n",
       "    </tr>\n",
       "  </tbody>\n",
       "</table>\n",
       "<p>1052 rows × 12 columns</p>\n",
       "</div>"
      ],
      "text/plain": [
       "                         open      high       low     close  tick_volume  \\\n",
       "time                                                                       \n",
       "2018-02-28 17:05:00  3989.984  3990.598  3986.918  3988.145          905   \n",
       "2018-03-05 11:50:00  4010.219  4010.219  4006.540  4007.767         1505   \n",
       "2018-03-06 11:55:00  3966.683  3967.297  3965.457  3967.297         1824   \n",
       "2018-03-09 15:20:00  3996.116  3997.343  3993.663  3996.116         2043   \n",
       "2018-03-12 11:55:00  4005.927  4006.540  4004.088  4005.314         1304   \n",
       "...                       ...       ...       ...       ...          ...   \n",
       "2023-03-10 09:00:00  5175.000  5187.500  5175.000  5187.500        17860   \n",
       "2023-03-10 10:30:00  5220.000  5243.500  5204.000  5207.000        48460   \n",
       "2023-03-13 13:55:00  5260.000  5262.500  5257.500  5259.500         5487   \n",
       "2023-03-15 09:50:00  5300.500  5302.000  5294.000  5297.500        17715   \n",
       "2023-03-17 11:00:00  5280.000  5280.000  5269.500  5277.500        16134   \n",
       "\n",
       "                     spread  real_volume ticker timeframe         mm  entrada  \\\n",
       "time                                                                            \n",
       "2018-02-28 17:05:00       1         3290   WDO$        5M  3986.9798    False   \n",
       "2018-03-05 11:50:00       1         5281   WDO$        5M  4007.4602    False   \n",
       "2018-03-06 11:55:00       1         7055   WDO$        5M  3965.8863    False   \n",
       "2018-03-09 15:20:00       1         7612   WDO$        5M  3995.0431    False   \n",
       "2018-03-12 11:55:00       1         4492   WDO$        5M  4004.4556    False   \n",
       "...                     ...          ...    ...       ...        ...      ...   \n",
       "2023-03-10 09:00:00       1        50405   WDO$        5M  5184.2500    False   \n",
       "2023-03-10 10:30:00       1       156464   WDO$        5M  5204.6000    False   \n",
       "2023-03-13 13:55:00       1        17878   WDO$        5M  5258.1750    False   \n",
       "2023-03-15 09:50:00       1        53425   WDO$        5M  5297.0500    False   \n",
       "2023-03-17 11:00:00       1        56245   WDO$        5M  5271.5000    False   \n",
       "\n",
       "                     sinal_compra  \n",
       "time                               \n",
       "2018-02-28 17:05:00          True  \n",
       "2018-03-05 11:50:00          True  \n",
       "2018-03-06 11:55:00          True  \n",
       "2018-03-09 15:20:00          True  \n",
       "2018-03-12 11:55:00          True  \n",
       "...                           ...  \n",
       "2023-03-10 09:00:00          True  \n",
       "2023-03-10 10:30:00          True  \n",
       "2023-03-13 13:55:00          True  \n",
       "2023-03-15 09:50:00          True  \n",
       "2023-03-17 11:00:00          True  \n",
       "\n",
       "[1052 rows x 12 columns]"
      ]
     },
     "execution_count": 6,
     "metadata": {},
     "output_type": "execute_result"
    }
   ],
   "source": [
    "halt_compra = df[df['sinal_compra'] == True]\n",
    "halt_compra"
   ]
  },
  {
   "attachments": {},
   "cell_type": "markdown",
   "metadata": {},
   "source": [
    "### ***3.1 Plots candles sinalizadores***"
   ]
  },
  {
   "attachments": {},
   "cell_type": "markdown",
   "metadata": {},
   "source": [
    "**Nota:** Aqui você consegue plotar os sinais pelo numero do índice"
   ]
  },
  {
   "cell_type": "code",
   "execution_count": 157,
   "metadata": {},
   "outputs": [
    {
     "data": {
      "application/vnd.plotly.v1+json": {
       "config": {
        "plotlyServerURL": "https://plot.ly"
       },
       "data": [
        {
         "close": [
          4586.397,
          4587.004,
          4586.397,
          4586.397,
          4589.43,
          4589.43,
          4594.284,
          4597.317,
          4592.464,
          4588.217,
          4583.97
         ],
         "decreasing": {
          "line": {
           "color": "red"
          }
         },
         "high": [
          4589.43,
          4592.464,
          4588.824,
          4589.43,
          4590.037,
          4591.857,
          4594.89,
          4598.53,
          4597.924,
          4593.677,
          4588.824
         ],
         "increasing": {
          "line": {
           "color": "green"
          }
         },
         "low": [
          4585.184,
          4583.97,
          4584.577,
          4585.184,
          4585.79,
          4588.824,
          4587.61,
          4592.464,
          4592.464,
          4585.79,
          4580.937
         ],
         "name": "WDO$",
         "open": [
          4587.61,
          4585.79,
          4587.61,
          4587.004,
          4586.397,
          4589.43,
          4589.43,
          4593.677,
          4597.924,
          4593.07,
          4588.217
         ],
         "showlegend": true,
         "type": "candlestick",
         "x": [
          "2018-06-20T16:15:00",
          "2018-06-20T16:20:00",
          "2018-06-20T16:25:00",
          "2018-06-20T16:30:00",
          "2018-06-20T16:35:00",
          "2018-06-20T16:40:00",
          "2018-06-20T16:45:00",
          "2018-06-20T16:50:00",
          "2018-06-20T16:55:00",
          "2018-06-20T17:00:00",
          "2018-06-20T17:05:00"
         ]
        },
        {
         "marker": {
          "color": "black"
         },
         "name": "MM",
         "type": "scatter",
         "x": [
          "2018-06-20T16:15:00",
          "2018-06-20T16:20:00",
          "2018-06-20T16:25:00",
          "2018-06-20T16:30:00",
          "2018-06-20T16:35:00",
          "2018-06-20T16:40:00",
          "2018-06-20T16:45:00",
          "2018-06-20T16:50:00",
          "2018-06-20T16:55:00",
          "2018-06-20T17:00:00",
          "2018-06-20T17:05:00"
         ],
         "y": [
          4569.471,
          4570.95735,
          4572.3527,
          4573.7783500000005,
          4575.3556499999995,
          4576.811650000001,
          4578.571,
          4580.45165,
          4581.877350000001,
          4582.9087,
          4583.78835
         ]
        }
       ],
       "layout": {
        "height": 400,
        "legend": {
         "orientation": "h",
         "x": 1,
         "xanchor": "right",
         "y": 1.02,
         "yanchor": "bottom"
        },
        "margin": {
         "b": 20,
         "l": 20,
         "r": 20,
         "t": 70
        },
        "paper_bgcolor": "#f7f8fa",
        "shapes": [
         {
          "fillcolor": "gray",
          "opacity": 0.25,
          "type": "rect",
          "x0": "2018-06-20T17:03:00",
          "x1": "2018-06-20T17:07:00",
          "xref": "x",
          "y0": 0,
          "y1": 1,
          "yref": "y domain"
         }
        ],
        "template": {
         "data": {
          "bar": [
           {
            "error_x": {
             "color": "rgb(36,36,36)"
            },
            "error_y": {
             "color": "rgb(36,36,36)"
            },
            "marker": {
             "line": {
              "color": "white",
              "width": 0.5
             },
             "pattern": {
              "fillmode": "overlay",
              "size": 10,
              "solidity": 0.2
             }
            },
            "type": "bar"
           }
          ],
          "barpolar": [
           {
            "marker": {
             "line": {
              "color": "white",
              "width": 0.5
             },
             "pattern": {
              "fillmode": "overlay",
              "size": 10,
              "solidity": 0.2
             }
            },
            "type": "barpolar"
           }
          ],
          "carpet": [
           {
            "aaxis": {
             "endlinecolor": "rgb(36,36,36)",
             "gridcolor": "white",
             "linecolor": "white",
             "minorgridcolor": "white",
             "startlinecolor": "rgb(36,36,36)"
            },
            "baxis": {
             "endlinecolor": "rgb(36,36,36)",
             "gridcolor": "white",
             "linecolor": "white",
             "minorgridcolor": "white",
             "startlinecolor": "rgb(36,36,36)"
            },
            "type": "carpet"
           }
          ],
          "choropleth": [
           {
            "colorbar": {
             "outlinewidth": 1,
             "tickcolor": "rgb(36,36,36)",
             "ticks": "outside"
            },
            "type": "choropleth"
           }
          ],
          "contour": [
           {
            "colorbar": {
             "outlinewidth": 1,
             "tickcolor": "rgb(36,36,36)",
             "ticks": "outside"
            },
            "colorscale": [
             [
              0,
              "#440154"
             ],
             [
              0.1111111111111111,
              "#482878"
             ],
             [
              0.2222222222222222,
              "#3e4989"
             ],
             [
              0.3333333333333333,
              "#31688e"
             ],
             [
              0.4444444444444444,
              "#26828e"
             ],
             [
              0.5555555555555556,
              "#1f9e89"
             ],
             [
              0.6666666666666666,
              "#35b779"
             ],
             [
              0.7777777777777778,
              "#6ece58"
             ],
             [
              0.8888888888888888,
              "#b5de2b"
             ],
             [
              1,
              "#fde725"
             ]
            ],
            "type": "contour"
           }
          ],
          "contourcarpet": [
           {
            "colorbar": {
             "outlinewidth": 1,
             "tickcolor": "rgb(36,36,36)",
             "ticks": "outside"
            },
            "type": "contourcarpet"
           }
          ],
          "heatmap": [
           {
            "colorbar": {
             "outlinewidth": 1,
             "tickcolor": "rgb(36,36,36)",
             "ticks": "outside"
            },
            "colorscale": [
             [
              0,
              "#440154"
             ],
             [
              0.1111111111111111,
              "#482878"
             ],
             [
              0.2222222222222222,
              "#3e4989"
             ],
             [
              0.3333333333333333,
              "#31688e"
             ],
             [
              0.4444444444444444,
              "#26828e"
             ],
             [
              0.5555555555555556,
              "#1f9e89"
             ],
             [
              0.6666666666666666,
              "#35b779"
             ],
             [
              0.7777777777777778,
              "#6ece58"
             ],
             [
              0.8888888888888888,
              "#b5de2b"
             ],
             [
              1,
              "#fde725"
             ]
            ],
            "type": "heatmap"
           }
          ],
          "heatmapgl": [
           {
            "colorbar": {
             "outlinewidth": 1,
             "tickcolor": "rgb(36,36,36)",
             "ticks": "outside"
            },
            "colorscale": [
             [
              0,
              "#440154"
             ],
             [
              0.1111111111111111,
              "#482878"
             ],
             [
              0.2222222222222222,
              "#3e4989"
             ],
             [
              0.3333333333333333,
              "#31688e"
             ],
             [
              0.4444444444444444,
              "#26828e"
             ],
             [
              0.5555555555555556,
              "#1f9e89"
             ],
             [
              0.6666666666666666,
              "#35b779"
             ],
             [
              0.7777777777777778,
              "#6ece58"
             ],
             [
              0.8888888888888888,
              "#b5de2b"
             ],
             [
              1,
              "#fde725"
             ]
            ],
            "type": "heatmapgl"
           }
          ],
          "histogram": [
           {
            "marker": {
             "line": {
              "color": "white",
              "width": 0.6
             }
            },
            "type": "histogram"
           }
          ],
          "histogram2d": [
           {
            "colorbar": {
             "outlinewidth": 1,
             "tickcolor": "rgb(36,36,36)",
             "ticks": "outside"
            },
            "colorscale": [
             [
              0,
              "#440154"
             ],
             [
              0.1111111111111111,
              "#482878"
             ],
             [
              0.2222222222222222,
              "#3e4989"
             ],
             [
              0.3333333333333333,
              "#31688e"
             ],
             [
              0.4444444444444444,
              "#26828e"
             ],
             [
              0.5555555555555556,
              "#1f9e89"
             ],
             [
              0.6666666666666666,
              "#35b779"
             ],
             [
              0.7777777777777778,
              "#6ece58"
             ],
             [
              0.8888888888888888,
              "#b5de2b"
             ],
             [
              1,
              "#fde725"
             ]
            ],
            "type": "histogram2d"
           }
          ],
          "histogram2dcontour": [
           {
            "colorbar": {
             "outlinewidth": 1,
             "tickcolor": "rgb(36,36,36)",
             "ticks": "outside"
            },
            "colorscale": [
             [
              0,
              "#440154"
             ],
             [
              0.1111111111111111,
              "#482878"
             ],
             [
              0.2222222222222222,
              "#3e4989"
             ],
             [
              0.3333333333333333,
              "#31688e"
             ],
             [
              0.4444444444444444,
              "#26828e"
             ],
             [
              0.5555555555555556,
              "#1f9e89"
             ],
             [
              0.6666666666666666,
              "#35b779"
             ],
             [
              0.7777777777777778,
              "#6ece58"
             ],
             [
              0.8888888888888888,
              "#b5de2b"
             ],
             [
              1,
              "#fde725"
             ]
            ],
            "type": "histogram2dcontour"
           }
          ],
          "mesh3d": [
           {
            "colorbar": {
             "outlinewidth": 1,
             "tickcolor": "rgb(36,36,36)",
             "ticks": "outside"
            },
            "type": "mesh3d"
           }
          ],
          "parcoords": [
           {
            "line": {
             "colorbar": {
              "outlinewidth": 1,
              "tickcolor": "rgb(36,36,36)",
              "ticks": "outside"
             }
            },
            "type": "parcoords"
           }
          ],
          "pie": [
           {
            "automargin": true,
            "type": "pie"
           }
          ],
          "scatter": [
           {
            "fillpattern": {
             "fillmode": "overlay",
             "size": 10,
             "solidity": 0.2
            },
            "type": "scatter"
           }
          ],
          "scatter3d": [
           {
            "line": {
             "colorbar": {
              "outlinewidth": 1,
              "tickcolor": "rgb(36,36,36)",
              "ticks": "outside"
             }
            },
            "marker": {
             "colorbar": {
              "outlinewidth": 1,
              "tickcolor": "rgb(36,36,36)",
              "ticks": "outside"
             }
            },
            "type": "scatter3d"
           }
          ],
          "scattercarpet": [
           {
            "marker": {
             "colorbar": {
              "outlinewidth": 1,
              "tickcolor": "rgb(36,36,36)",
              "ticks": "outside"
             }
            },
            "type": "scattercarpet"
           }
          ],
          "scattergeo": [
           {
            "marker": {
             "colorbar": {
              "outlinewidth": 1,
              "tickcolor": "rgb(36,36,36)",
              "ticks": "outside"
             }
            },
            "type": "scattergeo"
           }
          ],
          "scattergl": [
           {
            "marker": {
             "colorbar": {
              "outlinewidth": 1,
              "tickcolor": "rgb(36,36,36)",
              "ticks": "outside"
             }
            },
            "type": "scattergl"
           }
          ],
          "scattermapbox": [
           {
            "marker": {
             "colorbar": {
              "outlinewidth": 1,
              "tickcolor": "rgb(36,36,36)",
              "ticks": "outside"
             }
            },
            "type": "scattermapbox"
           }
          ],
          "scatterpolar": [
           {
            "marker": {
             "colorbar": {
              "outlinewidth": 1,
              "tickcolor": "rgb(36,36,36)",
              "ticks": "outside"
             }
            },
            "type": "scatterpolar"
           }
          ],
          "scatterpolargl": [
           {
            "marker": {
             "colorbar": {
              "outlinewidth": 1,
              "tickcolor": "rgb(36,36,36)",
              "ticks": "outside"
             }
            },
            "type": "scatterpolargl"
           }
          ],
          "scatterternary": [
           {
            "marker": {
             "colorbar": {
              "outlinewidth": 1,
              "tickcolor": "rgb(36,36,36)",
              "ticks": "outside"
             }
            },
            "type": "scatterternary"
           }
          ],
          "surface": [
           {
            "colorbar": {
             "outlinewidth": 1,
             "tickcolor": "rgb(36,36,36)",
             "ticks": "outside"
            },
            "colorscale": [
             [
              0,
              "#440154"
             ],
             [
              0.1111111111111111,
              "#482878"
             ],
             [
              0.2222222222222222,
              "#3e4989"
             ],
             [
              0.3333333333333333,
              "#31688e"
             ],
             [
              0.4444444444444444,
              "#26828e"
             ],
             [
              0.5555555555555556,
              "#1f9e89"
             ],
             [
              0.6666666666666666,
              "#35b779"
             ],
             [
              0.7777777777777778,
              "#6ece58"
             ],
             [
              0.8888888888888888,
              "#b5de2b"
             ],
             [
              1,
              "#fde725"
             ]
            ],
            "type": "surface"
           }
          ],
          "table": [
           {
            "cells": {
             "fill": {
              "color": "rgb(237,237,237)"
             },
             "line": {
              "color": "white"
             }
            },
            "header": {
             "fill": {
              "color": "rgb(217,217,217)"
             },
             "line": {
              "color": "white"
             }
            },
            "type": "table"
           }
          ]
         },
         "layout": {
          "annotationdefaults": {
           "arrowhead": 0,
           "arrowwidth": 1
          },
          "autotypenumbers": "strict",
          "coloraxis": {
           "colorbar": {
            "outlinewidth": 1,
            "tickcolor": "rgb(36,36,36)",
            "ticks": "outside"
           }
          },
          "colorscale": {
           "diverging": [
            [
             0,
             "rgb(103,0,31)"
            ],
            [
             0.1,
             "rgb(178,24,43)"
            ],
            [
             0.2,
             "rgb(214,96,77)"
            ],
            [
             0.3,
             "rgb(244,165,130)"
            ],
            [
             0.4,
             "rgb(253,219,199)"
            ],
            [
             0.5,
             "rgb(247,247,247)"
            ],
            [
             0.6,
             "rgb(209,229,240)"
            ],
            [
             0.7,
             "rgb(146,197,222)"
            ],
            [
             0.8,
             "rgb(67,147,195)"
            ],
            [
             0.9,
             "rgb(33,102,172)"
            ],
            [
             1,
             "rgb(5,48,97)"
            ]
           ],
           "sequential": [
            [
             0,
             "#440154"
            ],
            [
             0.1111111111111111,
             "#482878"
            ],
            [
             0.2222222222222222,
             "#3e4989"
            ],
            [
             0.3333333333333333,
             "#31688e"
            ],
            [
             0.4444444444444444,
             "#26828e"
            ],
            [
             0.5555555555555556,
             "#1f9e89"
            ],
            [
             0.6666666666666666,
             "#35b779"
            ],
            [
             0.7777777777777778,
             "#6ece58"
            ],
            [
             0.8888888888888888,
             "#b5de2b"
            ],
            [
             1,
             "#fde725"
            ]
           ],
           "sequentialminus": [
            [
             0,
             "#440154"
            ],
            [
             0.1111111111111111,
             "#482878"
            ],
            [
             0.2222222222222222,
             "#3e4989"
            ],
            [
             0.3333333333333333,
             "#31688e"
            ],
            [
             0.4444444444444444,
             "#26828e"
            ],
            [
             0.5555555555555556,
             "#1f9e89"
            ],
            [
             0.6666666666666666,
             "#35b779"
            ],
            [
             0.7777777777777778,
             "#6ece58"
            ],
            [
             0.8888888888888888,
             "#b5de2b"
            ],
            [
             1,
             "#fde725"
            ]
           ]
          },
          "colorway": [
           "#1F77B4",
           "#FF7F0E",
           "#2CA02C",
           "#D62728",
           "#9467BD",
           "#8C564B",
           "#E377C2",
           "#7F7F7F",
           "#BCBD22",
           "#17BECF"
          ],
          "font": {
           "color": "rgb(36,36,36)"
          },
          "geo": {
           "bgcolor": "white",
           "lakecolor": "white",
           "landcolor": "white",
           "showlakes": true,
           "showland": true,
           "subunitcolor": "white"
          },
          "hoverlabel": {
           "align": "left"
          },
          "hovermode": "closest",
          "mapbox": {
           "style": "light"
          },
          "paper_bgcolor": "white",
          "plot_bgcolor": "white",
          "polar": {
           "angularaxis": {
            "gridcolor": "rgb(232,232,232)",
            "linecolor": "rgb(36,36,36)",
            "showgrid": false,
            "showline": true,
            "ticks": "outside"
           },
           "bgcolor": "white",
           "radialaxis": {
            "gridcolor": "rgb(232,232,232)",
            "linecolor": "rgb(36,36,36)",
            "showgrid": false,
            "showline": true,
            "ticks": "outside"
           }
          },
          "scene": {
           "xaxis": {
            "backgroundcolor": "white",
            "gridcolor": "rgb(232,232,232)",
            "gridwidth": 2,
            "linecolor": "rgb(36,36,36)",
            "showbackground": true,
            "showgrid": false,
            "showline": true,
            "ticks": "outside",
            "zeroline": false,
            "zerolinecolor": "rgb(36,36,36)"
           },
           "yaxis": {
            "backgroundcolor": "white",
            "gridcolor": "rgb(232,232,232)",
            "gridwidth": 2,
            "linecolor": "rgb(36,36,36)",
            "showbackground": true,
            "showgrid": false,
            "showline": true,
            "ticks": "outside",
            "zeroline": false,
            "zerolinecolor": "rgb(36,36,36)"
           },
           "zaxis": {
            "backgroundcolor": "white",
            "gridcolor": "rgb(232,232,232)",
            "gridwidth": 2,
            "linecolor": "rgb(36,36,36)",
            "showbackground": true,
            "showgrid": false,
            "showline": true,
            "ticks": "outside",
            "zeroline": false,
            "zerolinecolor": "rgb(36,36,36)"
           }
          },
          "shapedefaults": {
           "fillcolor": "black",
           "line": {
            "width": 0
           },
           "opacity": 0.3
          },
          "ternary": {
           "aaxis": {
            "gridcolor": "rgb(232,232,232)",
            "linecolor": "rgb(36,36,36)",
            "showgrid": false,
            "showline": true,
            "ticks": "outside"
           },
           "baxis": {
            "gridcolor": "rgb(232,232,232)",
            "linecolor": "rgb(36,36,36)",
            "showgrid": false,
            "showline": true,
            "ticks": "outside"
           },
           "bgcolor": "white",
           "caxis": {
            "gridcolor": "rgb(232,232,232)",
            "linecolor": "rgb(36,36,36)",
            "showgrid": false,
            "showline": true,
            "ticks": "outside"
           }
          },
          "title": {
           "x": 0.05
          },
          "xaxis": {
           "automargin": true,
           "gridcolor": "rgb(232,232,232)",
           "linecolor": "rgb(36,36,36)",
           "showgrid": false,
           "showline": true,
           "ticks": "outside",
           "title": {
            "standoff": 15
           },
           "zeroline": false,
           "zerolinecolor": "rgb(36,36,36)"
          },
          "yaxis": {
           "automargin": true,
           "gridcolor": "rgb(232,232,232)",
           "linecolor": "rgb(36,36,36)",
           "showgrid": false,
           "showline": true,
           "ticks": "outside",
           "title": {
            "standoff": 15
           },
           "zeroline": false,
           "zerolinecolor": "rgb(36,36,36)"
          }
         }
        },
        "title": {
         "text": "<b>Candle halt compra"
        },
        "width": 400,
        "xaxis": {
         "rangeslider": {
          "visible": false
         }
        }
       }
      }
     },
     "metadata": {},
     "output_type": "display_data"
    }
   ],
   "source": [
    "n_indice = 13\n",
    "\n",
    "inicio_index = halt_compra.index[n_indice] - timedelta(minutes=50)\n",
    "final_index = halt_compra.index[n_indice]\n",
    "data_range = pd.date_range(start=inicio_index, end=final_index, freq='T')\n",
    "df_figure = df[df.index.isin(data_range)]\n",
    "df_figure = df_figure.iloc[0:11]\n",
    "\n",
    "fig_halt_compra = go.Figure(data=[go.Candlestick(name=halt_compra.ticker[0],x=df_figure.index, open=df_figure['open'], high = df_figure['high'],\n",
    "                                              low=df_figure['low'], close=df_figure['close'],increasing_line_color= 'green',\n",
    "                                              decreasing_line_color= 'red', showlegend=True)])\n",
    "\n",
    "fig_halt_compra.add_vrect(x0=df_figure.index[-2]+timedelta(minutes=3), x1=(df_figure.index[-1]+timedelta(minutes=2)), fillcolor=\"gray\", opacity=0.25)\n",
    "\n",
    "fig_halt_compra.add_trace(go.Scatter(name='MM', x=df_figure.index, y=df_figure['mm'], marker_color='black'))\n",
    "\n",
    "fig_halt_compra = fig_halt_compra.update_layout(xaxis_rangeslider_visible=False, title_text='<b>Candle halt compra',template = 'simple_white',\n",
    "                            margin=dict(l=20, r=20, t=70, b=20), paper_bgcolor=\"#f7f8fa\",width=400,height=400,\n",
    "                            legend=dict(orientation=\"h\",yanchor=\"bottom\",y=1.02,xanchor=\"right\",x=1))\n",
    "\n",
    "fig_halt_compra"
   ]
  },
  {
   "cell_type": "code",
   "execution_count": 16,
   "metadata": {},
   "outputs": [
    {
     "data": {
      "application/vnd.plotly.v1+json": {
       "config": {
        "plotlyServerURL": "https://plot.ly"
       },
       "data": [
        {
         "close": [
          4314.691,
          4312.862,
          4314.082,
          4314.691,
          4315.301,
          4315.911,
          4312.862,
          4306.765,
          4308.595,
          4311.643,
          4309.814,
          4316.52,
          4309.204,
          4311.033,
          4309.204,
          4307.375,
          4306.156,
          4307.375,
          4302.498,
          4301.888,
          4298.84,
          4300.669,
          4302.498,
          4302.498,
          4297.011,
          4300.059,
          4303.107,
          4300.059,
          4301.888,
          4299.449,
          4300.059,
          4302.498,
          4301.888,
          4300.669
         ],
         "decreasing": {
          "line": {
           "color": "red"
          }
         },
         "high": [
          4316.52,
          4317.13,
          4315.911,
          4315.911,
          4316.52,
          4315.911,
          4315.911,
          4312.862,
          4309.814,
          4312.862,
          4312.253,
          4317.74,
          4319.569,
          4311.643,
          4311.033,
          4311.033,
          4309.204,
          4308.595,
          4307.375,
          4303.107,
          4302.498,
          4301.278,
          4303.107,
          4303.107,
          4303.107,
          4300.669,
          4303.717,
          4304.327,
          4303.107,
          4302.498,
          4300.059,
          4302.498,
          4303.107,
          4302.498
         ],
         "increasing": {
          "line": {
           "color": "green"
          }
         },
         "low": [
          4312.862,
          4312.862,
          4312.253,
          4311.643,
          4314.691,
          4312.253,
          4311.033,
          4306.156,
          4305.546,
          4308.595,
          4307.985,
          4309.814,
          4309.204,
          4307.375,
          4309.204,
          4307.375,
          4305.546,
          4305.546,
          4301.888,
          4300.059,
          4297.62,
          4297.62,
          4300.059,
          4298.84,
          4296.401,
          4296.401,
          4300.059,
          4299.449,
          4298.84,
          4298.23,
          4297.011,
          4298.84,
          4301.278,
          4300.059
         ],
         "name": "WDO$",
         "open": [
          4315.301,
          4314.082,
          4312.862,
          4314.082,
          4315.301,
          4314.691,
          4315.911,
          4312.253,
          4306.765,
          4309.204,
          4312.253,
          4310.424,
          4317.13,
          4309.204,
          4310.424,
          4309.204,
          4307.985,
          4305.546,
          4306.765,
          4301.888,
          4301.888,
          4298.84,
          4300.669,
          4301.888,
          4302.498,
          4297.011,
          4300.059,
          4303.107,
          4300.059,
          4301.888,
          4300.059,
          4300.669,
          4302.498,
          4301.888
         ],
         "showlegend": true,
         "type": "candlestick",
         "x": [
          "2018-05-04T12:20:00",
          "2018-05-04T12:25:00",
          "2018-05-04T12:30:00",
          "2018-05-04T12:35:00",
          "2018-05-04T12:40:00",
          "2018-05-04T12:45:00",
          "2018-05-04T12:50:00",
          "2018-05-04T12:55:00",
          "2018-05-04T13:00:00",
          "2018-05-04T13:05:00",
          "2018-05-04T13:10:00",
          "2018-05-04T13:15:00",
          "2018-05-04T13:20:00",
          "2018-05-04T13:25:00",
          "2018-05-04T13:30:00",
          "2018-05-04T13:35:00",
          "2018-05-04T13:40:00",
          "2018-05-04T13:45:00",
          "2018-05-04T13:50:00",
          "2018-05-04T13:55:00",
          "2018-05-04T14:00:00",
          "2018-05-04T14:05:00",
          "2018-05-04T14:10:00",
          "2018-05-04T14:15:00",
          "2018-05-04T14:20:00",
          "2018-05-04T14:25:00",
          "2018-05-04T14:30:00",
          "2018-05-04T14:35:00",
          "2018-05-04T14:40:00",
          "2018-05-04T14:45:00",
          "2018-05-04T14:50:00",
          "2018-05-04T14:55:00",
          "2018-05-04T15:00:00",
          "2018-05-04T15:05:00"
         ]
        },
        {
         "line": {
          "color": "black",
          "dash": "dash",
          "width": 3
         },
         "mode": "lines+text",
         "name": "Entrada",
         "showlegend": true,
         "text": [
          " Máx sinal + 1 tick"
         ],
         "textposition": "top right",
         "type": "scatter",
         "x": [
          "2018-05-04T12:33:00",
          "2018-05-04T15:05:00"
         ],
         "y": [
          4315.921,
          4315.921
         ]
        },
        {
         "line": {
          "color": "red",
          "dash": "dash",
          "width": 3
         },
         "mode": "lines+text",
         "name": "Stop Loss",
         "showlegend": true,
         "text": [
          " Mín sinal - 1 tick"
         ],
         "textposition": "bottom right",
         "type": "scatter",
         "x": [
          "2018-05-04T12:33:00",
          "2018-05-04T15:05:00"
         ],
         "y": [
          4311.633,
          4311.633
         ]
        },
        {
         "line": {
          "color": "green",
          "dash": "dash",
          "width": 3
         },
         "mode": "lines+text",
         "name": "Take profit",
         "showlegend": true,
         "text": [
          "Proj. 2x candle sinal"
         ],
         "textposition": "top right",
         "type": "scatter",
         "x": [
          "2018-05-04T12:33:00",
          "2018-05-04T15:05:00"
         ],
         "y": [
          4324.457,
          4324.457
         ]
        },
        {
         "marker": {
          "color": "black"
         },
         "name": "mm",
         "type": "scatter",
         "x": [
          "2018-05-04T12:20:00",
          "2018-05-04T12:25:00",
          "2018-05-04T12:30:00",
          "2018-05-04T12:35:00",
          "2018-05-04T12:40:00",
          "2018-05-04T12:45:00",
          "2018-05-04T12:50:00",
          "2018-05-04T12:55:00",
          "2018-05-04T13:00:00",
          "2018-05-04T13:05:00",
          "2018-05-04T13:10:00",
          "2018-05-04T13:15:00",
          "2018-05-04T13:20:00",
          "2018-05-04T13:25:00",
          "2018-05-04T13:30:00",
          "2018-05-04T13:35:00",
          "2018-05-04T13:40:00",
          "2018-05-04T13:45:00",
          "2018-05-04T13:50:00",
          "2018-05-04T13:55:00",
          "2018-05-04T14:00:00",
          "2018-05-04T14:05:00",
          "2018-05-04T14:10:00",
          "2018-05-04T14:15:00",
          "2018-05-04T14:20:00",
          "2018-05-04T14:25:00",
          "2018-05-04T14:30:00",
          "2018-05-04T14:35:00",
          "2018-05-04T14:40:00",
          "2018-05-04T14:45:00",
          "2018-05-04T14:50:00",
          "2018-05-04T14:55:00",
          "2018-05-04T15:00:00",
          "2018-05-04T15:05:00"
         ],
         "y": [
          4312.008749999999,
          4312.00875,
          4312.069750000001,
          4312.03925,
          4312.25265,
          4312.49655,
          4312.43555,
          4311.9478,
          4311.88685,
          4312.0088000000005,
          4312.374600000001,
          4313.01475,
          4313.0452000000005,
          4313.167100000001,
          4313.075650000001,
          4312.67935,
          4312.28305,
          4311.85625,
          4311.09415,
          4310.4235,
          4309.630950000001,
          4309.0213,
          4308.4421,
          4307.83245,
          4306.917950000001,
          4306.12535,
          4305.6376,
          4305.3023,
          4304.96695,
          4304.357249999999,
          4303.8695,
          4303.1684,
          4302.8026,
          4302.2844
         ]
        }
       ],
       "layout": {
        "font": {
         "color": "black",
         "family": "Arial",
         "size": 17
        },
        "height": 600,
        "legend": {
         "orientation": "h",
         "x": 1.05,
         "xanchor": "right",
         "y": 1.1,
         "yanchor": "top"
        },
        "margin": {
         "b": 20,
         "l": 20,
         "r": 20,
         "t": 100
        },
        "paper_bgcolor": "#f7f8fa",
        "shapes": [
         {
          "fillcolor": "gray",
          "opacity": 0.25,
          "type": "rect",
          "x0": "2018-05-04T12:33:00",
          "x1": "2018-05-04T12:37:00",
          "xref": "x",
          "y0": 0,
          "y1": 1,
          "yref": "y domain"
         }
        ],
        "template": {
         "data": {
          "bar": [
           {
            "error_x": {
             "color": "rgb(36,36,36)"
            },
            "error_y": {
             "color": "rgb(36,36,36)"
            },
            "marker": {
             "line": {
              "color": "white",
              "width": 0.5
             },
             "pattern": {
              "fillmode": "overlay",
              "size": 10,
              "solidity": 0.2
             }
            },
            "type": "bar"
           }
          ],
          "barpolar": [
           {
            "marker": {
             "line": {
              "color": "white",
              "width": 0.5
             },
             "pattern": {
              "fillmode": "overlay",
              "size": 10,
              "solidity": 0.2
             }
            },
            "type": "barpolar"
           }
          ],
          "carpet": [
           {
            "aaxis": {
             "endlinecolor": "rgb(36,36,36)",
             "gridcolor": "white",
             "linecolor": "white",
             "minorgridcolor": "white",
             "startlinecolor": "rgb(36,36,36)"
            },
            "baxis": {
             "endlinecolor": "rgb(36,36,36)",
             "gridcolor": "white",
             "linecolor": "white",
             "minorgridcolor": "white",
             "startlinecolor": "rgb(36,36,36)"
            },
            "type": "carpet"
           }
          ],
          "choropleth": [
           {
            "colorbar": {
             "outlinewidth": 1,
             "tickcolor": "rgb(36,36,36)",
             "ticks": "outside"
            },
            "type": "choropleth"
           }
          ],
          "contour": [
           {
            "colorbar": {
             "outlinewidth": 1,
             "tickcolor": "rgb(36,36,36)",
             "ticks": "outside"
            },
            "colorscale": [
             [
              0,
              "#440154"
             ],
             [
              0.1111111111111111,
              "#482878"
             ],
             [
              0.2222222222222222,
              "#3e4989"
             ],
             [
              0.3333333333333333,
              "#31688e"
             ],
             [
              0.4444444444444444,
              "#26828e"
             ],
             [
              0.5555555555555556,
              "#1f9e89"
             ],
             [
              0.6666666666666666,
              "#35b779"
             ],
             [
              0.7777777777777778,
              "#6ece58"
             ],
             [
              0.8888888888888888,
              "#b5de2b"
             ],
             [
              1,
              "#fde725"
             ]
            ],
            "type": "contour"
           }
          ],
          "contourcarpet": [
           {
            "colorbar": {
             "outlinewidth": 1,
             "tickcolor": "rgb(36,36,36)",
             "ticks": "outside"
            },
            "type": "contourcarpet"
           }
          ],
          "heatmap": [
           {
            "colorbar": {
             "outlinewidth": 1,
             "tickcolor": "rgb(36,36,36)",
             "ticks": "outside"
            },
            "colorscale": [
             [
              0,
              "#440154"
             ],
             [
              0.1111111111111111,
              "#482878"
             ],
             [
              0.2222222222222222,
              "#3e4989"
             ],
             [
              0.3333333333333333,
              "#31688e"
             ],
             [
              0.4444444444444444,
              "#26828e"
             ],
             [
              0.5555555555555556,
              "#1f9e89"
             ],
             [
              0.6666666666666666,
              "#35b779"
             ],
             [
              0.7777777777777778,
              "#6ece58"
             ],
             [
              0.8888888888888888,
              "#b5de2b"
             ],
             [
              1,
              "#fde725"
             ]
            ],
            "type": "heatmap"
           }
          ],
          "heatmapgl": [
           {
            "colorbar": {
             "outlinewidth": 1,
             "tickcolor": "rgb(36,36,36)",
             "ticks": "outside"
            },
            "colorscale": [
             [
              0,
              "#440154"
             ],
             [
              0.1111111111111111,
              "#482878"
             ],
             [
              0.2222222222222222,
              "#3e4989"
             ],
             [
              0.3333333333333333,
              "#31688e"
             ],
             [
              0.4444444444444444,
              "#26828e"
             ],
             [
              0.5555555555555556,
              "#1f9e89"
             ],
             [
              0.6666666666666666,
              "#35b779"
             ],
             [
              0.7777777777777778,
              "#6ece58"
             ],
             [
              0.8888888888888888,
              "#b5de2b"
             ],
             [
              1,
              "#fde725"
             ]
            ],
            "type": "heatmapgl"
           }
          ],
          "histogram": [
           {
            "marker": {
             "line": {
              "color": "white",
              "width": 0.6
             }
            },
            "type": "histogram"
           }
          ],
          "histogram2d": [
           {
            "colorbar": {
             "outlinewidth": 1,
             "tickcolor": "rgb(36,36,36)",
             "ticks": "outside"
            },
            "colorscale": [
             [
              0,
              "#440154"
             ],
             [
              0.1111111111111111,
              "#482878"
             ],
             [
              0.2222222222222222,
              "#3e4989"
             ],
             [
              0.3333333333333333,
              "#31688e"
             ],
             [
              0.4444444444444444,
              "#26828e"
             ],
             [
              0.5555555555555556,
              "#1f9e89"
             ],
             [
              0.6666666666666666,
              "#35b779"
             ],
             [
              0.7777777777777778,
              "#6ece58"
             ],
             [
              0.8888888888888888,
              "#b5de2b"
             ],
             [
              1,
              "#fde725"
             ]
            ],
            "type": "histogram2d"
           }
          ],
          "histogram2dcontour": [
           {
            "colorbar": {
             "outlinewidth": 1,
             "tickcolor": "rgb(36,36,36)",
             "ticks": "outside"
            },
            "colorscale": [
             [
              0,
              "#440154"
             ],
             [
              0.1111111111111111,
              "#482878"
             ],
             [
              0.2222222222222222,
              "#3e4989"
             ],
             [
              0.3333333333333333,
              "#31688e"
             ],
             [
              0.4444444444444444,
              "#26828e"
             ],
             [
              0.5555555555555556,
              "#1f9e89"
             ],
             [
              0.6666666666666666,
              "#35b779"
             ],
             [
              0.7777777777777778,
              "#6ece58"
             ],
             [
              0.8888888888888888,
              "#b5de2b"
             ],
             [
              1,
              "#fde725"
             ]
            ],
            "type": "histogram2dcontour"
           }
          ],
          "mesh3d": [
           {
            "colorbar": {
             "outlinewidth": 1,
             "tickcolor": "rgb(36,36,36)",
             "ticks": "outside"
            },
            "type": "mesh3d"
           }
          ],
          "parcoords": [
           {
            "line": {
             "colorbar": {
              "outlinewidth": 1,
              "tickcolor": "rgb(36,36,36)",
              "ticks": "outside"
             }
            },
            "type": "parcoords"
           }
          ],
          "pie": [
           {
            "automargin": true,
            "type": "pie"
           }
          ],
          "scatter": [
           {
            "fillpattern": {
             "fillmode": "overlay",
             "size": 10,
             "solidity": 0.2
            },
            "type": "scatter"
           }
          ],
          "scatter3d": [
           {
            "line": {
             "colorbar": {
              "outlinewidth": 1,
              "tickcolor": "rgb(36,36,36)",
              "ticks": "outside"
             }
            },
            "marker": {
             "colorbar": {
              "outlinewidth": 1,
              "tickcolor": "rgb(36,36,36)",
              "ticks": "outside"
             }
            },
            "type": "scatter3d"
           }
          ],
          "scattercarpet": [
           {
            "marker": {
             "colorbar": {
              "outlinewidth": 1,
              "tickcolor": "rgb(36,36,36)",
              "ticks": "outside"
             }
            },
            "type": "scattercarpet"
           }
          ],
          "scattergeo": [
           {
            "marker": {
             "colorbar": {
              "outlinewidth": 1,
              "tickcolor": "rgb(36,36,36)",
              "ticks": "outside"
             }
            },
            "type": "scattergeo"
           }
          ],
          "scattergl": [
           {
            "marker": {
             "colorbar": {
              "outlinewidth": 1,
              "tickcolor": "rgb(36,36,36)",
              "ticks": "outside"
             }
            },
            "type": "scattergl"
           }
          ],
          "scattermapbox": [
           {
            "marker": {
             "colorbar": {
              "outlinewidth": 1,
              "tickcolor": "rgb(36,36,36)",
              "ticks": "outside"
             }
            },
            "type": "scattermapbox"
           }
          ],
          "scatterpolar": [
           {
            "marker": {
             "colorbar": {
              "outlinewidth": 1,
              "tickcolor": "rgb(36,36,36)",
              "ticks": "outside"
             }
            },
            "type": "scatterpolar"
           }
          ],
          "scatterpolargl": [
           {
            "marker": {
             "colorbar": {
              "outlinewidth": 1,
              "tickcolor": "rgb(36,36,36)",
              "ticks": "outside"
             }
            },
            "type": "scatterpolargl"
           }
          ],
          "scatterternary": [
           {
            "marker": {
             "colorbar": {
              "outlinewidth": 1,
              "tickcolor": "rgb(36,36,36)",
              "ticks": "outside"
             }
            },
            "type": "scatterternary"
           }
          ],
          "surface": [
           {
            "colorbar": {
             "outlinewidth": 1,
             "tickcolor": "rgb(36,36,36)",
             "ticks": "outside"
            },
            "colorscale": [
             [
              0,
              "#440154"
             ],
             [
              0.1111111111111111,
              "#482878"
             ],
             [
              0.2222222222222222,
              "#3e4989"
             ],
             [
              0.3333333333333333,
              "#31688e"
             ],
             [
              0.4444444444444444,
              "#26828e"
             ],
             [
              0.5555555555555556,
              "#1f9e89"
             ],
             [
              0.6666666666666666,
              "#35b779"
             ],
             [
              0.7777777777777778,
              "#6ece58"
             ],
             [
              0.8888888888888888,
              "#b5de2b"
             ],
             [
              1,
              "#fde725"
             ]
            ],
            "type": "surface"
           }
          ],
          "table": [
           {
            "cells": {
             "fill": {
              "color": "rgb(237,237,237)"
             },
             "line": {
              "color": "white"
             }
            },
            "header": {
             "fill": {
              "color": "rgb(217,217,217)"
             },
             "line": {
              "color": "white"
             }
            },
            "type": "table"
           }
          ]
         },
         "layout": {
          "annotationdefaults": {
           "arrowhead": 0,
           "arrowwidth": 1
          },
          "autotypenumbers": "strict",
          "coloraxis": {
           "colorbar": {
            "outlinewidth": 1,
            "tickcolor": "rgb(36,36,36)",
            "ticks": "outside"
           }
          },
          "colorscale": {
           "diverging": [
            [
             0,
             "rgb(103,0,31)"
            ],
            [
             0.1,
             "rgb(178,24,43)"
            ],
            [
             0.2,
             "rgb(214,96,77)"
            ],
            [
             0.3,
             "rgb(244,165,130)"
            ],
            [
             0.4,
             "rgb(253,219,199)"
            ],
            [
             0.5,
             "rgb(247,247,247)"
            ],
            [
             0.6,
             "rgb(209,229,240)"
            ],
            [
             0.7,
             "rgb(146,197,222)"
            ],
            [
             0.8,
             "rgb(67,147,195)"
            ],
            [
             0.9,
             "rgb(33,102,172)"
            ],
            [
             1,
             "rgb(5,48,97)"
            ]
           ],
           "sequential": [
            [
             0,
             "#440154"
            ],
            [
             0.1111111111111111,
             "#482878"
            ],
            [
             0.2222222222222222,
             "#3e4989"
            ],
            [
             0.3333333333333333,
             "#31688e"
            ],
            [
             0.4444444444444444,
             "#26828e"
            ],
            [
             0.5555555555555556,
             "#1f9e89"
            ],
            [
             0.6666666666666666,
             "#35b779"
            ],
            [
             0.7777777777777778,
             "#6ece58"
            ],
            [
             0.8888888888888888,
             "#b5de2b"
            ],
            [
             1,
             "#fde725"
            ]
           ],
           "sequentialminus": [
            [
             0,
             "#440154"
            ],
            [
             0.1111111111111111,
             "#482878"
            ],
            [
             0.2222222222222222,
             "#3e4989"
            ],
            [
             0.3333333333333333,
             "#31688e"
            ],
            [
             0.4444444444444444,
             "#26828e"
            ],
            [
             0.5555555555555556,
             "#1f9e89"
            ],
            [
             0.6666666666666666,
             "#35b779"
            ],
            [
             0.7777777777777778,
             "#6ece58"
            ],
            [
             0.8888888888888888,
             "#b5de2b"
            ],
            [
             1,
             "#fde725"
            ]
           ]
          },
          "colorway": [
           "#1F77B4",
           "#FF7F0E",
           "#2CA02C",
           "#D62728",
           "#9467BD",
           "#8C564B",
           "#E377C2",
           "#7F7F7F",
           "#BCBD22",
           "#17BECF"
          ],
          "font": {
           "color": "rgb(36,36,36)"
          },
          "geo": {
           "bgcolor": "white",
           "lakecolor": "white",
           "landcolor": "white",
           "showlakes": true,
           "showland": true,
           "subunitcolor": "white"
          },
          "hoverlabel": {
           "align": "left"
          },
          "hovermode": "closest",
          "mapbox": {
           "style": "light"
          },
          "paper_bgcolor": "white",
          "plot_bgcolor": "white",
          "polar": {
           "angularaxis": {
            "gridcolor": "rgb(232,232,232)",
            "linecolor": "rgb(36,36,36)",
            "showgrid": false,
            "showline": true,
            "ticks": "outside"
           },
           "bgcolor": "white",
           "radialaxis": {
            "gridcolor": "rgb(232,232,232)",
            "linecolor": "rgb(36,36,36)",
            "showgrid": false,
            "showline": true,
            "ticks": "outside"
           }
          },
          "scene": {
           "xaxis": {
            "backgroundcolor": "white",
            "gridcolor": "rgb(232,232,232)",
            "gridwidth": 2,
            "linecolor": "rgb(36,36,36)",
            "showbackground": true,
            "showgrid": false,
            "showline": true,
            "ticks": "outside",
            "zeroline": false,
            "zerolinecolor": "rgb(36,36,36)"
           },
           "yaxis": {
            "backgroundcolor": "white",
            "gridcolor": "rgb(232,232,232)",
            "gridwidth": 2,
            "linecolor": "rgb(36,36,36)",
            "showbackground": true,
            "showgrid": false,
            "showline": true,
            "ticks": "outside",
            "zeroline": false,
            "zerolinecolor": "rgb(36,36,36)"
           },
           "zaxis": {
            "backgroundcolor": "white",
            "gridcolor": "rgb(232,232,232)",
            "gridwidth": 2,
            "linecolor": "rgb(36,36,36)",
            "showbackground": true,
            "showgrid": false,
            "showline": true,
            "ticks": "outside",
            "zeroline": false,
            "zerolinecolor": "rgb(36,36,36)"
           }
          },
          "shapedefaults": {
           "fillcolor": "black",
           "line": {
            "width": 0
           },
           "opacity": 0.3
          },
          "ternary": {
           "aaxis": {
            "gridcolor": "rgb(232,232,232)",
            "linecolor": "rgb(36,36,36)",
            "showgrid": false,
            "showline": true,
            "ticks": "outside"
           },
           "baxis": {
            "gridcolor": "rgb(232,232,232)",
            "linecolor": "rgb(36,36,36)",
            "showgrid": false,
            "showline": true,
            "ticks": "outside"
           },
           "bgcolor": "white",
           "caxis": {
            "gridcolor": "rgb(232,232,232)",
            "linecolor": "rgb(36,36,36)",
            "showgrid": false,
            "showline": true,
            "ticks": "outside"
           }
          },
          "title": {
           "x": 0.05
          },
          "xaxis": {
           "automargin": true,
           "gridcolor": "rgb(232,232,232)",
           "linecolor": "rgb(36,36,36)",
           "showgrid": false,
           "showline": true,
           "ticks": "outside",
           "title": {
            "standoff": 15
           },
           "zeroline": false,
           "zerolinecolor": "rgb(36,36,36)"
          },
          "yaxis": {
           "automargin": true,
           "gridcolor": "rgb(232,232,232)",
           "linecolor": "rgb(36,36,36)",
           "showgrid": false,
           "showline": true,
           "ticks": "outside",
           "title": {
            "standoff": 15
           },
           "zeroline": false,
           "zerolinecolor": "rgb(36,36,36)"
          }
         }
        },
        "title": {
         "text": "<b>PFR Compra Take profit / Stop loss"
        },
        "width": 800,
        "xaxis": {
         "rangeslider": {
          "visible": false
         }
        }
       }
      }
     },
     "metadata": {},
     "output_type": "display_data"
    }
   ],
   "source": [
    "# esse número representa cada candle sinalizador observado no filtro anterior (código da última semana)\n",
    "n_indice = 10\n",
    "\n",
    "# aqui pegaremos tres candles anteriores ao sinal (10 min, sendo timeframe de 5min) e 15 candles à frente (75min)\n",
    "inicio_index = halt_compra.index[n_indice] - timedelta(minutes=15)\n",
    "final_index = halt_compra.index[n_indice] + timedelta(minutes=150)\n",
    "\n",
    "# filtramos nosso dataframe de ohlc\n",
    "data_range = pd.date_range(start=inicio_index, end=final_index, freq='T')\n",
    "df_figure = df[df.index.isin(data_range)]\n",
    "\n",
    "# dessa forma apresentaremos 15 candles, sendo o sinal o terceiro candle (indexação 2 no python, já que começa do zero)\n",
    "df_figure = df_figure.iloc[0:50]\n",
    "candle_sinal = 3\n",
    "\n",
    "# condições de entrada, alvos e stops descritos no post\n",
    "entrada = df_figure.high.iloc[candle_sinal] + 0.01\n",
    "stop_loss_candle_sinal = df_figure.low.iloc[candle_sinal] - 0.01\n",
    "alvo_2x_candle_sinal = entrada + 2*(df_figure.high.iloc[candle_sinal] - df_figure.low.iloc[candle_sinal])\n",
    "\n",
    "# Candlesticks\n",
    "fig_halt_compra_result = go.Figure(data=[go.Candlestick(name=halt_compra.ticker[0],x=df_figure.index, open=df_figure['open'], high = df_figure['high'],\n",
    "                                              low=df_figure['low'], close=df_figure['close'],increasing_line_color= 'green',\n",
    "                                              decreasing_line_color= 'red', showlegend=True)])\n",
    "\n",
    "# Candle sinal e entrada\n",
    "fig_halt_compra_result.add_vrect(x0=df_figure.index[candle_sinal]-timedelta(minutes=2), x1=(df_figure.index[candle_sinal]+timedelta(minutes=2)), fillcolor=\"gray\", opacity=0.25)\n",
    "\n",
    "fig_halt_compra_result.add_trace(go.Scatter(x=[df_figure.index[candle_sinal]-timedelta(minutes=2),df_figure.index[-1]], \n",
    "                                    y=[df_figure.high[candle_sinal]+0.01,df_figure.high[candle_sinal]+0.01],\n",
    "                                    mode=\"lines+text\", line_width=3, line_dash=\"dash\", line_color=\"black\",\n",
    "                                    name=\"Entrada\", text=[\" Máx sinal + 1 tick\"], textposition=\"top right\", showlegend=True))\n",
    "\n",
    "# Linha delimitação do Stop loss\n",
    "fig_halt_compra_result.add_trace(go.Scatter(x=[df_figure.index[candle_sinal]-timedelta(minutes=2), df_figure.index[-1]], \n",
    "                                    y=[stop_loss_candle_sinal, stop_loss_candle_sinal],\n",
    "                                    mode=\"lines+text\", line_width=3, line_dash=\"dash\", line_color=\"red\",\n",
    "                                    name=\"Stop Loss\", text=[\" Mín sinal - 1 tick\"], textposition=\"bottom right\", showlegend=True))\n",
    "\n",
    "# Linha delimitação do Take profit\n",
    "fig_halt_compra_result.add_trace(go.Scatter(x=[df_figure.index[candle_sinal]-timedelta(minutes=2),df_figure.index[-1]], \n",
    "                                    y=[alvo_2x_candle_sinal, alvo_2x_candle_sinal],\n",
    "                                    mode=\"lines+text\", line_width=3, line_dash=\"dash\", line_color=\"green\",\n",
    "                                    name=\"Take profit\", text=[\"Proj. 2x candle sinal\"], textposition=\"top right\", showlegend=True))\n",
    "\n",
    "fig_halt_compra_result.add_trace(go.Scatter(name='mm', x=df_figure.index, y=df_figure['mm'], marker_color='black'))\n",
    "\n",
    "# Configurações do layout, como fundo branco, tamanho da imagem, margens, titulo do gráfico...\n",
    "fig_halt_compra_result.update_layout(xaxis_rangeslider_visible=False, title_text='<b>PFR Compra Take profit / Stop loss',template = 'simple_white',\n",
    "                            margin=dict(l=20, r=20, t=100, b=20), paper_bgcolor=\"#f7f8fa\",width=800,height=600,\n",
    "                            font=dict(family=\"Arial\",size=17, color = 'black'),\n",
    "                            legend=dict(orientation=\"h\",yanchor=\"top\",y=1.1,xanchor=\"right\",x=1.05))"
   ]
  },
  {
   "attachments": {},
   "cell_type": "markdown",
   "metadata": {},
   "source": [
    "## **4 - Organizando preços de entrada, stop loss e take profit**"
   ]
  },
  {
   "attachments": {},
   "cell_type": "markdown",
   "metadata": {},
   "source": [
    "### ***4.1 Retorno 1 para 2***"
   ]
  },
  {
   "cell_type": "code",
   "execution_count": 28,
   "metadata": {},
   "outputs": [
    {
     "name": "stderr",
     "output_type": "stream",
     "text": [
      "C:\\Users\\joaog\\AppData\\Local\\Temp\\ipykernel_7764\\102676024.py:18: SettingWithCopyWarning:\n",
      "\n",
      "\n",
      "A value is trying to be set on a copy of a slice from a DataFrame\n",
      "\n",
      "See the caveats in the documentation: https://pandas.pydata.org/pandas-docs/stable/user_guide/indexing.html#returning-a-view-versus-a-copy\n",
      "\n"
     ]
    },
    {
     "data": {
      "text/plain": [
       "305    1.030942\n",
       "Name: Capital, dtype: float64"
      ]
     },
     "execution_count": 28,
     "metadata": {},
     "output_type": "execute_result"
    }
   ],
   "source": [
    "tick_min = 0.5\n",
    "alvo = 2\n",
    "position = 0\n",
    "\n",
    "ls_precos_compra = []\n",
    "ls_datas_compras = []\n",
    "ls_precos_venda = []\n",
    "ls_datas_vendas = []\n",
    "\n",
    "for i in range(len(df)):\n",
    "    if (position==0) and (df['sinal_compra'].iloc[i]==True) and (df['open'].index[i].hour<16):\n",
    "        max_prox_candle = df['high'].shift(-1).iloc[i]\n",
    "        condicao_entrada = (max_prox_candle >= (df['high'].iloc[i] + tick_min))\n",
    "\n",
    "        if condicao_entrada == True:\n",
    "            min_prox_candle = df['low'].shift(-1).iloc[i]\n",
    "            position = 1\n",
    "            df['entrada'].iloc[i] = True           \n",
    "            preco_compra = df['high'].iloc[i] + tick_min\n",
    "            ls_precos_compra.append(preco_compra)\n",
    "            ls_datas_compras.append(df.index[i+1])\n",
    "            stop_loss = df['low'].iloc[i] - tick_min\n",
    "            take_profit = preco_compra + ((df['high'].iloc[i] - df['low'].iloc[i])*alvo)\n",
    "\n",
    "            if min_prox_candle < df['low'].iloc[i]:\n",
    "                ls_precos_venda.append(stop_loss)\n",
    "                ls_datas_vendas.append(df.index[i+1])\n",
    "                position = 0\n",
    "\n",
    "    elif (position==1) and ( (df['low'].iloc[i] <= stop_loss) or (df['open'].index[i].hour > 17) ):\n",
    "        ls_precos_venda.append(stop_loss)\n",
    "        ls_datas_vendas.append(df.index[i])\n",
    "        position = 0\n",
    "\n",
    "    elif (position==1) and ( (df['high'].iloc[i] >= take_profit) or (df['open'].index[i].hour > 17) ):\n",
    "        ls_precos_venda.append(take_profit)\n",
    "        ls_datas_vendas.append(df.index[i])\n",
    "        position = 0 \n",
    "\n",
    "tabela_resultados = pd.DataFrame(zip(ls_datas_compras, ls_precos_compra, ls_datas_vendas, ls_precos_venda), columns=['Data_compra', 'Preco_compra', 'Data_venda', 'Preco_venda'])\n",
    "tabela_resultados['Data_compra'] = pd.to_datetime(tabela_resultados['Data_compra'], errors='ignore')\n",
    "tabela_resultados['Data_venda'] = pd.to_datetime(tabela_resultados['Data_venda'], errors='ignore')\n",
    "tabela_resultados['Capital'] = tabela_resultados.Preco_venda / tabela_resultados.Preco_compra\n",
    "tabela_resultados['Capital'].cumprod()[-1:]"
   ]
  },
  {
   "cell_type": "code",
   "execution_count": 62,
   "metadata": {},
   "outputs": [
    {
     "name": "stderr",
     "output_type": "stream",
     "text": [
      "C:\\Users\\joaog\\AppData\\Local\\Temp\\ipykernel_7764\\350819699.py:23: SettingWithCopyWarning:\n",
      "\n",
      "\n",
      "A value is trying to be set on a copy of a slice from a DataFrame\n",
      "\n",
      "See the caveats in the documentation: https://pandas.pydata.org/pandas-docs/stable/user_guide/indexing.html#returning-a-view-versus-a-copy\n",
      "\n",
      "C:\\Users\\joaog\\AppData\\Local\\Temp\\ipykernel_7764\\350819699.py:23: SettingWithCopyWarning:\n",
      "\n",
      "\n",
      "A value is trying to be set on a copy of a slice from a DataFrame\n",
      "\n",
      "See the caveats in the documentation: https://pandas.pydata.org/pandas-docs/stable/user_guide/indexing.html#returning-a-view-versus-a-copy\n",
      "\n",
      "C:\\Users\\joaog\\AppData\\Local\\Temp\\ipykernel_7764\\350819699.py:23: SettingWithCopyWarning:\n",
      "\n",
      "\n",
      "A value is trying to be set on a copy of a slice from a DataFrame\n",
      "\n",
      "See the caveats in the documentation: https://pandas.pydata.org/pandas-docs/stable/user_guide/indexing.html#returning-a-view-versus-a-copy\n",
      "\n",
      "C:\\Users\\joaog\\AppData\\Local\\Temp\\ipykernel_7764\\350819699.py:23: SettingWithCopyWarning:\n",
      "\n",
      "\n",
      "A value is trying to be set on a copy of a slice from a DataFrame\n",
      "\n",
      "See the caveats in the documentation: https://pandas.pydata.org/pandas-docs/stable/user_guide/indexing.html#returning-a-view-versus-a-copy\n",
      "\n",
      "C:\\Users\\joaog\\AppData\\Local\\Temp\\ipykernel_7764\\350819699.py:23: SettingWithCopyWarning:\n",
      "\n",
      "\n",
      "A value is trying to be set on a copy of a slice from a DataFrame\n",
      "\n",
      "See the caveats in the documentation: https://pandas.pydata.org/pandas-docs/stable/user_guide/indexing.html#returning-a-view-versus-a-copy\n",
      "\n",
      "C:\\Users\\joaog\\AppData\\Local\\Temp\\ipykernel_7764\\350819699.py:23: SettingWithCopyWarning:\n",
      "\n",
      "\n",
      "A value is trying to be set on a copy of a slice from a DataFrame\n",
      "\n",
      "See the caveats in the documentation: https://pandas.pydata.org/pandas-docs/stable/user_guide/indexing.html#returning-a-view-versus-a-copy\n",
      "\n",
      "C:\\Users\\joaog\\AppData\\Local\\Temp\\ipykernel_7764\\350819699.py:23: SettingWithCopyWarning:\n",
      "\n",
      "\n",
      "A value is trying to be set on a copy of a slice from a DataFrame\n",
      "\n",
      "See the caveats in the documentation: https://pandas.pydata.org/pandas-docs/stable/user_guide/indexing.html#returning-a-view-versus-a-copy\n",
      "\n",
      "C:\\Users\\joaog\\AppData\\Local\\Temp\\ipykernel_7764\\350819699.py:23: SettingWithCopyWarning:\n",
      "\n",
      "\n",
      "A value is trying to be set on a copy of a slice from a DataFrame\n",
      "\n",
      "See the caveats in the documentation: https://pandas.pydata.org/pandas-docs/stable/user_guide/indexing.html#returning-a-view-versus-a-copy\n",
      "\n",
      "C:\\Users\\joaog\\AppData\\Local\\Temp\\ipykernel_7764\\350819699.py:23: SettingWithCopyWarning:\n",
      "\n",
      "\n",
      "A value is trying to be set on a copy of a slice from a DataFrame\n",
      "\n",
      "See the caveats in the documentation: https://pandas.pydata.org/pandas-docs/stable/user_guide/indexing.html#returning-a-view-versus-a-copy\n",
      "\n",
      "C:\\Users\\joaog\\AppData\\Local\\Temp\\ipykernel_7764\\350819699.py:23: SettingWithCopyWarning:\n",
      "\n",
      "\n",
      "A value is trying to be set on a copy of a slice from a DataFrame\n",
      "\n",
      "See the caveats in the documentation: https://pandas.pydata.org/pandas-docs/stable/user_guide/indexing.html#returning-a-view-versus-a-copy\n",
      "\n",
      "C:\\Users\\joaog\\AppData\\Local\\Temp\\ipykernel_7764\\350819699.py:23: SettingWithCopyWarning:\n",
      "\n",
      "\n",
      "A value is trying to be set on a copy of a slice from a DataFrame\n",
      "\n",
      "See the caveats in the documentation: https://pandas.pydata.org/pandas-docs/stable/user_guide/indexing.html#returning-a-view-versus-a-copy\n",
      "\n",
      "C:\\Users\\joaog\\AppData\\Local\\Temp\\ipykernel_7764\\350819699.py:23: SettingWithCopyWarning:\n",
      "\n",
      "\n",
      "A value is trying to be set on a copy of a slice from a DataFrame\n",
      "\n",
      "See the caveats in the documentation: https://pandas.pydata.org/pandas-docs/stable/user_guide/indexing.html#returning-a-view-versus-a-copy\n",
      "\n",
      "C:\\Users\\joaog\\AppData\\Local\\Temp\\ipykernel_7764\\350819699.py:23: SettingWithCopyWarning:\n",
      "\n",
      "\n",
      "A value is trying to be set on a copy of a slice from a DataFrame\n",
      "\n",
      "See the caveats in the documentation: https://pandas.pydata.org/pandas-docs/stable/user_guide/indexing.html#returning-a-view-versus-a-copy\n",
      "\n",
      "C:\\Users\\joaog\\AppData\\Local\\Temp\\ipykernel_7764\\350819699.py:23: SettingWithCopyWarning:\n",
      "\n",
      "\n",
      "A value is trying to be set on a copy of a slice from a DataFrame\n",
      "\n",
      "See the caveats in the documentation: https://pandas.pydata.org/pandas-docs/stable/user_guide/indexing.html#returning-a-view-versus-a-copy\n",
      "\n",
      "C:\\Users\\joaog\\AppData\\Local\\Temp\\ipykernel_7764\\350819699.py:23: SettingWithCopyWarning:\n",
      "\n",
      "\n",
      "A value is trying to be set on a copy of a slice from a DataFrame\n",
      "\n",
      "See the caveats in the documentation: https://pandas.pydata.org/pandas-docs/stable/user_guide/indexing.html#returning-a-view-versus-a-copy\n",
      "\n",
      "C:\\Users\\joaog\\AppData\\Local\\Temp\\ipykernel_7764\\350819699.py:23: SettingWithCopyWarning:\n",
      "\n",
      "\n",
      "A value is trying to be set on a copy of a slice from a DataFrame\n",
      "\n",
      "See the caveats in the documentation: https://pandas.pydata.org/pandas-docs/stable/user_guide/indexing.html#returning-a-view-versus-a-copy\n",
      "\n"
     ]
    },
    {
     "data": {
      "text/plain": [
       "{0.3: 0.9835612269775432,\n",
       " 0.5: 0.977079404863089,\n",
       " 0.7: 0.9862448461549345,\n",
       " 1: 1.0094639614695649,\n",
       " 1.2: 0.9934752383234534,\n",
       " 1.5: 1.0153353924662643,\n",
       " 2: 1.0309422522184735,\n",
       " 2.5: 1.0446594220976382,\n",
       " 3: 1.016515135044958,\n",
       " 4: 0.9838072100436185,\n",
       " 5: 0.9151234345943995,\n",
       " 6: 0.8848525553823826,\n",
       " 7: 0.8735624883836633,\n",
       " 8: 0.892299607144056,\n",
       " 9: 0.8895915999406738,\n",
       " 10: 0.8810885508554912}"
      ]
     },
     "execution_count": 62,
     "metadata": {},
     "output_type": "execute_result"
    }
   ],
   "source": [
    "alvos = {0.3:None, 0.5:None, 0.7:None, 1:None, 1.2:None, 1.5:None, 2:None, 2.5:None, 3:None, 4:None, 5:None, 6:None,\n",
    "         7:None, 8:None, 9:None, 10:None}\n",
    "\n",
    "for key, value in alvos.items():\n",
    "\n",
    "    tick_min = 0.5\n",
    "    alvo = key\n",
    "    position = 0\n",
    "\n",
    "    ls_precos_compra = []\n",
    "    ls_datas_compras = []\n",
    "    ls_precos_venda = []\n",
    "    ls_datas_vendas = []\n",
    "\n",
    "    for i in range(len(df)):\n",
    "        if (position==0) and (df['sinal_compra'].iloc[i]==True) and (df['open'].index[i].hour<16):\n",
    "            max_prox_candle = df['high'].shift(-1).iloc[i]\n",
    "            condicao_entrada = (max_prox_candle >= (df['high'].iloc[i] + tick_min))\n",
    "\n",
    "            if condicao_entrada == True:\n",
    "                min_prox_candle = df['low'].shift(-1).iloc[i]\n",
    "                position = 1\n",
    "                df['entrada'].iloc[i] = True           \n",
    "                preco_compra = df['high'].iloc[i] + tick_min\n",
    "                ls_precos_compra.append(preco_compra)\n",
    "                ls_datas_compras.append(df.index[i+1])\n",
    "                stop_loss = df['low'].iloc[i] - tick_min\n",
    "                take_profit = preco_compra + ((df['high'].iloc[i] - df['low'].iloc[i])*alvo)\n",
    "\n",
    "                if min_prox_candle < df['low'].iloc[i]:\n",
    "                    ls_precos_venda.append(stop_loss)\n",
    "                    ls_datas_vendas.append(df.index[i+1])\n",
    "                    position = 0\n",
    "\n",
    "        elif (position==1) and ( (df['low'].iloc[i] <= stop_loss) or (df['open'].index[i].hour > 17) ):\n",
    "            ls_precos_venda.append(stop_loss)\n",
    "            ls_datas_vendas.append(df.index[i])\n",
    "            position = 0\n",
    "\n",
    "        elif (position==1) and ( (df['high'].iloc[i] >= take_profit) or (df['open'].index[i].hour > 17) ):\n",
    "            ls_precos_venda.append(take_profit)\n",
    "            ls_datas_vendas.append(df.index[i])\n",
    "            position = 0 \n",
    "\n",
    "    tabela_resultados = pd.DataFrame(zip(ls_datas_compras, ls_precos_compra, ls_datas_vendas, ls_precos_venda), columns=['Data_compra', 'Preco_compra', 'Data_venda', 'Preco_venda'])\n",
    "    tabela_resultados['Data_compra'] = pd.to_datetime(tabela_resultados['Data_compra'], errors='ignore')\n",
    "    tabela_resultados['Data_venda'] = pd.to_datetime(tabela_resultados['Data_venda'], errors='ignore')\n",
    "    tabela_resultados['Capital'] = tabela_resultados.Preco_venda / tabela_resultados.Preco_compra\n",
    "    tabela_resultados['Capital_acumulado'] = tabela_resultados['Capital'].cumprod()\n",
    "    alvos[key] = (tabela_resultados['Capital_acumulado'].iloc[-1])\n",
    "alvos"
   ]
  },
  {
   "cell_type": "code",
   "execution_count": 66,
   "metadata": {},
   "outputs": [
    {
     "data": {
      "text/plain": [
       "{0.3: 0.9835612269775432,\n",
       " 0.5: 0.977079404863089,\n",
       " 0.7: 0.9862448461549345,\n",
       " 1: 1.0094639614695649,\n",
       " 1.2: 0.9934752383234534,\n",
       " 1.5: 1.0153353924662643,\n",
       " 2: 1.0309422522184735,\n",
       " 2.5: 1.0446594220976382,\n",
       " 3: 1.016515135044958,\n",
       " 4: 0.9838072100436185,\n",
       " 5: 0.9151234345943995,\n",
       " 6: 0.8848525553823826,\n",
       " 7: 0.8735624883836633,\n",
       " 8: 0.892299607144056,\n",
       " 9: 0.8895915999406738,\n",
       " 10: 0.8810885508554912}"
      ]
     },
     "execution_count": 66,
     "metadata": {},
     "output_type": "execute_result"
    }
   ],
   "source": [
    "alvos"
   ]
  },
  {
   "cell_type": "code",
   "execution_count": 68,
   "metadata": {},
   "outputs": [
    {
     "data": {
      "text/plain": [
       "<Axes: >"
      ]
     },
     "execution_count": 68,
     "metadata": {},
     "output_type": "execute_result"
    },
    {
     "data": {
      "image/png": "[encoded data removed]",
      "text/plain": [
       "<Figure size 640x480 with 1 Axes>"
      ]
     },
     "metadata": {},
     "output_type": "display_data"
    }
   ],
   "source": [
    "grafico_alvos = pd.Series(alvos)\n",
    "grafico_alvos.plot()"
   ]
  },
  {
   "cell_type": "code",
   "execution_count": 42,
   "metadata": {},
   "outputs": [
    {
     "data": {
      "text/plain": [
       "1.016515135044958"
      ]
     },
     "execution_count": 42,
     "metadata": {},
     "output_type": "execute_result"
    }
   ],
   "source": [
    "tabela_resultados['Capital_acumulado'].iloc[-1]"
   ]
  },
  {
   "cell_type": "code",
   "execution_count": null,
   "metadata": {},
   "outputs": [],
   "source": []
  },
  {
   "cell_type": "code",
   "execution_count": null,
   "metadata": {},
   "outputs": [],
   "source": []
  },
  {
   "cell_type": "code",
   "execution_count": null,
   "metadata": {},
   "outputs": [],
   "source": [
    "def alavancagem(preco_compra_2, preco_venda_2):\n",
    "\n",
    "if preco_venda_2 > preco_compra_2:\n",
    "    return True"
   ]
  },
  {
   "cell_type": "code",
   "execution_count": 17,
   "metadata": {},
   "outputs": [
    {
     "data": {
      "text/html": [
       "<div>\n",
       "<style scoped>\n",
       "    .dataframe tbody tr th:only-of-type {\n",
       "        vertical-align: middle;\n",
       "    }\n",
       "\n",
       "    .dataframe tbody tr th {\n",
       "        vertical-align: top;\n",
       "    }\n",
       "\n",
       "    .dataframe thead th {\n",
       "        text-align: right;\n",
       "    }\n",
       "</style>\n",
       "<table border=\"1\" class=\"dataframe\">\n",
       "  <thead>\n",
       "    <tr style=\"text-align: right;\">\n",
       "      <th></th>\n",
       "      <th>open</th>\n",
       "      <th>high</th>\n",
       "      <th>low</th>\n",
       "      <th>close</th>\n",
       "      <th>tick_volume</th>\n",
       "      <th>spread</th>\n",
       "      <th>real_volume</th>\n",
       "      <th>ticker</th>\n",
       "      <th>timeframe</th>\n",
       "      <th>mm</th>\n",
       "      <th>entrada</th>\n",
       "      <th>sinal_compra</th>\n",
       "    </tr>\n",
       "    <tr>\n",
       "      <th>time</th>\n",
       "      <th></th>\n",
       "      <th></th>\n",
       "      <th></th>\n",
       "      <th></th>\n",
       "      <th></th>\n",
       "      <th></th>\n",
       "      <th></th>\n",
       "      <th></th>\n",
       "      <th></th>\n",
       "      <th></th>\n",
       "      <th></th>\n",
       "      <th></th>\n",
       "    </tr>\n",
       "  </thead>\n",
       "  <tbody>\n",
       "    <tr>\n",
       "      <th>2018-03-06 11:55:00</th>\n",
       "      <td>3966.683</td>\n",
       "      <td>3967.297</td>\n",
       "      <td>3965.457</td>\n",
       "      <td>3967.297</td>\n",
       "      <td>1824</td>\n",
       "      <td>1</td>\n",
       "      <td>7055</td>\n",
       "      <td>WDO$</td>\n",
       "      <td>5M</td>\n",
       "      <td>3965.88630</td>\n",
       "      <td>True</td>\n",
       "      <td>True</td>\n",
       "    </tr>\n",
       "    <tr>\n",
       "      <th>2018-03-14 13:15:00</th>\n",
       "      <td>4005.927</td>\n",
       "      <td>4006.540</td>\n",
       "      <td>4004.701</td>\n",
       "      <td>4005.314</td>\n",
       "      <td>1651</td>\n",
       "      <td>1</td>\n",
       "      <td>6288</td>\n",
       "      <td>WDO$</td>\n",
       "      <td>5M</td>\n",
       "      <td>4005.22190</td>\n",
       "      <td>True</td>\n",
       "      <td>True</td>\n",
       "    </tr>\n",
       "    <tr>\n",
       "      <th>2018-03-27 14:55:00</th>\n",
       "      <td>4085.641</td>\n",
       "      <td>4085.641</td>\n",
       "      <td>4083.188</td>\n",
       "      <td>4083.801</td>\n",
       "      <td>1757</td>\n",
       "      <td>1</td>\n",
       "      <td>6930</td>\n",
       "      <td>WDO$</td>\n",
       "      <td>5M</td>\n",
       "      <td>4083.64825</td>\n",
       "      <td>True</td>\n",
       "      <td>True</td>\n",
       "    </tr>\n",
       "    <tr>\n",
       "      <th>2018-03-28 12:50:00</th>\n",
       "      <td>4094.226</td>\n",
       "      <td>4095.452</td>\n",
       "      <td>4093.612</td>\n",
       "      <td>4094.839</td>\n",
       "      <td>1656</td>\n",
       "      <td>1</td>\n",
       "      <td>6550</td>\n",
       "      <td>WDO$</td>\n",
       "      <td>5M</td>\n",
       "      <td>4093.85765</td>\n",
       "      <td>True</td>\n",
       "      <td>True</td>\n",
       "    </tr>\n",
       "    <tr>\n",
       "      <th>2018-03-29 10:20:00</th>\n",
       "      <td>4077.045</td>\n",
       "      <td>4077.045</td>\n",
       "      <td>4074.599</td>\n",
       "      <td>4076.434</td>\n",
       "      <td>1913</td>\n",
       "      <td>1</td>\n",
       "      <td>5787</td>\n",
       "      <td>WDO$</td>\n",
       "      <td>5M</td>\n",
       "      <td>4074.81355</td>\n",
       "      <td>True</td>\n",
       "      <td>True</td>\n",
       "    </tr>\n",
       "    <tr>\n",
       "      <th>...</th>\n",
       "      <td>...</td>\n",
       "      <td>...</td>\n",
       "      <td>...</td>\n",
       "      <td>...</td>\n",
       "      <td>...</td>\n",
       "      <td>...</td>\n",
       "      <td>...</td>\n",
       "      <td>...</td>\n",
       "      <td>...</td>\n",
       "      <td>...</td>\n",
       "      <td>...</td>\n",
       "      <td>...</td>\n",
       "    </tr>\n",
       "    <tr>\n",
       "      <th>2023-02-24 10:25:00</th>\n",
       "      <td>5201.278</td>\n",
       "      <td>5201.781</td>\n",
       "      <td>5192.220</td>\n",
       "      <td>5198.762</td>\n",
       "      <td>16536</td>\n",
       "      <td>1</td>\n",
       "      <td>50184</td>\n",
       "      <td>WDO$</td>\n",
       "      <td>5M</td>\n",
       "      <td>5196.32120</td>\n",
       "      <td>True</td>\n",
       "      <td>True</td>\n",
       "    </tr>\n",
       "    <tr>\n",
       "      <th>2023-03-10 09:00:00</th>\n",
       "      <td>5175.000</td>\n",
       "      <td>5187.500</td>\n",
       "      <td>5175.000</td>\n",
       "      <td>5187.500</td>\n",
       "      <td>17860</td>\n",
       "      <td>1</td>\n",
       "      <td>50405</td>\n",
       "      <td>WDO$</td>\n",
       "      <td>5M</td>\n",
       "      <td>5184.25000</td>\n",
       "      <td>True</td>\n",
       "      <td>True</td>\n",
       "    </tr>\n",
       "    <tr>\n",
       "      <th>2023-03-13 13:55:00</th>\n",
       "      <td>5260.000</td>\n",
       "      <td>5262.500</td>\n",
       "      <td>5257.500</td>\n",
       "      <td>5259.500</td>\n",
       "      <td>5487</td>\n",
       "      <td>1</td>\n",
       "      <td>17878</td>\n",
       "      <td>WDO$</td>\n",
       "      <td>5M</td>\n",
       "      <td>5258.17500</td>\n",
       "      <td>True</td>\n",
       "      <td>True</td>\n",
       "    </tr>\n",
       "    <tr>\n",
       "      <th>2023-03-15 09:50:00</th>\n",
       "      <td>5300.500</td>\n",
       "      <td>5302.000</td>\n",
       "      <td>5294.000</td>\n",
       "      <td>5297.500</td>\n",
       "      <td>17715</td>\n",
       "      <td>1</td>\n",
       "      <td>53425</td>\n",
       "      <td>WDO$</td>\n",
       "      <td>5M</td>\n",
       "      <td>5297.05000</td>\n",
       "      <td>True</td>\n",
       "      <td>True</td>\n",
       "    </tr>\n",
       "    <tr>\n",
       "      <th>2023-03-17 11:00:00</th>\n",
       "      <td>5280.000</td>\n",
       "      <td>5280.000</td>\n",
       "      <td>5269.500</td>\n",
       "      <td>5277.500</td>\n",
       "      <td>16134</td>\n",
       "      <td>1</td>\n",
       "      <td>56245</td>\n",
       "      <td>WDO$</td>\n",
       "      <td>5M</td>\n",
       "      <td>5271.50000</td>\n",
       "      <td>True</td>\n",
       "      <td>True</td>\n",
       "    </tr>\n",
       "  </tbody>\n",
       "</table>\n",
       "<p>306 rows × 12 columns</p>\n",
       "</div>"
      ],
      "text/plain": [
       "                         open      high       low     close  tick_volume  \\\n",
       "time                                                                       \n",
       "2018-03-06 11:55:00  3966.683  3967.297  3965.457  3967.297         1824   \n",
       "2018-03-14 13:15:00  4005.927  4006.540  4004.701  4005.314         1651   \n",
       "2018-03-27 14:55:00  4085.641  4085.641  4083.188  4083.801         1757   \n",
       "2018-03-28 12:50:00  4094.226  4095.452  4093.612  4094.839         1656   \n",
       "2018-03-29 10:20:00  4077.045  4077.045  4074.599  4076.434         1913   \n",
       "...                       ...       ...       ...       ...          ...   \n",
       "2023-02-24 10:25:00  5201.278  5201.781  5192.220  5198.762        16536   \n",
       "2023-03-10 09:00:00  5175.000  5187.500  5175.000  5187.500        17860   \n",
       "2023-03-13 13:55:00  5260.000  5262.500  5257.500  5259.500         5487   \n",
       "2023-03-15 09:50:00  5300.500  5302.000  5294.000  5297.500        17715   \n",
       "2023-03-17 11:00:00  5280.000  5280.000  5269.500  5277.500        16134   \n",
       "\n",
       "                     spread  real_volume ticker timeframe          mm  \\\n",
       "time                                                                    \n",
       "2018-03-06 11:55:00       1         7055   WDO$        5M  3965.88630   \n",
       "2018-03-14 13:15:00       1         6288   WDO$        5M  4005.22190   \n",
       "2018-03-27 14:55:00       1         6930   WDO$        5M  4083.64825   \n",
       "2018-03-28 12:50:00       1         6550   WDO$        5M  4093.85765   \n",
       "2018-03-29 10:20:00       1         5787   WDO$        5M  4074.81355   \n",
       "...                     ...          ...    ...       ...         ...   \n",
       "2023-02-24 10:25:00       1        50184   WDO$        5M  5196.32120   \n",
       "2023-03-10 09:00:00       1        50405   WDO$        5M  5184.25000   \n",
       "2023-03-13 13:55:00       1        17878   WDO$        5M  5258.17500   \n",
       "2023-03-15 09:50:00       1        53425   WDO$        5M  5297.05000   \n",
       "2023-03-17 11:00:00       1        56245   WDO$        5M  5271.50000   \n",
       "\n",
       "                     entrada  sinal_compra  \n",
       "time                                        \n",
       "2018-03-06 11:55:00     True          True  \n",
       "2018-03-14 13:15:00     True          True  \n",
       "2018-03-27 14:55:00     True          True  \n",
       "2018-03-28 12:50:00     True          True  \n",
       "2018-03-29 10:20:00     True          True  \n",
       "...                      ...           ...  \n",
       "2023-02-24 10:25:00     True          True  \n",
       "2023-03-10 09:00:00     True          True  \n",
       "2023-03-13 13:55:00     True          True  \n",
       "2023-03-15 09:50:00     True          True  \n",
       "2023-03-17 11:00:00     True          True  \n",
       "\n",
       "[306 rows x 12 columns]"
      ]
     },
     "execution_count": 17,
     "metadata": {},
     "output_type": "execute_result"
    }
   ],
   "source": [
    "halt_compra"
   ]
  },
  {
   "cell_type": "code",
   "execution_count": 19,
   "metadata": {},
   "outputs": [
    {
     "data": {
      "application/vnd.plotly.v1+json": {
       "config": {
        "plotlyServerURL": "https://plot.ly"
       },
       "data": [
        {
         "close": [
          4435.444,
          4434.251,
          4437.83,
          4434.847,
          4435.444,
          4434.847,
          4436.04,
          4434.847,
          4434.847,
          4434.847,
          4434.251,
          4433.654,
          4435.444,
          4443.796,
          4441.409,
          4440.813,
          4440.813,
          4444.989,
          4443.199,
          4439.62,
          4437.83,
          4437.83,
          4439.62,
          4437.233,
          4439.62,
          4439.023,
          4439.023,
          4438.427,
          4439.023,
          4443.796,
          4442.603,
          4447.375,
          4446.182,
          4446.778,
          4445.585,
          4446.778
         ],
         "decreasing": {
          "line": {
           "color": "red"
          }
         },
         "high": [
          4442.006,
          4439.62,
          4439.62,
          4438.427,
          4437.233,
          4435.444,
          4440.813,
          4439.023,
          4436.637,
          4438.427,
          4437.233,
          4436.04,
          4436.04,
          4444.392,
          4444.392,
          4442.006,
          4441.409,
          4446.778,
          4447.375,
          4443.796,
          4439.62,
          4438.427,
          4439.62,
          4439.62,
          4440.813,
          4439.62,
          4439.62,
          4440.813,
          4439.62,
          4443.796,
          4443.796,
          4450.358,
          4449.761,
          4448.568,
          4449.761,
          4446.778
         ],
         "increasing": {
          "line": {
           "color": "green"
          }
         },
         "low": [
          4434.847,
          4433.058,
          4433.654,
          4433.654,
          4433.654,
          4431.864,
          4434.251,
          4434.847,
          4433.058,
          4433.654,
          4433.058,
          4433.058,
          4433.058,
          4434.251,
          4439.62,
          4440.216,
          4437.233,
          4440.813,
          4440.216,
          4439.023,
          4436.637,
          4435.444,
          4437.233,
          4436.637,
          4434.847,
          4437.83,
          4437.233,
          4436.637,
          4437.83,
          4439.62,
          4440.813,
          4440.813,
          4444.989,
          4443.796,
          4443.796,
          4444.989
         ],
         "name": "WDO$",
         "open": [
          4439.62,
          4436.04,
          4434.251,
          4437.83,
          4434.251,
          4434.847,
          4434.847,
          4436.04,
          4434.847,
          4434.847,
          4434.847,
          4434.251,
          4433.058,
          4436.04,
          4443.796,
          4440.813,
          4440.216,
          4441.409,
          4445.585,
          4442.603,
          4439.023,
          4437.83,
          4437.233,
          4439.62,
          4437.83,
          4439.62,
          4439.023,
          4439.023,
          4439.023,
          4439.62,
          4443.199,
          4442.006,
          4447.972,
          4445.585,
          4446.778,
          4445.585
         ],
         "showlegend": true,
         "type": "candlestick",
         "x": [
          "2019-01-15T13:15:00",
          "2019-01-15T13:20:00",
          "2019-01-15T13:25:00",
          "2019-01-15T13:30:00",
          "2019-01-15T13:35:00",
          "2019-01-15T13:40:00",
          "2019-01-15T13:45:00",
          "2019-01-15T13:50:00",
          "2019-01-15T13:55:00",
          "2019-01-15T14:00:00",
          "2019-01-15T14:05:00",
          "2019-01-15T14:10:00",
          "2019-01-15T14:15:00",
          "2019-01-15T14:20:00",
          "2019-01-15T14:25:00",
          "2019-01-15T14:30:00",
          "2019-01-15T14:35:00",
          "2019-01-15T14:40:00",
          "2019-01-15T14:45:00",
          "2019-01-15T14:50:00",
          "2019-01-15T14:55:00",
          "2019-01-15T15:00:00",
          "2019-01-15T15:05:00",
          "2019-01-15T15:10:00",
          "2019-01-15T15:15:00",
          "2019-01-15T15:20:00",
          "2019-01-15T15:25:00",
          "2019-01-15T15:30:00",
          "2019-01-15T15:35:00",
          "2019-01-15T15:40:00",
          "2019-01-15T15:45:00",
          "2019-01-15T15:50:00",
          "2019-01-15T15:55:00",
          "2019-01-15T16:00:00",
          "2019-01-15T16:05:00",
          "2019-01-15T16:10:00"
         ]
        },
        {
         "line": {
          "color": "black",
          "dash": "dash",
          "width": 3
         },
         "mode": "lines+text",
         "name": "Entrada",
         "showlegend": true,
         "text": [
          " Máx sinal + 1 tick"
         ],
         "textposition": "top right",
         "type": "scatter",
         "x": [
          "2019-01-15T13:38:00",
          "2019-01-15T16:10:00"
         ],
         "y": [
          4435.454000000001,
          4435.454000000001
         ]
        },
        {
         "line": {
          "color": "red",
          "dash": "dash",
          "width": 3
         },
         "mode": "lines+text",
         "name": "Stop Loss",
         "showlegend": true,
         "text": [
          " Mín sinal - 1 tick"
         ],
         "textposition": "bottom right",
         "type": "scatter",
         "x": [
          "2019-01-15T13:38:00",
          "2019-01-15T16:10:00"
         ],
         "y": [
          4431.853999999999,
          4431.853999999999
         ]
        },
        {
         "line": {
          "color": "green",
          "dash": "dash",
          "width": 3
         },
         "mode": "lines+text",
         "name": "Take profit",
         "showlegend": true,
         "text": [
          "Proj. 2x candle sinal"
         ],
         "textposition": "top right",
         "type": "scatter",
         "x": [
          "2019-01-15T13:38:00",
          "2019-01-15T16:10:00"
         ],
         "y": [
          4442.614000000002,
          4442.614000000002
         ]
        },
        {
         "marker": {
          "color": "black"
         },
         "name": "mm",
         "type": "scatter",
         "x": [
          "2019-01-15T13:15:00",
          "2019-01-15T13:20:00",
          "2019-01-15T13:25:00",
          "2019-01-15T13:30:00",
          "2019-01-15T13:35:00",
          "2019-01-15T13:40:00",
          "2019-01-15T13:45:00",
          "2019-01-15T13:50:00",
          "2019-01-15T13:55:00",
          "2019-01-15T14:00:00",
          "2019-01-15T14:05:00",
          "2019-01-15T14:10:00",
          "2019-01-15T14:15:00",
          "2019-01-15T14:20:00",
          "2019-01-15T14:25:00",
          "2019-01-15T14:30:00",
          "2019-01-15T14:35:00",
          "2019-01-15T14:40:00",
          "2019-01-15T14:45:00",
          "2019-01-15T14:50:00",
          "2019-01-15T14:55:00",
          "2019-01-15T15:00:00",
          "2019-01-15T15:05:00",
          "2019-01-15T15:10:00",
          "2019-01-15T15:15:00",
          "2019-01-15T15:20:00",
          "2019-01-15T15:25:00",
          "2019-01-15T15:30:00",
          "2019-01-15T15:35:00",
          "2019-01-15T15:40:00",
          "2019-01-15T15:45:00",
          "2019-01-15T15:50:00",
          "2019-01-15T15:55:00",
          "2019-01-15T16:00:00",
          "2019-01-15T16:05:00",
          "2019-01-15T16:10:00"
         ],
         "y": [
          4427.98675,
          4428.70265,
          4429.53785,
          4430.28355,
          4431.20825,
          4432.1031,
          4432.93825,
          4433.47515,
          4433.833100000001,
          4434.1612000000005,
          4434.370000000001,
          4434.5788,
          4434.6981,
          4434.93675,
          4435.1157,
          4435.443799999999,
          4435.950900000001,
          4436.965050000001,
          4437.5616,
          4437.561599999999,
          4437.6809,
          4437.85985,
          4437.94935,
          4438.06865,
          4438.27745,
          4438.48625,
          4438.6354,
          4438.8144,
          4439.0232,
          4439.47065,
          4439.88825,
          4440.5743,
          4441.1112,
          4441.2603,
          4441.4691,
          4441.76735
         ]
        }
       ],
       "layout": {
        "font": {
         "color": "black",
         "family": "Arial",
         "size": 17
        },
        "height": 600,
        "legend": {
         "orientation": "h",
         "x": 1.05,
         "xanchor": "right",
         "y": 1.1,
         "yanchor": "top"
        },
        "margin": {
         "b": 20,
         "l": 20,
         "r": 20,
         "t": 100
        },
        "paper_bgcolor": "#f7f8fa",
        "shapes": [
         {
          "fillcolor": "gray",
          "opacity": 0.25,
          "type": "rect",
          "x0": "2019-01-15T13:38:00",
          "x1": "2019-01-15T13:42:00",
          "xref": "x",
          "y0": 0,
          "y1": 1,
          "yref": "y domain"
         }
        ],
        "template": {
         "data": {
          "bar": [
           {
            "error_x": {
             "color": "rgb(36,36,36)"
            },
            "error_y": {
             "color": "rgb(36,36,36)"
            },
            "marker": {
             "line": {
              "color": "white",
              "width": 0.5
             },
             "pattern": {
              "fillmode": "overlay",
              "size": 10,
              "solidity": 0.2
             }
            },
            "type": "bar"
           }
          ],
          "barpolar": [
           {
            "marker": {
             "line": {
              "color": "white",
              "width": 0.5
             },
             "pattern": {
              "fillmode": "overlay",
              "size": 10,
              "solidity": 0.2
             }
            },
            "type": "barpolar"
           }
          ],
          "carpet": [
           {
            "aaxis": {
             "endlinecolor": "rgb(36,36,36)",
             "gridcolor": "white",
             "linecolor": "white",
             "minorgridcolor": "white",
             "startlinecolor": "rgb(36,36,36)"
            },
            "baxis": {
             "endlinecolor": "rgb(36,36,36)",
             "gridcolor": "white",
             "linecolor": "white",
             "minorgridcolor": "white",
             "startlinecolor": "rgb(36,36,36)"
            },
            "type": "carpet"
           }
          ],
          "choropleth": [
           {
            "colorbar": {
             "outlinewidth": 1,
             "tickcolor": "rgb(36,36,36)",
             "ticks": "outside"
            },
            "type": "choropleth"
           }
          ],
          "contour": [
           {
            "colorbar": {
             "outlinewidth": 1,
             "tickcolor": "rgb(36,36,36)",
             "ticks": "outside"
            },
            "colorscale": [
             [
              0,
              "#440154"
             ],
             [
              0.1111111111111111,
              "#482878"
             ],
             [
              0.2222222222222222,
              "#3e4989"
             ],
             [
              0.3333333333333333,
              "#31688e"
             ],
             [
              0.4444444444444444,
              "#26828e"
             ],
             [
              0.5555555555555556,
              "#1f9e89"
             ],
             [
              0.6666666666666666,
              "#35b779"
             ],
             [
              0.7777777777777778,
              "#6ece58"
             ],
             [
              0.8888888888888888,
              "#b5de2b"
             ],
             [
              1,
              "#fde725"
             ]
            ],
            "type": "contour"
           }
          ],
          "contourcarpet": [
           {
            "colorbar": {
             "outlinewidth": 1,
             "tickcolor": "rgb(36,36,36)",
             "ticks": "outside"
            },
            "type": "contourcarpet"
           }
          ],
          "heatmap": [
           {
            "colorbar": {
             "outlinewidth": 1,
             "tickcolor": "rgb(36,36,36)",
             "ticks": "outside"
            },
            "colorscale": [
             [
              0,
              "#440154"
             ],
             [
              0.1111111111111111,
              "#482878"
             ],
             [
              0.2222222222222222,
              "#3e4989"
             ],
             [
              0.3333333333333333,
              "#31688e"
             ],
             [
              0.4444444444444444,
              "#26828e"
             ],
             [
              0.5555555555555556,
              "#1f9e89"
             ],
             [
              0.6666666666666666,
              "#35b779"
             ],
             [
              0.7777777777777778,
              "#6ece58"
             ],
             [
              0.8888888888888888,
              "#b5de2b"
             ],
             [
              1,
              "#fde725"
             ]
            ],
            "type": "heatmap"
           }
          ],
          "heatmapgl": [
           {
            "colorbar": {
             "outlinewidth": 1,
             "tickcolor": "rgb(36,36,36)",
             "ticks": "outside"
            },
            "colorscale": [
             [
              0,
              "#440154"
             ],
             [
              0.1111111111111111,
              "#482878"
             ],
             [
              0.2222222222222222,
              "#3e4989"
             ],
             [
              0.3333333333333333,
              "#31688e"
             ],
             [
              0.4444444444444444,
              "#26828e"
             ],
             [
              0.5555555555555556,
              "#1f9e89"
             ],
             [
              0.6666666666666666,
              "#35b779"
             ],
             [
              0.7777777777777778,
              "#6ece58"
             ],
             [
              0.8888888888888888,
              "#b5de2b"
             ],
             [
              1,
              "#fde725"
             ]
            ],
            "type": "heatmapgl"
           }
          ],
          "histogram": [
           {
            "marker": {
             "line": {
              "color": "white",
              "width": 0.6
             }
            },
            "type": "histogram"
           }
          ],
          "histogram2d": [
           {
            "colorbar": {
             "outlinewidth": 1,
             "tickcolor": "rgb(36,36,36)",
             "ticks": "outside"
            },
            "colorscale": [
             [
              0,
              "#440154"
             ],
             [
              0.1111111111111111,
              "#482878"
             ],
             [
              0.2222222222222222,
              "#3e4989"
             ],
             [
              0.3333333333333333,
              "#31688e"
             ],
             [
              0.4444444444444444,
              "#26828e"
             ],
             [
              0.5555555555555556,
              "#1f9e89"
             ],
             [
              0.6666666666666666,
              "#35b779"
             ],
             [
              0.7777777777777778,
              "#6ece58"
             ],
             [
              0.8888888888888888,
              "#b5de2b"
             ],
             [
              1,
              "#fde725"
             ]
            ],
            "type": "histogram2d"
           }
          ],
          "histogram2dcontour": [
           {
            "colorbar": {
             "outlinewidth": 1,
             "tickcolor": "rgb(36,36,36)",
             "ticks": "outside"
            },
            "colorscale": [
             [
              0,
              "#440154"
             ],
             [
              0.1111111111111111,
              "#482878"
             ],
             [
              0.2222222222222222,
              "#3e4989"
             ],
             [
              0.3333333333333333,
              "#31688e"
             ],
             [
              0.4444444444444444,
              "#26828e"
             ],
             [
              0.5555555555555556,
              "#1f9e89"
             ],
             [
              0.6666666666666666,
              "#35b779"
             ],
             [
              0.7777777777777778,
              "#6ece58"
             ],
             [
              0.8888888888888888,
              "#b5de2b"
             ],
             [
              1,
              "#fde725"
             ]
            ],
            "type": "histogram2dcontour"
           }
          ],
          "mesh3d": [
           {
            "colorbar": {
             "outlinewidth": 1,
             "tickcolor": "rgb(36,36,36)",
             "ticks": "outside"
            },
            "type": "mesh3d"
           }
          ],
          "parcoords": [
           {
            "line": {
             "colorbar": {
              "outlinewidth": 1,
              "tickcolor": "rgb(36,36,36)",
              "ticks": "outside"
             }
            },
            "type": "parcoords"
           }
          ],
          "pie": [
           {
            "automargin": true,
            "type": "pie"
           }
          ],
          "scatter": [
           {
            "fillpattern": {
             "fillmode": "overlay",
             "size": 10,
             "solidity": 0.2
            },
            "type": "scatter"
           }
          ],
          "scatter3d": [
           {
            "line": {
             "colorbar": {
              "outlinewidth": 1,
              "tickcolor": "rgb(36,36,36)",
              "ticks": "outside"
             }
            },
            "marker": {
             "colorbar": {
              "outlinewidth": 1,
              "tickcolor": "rgb(36,36,36)",
              "ticks": "outside"
             }
            },
            "type": "scatter3d"
           }
          ],
          "scattercarpet": [
           {
            "marker": {
             "colorbar": {
              "outlinewidth": 1,
              "tickcolor": "rgb(36,36,36)",
              "ticks": "outside"
             }
            },
            "type": "scattercarpet"
           }
          ],
          "scattergeo": [
           {
            "marker": {
             "colorbar": {
              "outlinewidth": 1,
              "tickcolor": "rgb(36,36,36)",
              "ticks": "outside"
             }
            },
            "type": "scattergeo"
           }
          ],
          "scattergl": [
           {
            "marker": {
             "colorbar": {
              "outlinewidth": 1,
              "tickcolor": "rgb(36,36,36)",
              "ticks": "outside"
             }
            },
            "type": "scattergl"
           }
          ],
          "scattermapbox": [
           {
            "marker": {
             "colorbar": {
              "outlinewidth": 1,
              "tickcolor": "rgb(36,36,36)",
              "ticks": "outside"
             }
            },
            "type": "scattermapbox"
           }
          ],
          "scatterpolar": [
           {
            "marker": {
             "colorbar": {
              "outlinewidth": 1,
              "tickcolor": "rgb(36,36,36)",
              "ticks": "outside"
             }
            },
            "type": "scatterpolar"
           }
          ],
          "scatterpolargl": [
           {
            "marker": {
             "colorbar": {
              "outlinewidth": 1,
              "tickcolor": "rgb(36,36,36)",
              "ticks": "outside"
             }
            },
            "type": "scatterpolargl"
           }
          ],
          "scatterternary": [
           {
            "marker": {
             "colorbar": {
              "outlinewidth": 1,
              "tickcolor": "rgb(36,36,36)",
              "ticks": "outside"
             }
            },
            "type": "scatterternary"
           }
          ],
          "surface": [
           {
            "colorbar": {
             "outlinewidth": 1,
             "tickcolor": "rgb(36,36,36)",
             "ticks": "outside"
            },
            "colorscale": [
             [
              0,
              "#440154"
             ],
             [
              0.1111111111111111,
              "#482878"
             ],
             [
              0.2222222222222222,
              "#3e4989"
             ],
             [
              0.3333333333333333,
              "#31688e"
             ],
             [
              0.4444444444444444,
              "#26828e"
             ],
             [
              0.5555555555555556,
              "#1f9e89"
             ],
             [
              0.6666666666666666,
              "#35b779"
             ],
             [
              0.7777777777777778,
              "#6ece58"
             ],
             [
              0.8888888888888888,
              "#b5de2b"
             ],
             [
              1,
              "#fde725"
             ]
            ],
            "type": "surface"
           }
          ],
          "table": [
           {
            "cells": {
             "fill": {
              "color": "rgb(237,237,237)"
             },
             "line": {
              "color": "white"
             }
            },
            "header": {
             "fill": {
              "color": "rgb(217,217,217)"
             },
             "line": {
              "color": "white"
             }
            },
            "type": "table"
           }
          ]
         },
         "layout": {
          "annotationdefaults": {
           "arrowhead": 0,
           "arrowwidth": 1
          },
          "autotypenumbers": "strict",
          "coloraxis": {
           "colorbar": {
            "outlinewidth": 1,
            "tickcolor": "rgb(36,36,36)",
            "ticks": "outside"
           }
          },
          "colorscale": {
           "diverging": [
            [
             0,
             "rgb(103,0,31)"
            ],
            [
             0.1,
             "rgb(178,24,43)"
            ],
            [
             0.2,
             "rgb(214,96,77)"
            ],
            [
             0.3,
             "rgb(244,165,130)"
            ],
            [
             0.4,
             "rgb(253,219,199)"
            ],
            [
             0.5,
             "rgb(247,247,247)"
            ],
            [
             0.6,
             "rgb(209,229,240)"
            ],
            [
             0.7,
             "rgb(146,197,222)"
            ],
            [
             0.8,
             "rgb(67,147,195)"
            ],
            [
             0.9,
             "rgb(33,102,172)"
            ],
            [
             1,
             "rgb(5,48,97)"
            ]
           ],
           "sequential": [
            [
             0,
             "#440154"
            ],
            [
             0.1111111111111111,
             "#482878"
            ],
            [
             0.2222222222222222,
             "#3e4989"
            ],
            [
             0.3333333333333333,
             "#31688e"
            ],
            [
             0.4444444444444444,
             "#26828e"
            ],
            [
             0.5555555555555556,
             "#1f9e89"
            ],
            [
             0.6666666666666666,
             "#35b779"
            ],
            [
             0.7777777777777778,
             "#6ece58"
            ],
            [
             0.8888888888888888,
             "#b5de2b"
            ],
            [
             1,
             "#fde725"
            ]
           ],
           "sequentialminus": [
            [
             0,
             "#440154"
            ],
            [
             0.1111111111111111,
             "#482878"
            ],
            [
             0.2222222222222222,
             "#3e4989"
            ],
            [
             0.3333333333333333,
             "#31688e"
            ],
            [
             0.4444444444444444,
             "#26828e"
            ],
            [
             0.5555555555555556,
             "#1f9e89"
            ],
            [
             0.6666666666666666,
             "#35b779"
            ],
            [
             0.7777777777777778,
             "#6ece58"
            ],
            [
             0.8888888888888888,
             "#b5de2b"
            ],
            [
             1,
             "#fde725"
            ]
           ]
          },
          "colorway": [
           "#1F77B4",
           "#FF7F0E",
           "#2CA02C",
           "#D62728",
           "#9467BD",
           "#8C564B",
           "#E377C2",
           "#7F7F7F",
           "#BCBD22",
           "#17BECF"
          ],
          "font": {
           "color": "rgb(36,36,36)"
          },
          "geo": {
           "bgcolor": "white",
           "lakecolor": "white",
           "landcolor": "white",
           "showlakes": true,
           "showland": true,
           "subunitcolor": "white"
          },
          "hoverlabel": {
           "align": "left"
          },
          "hovermode": "closest",
          "mapbox": {
           "style": "light"
          },
          "paper_bgcolor": "white",
          "plot_bgcolor": "white",
          "polar": {
           "angularaxis": {
            "gridcolor": "rgb(232,232,232)",
            "linecolor": "rgb(36,36,36)",
            "showgrid": false,
            "showline": true,
            "ticks": "outside"
           },
           "bgcolor": "white",
           "radialaxis": {
            "gridcolor": "rgb(232,232,232)",
            "linecolor": "rgb(36,36,36)",
            "showgrid": false,
            "showline": true,
            "ticks": "outside"
           }
          },
          "scene": {
           "xaxis": {
            "backgroundcolor": "white",
            "gridcolor": "rgb(232,232,232)",
            "gridwidth": 2,
            "linecolor": "rgb(36,36,36)",
            "showbackground": true,
            "showgrid": false,
            "showline": true,
            "ticks": "outside",
            "zeroline": false,
            "zerolinecolor": "rgb(36,36,36)"
           },
           "yaxis": {
            "backgroundcolor": "white",
            "gridcolor": "rgb(232,232,232)",
            "gridwidth": 2,
            "linecolor": "rgb(36,36,36)",
            "showbackground": true,
            "showgrid": false,
            "showline": true,
            "ticks": "outside",
            "zeroline": false,
            "zerolinecolor": "rgb(36,36,36)"
           },
           "zaxis": {
            "backgroundcolor": "white",
            "gridcolor": "rgb(232,232,232)",
            "gridwidth": 2,
            "linecolor": "rgb(36,36,36)",
            "showbackground": true,
            "showgrid": false,
            "showline": true,
            "ticks": "outside",
            "zeroline": false,
            "zerolinecolor": "rgb(36,36,36)"
           }
          },
          "shapedefaults": {
           "fillcolor": "black",
           "line": {
            "width": 0
           },
           "opacity": 0.3
          },
          "ternary": {
           "aaxis": {
            "gridcolor": "rgb(232,232,232)",
            "linecolor": "rgb(36,36,36)",
            "showgrid": false,
            "showline": true,
            "ticks": "outside"
           },
           "baxis": {
            "gridcolor": "rgb(232,232,232)",
            "linecolor": "rgb(36,36,36)",
            "showgrid": false,
            "showline": true,
            "ticks": "outside"
           },
           "bgcolor": "white",
           "caxis": {
            "gridcolor": "rgb(232,232,232)",
            "linecolor": "rgb(36,36,36)",
            "showgrid": false,
            "showline": true,
            "ticks": "outside"
           }
          },
          "title": {
           "x": 0.05
          },
          "xaxis": {
           "automargin": true,
           "gridcolor": "rgb(232,232,232)",
           "linecolor": "rgb(36,36,36)",
           "showgrid": false,
           "showline": true,
           "ticks": "outside",
           "title": {
            "standoff": 15
           },
           "zeroline": false,
           "zerolinecolor": "rgb(36,36,36)"
          },
          "yaxis": {
           "automargin": true,
           "gridcolor": "rgb(232,232,232)",
           "linecolor": "rgb(36,36,36)",
           "showgrid": false,
           "showline": true,
           "ticks": "outside",
           "title": {
            "standoff": 15
           },
           "zeroline": false,
           "zerolinecolor": "rgb(36,36,36)"
          }
         }
        },
        "title": {
         "text": "<b>PFR Compra Take profit / Stop loss"
        },
        "width": 800,
        "xaxis": {
         "rangeslider": {
          "visible": false
         }
        }
       }
      }
     },
     "metadata": {},
     "output_type": "display_data"
    }
   ],
   "source": [
    "halt_compra = df[(df['sinal_compra'] == True) & (df['entrada']==True)]\n",
    "halt_compra\n",
    "\n",
    "# esse número representa cada candle sinalizador observado no filtro anterior (código da última semana)\n",
    "n_indice = 51\n",
    "\n",
    "# aqui pegaremos tres candles anteriores ao sinal (10 min, sendo timeframe de 5min) e 15 candles à frente (75min)\n",
    "inicio_index = halt_compra.index[n_indice] - timedelta(minutes=25)\n",
    "final_index = halt_compra.index[n_indice] + timedelta(minutes=150)\n",
    "\n",
    "# filtramos nosso dataframe de ohlc\n",
    "data_range = pd.date_range(start=inicio_index, end=final_index, freq='T')\n",
    "df_figure = df[df.index.isin(data_range)]\n",
    "\n",
    "# dessa forma apresentaremos 15 candles, sendo o sinal o terceiro candle (indexação 2 no python, já que começa do zero)\n",
    "df_figure = df_figure.iloc[0:50]\n",
    "candle_sinal = 5\n",
    "\n",
    "# condições de entrada, alvos e stops descritos no post\n",
    "entrada = df_figure.high.iloc[candle_sinal] + 0.01\n",
    "stop_loss_candle_sinal = df_figure.low.iloc[candle_sinal] - 0.01\n",
    "alvo_2x_candle_sinal = entrada + 2*(df_figure.high.iloc[candle_sinal] - df_figure.low.iloc[candle_sinal])\n",
    "\n",
    "# Candlesticks\n",
    "fig_halt_compra_result = go.Figure(data=[go.Candlestick(name=halt_compra.ticker[0],x=df_figure.index, open=df_figure['open'], high = df_figure['high'],\n",
    "                                              low=df_figure['low'], close=df_figure['close'],increasing_line_color= 'green',\n",
    "                                              decreasing_line_color= 'red', showlegend=True)])\n",
    "\n",
    "# Candle sinal e entrada\n",
    "fig_halt_compra_result.add_vrect(x0=df_figure.index[candle_sinal]-timedelta(minutes=2), x1=(df_figure.index[candle_sinal]+timedelta(minutes=2)), fillcolor=\"gray\", opacity=0.25)\n",
    "\n",
    "fig_halt_compra_result.add_trace(go.Scatter(x=[df_figure.index[candle_sinal]-timedelta(minutes=2),df_figure.index[-1]], \n",
    "                                    y=[df_figure.high[candle_sinal]+0.01,df_figure.high[candle_sinal]+0.01],\n",
    "                                    mode=\"lines+text\", line_width=3, line_dash=\"dash\", line_color=\"black\",\n",
    "                                    name=\"Entrada\", text=[\" Máx sinal + 1 tick\"], textposition=\"top right\", showlegend=True))\n",
    "\n",
    "# Linha delimitação do Stop loss\n",
    "fig_halt_compra_result.add_trace(go.Scatter(x=[df_figure.index[candle_sinal]-timedelta(minutes=2), df_figure.index[-1]], \n",
    "                                    y=[stop_loss_candle_sinal, stop_loss_candle_sinal],\n",
    "                                    mode=\"lines+text\", line_width=3, line_dash=\"dash\", line_color=\"red\",\n",
    "                                    name=\"Stop Loss\", text=[\" Mín sinal - 1 tick\"], textposition=\"bottom right\", showlegend=True))\n",
    "\n",
    "# Linha delimitação do Take profit\n",
    "fig_halt_compra_result.add_trace(go.Scatter(x=[df_figure.index[candle_sinal]-timedelta(minutes=2),df_figure.index[-1]], \n",
    "                                    y=[alvo_2x_candle_sinal, alvo_2x_candle_sinal],\n",
    "                                    mode=\"lines+text\", line_width=3, line_dash=\"dash\", line_color=\"green\",\n",
    "                                    name=\"Take profit\", text=[\"Proj. 2x candle sinal\"], textposition=\"top right\", showlegend=True))\n",
    "\n",
    "fig_halt_compra_result.add_trace(go.Scatter(name='mm', x=df_figure.index, y=df_figure['mm'], marker_color='black'))\n",
    "\n",
    "# Configurações do layout, como fundo branco, tamanho da imagem, margens, titulo do gráfico...\n",
    "fig_halt_compra_result.update_layout(xaxis_rangeslider_visible=False, title_text='<b>PFR Compra Take profit / Stop loss',template = 'simple_white',\n",
    "                            margin=dict(l=20, r=20, t=100, b=20), paper_bgcolor=\"#f7f8fa\",width=800,height=600,\n",
    "                            font=dict(family=\"Arial\",size=17, color = 'black'),\n",
    "                            legend=dict(orientation=\"h\",yanchor=\"top\",y=1.1,xanchor=\"right\",x=1.05))"
   ]
  },
  {
   "cell_type": "code",
   "execution_count": 11,
   "metadata": {},
   "outputs": [
    {
     "data": {
      "text/html": [
       "<div>\n",
       "<style scoped>\n",
       "    .dataframe tbody tr th:only-of-type {\n",
       "        vertical-align: middle;\n",
       "    }\n",
       "\n",
       "    .dataframe tbody tr th {\n",
       "        vertical-align: top;\n",
       "    }\n",
       "\n",
       "    .dataframe thead th {\n",
       "        text-align: right;\n",
       "    }\n",
       "</style>\n",
       "<table border=\"1\" class=\"dataframe\">\n",
       "  <thead>\n",
       "    <tr style=\"text-align: right;\">\n",
       "      <th></th>\n",
       "      <th>open</th>\n",
       "      <th>high</th>\n",
       "      <th>low</th>\n",
       "      <th>close</th>\n",
       "      <th>tick_volume</th>\n",
       "      <th>spread</th>\n",
       "      <th>real_volume</th>\n",
       "      <th>ticker</th>\n",
       "      <th>timeframe</th>\n",
       "      <th>mm</th>\n",
       "      <th>entrada</th>\n",
       "      <th>sinal_compra</th>\n",
       "    </tr>\n",
       "    <tr>\n",
       "      <th>time</th>\n",
       "      <th></th>\n",
       "      <th></th>\n",
       "      <th></th>\n",
       "      <th></th>\n",
       "      <th></th>\n",
       "      <th></th>\n",
       "      <th></th>\n",
       "      <th></th>\n",
       "      <th></th>\n",
       "      <th></th>\n",
       "      <th></th>\n",
       "      <th></th>\n",
       "    </tr>\n",
       "  </thead>\n",
       "  <tbody>\n",
       "    <tr>\n",
       "      <th>2018-02-28 09:00:00</th>\n",
       "      <td>3994.277</td>\n",
       "      <td>3999.182</td>\n",
       "      <td>3993.050</td>\n",
       "      <td>3994.890</td>\n",
       "      <td>2237</td>\n",
       "      <td>1</td>\n",
       "      <td>6108</td>\n",
       "      <td>WDO$</td>\n",
       "      <td>5M</td>\n",
       "      <td>NaN</td>\n",
       "      <td>False</td>\n",
       "      <td>False</td>\n",
       "    </tr>\n",
       "    <tr>\n",
       "      <th>2018-02-28 09:05:00</th>\n",
       "      <td>3994.277</td>\n",
       "      <td>3999.795</td>\n",
       "      <td>3993.050</td>\n",
       "      <td>3997.956</td>\n",
       "      <td>3048</td>\n",
       "      <td>1</td>\n",
       "      <td>7668</td>\n",
       "      <td>WDO$</td>\n",
       "      <td>5M</td>\n",
       "      <td>NaN</td>\n",
       "      <td>False</td>\n",
       "      <td>False</td>\n",
       "    </tr>\n",
       "    <tr>\n",
       "      <th>2018-02-28 09:10:00</th>\n",
       "      <td>3998.569</td>\n",
       "      <td>3998.569</td>\n",
       "      <td>3993.663</td>\n",
       "      <td>3993.663</td>\n",
       "      <td>2786</td>\n",
       "      <td>1</td>\n",
       "      <td>8455</td>\n",
       "      <td>WDO$</td>\n",
       "      <td>5M</td>\n",
       "      <td>NaN</td>\n",
       "      <td>False</td>\n",
       "      <td>False</td>\n",
       "    </tr>\n",
       "    <tr>\n",
       "      <th>2018-02-28 09:15:00</th>\n",
       "      <td>3994.277</td>\n",
       "      <td>3994.277</td>\n",
       "      <td>3991.211</td>\n",
       "      <td>3991.824</td>\n",
       "      <td>2520</td>\n",
       "      <td>1</td>\n",
       "      <td>8081</td>\n",
       "      <td>WDO$</td>\n",
       "      <td>5M</td>\n",
       "      <td>NaN</td>\n",
       "      <td>False</td>\n",
       "      <td>False</td>\n",
       "    </tr>\n",
       "    <tr>\n",
       "      <th>2018-02-28 09:20:00</th>\n",
       "      <td>3991.824</td>\n",
       "      <td>3993.050</td>\n",
       "      <td>3988.758</td>\n",
       "      <td>3990.598</td>\n",
       "      <td>2723</td>\n",
       "      <td>1</td>\n",
       "      <td>7806</td>\n",
       "      <td>WDO$</td>\n",
       "      <td>5M</td>\n",
       "      <td>NaN</td>\n",
       "      <td>False</td>\n",
       "      <td>False</td>\n",
       "    </tr>\n",
       "    <tr>\n",
       "      <th>...</th>\n",
       "      <td>...</td>\n",
       "      <td>...</td>\n",
       "      <td>...</td>\n",
       "      <td>...</td>\n",
       "      <td>...</td>\n",
       "      <td>...</td>\n",
       "      <td>...</td>\n",
       "      <td>...</td>\n",
       "      <td>...</td>\n",
       "      <td>...</td>\n",
       "      <td>...</td>\n",
       "      <td>...</td>\n",
       "    </tr>\n",
       "    <tr>\n",
       "      <th>2023-03-20 14:50:00</th>\n",
       "      <td>5255.500</td>\n",
       "      <td>5258.500</td>\n",
       "      <td>5255.000</td>\n",
       "      <td>5257.500</td>\n",
       "      <td>1048</td>\n",
       "      <td>0</td>\n",
       "      <td>7551</td>\n",
       "      <td>WDO$</td>\n",
       "      <td>5M</td>\n",
       "      <td>5256.200</td>\n",
       "      <td>False</td>\n",
       "      <td>False</td>\n",
       "    </tr>\n",
       "    <tr>\n",
       "      <th>2023-03-20 14:55:00</th>\n",
       "      <td>5257.000</td>\n",
       "      <td>5258.500</td>\n",
       "      <td>5255.000</td>\n",
       "      <td>5256.000</td>\n",
       "      <td>907</td>\n",
       "      <td>0</td>\n",
       "      <td>8516</td>\n",
       "      <td>WDO$</td>\n",
       "      <td>5M</td>\n",
       "      <td>5256.050</td>\n",
       "      <td>False</td>\n",
       "      <td>False</td>\n",
       "    </tr>\n",
       "    <tr>\n",
       "      <th>2023-03-20 15:00:00</th>\n",
       "      <td>5255.500</td>\n",
       "      <td>5258.000</td>\n",
       "      <td>5255.500</td>\n",
       "      <td>5257.000</td>\n",
       "      <td>660</td>\n",
       "      <td>0</td>\n",
       "      <td>4488</td>\n",
       "      <td>WDO$</td>\n",
       "      <td>5M</td>\n",
       "      <td>5255.925</td>\n",
       "      <td>False</td>\n",
       "      <td>False</td>\n",
       "    </tr>\n",
       "    <tr>\n",
       "      <th>2023-03-20 15:05:00</th>\n",
       "      <td>5257.000</td>\n",
       "      <td>5259.000</td>\n",
       "      <td>5256.000</td>\n",
       "      <td>5258.000</td>\n",
       "      <td>591</td>\n",
       "      <td>0</td>\n",
       "      <td>7140</td>\n",
       "      <td>WDO$</td>\n",
       "      <td>5M</td>\n",
       "      <td>5255.850</td>\n",
       "      <td>False</td>\n",
       "      <td>False</td>\n",
       "    </tr>\n",
       "    <tr>\n",
       "      <th>2023-03-20 15:10:00</th>\n",
       "      <td>5258.000</td>\n",
       "      <td>5259.000</td>\n",
       "      <td>5256.500</td>\n",
       "      <td>5258.500</td>\n",
       "      <td>719</td>\n",
       "      <td>0</td>\n",
       "      <td>10797</td>\n",
       "      <td>WDO$</td>\n",
       "      <td>5M</td>\n",
       "      <td>5255.800</td>\n",
       "      <td>False</td>\n",
       "      <td>False</td>\n",
       "    </tr>\n",
       "  </tbody>\n",
       "</table>\n",
       "<p>137308 rows × 12 columns</p>\n",
       "</div>"
      ],
      "text/plain": [
       "                         open      high       low     close  tick_volume  \\\n",
       "time                                                                       \n",
       "2018-02-28 09:00:00  3994.277  3999.182  3993.050  3994.890         2237   \n",
       "2018-02-28 09:05:00  3994.277  3999.795  3993.050  3997.956         3048   \n",
       "2018-02-28 09:10:00  3998.569  3998.569  3993.663  3993.663         2786   \n",
       "2018-02-28 09:15:00  3994.277  3994.277  3991.211  3991.824         2520   \n",
       "2018-02-28 09:20:00  3991.824  3993.050  3988.758  3990.598         2723   \n",
       "...                       ...       ...       ...       ...          ...   \n",
       "2023-03-20 14:50:00  5255.500  5258.500  5255.000  5257.500         1048   \n",
       "2023-03-20 14:55:00  5257.000  5258.500  5255.000  5256.000          907   \n",
       "2023-03-20 15:00:00  5255.500  5258.000  5255.500  5257.000          660   \n",
       "2023-03-20 15:05:00  5257.000  5259.000  5256.000  5258.000          591   \n",
       "2023-03-20 15:10:00  5258.000  5259.000  5256.500  5258.500          719   \n",
       "\n",
       "                     spread  real_volume ticker timeframe        mm  entrada  \\\n",
       "time                                                                           \n",
       "2018-02-28 09:00:00       1         6108   WDO$        5M       NaN    False   \n",
       "2018-02-28 09:05:00       1         7668   WDO$        5M       NaN    False   \n",
       "2018-02-28 09:10:00       1         8455   WDO$        5M       NaN    False   \n",
       "2018-02-28 09:15:00       1         8081   WDO$        5M       NaN    False   \n",
       "2018-02-28 09:20:00       1         7806   WDO$        5M       NaN    False   \n",
       "...                     ...          ...    ...       ...       ...      ...   \n",
       "2023-03-20 14:50:00       0         7551   WDO$        5M  5256.200    False   \n",
       "2023-03-20 14:55:00       0         8516   WDO$        5M  5256.050    False   \n",
       "2023-03-20 15:00:00       0         4488   WDO$        5M  5255.925    False   \n",
       "2023-03-20 15:05:00       0         7140   WDO$        5M  5255.850    False   \n",
       "2023-03-20 15:10:00       0        10797   WDO$        5M  5255.800    False   \n",
       "\n",
       "                     sinal_compra  \n",
       "time                               \n",
       "2018-02-28 09:00:00         False  \n",
       "2018-02-28 09:05:00         False  \n",
       "2018-02-28 09:10:00         False  \n",
       "2018-02-28 09:15:00         False  \n",
       "2018-02-28 09:20:00         False  \n",
       "...                           ...  \n",
       "2023-03-20 14:50:00         False  \n",
       "2023-03-20 14:55:00         False  \n",
       "2023-03-20 15:00:00         False  \n",
       "2023-03-20 15:05:00         False  \n",
       "2023-03-20 15:10:00         False  \n",
       "\n",
       "[137308 rows x 12 columns]"
      ]
     },
     "execution_count": 11,
     "metadata": {},
     "output_type": "execute_result"
    }
   ],
   "source": [
    "df"
   ]
  },
  {
   "cell_type": "code",
   "execution_count": 22,
   "metadata": {},
   "outputs": [
    {
     "ename": "ValueError",
     "evalue": "Length of values (137343) does not match length of index (137308)",
     "output_type": "error",
     "traceback": [
      "\u001b[1;31m---------------------------------------------------------------------------\u001b[0m",
      "\u001b[1;31mValueError\u001b[0m                                Traceback (most recent call last)",
      "Cell \u001b[1;32mIn[22], line 3\u001b[0m\n\u001b[0;32m      1\u001b[0m df[\u001b[39m'\u001b[39m\u001b[39msinal_vbt_entrada\u001b[39m\u001b[39m'\u001b[39m] \u001b[39m=\u001b[39m sinal_vbt_entrada\n\u001b[0;32m      2\u001b[0m df[\u001b[39m'\u001b[39m\u001b[39msinal_vbt_saida\u001b[39m\u001b[39m'\u001b[39m] \u001b[39m=\u001b[39m sinal_vbt_saida\n\u001b[1;32m----> 3\u001b[0m df[\u001b[39m'\u001b[39m\u001b[39mlista_precos\u001b[39m\u001b[39m'\u001b[39m] \u001b[39m=\u001b[39m lista_precos\n\u001b[0;32m      5\u001b[0m backtest_halt_parte1 \u001b[39m=\u001b[39m vbt\u001b[39m.\u001b[39mPortfolio\u001b[39m.\u001b[39mfrom_signals(df[\u001b[39m'\u001b[39m\u001b[39mclose\u001b[39m\u001b[39m'\u001b[39m], df[\u001b[39m'\u001b[39m\u001b[39msinal_vbt_entrada\u001b[39m\u001b[39m'\u001b[39m], df[\u001b[39m'\u001b[39m\u001b[39msinal_vbt_saida\u001b[39m\u001b[39m'\u001b[39m],\n\u001b[0;32m      6\u001b[0m                                                   direction\u001b[39m=\u001b[39m\u001b[39m'\u001b[39m\u001b[39mlongonly\u001b[39m\u001b[39m'\u001b[39m, price\u001b[39m=\u001b[39mdf[\u001b[39m'\u001b[39m\u001b[39mlista_precos\u001b[39m\u001b[39m'\u001b[39m], freq\u001b[39m=\u001b[39m\u001b[39m'\u001b[39m\u001b[39m5T\u001b[39m\u001b[39m'\u001b[39m, size_type\u001b[39m=\u001b[39m\u001b[39m'\u001b[39m\u001b[39mvalue\u001b[39m\u001b[39m'\u001b[39m, size\u001b[39m=\u001b[39m\u001b[39m1\u001b[39m)\n\u001b[0;32m      8\u001b[0m backtest_halt_parte1\u001b[39m.\u001b[39mstats()\n",
      "File \u001b[1;32mc:\\Users\\joaog\\anaconda3\\lib\\site-packages\\pandas\\core\\frame.py:3980\u001b[0m, in \u001b[0;36mDataFrame.__setitem__\u001b[1;34m(self, key, value)\u001b[0m\n\u001b[0;32m   3977\u001b[0m     \u001b[39mself\u001b[39m\u001b[39m.\u001b[39m_setitem_array([key], value)\n\u001b[0;32m   3978\u001b[0m \u001b[39melse\u001b[39;00m:\n\u001b[0;32m   3979\u001b[0m     \u001b[39m# set column\u001b[39;00m\n\u001b[1;32m-> 3980\u001b[0m     \u001b[39mself\u001b[39;49m\u001b[39m.\u001b[39;49m_set_item(key, value)\n",
      "File \u001b[1;32mc:\\Users\\joaog\\anaconda3\\lib\\site-packages\\pandas\\core\\frame.py:4174\u001b[0m, in \u001b[0;36mDataFrame._set_item\u001b[1;34m(self, key, value)\u001b[0m\n\u001b[0;32m   4164\u001b[0m \u001b[39mdef\u001b[39;00m \u001b[39m_set_item\u001b[39m(\u001b[39mself\u001b[39m, key, value) \u001b[39m-\u001b[39m\u001b[39m>\u001b[39m \u001b[39mNone\u001b[39;00m:\n\u001b[0;32m   4165\u001b[0m     \u001b[39m\"\"\"\u001b[39;00m\n\u001b[0;32m   4166\u001b[0m \u001b[39m    Add series to DataFrame in specified column.\u001b[39;00m\n\u001b[0;32m   4167\u001b[0m \n\u001b[1;32m   (...)\u001b[0m\n\u001b[0;32m   4172\u001b[0m \u001b[39m    ensure homogeneity.\u001b[39;00m\n\u001b[0;32m   4173\u001b[0m \u001b[39m    \"\"\"\u001b[39;00m\n\u001b[1;32m-> 4174\u001b[0m     value \u001b[39m=\u001b[39m \u001b[39mself\u001b[39;49m\u001b[39m.\u001b[39;49m_sanitize_column(value)\n\u001b[0;32m   4176\u001b[0m     \u001b[39mif\u001b[39;00m (\n\u001b[0;32m   4177\u001b[0m         key \u001b[39min\u001b[39;00m \u001b[39mself\u001b[39m\u001b[39m.\u001b[39mcolumns\n\u001b[0;32m   4178\u001b[0m         \u001b[39mand\u001b[39;00m value\u001b[39m.\u001b[39mndim \u001b[39m==\u001b[39m \u001b[39m1\u001b[39m\n\u001b[0;32m   4179\u001b[0m         \u001b[39mand\u001b[39;00m \u001b[39mnot\u001b[39;00m is_extension_array_dtype(value)\n\u001b[0;32m   4180\u001b[0m     ):\n\u001b[0;32m   4181\u001b[0m         \u001b[39m# broadcast across multiple columns if necessary\u001b[39;00m\n\u001b[0;32m   4182\u001b[0m         \u001b[39mif\u001b[39;00m \u001b[39mnot\u001b[39;00m \u001b[39mself\u001b[39m\u001b[39m.\u001b[39mcolumns\u001b[39m.\u001b[39mis_unique \u001b[39mor\u001b[39;00m \u001b[39misinstance\u001b[39m(\u001b[39mself\u001b[39m\u001b[39m.\u001b[39mcolumns, MultiIndex):\n",
      "File \u001b[1;32mc:\\Users\\joaog\\anaconda3\\lib\\site-packages\\pandas\\core\\frame.py:4915\u001b[0m, in \u001b[0;36mDataFrame._sanitize_column\u001b[1;34m(self, value)\u001b[0m\n\u001b[0;32m   4912\u001b[0m     \u001b[39mreturn\u001b[39;00m _reindex_for_setitem(Series(value), \u001b[39mself\u001b[39m\u001b[39m.\u001b[39mindex)\n\u001b[0;32m   4914\u001b[0m \u001b[39mif\u001b[39;00m is_list_like(value):\n\u001b[1;32m-> 4915\u001b[0m     com\u001b[39m.\u001b[39;49mrequire_length_match(value, \u001b[39mself\u001b[39;49m\u001b[39m.\u001b[39;49mindex)\n\u001b[0;32m   4916\u001b[0m \u001b[39mreturn\u001b[39;00m sanitize_array(value, \u001b[39mself\u001b[39m\u001b[39m.\u001b[39mindex, copy\u001b[39m=\u001b[39m\u001b[39mTrue\u001b[39;00m, allow_2d\u001b[39m=\u001b[39m\u001b[39mTrue\u001b[39;00m)\n",
      "File \u001b[1;32mc:\\Users\\joaog\\anaconda3\\lib\\site-packages\\pandas\\core\\common.py:571\u001b[0m, in \u001b[0;36mrequire_length_match\u001b[1;34m(data, index)\u001b[0m\n\u001b[0;32m    567\u001b[0m \u001b[39m\"\"\"\u001b[39;00m\n\u001b[0;32m    568\u001b[0m \u001b[39mCheck the length of data matches the length of the index.\u001b[39;00m\n\u001b[0;32m    569\u001b[0m \u001b[39m\"\"\"\u001b[39;00m\n\u001b[0;32m    570\u001b[0m \u001b[39mif\u001b[39;00m \u001b[39mlen\u001b[39m(data) \u001b[39m!=\u001b[39m \u001b[39mlen\u001b[39m(index):\n\u001b[1;32m--> 571\u001b[0m     \u001b[39mraise\u001b[39;00m \u001b[39mValueError\u001b[39;00m(\n\u001b[0;32m    572\u001b[0m         \u001b[39m\"\u001b[39m\u001b[39mLength of values \u001b[39m\u001b[39m\"\u001b[39m\n\u001b[0;32m    573\u001b[0m         \u001b[39mf\u001b[39m\u001b[39m\"\u001b[39m\u001b[39m(\u001b[39m\u001b[39m{\u001b[39;00m\u001b[39mlen\u001b[39m(data)\u001b[39m}\u001b[39;00m\u001b[39m) \u001b[39m\u001b[39m\"\u001b[39m\n\u001b[0;32m    574\u001b[0m         \u001b[39m\"\u001b[39m\u001b[39mdoes not match length of index \u001b[39m\u001b[39m\"\u001b[39m\n\u001b[0;32m    575\u001b[0m         \u001b[39mf\u001b[39m\u001b[39m\"\u001b[39m\u001b[39m(\u001b[39m\u001b[39m{\u001b[39;00m\u001b[39mlen\u001b[39m(index)\u001b[39m}\u001b[39;00m\u001b[39m)\u001b[39m\u001b[39m\"\u001b[39m\n\u001b[0;32m    576\u001b[0m     )\n",
      "\u001b[1;31mValueError\u001b[0m: Length of values (137343) does not match length of index (137308)"
     ]
    }
   ],
   "source": [
    "df['sinal_vbt_entrada'] = sinal_vbt_entrada\n",
    "df['sinal_vbt_saida'] = sinal_vbt_saida\n",
    "df['lista_precos'] = lista_precos\n",
    "\n",
    "backtest_halt_parte1 = vbt.Portfolio.from_signals(df['close'], df['sinal_vbt_entrada'], df['sinal_vbt_saida'],\n",
    "                                                  direction='longonly', price=df['lista_precos'], freq='5T', size_type='value', size=1)\n",
    "                                                  \n",
    "backtest_halt_parte1.stats()"
   ]
  },
  {
   "cell_type": "code",
   "execution_count": 131,
   "metadata": {},
   "outputs": [
    {
     "data": {
      "text/html": [
       "<div>\n",
       "<style scoped>\n",
       "    .dataframe tbody tr th:only-of-type {\n",
       "        vertical-align: middle;\n",
       "    }\n",
       "\n",
       "    .dataframe tbody tr th {\n",
       "        vertical-align: top;\n",
       "    }\n",
       "\n",
       "    .dataframe thead th {\n",
       "        text-align: right;\n",
       "    }\n",
       "</style>\n",
       "<table border=\"1\" class=\"dataframe\">\n",
       "  <thead>\n",
       "    <tr style=\"text-align: right;\">\n",
       "      <th></th>\n",
       "      <th>Order Id</th>\n",
       "      <th>Column</th>\n",
       "      <th>Timestamp</th>\n",
       "      <th>Size</th>\n",
       "      <th>Price</th>\n",
       "      <th>Fees</th>\n",
       "      <th>Side</th>\n",
       "    </tr>\n",
       "  </thead>\n",
       "  <tbody>\n",
       "    <tr>\n",
       "      <th>0</th>\n",
       "      <td>0</td>\n",
       "      <td>0</td>\n",
       "      <td>2018-03-06 11:55:00</td>\n",
       "      <td>0.000252</td>\n",
       "      <td>3967.797</td>\n",
       "      <td>0.0</td>\n",
       "      <td>Buy</td>\n",
       "    </tr>\n",
       "    <tr>\n",
       "      <th>1</th>\n",
       "      <td>1</td>\n",
       "      <td>0</td>\n",
       "      <td>2018-03-06 12:15:00</td>\n",
       "      <td>0.000252</td>\n",
       "      <td>3964.957</td>\n",
       "      <td>0.0</td>\n",
       "      <td>Sell</td>\n",
       "    </tr>\n",
       "    <tr>\n",
       "      <th>2</th>\n",
       "      <td>2</td>\n",
       "      <td>0</td>\n",
       "      <td>2018-03-08 09:15:00</td>\n",
       "      <td>0.000251</td>\n",
       "      <td>3989.871</td>\n",
       "      <td>0.0</td>\n",
       "      <td>Buy</td>\n",
       "    </tr>\n",
       "    <tr>\n",
       "      <th>3</th>\n",
       "      <td>3</td>\n",
       "      <td>0</td>\n",
       "      <td>2018-03-08 10:00:00</td>\n",
       "      <td>0.000251</td>\n",
       "      <td>3985.192</td>\n",
       "      <td>0.0</td>\n",
       "      <td>Sell</td>\n",
       "    </tr>\n",
       "    <tr>\n",
       "      <th>4</th>\n",
       "      <td>4</td>\n",
       "      <td>0</td>\n",
       "      <td>2018-03-12 12:40:00</td>\n",
       "      <td>0.000249</td>\n",
       "      <td>4009.493</td>\n",
       "      <td>0.0</td>\n",
       "      <td>Buy</td>\n",
       "    </tr>\n",
       "    <tr>\n",
       "      <th>...</th>\n",
       "      <td>...</td>\n",
       "      <td>...</td>\n",
       "      <td>...</td>\n",
       "      <td>...</td>\n",
       "      <td>...</td>\n",
       "      <td>...</td>\n",
       "      <td>...</td>\n",
       "    </tr>\n",
       "    <tr>\n",
       "      <th>1051</th>\n",
       "      <td>1051</td>\n",
       "      <td>0</td>\n",
       "      <td>2023-03-13 14:25:00</td>\n",
       "      <td>0.000190</td>\n",
       "      <td>5273.000</td>\n",
       "      <td>0.0</td>\n",
       "      <td>Sell</td>\n",
       "    </tr>\n",
       "    <tr>\n",
       "      <th>1052</th>\n",
       "      <td>1052</td>\n",
       "      <td>0</td>\n",
       "      <td>2023-03-15 09:50:00</td>\n",
       "      <td>0.000189</td>\n",
       "      <td>5302.500</td>\n",
       "      <td>0.0</td>\n",
       "      <td>Buy</td>\n",
       "    </tr>\n",
       "    <tr>\n",
       "      <th>1053</th>\n",
       "      <td>1053</td>\n",
       "      <td>0</td>\n",
       "      <td>2023-03-15 10:15:00</td>\n",
       "      <td>0.000189</td>\n",
       "      <td>5293.500</td>\n",
       "      <td>0.0</td>\n",
       "      <td>Sell</td>\n",
       "    </tr>\n",
       "    <tr>\n",
       "      <th>1054</th>\n",
       "      <td>1054</td>\n",
       "      <td>0</td>\n",
       "      <td>2023-03-17 11:00:00</td>\n",
       "      <td>0.000189</td>\n",
       "      <td>5280.500</td>\n",
       "      <td>0.0</td>\n",
       "      <td>Buy</td>\n",
       "    </tr>\n",
       "    <tr>\n",
       "      <th>1055</th>\n",
       "      <td>1055</td>\n",
       "      <td>0</td>\n",
       "      <td>2023-03-20 10:00:00</td>\n",
       "      <td>0.000189</td>\n",
       "      <td>5269.000</td>\n",
       "      <td>0.0</td>\n",
       "      <td>Sell</td>\n",
       "    </tr>\n",
       "  </tbody>\n",
       "</table>\n",
       "<p>1056 rows × 7 columns</p>\n",
       "</div>"
      ],
      "text/plain": [
       "      Order Id  Column           Timestamp      Size     Price  Fees  Side\n",
       "0            0       0 2018-03-06 11:55:00  0.000252  3967.797   0.0   Buy\n",
       "1            1       0 2018-03-06 12:15:00  0.000252  3964.957   0.0  Sell\n",
       "2            2       0 2018-03-08 09:15:00  0.000251  3989.871   0.0   Buy\n",
       "3            3       0 2018-03-08 10:00:00  0.000251  3985.192   0.0  Sell\n",
       "4            4       0 2018-03-12 12:40:00  0.000249  4009.493   0.0   Buy\n",
       "...        ...     ...                 ...       ...       ...   ...   ...\n",
       "1051      1051       0 2023-03-13 14:25:00  0.000190  5273.000   0.0  Sell\n",
       "1052      1052       0 2023-03-15 09:50:00  0.000189  5302.500   0.0   Buy\n",
       "1053      1053       0 2023-03-15 10:15:00  0.000189  5293.500   0.0  Sell\n",
       "1054      1054       0 2023-03-17 11:00:00  0.000189  5280.500   0.0   Buy\n",
       "1055      1055       0 2023-03-20 10:00:00  0.000189  5269.000   0.0  Sell\n",
       "\n",
       "[1056 rows x 7 columns]"
      ]
     },
     "execution_count": 131,
     "metadata": {},
     "output_type": "execute_result"
    }
   ],
   "source": [
    "backtest_halt_parte1.orders.records_readable"
   ]
  },
  {
   "cell_type": "code",
   "execution_count": null,
   "metadata": {},
   "outputs": [],
   "source": []
  }
 ],
 "metadata": {
  "kernelspec": {
   "display_name": "Python 3 (ipykernel)",
   "language": "python",
   "name": "python3"
  },
  "language_info": {
   "codemirror_mode": {
    "name": "ipython",
    "version": 3
   },
   "file_extension": ".py",
   "mimetype": "text/x-python",
   "name": "python",
   "nbconvert_exporter": "python",
   "pygments_lexer": "ipython3",
   "version": "3.10.9"
  }
 },
 "nbformat": 4,
 "nbformat_minor": 4
}
