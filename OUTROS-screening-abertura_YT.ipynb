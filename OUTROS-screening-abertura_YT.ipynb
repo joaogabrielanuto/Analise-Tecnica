{
  "cells": [
    {
      "attachments": {},
      "cell_type": "markdown",
      "metadata": {
        "colab_type": "text",
        "id": "view-in-github"
      },
      "source": [
        "<a href=\"https://colab.research.google.com/github/joaogabrielanuto/quant-traders/blob/under-construction/detector-topos-fundos.ipynb\" target=\"_parent\"><img src=\"https://colab.research.google.com/assets/colab-badge.svg\" alt=\"Open In Colab\"/></a>"
      ]
    },
    {
      "attachments": {},
      "cell_type": "markdown",
      "metadata": {
        "id": "mr8o75594R0T"
      },
      "source": [
        "<img src=\"https://tradingcomdados.com/images/logotipo/logotipo-trading-com-dados.svg\" width=\"300\" align=\"left\"/>"
      ]
    },
    {
      "attachments": {},
      "cell_type": "markdown",
      "metadata": {
        "id": "zNRZ5ynA4UGz"
      },
      "source": [
        "---\n",
        "# **Screening de abertura com Python** \n",
        "\n",
        "\n",
        "#### Varrendo em segundos quais ativos atendem aos critérios pré estabelecidos\n",
        "---"
      ]
    },
    {
      "attachments": {},
      "cell_type": "markdown",
      "metadata": {
        "id": "dzYJeGqZ51my"
      },
      "source": [
        "# 1. Bibliotecas"
      ]
    },
    {
      "cell_type": "code",
      "execution_count": null,
      "metadata": {
        "id": "-oC8j-6m4T5z"
      },
      "outputs": [],
      "source": [
        "# Manipulação de dados e série temporais\n",
        "import pandas as pd\n",
        "import numpy as np\n",
        "from datetime import datetime, timedelta, time\n",
        "import pytz\n",
        "from time import sleep\n",
        "\n",
        "# Fonte de dados ativos\n",
        "import MetaTrader5 as mt5\n",
        "\n",
        "# Visualização dos dados\n",
        "import mplfinance as mpf"
      ]
    },
    {
      "attachments": {},
      "cell_type": "markdown",
      "metadata": {
        "id": "qYgW2A9d6eIz"
      },
      "source": [
        "# 2. Exploração do código"
      ]
    },
    {
      "attachments": {},
      "cell_type": "markdown",
      "metadata": {},
      "source": [
        "## 2.1. Obtenção das cotações"
      ]
    },
    {
      "cell_type": "code",
      "execution_count": null,
      "metadata": {},
      "outputs": [],
      "source": [
        "mt5.initialize()"
      ]
    },
    {
      "cell_type": "code",
      "execution_count": null,
      "metadata": {},
      "outputs": [],
      "source": [
        "timezone = pytz.timezone(\"America/Sao_Paulo\")\n",
        "data_inicio = datetime.now() - timedelta(days=5)\n",
        "data_fim = datetime.now()"
      ]
    },
    {
      "cell_type": "code",
      "execution_count": null,
      "metadata": {},
      "outputs": [],
      "source": [
        "tickers = ['ABEV3', 'ALPA4', 'ALSO3', 'ARZZ3', 'ASAI3', 'AZUL4', 'B3SA3', 'BBAS3', 'BBDC3', 'BBDC4',\n",
        "            'BBSE3', 'BEEF3', 'BPAC11', 'BRAP4', 'BRFS3', 'BRKM5', 'CASH3', 'CCRO3', 'CIEL3', 'CMIG4',\n",
        "            'CMIN3', 'COGN3', 'CPFE3', 'CPLE6', 'CRFB3', 'CSAN3', 'CSNA3', 'CVCB3', 'CYRE3', 'DXCO3',\n",
        "            'EGIE3', 'ELET3', 'ELET6', 'EMBR3', 'ENBR3', 'ENEV3', 'ENGI11', 'EQTL3', 'EZTC3', 'FLRY3',\n",
        "            'GGBR4', 'GOAU4', 'GOLL4', 'HAPV3', 'HYPE3', 'IGTI11', 'IRBR3', 'ITSA4', 'ITUB4', 'JBSS3',\n",
        "            'KLBN11', 'LREN3', 'LWSA3', 'MGLU3', 'MRFG3', 'MRVE3', 'MULT3', 'NTCO3', 'PCAR3', 'PETR3',\n",
        "            'PETR4', 'PETZ3', 'PRIO3', 'RADL3', 'RAIL3', 'RAIZ4', 'RDOR3', 'RENT3', 'RRRP3', 'SANB11',\n",
        "            'SBSP3', 'SLCE3', 'SMTO3', 'SOMA3', 'SUZB3', 'TAEE11', 'TIMS3', 'TOTS3', 'UGPA3', 'USIM5',\n",
        "            'VALE3', 'VBBR3', 'VIIA3', 'VIVT3', 'WEGE3', 'YDUQ3']"
      ]
    },
    {
      "cell_type": "code",
      "execution_count": null,
      "metadata": {},
      "outputs": [],
      "source": [
        "ls_dados_ohlc = []\n",
        "indice_ticker = 0\n",
        "\n",
        "for i in tickers:\n",
        "    dados_ohlc = mt5.copy_rates_range(i, mt5.TIMEFRAME_M5, data_inicio, data_fim)\n",
        "    dados_ohlc = pd.DataFrame(dados_ohlc)\n",
        "    dados_ohlc['ticker'] = str(i)\n",
        "    dados_ohlc['indice_ticker'] = indice_ticker\n",
        "    indice_ticker += 1\n",
        "    dados_ohlc.index = pd.to_datetime(dados_ohlc['time'], unit='s')\n",
        "    dados_ohlc = dados_ohlc.drop('time', axis=1)\n",
        "\n",
        "    ls_dados_ohlc.append(dados_ohlc)"
      ]
    },
    {
      "cell_type": "code",
      "execution_count": null,
      "metadata": {},
      "outputs": [],
      "source": [
        "ls_dados_ohlc[0]"
      ]
    },
    {
      "cell_type": "code",
      "execution_count": null,
      "metadata": {},
      "outputs": [],
      "source": [
        "list(enumerate(tickers))"
      ]
    },
    {
      "attachments": {},
      "cell_type": "markdown",
      "metadata": {
        "id": "bG_n52t06aD6"
      },
      "source": [
        "# 3. Construção das funções"
      ]
    },
    {
      "attachments": {},
      "cell_type": "markdown",
      "metadata": {},
      "source": [
        "**Produzindo um loop**"
      ]
    },
    {
      "cell_type": "code",
      "execution_count": null,
      "metadata": {},
      "outputs": [],
      "source": [
        "for df in ls_dados_ohlc:\n",
        "    df['mm_rapida'] = df.close.rolling(20).mean()\n",
        "    df['mm_lenta'] = df.close.rolling(200).mean()"
      ]
    },
    {
      "cell_type": "code",
      "execution_count": null,
      "metadata": {},
      "outputs": [],
      "source": [
        "ls_dados_ohlc[0]"
      ]
    },
    {
      "attachments": {},
      "cell_type": "markdown",
      "metadata": {},
      "source": [
        "**Função médias móveis**"
      ]
    },
    {
      "cell_type": "code",
      "execution_count": null,
      "metadata": {},
      "outputs": [],
      "source": [
        "def medias_moveis(df, mm_rapida=20, mm_lenta=200):\n",
        "\n",
        "    df['mm_rapida'] = df.close.rolling(mm_rapida).mean()\n",
        "    df['mm_lenta'] = df.close.rolling(mm_lenta).mean()\n",
        "    df = df.dropna()\n",
        "\n",
        "    return df"
      ]
    },
    {
      "cell_type": "code",
      "execution_count": null,
      "metadata": {},
      "outputs": [],
      "source": [
        "medias_moveis(ls_dados_ohlc[0])"
      ]
    },
    {
      "attachments": {},
      "cell_type": "markdown",
      "metadata": {},
      "source": [
        "**Função condições do screening**"
      ]
    },
    {
      "cell_type": "code",
      "execution_count": null,
      "metadata": {},
      "outputs": [],
      "source": [
        "df.index[-1].date()"
      ]
    },
    {
      "cell_type": "code",
      "execution_count": null,
      "metadata": {},
      "outputs": [],
      "source": [
        "str(df.index[-1].date())"
      ]
    },
    {
      "cell_type": "code",
      "execution_count": null,
      "metadata": {},
      "outputs": [],
      "source": [
        "ls_dados_ohlc[0].open[-1]"
      ]
    },
    {
      "cell_type": "code",
      "execution_count": null,
      "metadata": {},
      "outputs": [],
      "source": [
        "ls_dados_ohlc[0]['mm_rapida'][-1]"
      ]
    },
    {
      "cell_type": "code",
      "execution_count": null,
      "metadata": {},
      "outputs": [],
      "source": [
        "def screnning_abertura(df):\n",
        "\n",
        "    cond1 = df['mm_rapida'][-1] > df['mm_lenta'][-1]\n",
        "    cond2 = df['open'][-1] > df['mm_rapida'][-1]\n",
        "\n",
        "    return (cond1 and cond2)"
      ]
    },
    {
      "cell_type": "code",
      "execution_count": null,
      "metadata": {},
      "outputs": [],
      "source": [
        "for df in ls_dados_ohlc:\n",
        "\n",
        "    medias_moveis(df)\n",
        "    \n",
        "    if screnning_abertura(df):\n",
        "        print(df.indice_ticker[-1], df.ticker[-1])"
      ]
    },
    {
      "attachments": {},
      "cell_type": "markdown",
      "metadata": {},
      "source": [
        "**Visualização dos ativos**"
      ]
    },
    {
      "cell_type": "code",
      "execution_count": null,
      "metadata": {},
      "outputs": [],
      "source": [
        "i = 2\n",
        "\n",
        "mpf.plot(ls_dados_ohlc[i], type='candle', mav=(20, 200))"
      ]
    },
    {
      "cell_type": "code",
      "execution_count": null,
      "metadata": {},
      "outputs": [],
      "source": [
        "i = 2\n",
        "\n",
        "mm_rapida_plot = list(ls_dados_ohlc[i][['mm_rapida']].itertuples(index=True))\n",
        "mm_lenta_plot = list(ls_dados_ohlc[i][['mm_lenta']].itertuples(index=True))\n",
        "\n",
        "df_figure = ls_dados_ohlc[i].iloc[-30:]\n",
        "mm_rapida_plot = mm_rapida_plot[-30:]\n",
        "mm_lenta_plot = mm_lenta_plot[-30:]\n",
        "\n",
        "mpf.plot(df_figure, type='candle', alines=dict(alines=[mm_rapida_plot, mm_lenta_plot],colors=['b','y']))"
      ]
    },
    {
      "attachments": {},
      "cell_type": "markdown",
      "metadata": {},
      "source": [
        "**Incluir a data na função screening**"
      ]
    },
    {
      "cell_type": "code",
      "execution_count": null,
      "metadata": {},
      "outputs": [],
      "source": [
        "df.index[-1].date()"
      ]
    },
    {
      "cell_type": "code",
      "execution_count": null,
      "metadata": {},
      "outputs": [],
      "source": [
        "str(df.index[-1].date())"
      ]
    },
    {
      "cell_type": "code",
      "execution_count": null,
      "metadata": {},
      "outputs": [],
      "source": [
        "data_hoje = str(datetime.now().date())\n",
        "data_hoje"
      ]
    },
    {
      "cell_type": "code",
      "execution_count": null,
      "metadata": {},
      "outputs": [],
      "source": [
        "def ativo_ja_abriu(df, data):\n",
        "\n",
        "    cond1 = str(df.index[-1].date())==data\n",
        "\n",
        "    return cond1"
      ]
    },
    {
      "cell_type": "code",
      "execution_count": null,
      "metadata": {},
      "outputs": [],
      "source": [
        "data_ontem = str( datetime.now().date() - timedelta(days=1))\n",
        "data_hoje = str(datetime.now().date())\n",
        "data_hoje = '2023-05-12'\n",
        "\n",
        "for df in ls_dados_ohlc:\n",
        "\n",
        "    medias_moveis(df)\n",
        "    \n",
        "    if screnning_abertura(df, data_ontem):\n",
        "        print(df.indice_ticker[0], df.ticker[0])"
      ]
    },
    {
      "attachments": {},
      "cell_type": "markdown",
      "metadata": {},
      "source": [
        "# 4. Screnning abertura"
      ]
    },
    {
      "cell_type": "code",
      "execution_count": null,
      "metadata": {},
      "outputs": [],
      "source": [
        "mt5.initialize()\n",
        "\n",
        "timezone = pytz.timezone(\"America/Sao_Paulo\")\n",
        "data_inicio = datetime.now() - timedelta(days=1)\n",
        "data_fim = datetime.now()\n",
        "\n",
        "tickers = ['ABEV3', 'ALPA4', 'ALSO3', 'ARZZ3', 'ASAI3', 'AZUL4', 'B3SA3', 'BBAS3', 'BBDC3', 'BBDC4',\n",
        "            'BBSE3', 'BEEF3', 'BPAC11', 'BRAP4', 'BRFS3', 'BRKM5', 'CASH3', 'CCRO3', 'CIEL3', 'CMIG4',\n",
        "            'CMIN3', 'COGN3', 'CPFE3', 'CPLE6', 'CRFB3', 'CSAN3', 'CSNA3', 'CVCB3', 'CYRE3', 'DXCO3',\n",
        "            'EGIE3', 'ELET3', 'ELET6', 'EMBR3', 'ENBR3', 'ENEV3', 'ENGI11', 'EQTL3', 'EZTC3', 'FLRY3',\n",
        "            'GGBR4', 'GOAU4', 'GOLL4', 'HAPV3', 'HYPE3', 'IGTI11', 'IRBR3', 'ITSA4', 'ITUB4', 'JBSS3',\n",
        "            'KLBN11', 'LREN3', 'LWSA3', 'MGLU3', 'MRFG3', 'MRVE3', 'MULT3', 'NTCO3', 'PCAR3', 'PETR3',\n",
        "            'PETR4', 'PETZ3', 'PRIO3', 'RADL3', 'RAIL3', 'RAIZ4', 'RDOR3', 'RENT3', 'RRRP3', 'SANB11',\n",
        "            'SBSP3', 'SLCE3', 'SMTO3', 'SOMA3', 'SUZB3', 'TAEE11', 'TIMS3', 'TOTS3', 'UGPA3', 'USIM5',\n",
        "            'VALE3', 'VBBR3', 'VIIA3', 'VIVT3', 'WEGE3', 'YDUQ3']"
      ]
    },
    {
      "cell_type": "code",
      "execution_count": null,
      "metadata": {},
      "outputs": [],
      "source": [
        "data_hoje = str(datetime.now())\n",
        "\n",
        "while datetime.now().time() < time(8, 18, 0):\n",
        "    sleep(1)\n",
        "\n",
        "\n",
        "ls_dados_ohlc = []\n",
        "ls_ativos_abriram = []\n",
        "indice_ticker = 0\n",
        "\n",
        "while len(ls_dados_ohlc) < len(tickers):\n",
        "\n",
        "    for i in tickers:\n",
        "        dados_ohlc = mt5.copy_rates_range(i, mt5.TIMEFRAME_M5, data_inicio, data_fim)\n",
        "        dados_ohlc = pd.DataFrame(dados_ohlc)\n",
        "\n",
        "        if ativo_ja_abriu(df, data_ontem):\n",
        "            dados_ohlc['ticker'] = str(i)\n",
        "            dados_ohlc['indice_ticker'] = indice_ticker\n",
        "            indice_ticker += 1\n",
        "            dados_ohlc.index = pd.to_datetime(dados_ohlc['time'], unit='s')\n",
        "            dados_ohlc = dados_ohlc.drop('time', axis=1)\n",
        "            \n",
        "            ls_ativos_abriram.append(i)\n",
        "\n",
        "            medias_moveis(dados_ohlc)\n",
        "\n",
        "            if screnning_abertura(dados_ohlc, data_ontem):\n",
        "                print(dados_ohlc.indice_ticker[0], dados_ohlc.ticker[0])\n",
        "\n",
        "            ls_dados_ohlc.append(dados_ohlc)"
      ]
    },
    {
      "cell_type": "code",
      "execution_count": null,
      "metadata": {},
      "outputs": [],
      "source": [
        "ls_dados_ohlc[3]"
      ]
    },
    {
      "cell_type": "code",
      "execution_count": null,
      "metadata": {},
      "outputs": [],
      "source": [
        "i = 0\n",
        "\n",
        "mm_rapida_plot = list(ls_dados_ohlc[i][['mm_rapida']].itertuples(index=True))\n",
        "mm_lenta_plot = list(ls_dados_ohlc[i][['mm_lenta']].itertuples(index=True))\n",
        "\n",
        "df_figure = ls_dados_ohlc[i].iloc[-50:]\n",
        "mm_rapida_plot = mm_rapida_plot[-50:]\n",
        "mm_lenta_plot = mm_lenta_plot[-50:]\n",
        "\n",
        "mpf.plot(df_figure, type='candle', alines=dict(alines=[mm_rapida_plot, mm_lenta_plot],colors=['b','y']))"
      ]
    },
    {
      "cell_type": "code",
      "execution_count": null,
      "metadata": {},
      "outputs": [],
      "source": []
    },
    {
      "cell_type": "code",
      "execution_count": null,
      "metadata": {},
      "outputs": [],
      "source": []
    },
    {
      "cell_type": "code",
      "execution_count": null,
      "metadata": {},
      "outputs": [],
      "source": [
        "ls_dados_ohlc = []\n",
        "\n",
        "while datetime.now().time() < time(12, 15, 0):\n",
        "    sleep(1)\n",
        "\n",
        "while len(ls_dados_ohlc) < len(tickers):\n",
        "    \n",
        "    indice_ticker = 0\n",
        "\n",
        "    for i in tickers:\n",
        "        dados_ohlc = mt5.copy_rates_range(i, mt5.TIMEFRAME_M5, data_inicio, data_fim)\n",
        "        dados_ohlc = pd.DataFrame(dados_ohlc)\n",
        "        dados_ohlc['ticker'] = str(i)\n",
        "        dados_ohlc['indice_ticker'] = indice_ticker\n",
        "        indice_ticker += 1\n",
        "        dados_ohlc.index = pd.to_datetime(dados_ohlc['time'], unit='s')\n",
        "        dados_ohlc = dados_ohlc.drop('time', axis=1)\n",
        "\n",
        "        medias_moveis(dados_ohlc)\n",
        "\n",
        "        if screnning_abertura(dados_ohlc):\n",
        "            print(dados_ohlc.indice_ticker[0], dados_ohlc.ticker[0])\n",
        "\n",
        "        ls_dados_ohlc.append(dados_ohlc)"
      ]
    },
    {
      "cell_type": "code",
      "execution_count": null,
      "metadata": {},
      "outputs": [],
      "source": []
    }
  ],
  "metadata": {
    "colab": {
      "authorship_tag": "ABX9TyM+nZDdpKHR31+RSs2Dn8vq",
      "include_colab_link": true,
      "provenance": []
    },
    "kernelspec": {
      "display_name": "Python 3",
      "name": "python3"
    },
    "language_info": {
      "codemirror_mode": {
        "name": "ipython",
        "version": 3
      },
      "file_extension": ".py",
      "mimetype": "text/x-python",
      "name": "python",
      "nbconvert_exporter": "python",
      "pygments_lexer": "ipython3",
      "version": "3.10.10"
    }
  },
  "nbformat": 4,
  "nbformat_minor": 0
}
