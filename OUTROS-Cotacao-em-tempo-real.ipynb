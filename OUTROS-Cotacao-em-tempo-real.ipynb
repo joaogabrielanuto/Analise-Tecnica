{
 "cells": [
  {
   "cell_type": "code",
   "execution_count": 2,
   "id": "ebb1991f-e517-457d-b514-c3799666e990",
   "metadata": {},
   "outputs": [
    {
     "name": "stdout",
     "output_type": "stream",
     "text": [
      "Requirement already satisfied: MetaTrader5 in c:\\users\\joaog\\anaconda3\\lib\\site-packages (5.0.43)\n",
      "Requirement already satisfied: numpy>=1.7 in c:\\users\\joaog\\anaconda3\\lib\\site-packages (from MetaTrader5) (1.23.4)\n"
     ]
    }
   ],
   "source": [
    "#!pip install MetaTrader5"
   ]
  },
  {
   "cell_type": "code",
   "execution_count": null,
   "id": "66d3c8ef-0739-436f-b742-a3abc69419ce",
   "metadata": {},
   "outputs": [
    {
     "name": "stdout",
     "output_type": "stream",
     "text": [
      "112540.0"
     ]
    }
   ],
   "source": [
    "import sys\n",
    "import MetaTrader5 as mt5\n",
    "import time\n",
    "\n",
    "mt5.initialize()\n",
    "\n",
    "while(True):\n",
    "    ativo = mt5.symbol_info_tick('WINZ22')\n",
    "    sys.stdout.write('\\r' + str(ativo.last))\n",
    "    sys.stdout.flush()\n",
    "    \n",
    "    time.sleep(0.5)"
   ]
  },
  {
   "cell_type": "code",
   "execution_count": null,
   "id": "1af7d753-cbcb-4e26-8525-6bfaaf5e09e6",
   "metadata": {},
   "outputs": [],
   "source": []
  }
 ],
 "metadata": {
  "kernelspec": {
   "display_name": "Python 3 (ipykernel)",
   "language": "python",
   "name": "python3"
  },
  "language_info": {
   "codemirror_mode": {
    "name": "ipython",
    "version": 3
   },
   "file_extension": ".py",
   "mimetype": "text/x-python",
   "name": "python",
   "nbconvert_exporter": "python",
   "pygments_lexer": "ipython3",
   "version": "3.9.12"
  }
 },
 "nbformat": 4,
 "nbformat_minor": 5
}
